{
 "cells": [
  {
   "cell_type": "code",
   "execution_count": 1,
   "id": "06652730",
   "metadata": {},
   "outputs": [],
   "source": [
    "import pandas as pd\n",
    "import nltk\n",
    "from nltk import ngrams\n",
    "from nltk.corpus import stopwords\n",
    "import re\n",
    "from sklearn.feature_extraction.text import CountVectorizer, TfidfVectorizer\n",
    "#import pyLDAvis.gensim\n",
    "import gensim\n",
    "import pickle \n",
    "import pyLDAvis\n",
    "pyLDAvis.enable_notebook()\n",
    "import pyLDAvis.gensim\n",
    "import os\n",
    "import gensim.corpora as corpora\n",
    "from nltk.corpus import stopwords\n",
    "from gensim.utils import simple_preprocess"
   ]
  },
  {
   "cell_type": "code",
   "execution_count": 2,
   "id": "b161f09b",
   "metadata": {},
   "outputs": [],
   "source": [
    "df = pd.read_csv('https://raw.githubusercontent.com/JaredJose/Roblox-Scraper/main/data/robloxQueryParentPost.csv?token=GHSAT0AAAAAAB6VRXEZDUU5K6C2VIZHTCOSZALOUZA')"
   ]
  },
  {
   "cell_type": "code",
   "execution_count": 3,
   "id": "cb449ecf",
   "metadata": {},
   "outputs": [
    {
     "data": {
      "text/html": [
       "<div>\n",
       "<style scoped>\n",
       "    .dataframe tbody tr th:only-of-type {\n",
       "        vertical-align: middle;\n",
       "    }\n",
       "\n",
       "    .dataframe tbody tr th {\n",
       "        vertical-align: top;\n",
       "    }\n",
       "\n",
       "    .dataframe thead th {\n",
       "        text-align: right;\n",
       "    }\n",
       "</style>\n",
       "<table border=\"1\" class=\"dataframe\">\n",
       "  <thead>\n",
       "    <tr style=\"text-align: right;\">\n",
       "      <th></th>\n",
       "      <th>url</th>\n",
       "      <th>title</th>\n",
       "      <th>author</th>\n",
       "      <th>date</th>\n",
       "      <th>timestamp</th>\n",
       "      <th>text</th>\n",
       "      <th>subreddit</th>\n",
       "      <th>score</th>\n",
       "      <th>upvote ratio</th>\n",
       "    </tr>\n",
       "  </thead>\n",
       "  <tbody>\n",
       "    <tr>\n",
       "      <th>0</th>\n",
       "      <td>https://www.reddit.com/r/roblox/comments/1070m...</td>\n",
       "      <td>My child loves to play Roblox all day</td>\n",
       "      <td>Mkbrossters</td>\n",
       "      <td>2023-01-09</td>\n",
       "      <td>1.673228e+09</td>\n",
       "      <td>Is there anything I can do a a a parent to mak...</td>\n",
       "      <td>t5_2rnsh</td>\n",
       "      <td>107</td>\n",
       "      <td>0.97</td>\n",
       "    </tr>\n",
       "    <tr>\n",
       "      <th>1</th>\n",
       "      <td>https://www.reddit.com/r/roblox/comments/110wc...</td>\n",
       "      <td>do I need to buy robux for this game</td>\n",
       "      <td>edtb</td>\n",
       "      <td>2023-02-13</td>\n",
       "      <td>1.676253e+09</td>\n",
       "      <td>I'm a parent and think spending money on in ga...</td>\n",
       "      <td>t5_2rnsh</td>\n",
       "      <td>7</td>\n",
       "      <td>0.77</td>\n",
       "    </tr>\n",
       "    <tr>\n",
       "      <th>2</th>\n",
       "      <td>https://www.reddit.com/r/roblox/comments/116qr...</td>\n",
       "      <td>Escape Obbys?</td>\n",
       "      <td>Hammedic</td>\n",
       "      <td>2023-02-19</td>\n",
       "      <td>1.676848e+09</td>\n",
       "      <td>Why do so many of those “escape obbys” involve...</td>\n",
       "      <td>t5_2rnsh</td>\n",
       "      <td>9</td>\n",
       "      <td>0.81</td>\n",
       "    </tr>\n",
       "    <tr>\n",
       "      <th>3</th>\n",
       "      <td>https://www.reddit.com/r/roblox/comments/uzchl...</td>\n",
       "      <td>Roblox parental restrictions are the worst I'v...</td>\n",
       "      <td>Coding_Insomnia</td>\n",
       "      <td>2022-05-28</td>\n",
       "      <td>1.653700e+09</td>\n",
       "      <td>Hi, I am a proud young father of 2 beautiful l...</td>\n",
       "      <td>t5_2rnsh</td>\n",
       "      <td>144</td>\n",
       "      <td>0.99</td>\n",
       "    </tr>\n",
       "    <tr>\n",
       "      <th>4</th>\n",
       "      <td>https://www.reddit.com/r/roblox/comments/jiqm6...</td>\n",
       "      <td>Safety Concern (Please read if you’re a parent)</td>\n",
       "      <td>TofuGum</td>\n",
       "      <td>2020-10-27</td>\n",
       "      <td>1.603757e+09</td>\n",
       "      <td>I’m just a normal Roblox player, no one specia...</td>\n",
       "      <td>t5_2rnsh</td>\n",
       "      <td>2330</td>\n",
       "      <td>0.98</td>\n",
       "    </tr>\n",
       "  </tbody>\n",
       "</table>\n",
       "</div>"
      ],
      "text/plain": [
       "                                                 url  \\\n",
       "0  https://www.reddit.com/r/roblox/comments/1070m...   \n",
       "1  https://www.reddit.com/r/roblox/comments/110wc...   \n",
       "2  https://www.reddit.com/r/roblox/comments/116qr...   \n",
       "3  https://www.reddit.com/r/roblox/comments/uzchl...   \n",
       "4  https://www.reddit.com/r/roblox/comments/jiqm6...   \n",
       "\n",
       "                                               title           author  \\\n",
       "0              My child loves to play Roblox all day      Mkbrossters   \n",
       "1               do I need to buy robux for this game             edtb   \n",
       "2                                      Escape Obbys?         Hammedic   \n",
       "3  Roblox parental restrictions are the worst I'v...  Coding_Insomnia   \n",
       "4    Safety Concern (Please read if you’re a parent)          TofuGum   \n",
       "\n",
       "         date     timestamp  \\\n",
       "0  2023-01-09  1.673228e+09   \n",
       "1  2023-02-13  1.676253e+09   \n",
       "2  2023-02-19  1.676848e+09   \n",
       "3  2022-05-28  1.653700e+09   \n",
       "4  2020-10-27  1.603757e+09   \n",
       "\n",
       "                                                text subreddit  score  \\\n",
       "0  Is there anything I can do a a a parent to mak...  t5_2rnsh    107   \n",
       "1  I'm a parent and think spending money on in ga...  t5_2rnsh      7   \n",
       "2  Why do so many of those “escape obbys” involve...  t5_2rnsh      9   \n",
       "3  Hi, I am a proud young father of 2 beautiful l...  t5_2rnsh    144   \n",
       "4  I’m just a normal Roblox player, no one specia...  t5_2rnsh   2330   \n",
       "\n",
       "   upvote ratio  \n",
       "0          0.97  \n",
       "1          0.77  \n",
       "2          0.81  \n",
       "3          0.99  \n",
       "4          0.98  "
      ]
     },
     "execution_count": 3,
     "metadata": {},
     "output_type": "execute_result"
    }
   ],
   "source": [
    "df.head()"
   ]
  },
  {
   "cell_type": "code",
   "execution_count": 4,
   "id": "216d0027",
   "metadata": {},
   "outputs": [
    {
     "data": {
      "text/plain": [
       "0     Is there anything I can do a a a parent to mak...\n",
       "1     I'm a parent and think spending money on in ga...\n",
       "2     Why do so many of those “escape obbys” involve...\n",
       "3     Hi, I am a proud young father of 2 beautiful l...\n",
       "4     I’m just a normal Roblox player, no one specia...\n",
       "5     Hello there. I’m a moderate gamer myself but d...\n",
       "6     There really needs to be a way to set limits o...\n",
       "7     First of all, lemme clarify, I have no problem...\n",
       "8     So not only do they not have a \"delete account...\n",
       "9     My friend has been on about how he doesn’t hav...\n",
       "10    I am really infuriated. Roblox refuses to rese...\n",
       "11    Ok, so the title says it all. I am sick of see...\n",
       "12                                                    ?\n",
       "13    You can hear their voice talk but you can’t sp...\n",
       "14    I can’t wait because I’ve been playing this fo...\n",
       "15    I looked at the news the other day to find a n...\n",
       "16    I just downlaoded ropro/rogold a year ago, add...\n",
       "17    Have you ever saw your sibling play games you ...\n",
       "18    I worked on this in my free time and it really...\n",
       "19    Wanted to come here to ask the experts! For a ...\n",
       "20    I am a father of a 9 yo daugher who loves adop...\n",
       "21     My whole code: please don't recommend anythin...\n",
       "22    I created a profile that was under my email ad...\n",
       "23    What are the best Roblox games to play with yo...\n",
       "24    Imo Roblox should just have it set as an age r...\n",
       "25    Hey guys, so like most people we are mainly do...\n",
       "26                                          None at all\n",
       "Name: text, dtype: object"
      ]
     },
     "execution_count": 4,
     "metadata": {},
     "output_type": "execute_result"
    }
   ],
   "source": [
    "df['text']"
   ]
  },
  {
   "cell_type": "code",
   "execution_count": 5,
   "id": "432ea4e8",
   "metadata": {},
   "outputs": [
    {
     "data": {
      "text/plain": [
       "49"
      ]
     },
     "execution_count": 5,
     "metadata": {},
     "output_type": "execute_result"
    }
   ],
   "source": [
    "df['text'].str.count('game').sum()"
   ]
  },
  {
   "cell_type": "code",
   "execution_count": 6,
   "id": "7c63369d",
   "metadata": {},
   "outputs": [],
   "source": [
    "text = \" \".join(df['text'].dropna().astype(str))\n",
    "tokens = nltk.word_tokenize(text)\n",
    "tokens = [re.sub(r'[^\\w\\s]', '', token) for token in tokens]\n",
    "stop_words = set(stopwords.words('english'))\n",
    "filtered_tokens = [token for token in tokens if token.lower() not in stop_words and token.strip() != '']\n",
    "\n",
    "\n",
    "bi_grams = ngrams(filtered_tokens, 2)"
   ]
  },
  {
   "cell_type": "code",
   "execution_count": 7,
   "id": "f5c735d9",
   "metadata": {},
   "outputs": [],
   "source": [
    "bi_grams_list = list(bi_grams)\n",
    "bi_grams_list = [tuple(filter(None, bg)) for bg in bi_grams_list]\n",
    "#print(bi_grams_list)"
   ]
  },
  {
   "cell_type": "code",
   "execution_count": 8,
   "id": "4c37ab81",
   "metadata": {},
   "outputs": [
    {
     "name": "stdout",
     "output_type": "stream",
     "text": [
      "The most common bi-gram is: make sure with a frequency of 3\n"
     ]
    }
   ],
   "source": [
    "bi_grams_list1 = [' '.join(bi_gram) for bi_gram in bi_grams_list if '(' not in bi_gram and ')' not in bi_gram]\n",
    "\n",
    "freq_dist = nltk.FreqDist(bi_grams_list1)\n",
    "most_common = freq_dist.most_common(1)\n",
    "print('The most common bi-gram is:', most_common[0][0], 'with a frequency of', most_common[0][1])"
   ]
  },
  {
   "cell_type": "code",
   "execution_count": 10,
   "id": "5a95fb0b",
   "metadata": {},
   "outputs": [
    {
     "name": "stdout",
     "output_type": "stream",
     "text": [
      "\n",
      "\n",
      "Words : \n",
      "                 term  rank\n",
      "996      play roblox   4.0\n",
      "1163  roblox refuses   3.0\n",
      "177        buy robux   3.0\n",
      "773        make sure   3.0\n",
      "300   delete account   3.0\n",
      "1141   right erasure   3.0\n",
      "930     parental pin   3.0\n"
     ]
    }
   ],
   "source": [
    "vectorizer = CountVectorizer(ngram_range = (2, 2))\n",
    "X1=vectorizer.fit_transform(bi_grams_list1)\n",
    "features = (vectorizer.get_feature_names_out())\n",
    "\n",
    "vectorizer = TfidfVectorizer(ngram_range = (2, 2))\n",
    "tfidf = vectorizer.fit_transform(bi_grams_list1)\n",
    "\n",
    "\n",
    "sums = tfidf.sum(axis = 0)\n",
    "data1 = []\n",
    "for col, term in enumerate(features):\n",
    "    data1.append( (term, sums[0, col] ))\n",
    "ranking = pd.DataFrame(data1, columns = ['term', 'rank'])\n",
    "words = (ranking.sort_values('rank', ascending = False))\n",
    "print (\"\\n\\nWords : \\n\", words.head(7))"
   ]
  },
  {
   "cell_type": "code",
   "execution_count": 11,
   "id": "56c301cd",
   "metadata": {},
   "outputs": [
    {
     "name": "stdout",
     "output_type": "stream",
     "text": [
      "5     Hello there. I’m a moderate gamer myself but d...\n",
      "12                                                    ?\n",
      "17    Have you ever saw your sibling play games you ...\n",
      "20    I am a father of a 9 yo daugher who loves adop...\n",
      "22    I created a profile that was under my email ad...\n",
      "25    Hey guys, so like most people we are mainly do...\n",
      "Name: text, dtype: object\n"
     ]
    }
   ],
   "source": [
    "df_ques = df['text'].str.endswith('?')\n",
    "df_no_na = df.dropna(subset=['text'])\n",
    "df_true = df_no_na.loc[df_ques]\n",
    "print(df_true['text'])"
   ]
  },
  {
   "cell_type": "code",
   "execution_count": 12,
   "id": "225a83cc",
   "metadata": {},
   "outputs": [
    {
     "data": {
      "text/plain": [
       "0    is there anything i can do a a a parent to mak...\n",
       "1    i'm a parent and think spending money on in ga...\n",
       "2    why do so many of those “escape obbys” involve...\n",
       "3    hi i am a proud young father of 2 beautiful li...\n",
       "4    i’m just a normal roblox player no one special...\n",
       "Name: text_processed, dtype: object"
      ]
     },
     "execution_count": 12,
     "metadata": {},
     "output_type": "execute_result"
    }
   ],
   "source": [
    "df['text_processed'] = df['text'].apply(lambda x: re.sub('[,.!?]', '', x) if isinstance(x, str) else x)\n",
    "df['text_processed'] = df['text_processed'].apply(lambda x: x.lower() if isinstance(x, str) else x)\n",
    "\n",
    "df['text_processed'].head()"
   ]
  },
  {
   "cell_type": "code",
   "execution_count": 13,
   "id": "5337995c",
   "metadata": {},
   "outputs": [
    {
     "name": "stdout",
     "output_type": "stream",
     "text": [
      "['anything', 'parent', 'make', 'enjoyable', 'able', 'spend', 'time', 'thing', 'see', 'could', 'useful', 'buying', 'robux', 'want', 'everyday', 'lol', 'tips', 'advice', 'appreciated']\n"
     ]
    }
   ],
   "source": [
    "stop_words = stopwords.words('english')\n",
    "stop_words.extend(['from', 'subject', 're', 'edu', 'use'])\n",
    "def sent_to_words(sentences):\n",
    "    for sentence in sentences:\n",
    "        # deacc=True removes punctuations\n",
    "        yield(gensim.utils.simple_preprocess(str(sentence), deacc=True))\n",
    "def remove_stopwords(texts):\n",
    "    return [[word for word in simple_preprocess(str(doc)) \n",
    "             if word not in stop_words] for doc in texts]\n",
    "data = df.text.values.tolist()\n",
    "data_words = list(sent_to_words(data))\n",
    "# remove stop words\n",
    "data_words = remove_stopwords(data_words)\n",
    "print(data_words[:1][0][:30])"
   ]
  },
  {
   "cell_type": "code",
   "execution_count": 15,
   "id": "edd6fbf0",
   "metadata": {},
   "outputs": [
    {
     "name": "stderr",
     "output_type": "stream",
     "text": [
      "/home/zhz094/.local/lib/python3.9/site-packages/pyLDAvis/_prepare.py:243: FutureWarning: In a future version of pandas all arguments of DataFrame.drop except for the argument 'labels' will be keyword-only.\n",
      "  default_term_info = default_term_info.sort_values(\n"
     ]
    },
    {
     "data": {
      "text/html": [
       "\n",
       "<link rel=\"stylesheet\" type=\"text/css\" href=\"https://cdn.jsdelivr.net/gh/bmabey/pyLDAvis@3.4.0/pyLDAvis/js/ldavis.v1.0.0.css\">\n",
       "\n",
       "\n",
       "<div id=\"ldavis_el23151406954110019364032182152\" style=\"background-color:white;\"></div>\n",
       "<script type=\"text/javascript\">\n",
       "\n",
       "var ldavis_el23151406954110019364032182152_data = {\"mdsDat\": {\"x\": [0.06328265434847559, -0.07393550587833196, 0.0007071191686697116, 0.11311355300550195, -0.021977329744478236, -0.017504033073466502, -0.006265204443347021, -0.045632874798099035, -0.02185438045208686, 0.010066001867162524], \"y\": [-0.009556211346080546, -0.10199351848707815, 0.009299714185543798, -0.03481945669225283, 0.004815850477822899, 0.040166315734550546, 0.06027481389510557, 0.034069622890965455, 0.007526924573329426, -0.009784055231906287], \"topics\": [1, 2, 3, 4, 5, 6, 7, 8, 9, 10], \"cluster\": [1, 1, 1, 1, 1, 1, 1, 1, 1, 1], \"Freq\": [20.02577193502965, 16.407679724591315, 15.989835250753643, 11.959793529819049, 9.876872315485365, 7.799771197622868, 7.3225646076719855, 6.644692329039264, 3.824302867167454, 0.14871624281941048]}, \"tinfo\": {\"Term\": [\"game\", \"roblox\", \"robux\", \"nextroom\", \"pin\", \"account\", \"games\", \"time\", \"request\", \"people\", \"room\", \"workspace\", \"like\", \"kid\", \"see\", \"local\", \"kids\", \"buy\", \"children\", \"money\", \"created\", \"really\", \"numofrooms\", \"snapchat\", \"good\", \"age\", \"parents\", \"png\", \"reset\", \"something\", \"ton\", \"wondering\", \"environment\", \"ship\", \"information\", \"come\", \"access\", \"nonviolent\", \"usually\", \"makes\", \"sinking\", \"info\", \"floor\", \"experts\", \"ps\", \"angry\", \"sibling\", \"dislike\", \"lava\", \"hey\", \"mod\", \"recommended\", \"personally\", \"activities\", \"school\", \"mainly\", \"mods\", \"finished\", \"indoor\", \"thank\", \"proof\", \"account\", \"right\", \"giving\", \"request\", \"ever\", \"roblox\", \"play\", \"age\", \"kids\", \"delete\", \"customer\", \"ask\", \"games\", \"must\", \"please\", \"really\", \"erasure\", \"wanted\", \"pin\", \"name\", \"game\", \"know\", \"adopt\", \"even\", \"like\", \"feature\", \"want\", \"kid\", \"time\", \"robux\", \"parents\", \"people\", \"friend\", \"understanding\", \"assuming\", \"wanna\", \"point\", \"help\", \"guess\", \"involve\", \"obbys\", \"life\", \"suggestions\", \"real\", \"lost\", \"faze\", \"allowed\", \"asked\", \"luckily\", \"invite\", \"hello\", \"sims\", \"remember\", \"dm\", \"condo\", \"graphic\", \"adult\", \"half\", \"nearly\", \"moderate\", \"question\", \"cringy\", \"money\", \"playing\", \"edit\", \"adults\", \"see\", \"think\", \"good\", \"needs\", \"game\", \"like\", \"kid\", \"parents\", \"seems\", \"games\", \"buying\", \"old\", \"year\", \"getting\", \"roblox\", \"parent\", \"play\", \"robux\", \"kids\", \"let\", \"want\", \"buy\", \"none\", \"profile\", \"liked\", \"email\", \"etc\", \"design\", \"form\", \"santa\", \"child\", \"asking\", \"tablet\", \"address\", \"block\", \"servers\", \"building\", \"tags\", \"children\", \"specially\", \"deserve\", \"made\", \"worlds\", \"daughter\", \"programmer\", \"monitor\", \"encourage\", \"highway\", \"customizing\", \"effort\", \"obviously\", \"snapchat\", \"take\", \"something\", \"soon\", \"new\", \"young\", \"love\", \"created\", \"people\", \"parents\", \"got\", \"kids\", \"play\", \"roblox\", \"game\", \"know\", \"one\", \"platform\", \"stuff\", \"games\", \"really\", \"like\", \"robux\", \"please\", \"want\", \"nextroom\", \"room\", \"workspace\", \"roombefore\", \"numofrooms\", \"ground\", \"local\", \"roombeforepos\", \"primarypart\", \"vector\", \"clone\", \"function\", \"code\", \"position\", \"moveto\", \"roombfeore\", \"recommend\", \"connect\", \"possible\", \"print\", \"upon\", \"reset\", \"happens\", \"refuses\", \"totally\", \"course\", \"breached\", \"responsibility\", \"license\", \"driver\", \"pins\", \"created\", \"date\", \"pin\", \"name\", \"game\", \"roblox\", \"age\", \"request\", \"even\", \"account\", \"would\", \"parent\", \"years\", \"set\", \"please\", \"new\", \"yes\", \"like\", \"really\", \"stuff\", \"hear\", \"vertification\", \"speak\", \"voice\", \"talk\", \"gaming\", \"take\", \"seemingly\", \"pet\", \"pretty\", \"loot\", \"targeted\", \"seeing\", \"ape\", \"weeks\", \"accept\", \"something\", \"silly\", \"reasonably\", \"win\", \"gravitate\", \"app\", \"clearly\", \"learn\", \"moreso\", \"worried\", \"majority\", \"second\", \"sooner\", \"fish\", \"hate\", \"love\", \"children\", \"young\", \"worlds\", \"idea\", \"original\", \"father\", \"platform\", \"thread\", \"stuff\", \"people\", \"create\", \"new\", \"bad\", \"kids\", \"game\", \"like\", \"age\", \"stop\", \"already\", \"adopt\", \"getting\", \"also\", \"roblox\", \"games\", \"robux\", \"really\", \"parents\", \"play\", \"snapchat\", \"snapmap\", \"keep\", \"reach\", \"space\", \"disgusting\", \"youtube\", \"features\", \"guy\", \"today\", \"turn\", \"exactly\", \"seriously\", \"monitored\", \"someone\", \"creep\", \"specific\", \"mess\", \"teen\", \"social\", \"concerning\", \"tutorial\", \"person\", \"dangers\", \"thought\", \"paragraph\", \"full\", \"may\", \"map\", \"subscribers\", \"media\", \"actually\", \"one\", \"people\", \"kids\", \"special\", \"another\", \"know\", \"chat\", \"make\", \"said\", \"roblox\", \"parents\", \"unique\", \"like\", \"sure\", \"please\", \"children\", \"things\", \"little\", \"game\", \"would\", \"downlaoded\", \"days\", \"rogold\", \"times\", \"percentage\", \"ropro\", \"final\", \"figure\", \"crown\", \"fps\", \"completed\", \"started\", \"gold\", \"battle\", \"event\", \"guides\", \"turned\", \"previously\", \"added\", \"drops\", \"job\", \"next\", \"least\", \"ridiculously\", \"woke\", \"clarify\", \"post\", \"posted\", \"popping\", \"experience\", \"ago\", \"day\", \"around\", \"though\", \"first\", \"made\", \"together\", \"time\", \"let\", \"see\", \"year\", \"stay\", \"account\", \"people\", \"roblox\", \"play\", \"game\", \"request\", \"please\", \"hour\", \"worked\", \"onokqa\", \"cfd\", \"cl\", \"fdc\", \"working\", \"everyday\", \"spend\", \"appreciated\", \"enjoyable\", \"advice\", \"useful\", \"png\", \"format\", \"enabled\", \"width\", \"looked\", \"preview\", \"auto\", \"webp\", \"redd\", \"lol\", \"tips\", \"thing\", \"https\", \"time\", \"free\", \"anything\", \"able\", \"buying\", \"good\", \"robux\", \"see\", \"really\", \"parent\", \"make\", \"like\", \"kids\", \"game\", \"could\", \"want\", \"roblox\", \"comfortable\", \"back\", \"item\", \"seconds\", \"way\", \"limits\", \"makers\", \"accidentally\", \"poorly\", \"media\", \"ingame\", \"useless\", \"popups\", \"robux\", \"pop\", \"topic\", \"require\", \"mention\", \"internet\", \"clicks\", \"putting\", \"regulates\", \"concerning\", \"monitoring\", \"world\", \"id\", \"guy\", \"absolutely\", \"youtube\", \"gonna\", \"buy\", \"snapchat\", \"snapmap\", \"activity\", \"easy\", \"player\", \"one\", \"people\", \"chat\", \"keep\", \"safe\", \"actually\", \"game\", \"features\", \"roblox\", \"kids\", \"children\", \"like\", \"kid\", \"parents\", \"fake\", \"know\", \"games\", \"something\", \"stop\", \"many\", \"much\", \"really\", \"make\", \"account\", \"would\", \"poorly\", \"makers\", \"regulates\", \"clicks\", \"ingame\", \"accidentally\", \"absolutely\", \"way\", \"comfortable\", \"item\", \"useless\", \"putting\", \"seconds\", \"require\", \"popups\", \"pop\", \"limits\", \"id\", \"pin\", \"spam\", \"hoping\", \"back\", \"set\", \"monetary\", \"issues\", \"mention\", \"gain\", \"saddens\", \"thinking\", \"gender\", \"random\", \"robux\", \"ever\", \"purchase\", \"option\", \"kid\", \"news\", \"buy\", \"game\", \"roblox\", \"games\", \"many\", \"account\", \"request\", \"like\", \"really\", \"parental\", \"purchases\", \"time\", \"get\", \"parents\", \"age\", \"kids\", \"children\", \"something\", \"support\", \"people\", \"see\", \"using\"], \"Freq\": [22.0, 25.0, 8.0, 6.0, 4.0, 11.0, 11.0, 6.0, 6.0, 10.0, 4.0, 4.0, 13.0, 5.0, 7.0, 4.0, 15.0, 4.0, 7.0, 5.0, 4.0, 7.0, 3.0, 3.0, 5.0, 10.0, 10.0, 2.0, 3.0, 6.0, 1.8239995271569918, 1.7992151619466878, 0.9554458160088815, 0.9554386178664999, 0.9554335869067708, 0.9554260791668675, 0.9554247633774, 0.9554222091978453, 0.9554207386096167, 0.9554147014579419, 0.9554071937180386, 0.9554061875260927, 0.9554040203434403, 0.9553993763806135, 0.9553867602816007, 0.9554020853589291, 0.9554026271545922, 0.9554002277737984, 0.9553650110556953, 0.9483721318311125, 0.9468242990209429, 0.9464674104777039, 0.9461595931416681, 0.9440077355664938, 0.944006032780124, 0.9430243764379206, 0.9421071937796293, 0.9419717448638479, 0.941874531242007, 1.7636708896654687, 1.369535442574254, 5.394537436318853, 1.8927095887583085, 1.2205332760816028, 2.9371526179773455, 1.732325069377191, 8.128530612512547, 4.764075519733803, 3.639726608531859, 4.829683878563105, 1.4679066495490494, 1.4364499933479722, 1.2349069602255662, 3.3395801702933183, 1.3999003031147526, 2.0628399285277306, 2.1965301755866458, 1.2863564181916443, 1.2854793284124244, 1.5802283208555266, 1.6118064940839048, 3.119639614036295, 1.9675603624054916, 1.3986123774241224, 1.640643336055628, 2.3161766146610603, 1.1792349790592278, 1.716970580284209, 1.4959069590169065, 1.5127825007344236, 1.5256108288483916, 1.486641324384892, 1.4823150086154528, 1.8811152703713432, 1.497808299617225, 1.497731059543997, 1.450808539459315, 1.961928553095514, 1.3884893712801587, 1.416410833350708, 1.3844553847956012, 1.3541196948204568, 1.2636620567459673, 1.2118529922584358, 1.8301506466187103, 0.7845808830411437, 0.784570292653435, 0.7845655999067858, 0.784563253533461, 0.7845614778995937, 0.7845605266671648, 0.7845595120192407, 0.7845587510332975, 0.7845582437093355, 0.7845557705050202, 0.7845523460682762, 0.7845520289907998, 0.7845498728639609, 0.7845510143428757, 0.7845472728286552, 0.7845378239198613, 0.784536048285994, 0.7845312921238494, 3.2088760609244877, 2.2647918266318436, 1.429407204949545, 1.3839388021712031, 3.488101081771202, 1.4399774265306777, 2.6724451474956634, 1.5114015378574608, 6.430025303139853, 4.325075783581681, 2.1220298490518323, 2.9686563892410707, 1.6341415947806242, 3.016670797323161, 1.3861828228865172, 1.5906928486953622, 1.5406904916678232, 1.7587111887420739, 4.5816873461422025, 2.0867425503757007, 2.815423245083525, 2.0293531759671617, 2.035481649429207, 1.562210413153732, 1.5071051380535123, 1.444964421078021, 1.1736648871628232, 1.6524407706797541, 0.8994372049831155, 0.8813041257430018, 0.858434777398234, 0.843316698869773, 0.8375457034724285, 0.8369275745600776, 0.7909265964164311, 0.754213681896673, 1.1096338512644548, 1.1064402470178396, 0.7275453313023517, 0.7096340541684594, 0.4687499524516296, 0.6994947500288021, 2.5358710818957135, 0.44684809142168425, 0.43906966027194627, 0.8555457879695529, 0.8785339169351504, 1.2133067142543716, 0.4248877979895565, 0.6110521335313451, 0.42047925710147893, 0.410084747668525, 0.420044583065784, 0.6420802643946834, 0.4162687251151382, 1.0247580524211004, 1.0274677585089766, 1.7878234861918918, 0.7904690870844842, 1.7032977873573825, 1.0540420486949198, 1.0377048310888797, 1.3030929978996324, 2.658267775402805, 2.5757610999202756, 1.1690465334715632, 3.0314989814429882, 2.6169751325237423, 3.523726862969677, 3.0789103713080572, 1.5853454172458923, 1.0506398058552135, 1.2107208564308778, 1.2369871945702058, 1.600550201919527, 1.3658841915424935, 1.5707840997023712, 1.1957184066961588, 1.1292425417863325, 1.0194187337336909, 5.156563993268132, 3.127874993510871, 3.0540853996075366, 1.96897900833399, 2.4023481668259636, 1.8930518102352463, 2.871588989944088, 1.3400817463376777, 0.6960902086130228, 0.6900882390786248, 0.6893418526297175, 0.6835848265394738, 0.6803165256866843, 0.6790624097056782, 0.6749571686755235, 0.6694844230498107, 0.667571192411285, 0.6666351007548273, 0.6518358757915418, 0.6425209987948791, 0.90465735564831, 1.5534968691192306, 0.5875593693941235, 1.1972007207836899, 0.8840828459307988, 0.8384625339211305, 0.8145825126558788, 0.5435944479528746, 0.5435225689085907, 0.5412802662981959, 0.8132910935309904, 1.7399863330343919, 0.7872261342173736, 1.4746154654126546, 1.4140022479280936, 4.02655515593844, 4.346592648420342, 2.237824938843939, 1.4853161518933231, 1.3470453696581082, 1.709087866232298, 1.250912533078757, 1.28921930256206, 1.0050598536825863, 0.8645505130187043, 1.1501215646340874, 1.032371856633945, 0.867156001256712, 0.9909822850790171, 0.8874717464148015, 0.8700964319737426, 0.7891991775409519, 0.7891925352651246, 0.7891837552453529, 0.7891963526650253, 0.9746819814894895, 0.6854964553177311, 0.7990481456328304, 0.3042113847910124, 0.4287205397811639, 0.7757216181474345, 0.29807180326967164, 0.4556848966759584, 0.4302280310019618, 0.28896583480747146, 0.28350376542051203, 0.285103389587914, 1.301739168596399, 0.2811848476768153, 0.2785442949044826, 0.2824263233855308, 0.2794121425979143, 0.4216921721279359, 0.42661741965385536, 0.4329878202601937, 0.2787785305623913, 0.28090329534713704, 0.28022834087068915, 0.41717019472752953, 0.27964689360480965, 0.27542574640358014, 0.5759751376438224, 0.7084910217077597, 1.4727177616221174, 0.7099194164026144, 0.5613941588089993, 0.4224424439044252, 0.39449774054112446, 0.4168389971121423, 0.905850749271439, 0.5142825577621319, 0.9520109779150467, 1.5655069956171423, 0.5064327619982651, 0.9457379973541751, 0.5231473238116046, 1.9219765618271858, 2.388224165854462, 1.5794693647980522, 1.2716542399787547, 0.7404298324131939, 0.596136468001529, 0.6185066986377933, 0.7342351085502872, 0.7098010006576938, 1.5140623402909557, 1.0107364073758978, 0.8654953352648777, 0.7678917492110495, 0.7464090258777056, 0.6745305923628974, 1.3818171790262423, 0.9784002140763549, 0.7158825228233613, 0.7185076388409171, 0.451018144256741, 0.43567900170987794, 0.6541673957926292, 0.6567402385996377, 0.6296850235961035, 0.4127469793818739, 0.40710777316239727, 0.4046345328280805, 0.39486905903833563, 0.396208145550736, 0.3933186488777604, 0.3907510213333958, 0.39303527622542894, 0.3742319934418943, 0.37970934564324665, 0.3765334014232016, 0.3675543470357302, 0.3738098586280009, 0.37298557581601166, 0.3643030678946025, 0.3688570171477033, 0.36818976498954326, 0.3748661754086067, 0.361033218800939, 0.3661058002998601, 0.36503085327466483, 0.5245779466946598, 0.6468291293542107, 0.8490041215945616, 1.6370755261390944, 1.6697030533285389, 0.46615102768793903, 0.4632846228715258, 0.9417765898605537, 0.7069970417032131, 0.7177015340831145, 0.5950295128888248, 1.3029493847657794, 0.8277143342248989, 0.44260930196701964, 0.7463954871058762, 0.5139432725129286, 0.5883501783051575, 0.6071036598523462, 0.4723950837900091, 0.4568283990325292, 0.6122199832362176, 0.45878038441669033, 0.6013251035218693, 0.6013237450436865, 0.6013147451257254, 0.6013000282787447, 0.6012897830891161, 0.6012892736597975, 1.0296838969270692, 0.7643813718981318, 1.0056444934169348, 1.0093838178216592, 0.745577656511097, 0.7294043511088031, 0.7063619007750849, 0.9601676249428251, 0.675028431678592, 0.6842151403899054, 0.6538281909672916, 0.4089383006215364, 0.6392688708527019, 0.40453190682579016, 0.4012866722568085, 0.40021743672041465, 0.3932306136164037, 0.39472185473996446, 0.39291850325390104, 0.3907965037290802, 0.3888602760957598, 0.39005324635330535, 0.3891281227108056, 0.3846769557382839, 0.601300594311321, 0.8509561110272915, 0.7067598216761356, 0.6894605642733153, 0.6727390563209963, 0.6487537089218864, 0.7122115078303035, 1.0925856254326523, 0.7614676060057579, 0.9759267643091322, 0.6381279189889068, 0.4660521762259616, 0.7812048223174198, 0.7297423291600369, 0.748969040691247, 0.6925233099397383, 0.6896456003224667, 0.6401754852299607, 0.6359231655014491, 0.5447799209050955, 0.5447728841302083, 0.5447642037290701, 0.5447621491962562, 0.5447587592171135, 0.5447437611275728, 0.5447386761588586, 0.5248488467151787, 0.5216273392631527, 0.5214622575515646, 0.5207135857942188, 0.5172081932706472, 0.5177326127713676, 1.1319687890660015, 0.6034392468149143, 0.6013962707481999, 0.6031109324712703, 0.6050887798477876, 0.5975963609457712, 0.6004163613226617, 0.5907505548835754, 0.5876755356211728, 0.5224682595438379, 0.5258656863680448, 0.6426528819120746, 0.6115005144897494, 1.659032268064487, 0.5926018430387631, 0.5167865004106164, 0.5286271839230626, 0.6523708221213109, 0.9321757455887951, 1.152388277069077, 1.043112607582232, 0.8478347595065759, 0.807630839593168, 0.7079022759120923, 0.8753135708945207, 0.8926149971727447, 0.8687347513714772, 0.6088265913959194, 0.5910334640520346, 0.5512249903419612, 0.14652705694558532, 0.2351398345016314, 0.1429344441070805, 0.14446630567656993, 0.1390237022371382, 0.14168445405315644, 0.1323092330309855, 0.13364093182838335, 0.12950726462033108, 0.2406548790683723, 0.1308705353924142, 0.12916433326046575, 0.12972526792306174, 1.0232808087357241, 0.13006432669052653, 0.14401647894174033, 0.12525431565398765, 0.2041525917070926, 0.14383151092151036, 0.11981994516862879, 0.12279077043265597, 0.11865513736662937, 0.13972645951073837, 0.14044167707210056, 0.2027182248684196, 0.244272929813447, 0.21320161333351043, 0.11587482295546649, 0.2099803555006199, 0.1281884251946449, 0.44985883891623385, 0.3604298607786713, 0.28435290131733637, 0.1979168754316773, 0.2366053298883789, 0.191649143754966, 0.3391431663297221, 0.7098834939761796, 0.3513535388539184, 0.1966238286538496, 0.26435456810502794, 0.22824752166279477, 0.8050082573670239, 0.1914769464211256, 0.7962477438744455, 0.6108230533589819, 0.40179798658678306, 0.5373280488049353, 0.3355429856770605, 0.43561946446835165, 0.2659201892204823, 0.3590847409358548, 0.41637602071818036, 0.31175696147929227, 0.27247900090537547, 0.2578052161878307, 0.23366470197654363, 0.28733689635170273, 0.2566146748615209, 0.2720291889514329, 0.23334388282366758, 0.006377497418061474, 0.006360408438111697, 0.006376507635562616, 0.00631327593816613, 0.0061726279600358815, 0.005829525777108958, 0.005910149366985359, 0.005677299872803057, 0.005535905821685864, 0.005537078386318657, 0.0055526959126115955, 0.0055666706988454565, 0.005357444933294407, 0.005448490553524625, 0.00538488007176882, 0.0053217455133051485, 0.004953935554248224, 0.010155981186502589, 0.017011411350597465, 0.006092099784732542, 0.005716637117086894, 0.005558481714373206, 0.007968894090674793, 0.003525145719053818, 0.0034175548669829526, 0.00506752602869021, 0.003261719590318414, 0.003414201849441093, 0.0032958599016966682, 0.005003424104404484, 0.0067780144581476975, 0.021812295607004158, 0.008568891964555028, 0.004913923510513946, 0.007967008215890385, 0.01304980402498979, 0.006416908235028153, 0.009644511942398163, 0.03258603097456159, 0.03006550673222864, 0.01636193699707925, 0.00939668293503194, 0.015602471482712451, 0.011145334894567305, 0.013349992066716273, 0.010267565655763965, 0.008328068456083153, 0.0075819448879204596, 0.009268311248777758, 0.007173084245770701, 0.009642273148650748, 0.008805948321750764, 0.009114271892797121, 0.0080947211967185, 0.00766693743062718, 0.007040384991320296, 0.007744611790537474, 0.007471005903993705, 0.006856150946472092], \"Total\": [22.0, 25.0, 8.0, 6.0, 4.0, 11.0, 11.0, 6.0, 6.0, 10.0, 4.0, 4.0, 13.0, 5.0, 7.0, 4.0, 15.0, 4.0, 7.0, 5.0, 4.0, 7.0, 3.0, 3.0, 5.0, 10.0, 10.0, 2.0, 3.0, 6.0, 2.3580240470083975, 2.3473352882835865, 1.4894665998901662, 1.4894598485847972, 1.4894545833228774, 1.4894473532112653, 1.4894459755202085, 1.4894437025115703, 1.4894420313605754, 1.489436284598148, 1.4894285952135962, 1.4894281043756297, 1.489425860605375, 1.4894215438755247, 1.489408926185328, 1.4894379719394664, 1.4894393579246472, 1.4894361547136385, 1.4893878795217925, 1.4864243672201396, 1.4857472433957473, 1.4855915074015458, 1.4854770596125646, 1.4845280809618897, 1.4845382764341555, 1.484105130979121, 1.4837042227724029, 1.4836342329900407, 1.4836091967795706, 2.8164651040856072, 2.2156611109451014, 11.26854135119741, 3.5044102761031692, 2.0566028693021448, 6.357479221135925, 3.2562058731219605, 25.524056476741382, 13.133787841091928, 10.039161012131617, 15.958658702909407, 2.841858696697798, 2.810372709725085, 2.2373436250505936, 11.012609833222886, 2.7950823554897624, 6.460500478831772, 7.393338985673346, 2.7336476365259754, 2.756258862665236, 4.363982881319836, 4.833300926112712, 22.051549233548855, 7.788262132264301, 3.643017174748608, 5.657730930942353, 13.427695700846542, 2.560769691175816, 6.94885460525552, 5.7714477002497695, 6.7352923322898075, 8.526155345405687, 10.577049480582506, 10.302470535156703, 2.569567855896705, 2.0473680769165226, 2.0472935802908125, 2.046690637594222, 2.7996591607084325, 1.9913612792214481, 2.063700203773992, 2.0456790462447043, 2.003938160148164, 1.9117862193266832, 1.8905739148677454, 3.05156302581735, 1.3341381690725729, 1.334127921208092, 1.3341230157078787, 1.3341213149219289, 1.3341192016108407, 1.3341176280671656, 1.3341163703232257, 1.3341166209988247, 1.334116048363129, 1.334113873077299, 1.3341096684627698, 1.3341092882053862, 1.3341071229350014, 1.3341092425915562, 1.3341060236548106, 1.334095859799063, 1.334093504424418, 1.3340899572086136, 5.604763389543736, 4.092931486431491, 2.6272003411706177, 2.594240275230197, 7.753935982102813, 2.797013016908024, 5.958519838047392, 3.188404699602418, 22.051549233548855, 13.427695700846542, 5.7714477002497695, 10.577049480582506, 4.190105368909434, 11.012609833222886, 3.296305195509722, 4.134885053617947, 3.9394662931666318, 4.913834015611413, 25.524056476741382, 6.6415455143164595, 13.133787841091928, 8.526155345405687, 15.958658702909407, 4.50886593184781, 6.94885460525552, 4.24046093661243, 1.6879959177048234, 2.554759766684229, 1.5945653719117068, 1.5884011940662408, 1.5805806142029697, 1.5754188869225811, 1.5734610214405196, 1.5732424529164029, 1.557546011444697, 1.5450017058478367, 2.286541563961422, 2.876869618690227, 2.1360870903782287, 2.1299469423135085, 1.4092659515894528, 2.1032029699176147, 7.693188348532725, 1.3865530058526048, 1.3886153148066835, 2.718060034404137, 2.8391050465620347, 3.936357871396695, 1.3807097720391923, 1.988890911486588, 1.378090701102882, 1.345829122804409, 1.3799194171989893, 2.11320997789455, 1.372062075495162, 3.3980529101968333, 3.4493749400487768, 6.161304148063247, 2.651787770220032, 5.9356708412135575, 3.6020946744689684, 3.5644807204159474, 4.569964266823354, 10.302470535156703, 10.577049480582506, 4.295748823670925, 15.958658702909407, 13.133787841091928, 25.524056476741382, 22.051549233548855, 7.788262132264301, 3.9117605442406083, 5.075234952286537, 5.519653860764427, 11.012609833222886, 7.393338985673346, 13.427695700846542, 8.526155345405687, 6.460500478831772, 6.94885460525552, 6.372600187791886, 4.244224672243012, 4.26146017302425, 2.7799702536767477, 3.5463803402662326, 2.797692469631095, 4.304355117645492, 2.0592785067854957, 1.3422076500820501, 1.3436275027961937, 1.3437855431311714, 1.3451755560926795, 1.3458833197588391, 1.3462099495857125, 1.347114956293235, 1.3483939994345853, 1.3489197881129884, 1.3491266003453077, 1.3525606850654381, 1.3547074649963877, 2.0820931179239266, 3.583641623992213, 1.3678266210023942, 2.8294722595300774, 2.1162670352062816, 2.089357452925463, 2.059364410733689, 1.3781390986157565, 1.378158889655465, 1.378720487248484, 2.076863631583422, 4.569964266823354, 2.098194594207695, 4.363982881319836, 4.833300926112712, 22.051549233548855, 25.524056476741382, 10.039161012131617, 6.357479221135925, 5.657730930942353, 11.26854135119741, 5.5366616329957505, 6.6415455143164595, 3.5875658133277337, 2.5358930949944676, 6.460500478831772, 5.9356708412135575, 3.4682083188412025, 13.427695700846542, 7.393338985673346, 5.519653860764427, 1.3383515361091503, 1.3383468426857617, 1.338336624293448, 2.1007493459679987, 2.6529614373424986, 2.82790931042706, 3.4493749400487768, 1.3663151815313923, 1.9358986475016524, 3.516513694822025, 1.3596878457796582, 2.087203300297477, 1.976236003483347, 1.3447875683447956, 1.3292726171158948, 1.345584874223025, 6.161304148063247, 1.3394971165066754, 1.327065755472967, 1.349138486682825, 1.338814141916999, 2.021955138007821, 2.048454890620366, 2.0797354233139664, 1.342816184299061, 1.3547693850499118, 1.3542953885469053, 2.0207184380041796, 1.362983492757192, 1.3441880558731314, 2.8413258423687417, 3.5644807204159474, 7.693188348532725, 3.6020946744689684, 2.8391050465620347, 2.096526908189186, 1.9681692922863463, 2.0954838857282714, 5.075234952286537, 2.674597974901325, 5.519653860764427, 10.302470535156703, 2.6673965675640416, 5.9356708412135575, 2.8219916483888383, 15.958658702909407, 22.051549233548855, 13.427695700846542, 10.039161012131617, 4.618563026180622, 3.418948978679185, 3.643017174748608, 4.913834015611413, 4.652315689731309, 25.524056476741382, 11.012609833222886, 8.526155345405687, 7.393338985673346, 10.577049480582506, 13.133787841091928, 3.3980529101968333, 2.6764651064623193, 1.9873439143545517, 2.0092184579856003, 1.3366364242147535, 1.301840978156536, 1.9582669166818305, 2.0109255703945834, 1.9654713411700235, 1.2921791389198627, 1.3120079470378951, 1.3058486348213647, 1.2788326525127531, 1.285152873791796, 1.3155736148562598, 1.3080340469241458, 1.3204067538950433, 1.2664895871167754, 1.2882138625716861, 1.2834211875074086, 1.254697171485868, 1.2853105323837366, 1.2852495202418313, 1.265518932616709, 1.2866408293377403, 1.287969832353357, 1.3312346134193669, 1.287581139384157, 1.3181145105250294, 1.3159122114077997, 1.9048037382253784, 2.670604161075283, 3.9117605442406083, 10.302470535156703, 15.958658702909407, 1.9809328143500993, 1.9736250092995913, 7.788262132264301, 4.516785664823779, 4.730284630756168, 3.4732362168746227, 25.524056476741382, 10.577049480582506, 2.0278777215640127, 13.427695700846542, 3.622451318072998, 6.460500478831772, 7.693188348532725, 2.784113629829835, 2.771864965168184, 22.051549233548855, 5.5366616329957505, 1.167550297751225, 1.1675496751913426, 1.167541273864425, 1.1675277475524024, 1.1675194782312697, 1.1675186637113548, 2.2945915343236845, 1.7541994896739657, 2.3291241452827864, 2.3513986985832407, 1.749997698677839, 1.7409132464741328, 1.7409756795073608, 2.377911439066941, 1.7618009562425785, 1.7921169663725673, 1.839231055730033, 1.1799384294447592, 1.8468344878119294, 1.1868202307221554, 1.1841662590952695, 1.1868759412676377, 1.175977936198048, 1.1906397775933129, 1.1859982407215264, 1.194031804076386, 1.1922260891905259, 1.1972937304315328, 1.1983006568484624, 1.1853883244725925, 1.8900939097437115, 3.066022225143351, 2.503415333247082, 2.4693745256395894, 2.448544271273668, 2.718060034404137, 3.2153433415551946, 6.7352923322898075, 4.50886593184781, 7.753935982102813, 3.9394662931666318, 1.807459026235549, 11.26854135119741, 10.302470535156703, 25.524056476741382, 13.133787841091928, 22.051549233548855, 6.357479221135925, 6.460500478831772, 1.1161412181323884, 1.1161349522752417, 1.1161270118836117, 1.1161246229027795, 1.116121718492323, 1.1161077632392207, 1.1161029656975985, 1.1082377621105113, 1.1058027845603222, 1.1074577229578246, 1.1082755975414613, 1.1029273593052449, 1.1046044029535935, 2.782617408768719, 1.6847628641928858, 1.6865213024228138, 1.6987906545468523, 1.7161607059787898, 1.703337628646178, 1.7361144232609071, 1.7163287845723596, 1.729786841902965, 1.8182510457526613, 1.974027484185483, 2.5490676841094397, 2.4701709290494507, 6.7352923322898075, 2.4243004017747793, 2.424199379901017, 2.5819070784242015, 3.296305195509722, 5.958519838047392, 8.526155345405687, 7.753935982102813, 7.393338985673346, 6.6415455143164595, 4.730284630756168, 13.427695700846542, 15.958658702909407, 22.051549233548855, 3.197293118248128, 6.94885460525552, 25.524056476741382, 1.0467840425733808, 1.710470581147473, 1.0489514979795789, 1.0606876242016747, 1.044450355720371, 1.07202669276702, 1.027498136600648, 1.0465669465172, 1.0233365877570733, 1.9048037382253784, 1.037818140307049, 1.0675936890039606, 1.0799842337820682, 8.526155345405687, 1.0840411892168025, 1.2483979442733566, 1.0925258575862047, 1.7873172972595426, 1.2599730102339861, 1.0528541231078123, 1.0856160880391559, 1.0533421391720144, 1.254697171485868, 1.2640464990971054, 1.8571280641719519, 2.240371475942177, 1.9654713411700235, 1.0799595304894856, 1.9582669166818305, 1.1991437955700466, 4.24046093661243, 3.3980529101968333, 2.6764651064623193, 1.8779265429020926, 2.3894371087138038, 1.8555954926056524, 3.9117605442406083, 10.302470535156703, 4.516785664823779, 1.9873439143545517, 3.2943635348654112, 2.670604161075283, 22.051549233548855, 2.0109255703945834, 25.524056476741382, 15.958658702909407, 7.693188348532725, 13.427695700846542, 5.7714477002497695, 10.577049480582506, 3.8751165785158572, 7.788262132264301, 11.012609833222886, 6.161304148063247, 4.618563026180622, 4.355377137420472, 3.216548777307121, 7.393338985673346, 4.730284630756168, 11.26854135119741, 5.5366616329957505, 1.0233365877570733, 1.027498136600648, 1.0533421391720144, 1.0528541231078123, 1.037818140307049, 1.0465669465172, 1.0799595304894856, 1.044450355720371, 1.0467840425733808, 1.0489514979795789, 1.0675936890039606, 1.0856160880391559, 1.0606876242016747, 1.0925258575862047, 1.0799842337820682, 1.0840411892168025, 1.07202669276702, 2.240371475942177, 4.363982881319836, 1.7703907714800828, 1.7359730792640782, 1.710470581147473, 2.5358930949944676, 1.1767951821847298, 1.1973929546860929, 1.7873172972595426, 1.1576859929174506, 1.2127890364101348, 1.1908956223519194, 1.8139200900175212, 2.4703181570458104, 8.526155345405687, 3.2562058731219605, 1.7955438710562859, 3.1248988991488393, 5.7714477002497695, 2.4728640541655382, 4.24046093661243, 22.051549233548855, 25.524056476741382, 11.012609833222886, 4.355377137420472, 11.26854135119741, 6.357479221135925, 13.427695700846542, 7.393338985673346, 4.033553758524248, 3.084539980101491, 6.7352923322898075, 3.083234149466786, 10.577049480582506, 10.039161012131617, 15.958658702909407, 7.693188348532725, 6.161304148063247, 3.3954828223456257, 10.302470535156703, 7.753935982102813, 3.2502904863893267], \"Category\": [\"Default\", \"Default\", \"Default\", \"Default\", \"Default\", \"Default\", \"Default\", \"Default\", \"Default\", \"Default\", \"Default\", \"Default\", \"Default\", \"Default\", \"Default\", \"Default\", \"Default\", \"Default\", \"Default\", \"Default\", \"Default\", \"Default\", \"Default\", \"Default\", \"Default\", \"Default\", \"Default\", \"Default\", \"Default\", \"Default\", \"Topic1\", \"Topic1\", \"Topic1\", \"Topic1\", \"Topic1\", \"Topic1\", \"Topic1\", \"Topic1\", \"Topic1\", \"Topic1\", \"Topic1\", \"Topic1\", \"Topic1\", \"Topic1\", \"Topic1\", \"Topic1\", \"Topic1\", \"Topic1\", \"Topic1\", \"Topic1\", \"Topic1\", \"Topic1\", \"Topic1\", \"Topic1\", \"Topic1\", \"Topic1\", \"Topic1\", \"Topic1\", \"Topic1\", \"Topic1\", \"Topic1\", \"Topic1\", \"Topic1\", \"Topic1\", \"Topic1\", \"Topic1\", \"Topic1\", \"Topic1\", \"Topic1\", \"Topic1\", \"Topic1\", \"Topic1\", \"Topic1\", \"Topic1\", \"Topic1\", \"Topic1\", \"Topic1\", \"Topic1\", \"Topic1\", \"Topic1\", \"Topic1\", \"Topic1\", \"Topic1\", \"Topic1\", \"Topic1\", \"Topic1\", \"Topic1\", \"Topic1\", \"Topic1\", \"Topic1\", \"Topic1\", \"Topic1\", \"Topic1\", \"Topic2\", \"Topic2\", \"Topic2\", \"Topic2\", \"Topic2\", \"Topic2\", \"Topic2\", \"Topic2\", \"Topic2\", \"Topic2\", \"Topic2\", \"Topic2\", \"Topic2\", \"Topic2\", \"Topic2\", \"Topic2\", \"Topic2\", \"Topic2\", \"Topic2\", \"Topic2\", \"Topic2\", \"Topic2\", \"Topic2\", \"Topic2\", \"Topic2\", \"Topic2\", \"Topic2\", \"Topic2\", \"Topic2\", \"Topic2\", \"Topic2\", \"Topic2\", \"Topic2\", \"Topic2\", \"Topic2\", \"Topic2\", \"Topic2\", \"Topic2\", \"Topic2\", \"Topic2\", \"Topic2\", \"Topic2\", \"Topic2\", \"Topic2\", \"Topic2\", \"Topic2\", \"Topic2\", \"Topic2\", \"Topic2\", \"Topic2\", \"Topic2\", \"Topic2\", \"Topic2\", \"Topic2\", \"Topic2\", \"Topic2\", \"Topic3\", \"Topic3\", \"Topic3\", \"Topic3\", \"Topic3\", \"Topic3\", \"Topic3\", \"Topic3\", \"Topic3\", \"Topic3\", \"Topic3\", \"Topic3\", \"Topic3\", \"Topic3\", \"Topic3\", \"Topic3\", \"Topic3\", \"Topic3\", \"Topic3\", \"Topic3\", \"Topic3\", \"Topic3\", \"Topic3\", \"Topic3\", \"Topic3\", \"Topic3\", \"Topic3\", \"Topic3\", \"Topic3\", \"Topic3\", \"Topic3\", \"Topic3\", \"Topic3\", \"Topic3\", \"Topic3\", \"Topic3\", \"Topic3\", \"Topic3\", \"Topic3\", \"Topic3\", \"Topic3\", \"Topic3\", \"Topic3\", \"Topic3\", \"Topic3\", \"Topic3\", \"Topic3\", \"Topic3\", \"Topic3\", \"Topic3\", \"Topic3\", \"Topic3\", \"Topic3\", \"Topic3\", \"Topic4\", \"Topic4\", \"Topic4\", \"Topic4\", \"Topic4\", \"Topic4\", \"Topic4\", \"Topic4\", \"Topic4\", \"Topic4\", \"Topic4\", \"Topic4\", \"Topic4\", \"Topic4\", \"Topic4\", \"Topic4\", \"Topic4\", \"Topic4\", \"Topic4\", \"Topic4\", \"Topic4\", \"Topic4\", \"Topic4\", \"Topic4\", \"Topic4\", \"Topic4\", \"Topic4\", \"Topic4\", \"Topic4\", \"Topic4\", \"Topic4\", \"Topic4\", \"Topic4\", \"Topic4\", \"Topic4\", \"Topic4\", \"Topic4\", \"Topic4\", \"Topic4\", \"Topic4\", \"Topic4\", \"Topic4\", \"Topic4\", \"Topic4\", \"Topic4\", \"Topic4\", \"Topic4\", \"Topic4\", \"Topic4\", \"Topic4\", \"Topic4\", \"Topic5\", \"Topic5\", \"Topic5\", \"Topic5\", \"Topic5\", \"Topic5\", \"Topic5\", \"Topic5\", \"Topic5\", \"Topic5\", \"Topic5\", \"Topic5\", \"Topic5\", \"Topic5\", \"Topic5\", \"Topic5\", \"Topic5\", \"Topic5\", \"Topic5\", \"Topic5\", \"Topic5\", \"Topic5\", \"Topic5\", \"Topic5\", \"Topic5\", \"Topic5\", \"Topic5\", \"Topic5\", \"Topic5\", \"Topic5\", \"Topic5\", \"Topic5\", \"Topic5\", \"Topic5\", \"Topic5\", \"Topic5\", \"Topic5\", \"Topic5\", \"Topic5\", \"Topic5\", \"Topic5\", \"Topic5\", \"Topic5\", \"Topic5\", \"Topic5\", \"Topic5\", \"Topic5\", \"Topic5\", \"Topic5\", \"Topic5\", \"Topic5\", \"Topic5\", \"Topic5\", \"Topic5\", \"Topic5\", \"Topic5\", \"Topic5\", \"Topic5\", \"Topic5\", \"Topic5\", \"Topic6\", \"Topic6\", \"Topic6\", \"Topic6\", \"Topic6\", \"Topic6\", \"Topic6\", \"Topic6\", \"Topic6\", \"Topic6\", \"Topic6\", \"Topic6\", \"Topic6\", \"Topic6\", \"Topic6\", \"Topic6\", \"Topic6\", \"Topic6\", \"Topic6\", \"Topic6\", \"Topic6\", \"Topic6\", \"Topic6\", \"Topic6\", \"Topic6\", \"Topic6\", \"Topic6\", \"Topic6\", \"Topic6\", \"Topic6\", \"Topic6\", \"Topic6\", \"Topic6\", \"Topic6\", \"Topic6\", \"Topic6\", \"Topic6\", \"Topic6\", \"Topic6\", \"Topic6\", \"Topic6\", \"Topic6\", \"Topic6\", \"Topic6\", \"Topic6\", \"Topic6\", \"Topic6\", \"Topic6\", \"Topic6\", \"Topic6\", \"Topic6\", \"Topic6\", \"Topic7\", \"Topic7\", \"Topic7\", \"Topic7\", \"Topic7\", \"Topic7\", \"Topic7\", \"Topic7\", \"Topic7\", \"Topic7\", \"Topic7\", \"Topic7\", \"Topic7\", \"Topic7\", \"Topic7\", \"Topic7\", \"Topic7\", \"Topic7\", \"Topic7\", \"Topic7\", \"Topic7\", \"Topic7\", \"Topic7\", \"Topic7\", \"Topic7\", \"Topic7\", \"Topic7\", \"Topic7\", \"Topic7\", \"Topic7\", \"Topic7\", \"Topic7\", \"Topic7\", \"Topic7\", \"Topic7\", \"Topic7\", \"Topic7\", \"Topic7\", \"Topic7\", \"Topic7\", \"Topic7\", \"Topic7\", \"Topic7\", \"Topic7\", \"Topic7\", \"Topic7\", \"Topic7\", \"Topic7\", \"Topic7\", \"Topic8\", \"Topic8\", \"Topic8\", \"Topic8\", \"Topic8\", \"Topic8\", \"Topic8\", \"Topic8\", \"Topic8\", \"Topic8\", \"Topic8\", \"Topic8\", \"Topic8\", \"Topic8\", \"Topic8\", \"Topic8\", \"Topic8\", \"Topic8\", \"Topic8\", \"Topic8\", \"Topic8\", \"Topic8\", \"Topic8\", \"Topic8\", \"Topic8\", \"Topic8\", \"Topic8\", \"Topic8\", \"Topic8\", \"Topic8\", \"Topic8\", \"Topic8\", \"Topic8\", \"Topic8\", \"Topic8\", \"Topic8\", \"Topic8\", \"Topic8\", \"Topic8\", \"Topic8\", \"Topic8\", \"Topic8\", \"Topic8\", \"Topic9\", \"Topic9\", \"Topic9\", \"Topic9\", \"Topic9\", \"Topic9\", \"Topic9\", \"Topic9\", \"Topic9\", \"Topic9\", \"Topic9\", \"Topic9\", \"Topic9\", \"Topic9\", \"Topic9\", \"Topic9\", \"Topic9\", \"Topic9\", \"Topic9\", \"Topic9\", \"Topic9\", \"Topic9\", \"Topic9\", \"Topic9\", \"Topic9\", \"Topic9\", \"Topic9\", \"Topic9\", \"Topic9\", \"Topic9\", \"Topic9\", \"Topic9\", \"Topic9\", \"Topic9\", \"Topic9\", \"Topic9\", \"Topic9\", \"Topic9\", \"Topic9\", \"Topic9\", \"Topic9\", \"Topic9\", \"Topic9\", \"Topic9\", \"Topic9\", \"Topic9\", \"Topic9\", \"Topic9\", \"Topic9\", \"Topic9\", \"Topic9\", \"Topic9\", \"Topic9\", \"Topic9\", \"Topic9\", \"Topic9\", \"Topic9\", \"Topic9\", \"Topic9\", \"Topic9\", \"Topic9\", \"Topic10\", \"Topic10\", \"Topic10\", \"Topic10\", \"Topic10\", \"Topic10\", \"Topic10\", \"Topic10\", \"Topic10\", \"Topic10\", \"Topic10\", \"Topic10\", \"Topic10\", \"Topic10\", \"Topic10\", \"Topic10\", \"Topic10\", \"Topic10\", \"Topic10\", \"Topic10\", \"Topic10\", \"Topic10\", \"Topic10\", \"Topic10\", \"Topic10\", \"Topic10\", \"Topic10\", \"Topic10\", \"Topic10\", \"Topic10\", \"Topic10\", \"Topic10\", \"Topic10\", \"Topic10\", \"Topic10\", \"Topic10\", \"Topic10\", \"Topic10\", \"Topic10\", \"Topic10\", \"Topic10\", \"Topic10\", \"Topic10\", \"Topic10\", \"Topic10\", \"Topic10\", \"Topic10\", \"Topic10\", \"Topic10\", \"Topic10\", \"Topic10\", \"Topic10\", \"Topic10\", \"Topic10\", \"Topic10\", \"Topic10\", \"Topic10\", \"Topic10\", \"Topic10\"], \"logprob\": [30.0, 29.0, 28.0, 27.0, 26.0, 25.0, 24.0, 23.0, 22.0, 21.0, 20.0, 19.0, 18.0, 17.0, 16.0, 15.0, 14.0, 13.0, 12.0, 11.0, 10.0, 9.0, 8.0, 7.0, 6.0, 5.0, 4.0, 3.0, 2.0, 1.0, -5.2054, -5.2191, -5.852, -5.852, -5.852, -5.852, -5.852, -5.852, -5.852, -5.852, -5.852, -5.852, -5.852, -5.852, -5.8521, -5.852, -5.852, -5.852, -5.8521, -5.8594, -5.8611, -5.8614, -5.8618, -5.864, -5.864, -5.8651, -5.8661, -5.8662, -5.8663, -5.239, -5.492, -4.121, -5.1684, -5.6071, -4.729, -5.257, -3.711, -4.2453, -4.5145, -4.2316, -5.4226, -5.4442, -5.5954, -4.6006, -5.47, -5.0823, -5.0195, -5.5546, -5.5553, -5.3489, -5.3291, -4.6687, -5.1296, -5.4709, -5.3113, -4.9665, -5.6416, -5.2659, -5.4037, -5.3925, -5.384, -5.4099, -5.4128, -4.9753, -5.2031, -5.2032, -5.235, -4.9332, -5.2789, -5.259, -5.2818, -5.304, -5.3731, -5.415, -5.0028, -5.8498, -5.8498, -5.8498, -5.8498, -5.8498, -5.8498, -5.8498, -5.8498, -5.8498, -5.8498, -5.8498, -5.8498, -5.8498, -5.8498, -5.8498, -5.8498, -5.8498, -5.8498, -4.4412, -4.7897, -5.2499, -5.2822, -4.3578, -5.2425, -4.6242, -5.1941, -3.7462, -4.1427, -4.8548, -4.519, -5.116, -4.503, -5.2806, -5.143, -5.1749, -5.0426, -4.0851, -4.8715, -4.572, -4.8994, -4.8964, -5.1611, -5.197, -5.2391, -5.4212, -5.0791, -5.6873, -5.7077, -5.734, -5.7518, -5.7586, -5.7594, -5.8159, -5.8634, -5.4773, -5.4802, -5.8994, -5.9244, -6.339, -5.9388, -4.6508, -6.3869, -6.4045, -5.7374, -5.7109, -5.388, -6.4373, -6.0739, -6.4477, -6.4727, -6.4488, -6.0244, -6.4578, -5.5569, -5.5543, -5.0004, -5.8165, -5.0488, -5.5287, -5.5443, -5.3166, -4.6037, -4.6352, -5.4252, -4.4723, -4.6193, -4.3218, -4.4568, -5.1206, -5.532, -5.3901, -5.3687, -5.111, -5.2696, -5.1298, -5.4026, -5.4598, -5.5621, -3.6507, -4.1506, -4.1745, -4.6134, -4.4145, -4.6528, -4.2361, -4.9982, -5.6532, -5.6619, -5.663, -5.6714, -5.6762, -5.678, -5.6841, -5.6922, -5.6951, -5.6965, -5.7189, -5.7333, -5.3912, -4.8504, -5.8227, -5.111, -5.4142, -5.4671, -5.496, -5.9005, -5.9006, -5.9048, -5.4976, -4.7371, -5.5302, -4.9026, -4.9445, -3.898, -3.8216, -4.4854, -4.8953, -4.993, -4.755, -5.0671, -5.0369, -5.2859, -5.4365, -5.1511, -5.2591, -5.4335, -5.3, -5.4103, -5.4301, -5.3363, -5.3363, -5.3364, -5.3363, -5.1252, -5.4772, -5.3239, -6.2896, -5.9465, -5.3536, -6.31, -5.8856, -5.943, -6.341, -6.3601, -6.3545, -4.8359, -6.3683, -6.3778, -6.3639, -6.3747, -5.9631, -5.9515, -5.9366, -6.3769, -6.3693, -6.3717, -5.9739, -6.3738, -6.389, -5.6513, -5.4442, -4.7125, -5.4422, -5.6769, -5.9613, -6.0297, -5.9747, -5.1985, -5.7646, -5.1488, -4.6514, -5.78, -5.1554, -5.7475, -4.4462, -4.229, -4.6425, -4.8593, -5.4001, -5.6169, -5.58, -5.4085, -5.4424, -4.6848, -5.0889, -5.2441, -5.3637, -5.3921, -5.4933, -4.5401, -4.8853, -5.1977, -5.1941, -5.6597, -5.6943, -5.2879, -5.284, -5.326, -5.7484, -5.7622, -5.7683, -5.7927, -5.7893, -5.7966, -5.8032, -5.7974, -5.8464, -5.8318, -5.8402, -5.8644, -5.8475, -5.8497, -5.8733, -5.8608, -5.8627, -5.8447, -5.8823, -5.8683, -5.8713, -5.5087, -5.2992, -5.0272, -4.3706, -4.3509, -5.6267, -5.6329, -4.9235, -5.2102, -5.1952, -5.3826, -4.5989, -5.0526, -5.6786, -5.156, -5.5291, -5.3939, -5.3626, -5.6134, -5.6469, -5.3542, -5.6427, -5.309, -5.309, -5.309, -5.309, -5.309, -5.309, -4.7711, -5.0691, -4.7947, -4.791, -5.094, -5.1159, -5.148, -4.841, -5.1934, -5.1798, -5.2253, -5.6946, -5.2478, -5.7054, -5.7134, -5.7161, -5.7337, -5.7299, -5.7345, -5.7399, -5.7449, -5.7418, -5.7442, -5.7557, -5.309, -4.9618, -5.1474, -5.1722, -5.1968, -5.2331, -5.1397, -4.7118, -5.0729, -4.8247, -5.2496, -5.5638, -5.0473, -5.1154, -5.0894, -5.1678, -5.1719, -5.2464, -5.253, -5.3106, -5.3106, -5.3106, -5.3106, -5.3106, -5.3107, -5.3107, -5.3479, -5.354, -5.3543, -5.3558, -5.3625, -5.3615, -4.5793, -5.2083, -5.2117, -5.2089, -5.2056, -5.2181, -5.2134, -5.2296, -5.2348, -5.3524, -5.3459, -5.1454, -5.1951, -4.197, -5.2265, -5.3633, -5.3407, -5.1304, -4.7735, -4.5614, -4.661, -4.8683, -4.9169, -5.0487, -4.8364, -4.8168, -4.8439, -5.1994, -5.2291, -5.2988, -6.0713, -5.5984, -6.0961, -6.0855, -6.1239, -6.1049, -6.1734, -6.1634, -6.1948, -5.5752, -6.1843, -6.1974, -6.1931, -4.1278, -6.1905, -6.0886, -6.2282, -5.7397, -6.0899, -6.2725, -6.2481, -6.2823, -6.1188, -6.1137, -5.7467, -5.5602, -5.6963, -6.306, -5.7115, -6.205, -4.9496, -5.1712, -5.4083, -5.7707, -5.5921, -5.8029, -5.2321, -4.4934, -5.1967, -5.7772, -5.4812, -5.6281, -4.3677, -5.8038, -4.3786, -4.6437, -5.0626, -4.7719, -5.2428, -4.9818, -5.4753, -5.175, -5.0269, -5.3163, -5.451, -5.5063, -5.6046, -5.3979, -5.511, -5.4526, -5.606, -5.9587, -5.9614, -5.9588, -5.9688, -5.9913, -6.0485, -6.0348, -6.075, -6.1002, -6.1, -6.0972, -6.0946, -6.133, -6.1161, -6.1278, -6.1396, -6.2113, -5.4934, -4.9776, -6.0044, -6.0681, -6.0961, -5.7359, -6.5515, -6.5825, -6.1886, -6.6292, -6.5835, -6.6188, -6.2013, -5.8978, -4.729, -5.6633, -6.2194, -5.7361, -5.2427, -5.9525, -5.5451, -4.3276, -4.4081, -5.0165, -5.5711, -5.064, -5.4004, -5.2199, -5.4825, -5.6918, -5.7857, -5.5848, -5.8411, -5.5453, -5.636, -5.6016, -5.7202, -5.7745, -5.8598, -5.7644, -5.8004, -5.8863], \"loglift\": [30.0, 29.0, 28.0, 27.0, 26.0, 25.0, 24.0, 23.0, 22.0, 21.0, 20.0, 19.0, 18.0, 17.0, 16.0, 15.0, 14.0, 13.0, 12.0, 11.0, 10.0, 9.0, 8.0, 7.0, 6.0, 5.0, 4.0, 3.0, 2.0, 1.0, 1.3514, 1.3422, 1.1642, 1.1642, 1.1642, 1.1641, 1.1641, 1.1641, 1.1641, 1.1641, 1.1641, 1.1641, 1.1641, 1.1641, 1.1641, 1.1641, 1.1641, 1.1641, 1.1641, 1.1588, 1.1576, 1.1573, 1.1571, 1.1554, 1.1554, 1.1547, 1.154, 1.1539, 1.1538, 1.1401, 1.1271, 0.8715, 0.9921, 1.0864, 0.836, 0.9771, 0.4639, 0.5941, 0.5936, 0.4129, 0.9475, 0.937, 1.0139, 0.415, 0.9167, 0.4665, 0.3944, 0.8543, 0.8454, 0.5923, 0.51, -0.3475, 0.2323, 0.6508, 0.3702, -0.1493, 0.8327, 0.2101, 0.258, 0.1147, -0.1126, -0.354, -0.3306, 1.4955, 1.4949, 1.4949, 1.4633, 1.4519, 1.4468, 1.431, 1.417, 1.4155, 1.3934, 1.3627, 1.2962, 1.2765, 1.2765, 1.2765, 1.2765, 1.2765, 1.2765, 1.2765, 1.2765, 1.2765, 1.2765, 1.2765, 1.2765, 1.2765, 1.2765, 1.2765, 1.2765, 1.2765, 1.2765, 1.2497, 1.2156, 1.1988, 1.1791, 1.0086, 1.1435, 1.0056, 1.0609, 0.575, 0.6745, 0.8069, 0.5368, 0.8658, 0.5125, 0.9412, 0.8521, 0.8686, 0.7799, 0.0899, 0.6497, 0.2673, 0.372, -0.2518, 0.7475, 0.279, 0.7308, 1.4698, 1.3975, 1.2606, 1.2441, 1.2228, 1.2083, 1.2027, 1.2021, 1.1556, 1.1161, 1.1102, 0.8777, 0.7562, 0.7341, 0.7325, 0.7324, 0.7234, 0.7009, 0.6818, 0.6773, 0.6602, 0.6563, 0.6547, 0.6531, 0.6462, 0.6448, 0.6438, 0.642, 0.6405, 0.6345, 0.6221, 0.5959, 0.6229, 0.5848, 0.6043, 0.5992, 0.5785, 0.4785, 0.4207, 0.5318, 0.1723, 0.22, -0.1469, -0.1356, 0.2414, 0.5186, 0.4001, 0.3376, -0.0955, 0.1444, -0.3125, -0.1312, 0.0891, -0.0861, 1.9119, 1.8184, 1.7905, 1.7787, 1.7341, 1.733, 1.7189, 1.694, 1.467, 1.4573, 1.4561, 1.4467, 1.4414, 1.4393, 1.4325, 1.4235, 1.4202, 1.4186, 1.3937, 1.3777, 1.29, 1.2877, 1.2786, 1.2635, 1.2508, 1.2106, 1.1961, 1.1933, 1.1932, 1.1886, 1.1861, 1.158, 1.1433, 1.0386, 0.8945, 0.4231, 0.3534, 0.6226, 0.6696, 0.6885, 0.2376, 0.6361, 0.4843, 0.8512, 1.0475, 0.3978, 0.3745, 0.7374, -0.4828, 0.0037, 0.2762, 1.7868, 1.7868, 1.7868, 1.3359, 1.3137, 0.8978, 0.8524, 0.8128, 0.8075, 0.8035, 0.7973, 0.7932, 0.7903, 0.7773, 0.7698, 0.7632, 0.7604, 0.7539, 0.7538, 0.7512, 0.7481, 0.7474, 0.746, 0.7457, 0.7429, 0.7416, 0.7395, 0.7373, 0.7311, 0.7297, 0.719, 0.6993, 0.6617, 0.6909, 0.6942, 0.713, 0.7077, 0.7001, 0.5917, 0.6662, 0.5575, 0.4308, 0.6535, 0.4782, 0.6296, 0.1983, 0.0921, 0.1747, 0.2488, 0.4844, 0.5684, 0.5417, 0.414, 0.4348, -0.5099, -0.0734, 0.0274, 0.0503, -0.3362, -0.654, 1.6513, 1.5447, 1.53, 1.5228, 1.4647, 1.4564, 1.4546, 1.432, 1.4128, 1.4098, 1.3808, 1.3795, 1.3759, 1.3744, 1.3437, 1.3429, 1.3393, 1.3319, 1.3295, 1.3248, 1.3233, 1.3161, 1.3139, 1.3058, 1.3017, 1.2989, 1.2838, 1.2795, 1.27, 1.2688, 1.2615, 1.1331, 1.0234, 0.7116, 0.2937, 1.1043, 1.1018, 0.4385, 0.6965, 0.6654, 0.7868, -0.4239, 0.0033, 1.029, -0.3387, 0.5983, 0.1549, 0.0117, 0.7772, 0.7481, -1.033, 0.0605, 1.9507, 1.9507, 1.9507, 1.9507, 1.9506, 1.9506, 1.8129, 1.7835, 1.7743, 1.7685, 1.761, 1.7443, 1.7121, 1.7073, 1.6549, 1.6513, 1.58, 1.5546, 1.5533, 1.5379, 1.5321, 1.5271, 1.5188, 1.5101, 1.5095, 1.4973, 1.4939, 1.4927, 1.4895, 1.4888, 1.4689, 1.3324, 1.3495, 1.3384, 1.3223, 1.1816, 1.1069, 0.7954, 0.8357, 0.5416, 0.7939, 1.2588, -0.0547, -0.0332, -0.9145, -0.3284, -0.8508, 0.3186, 0.2958, 1.9941, 1.9941, 1.9941, 1.9941, 1.9941, 1.9941, 1.9941, 1.9639, 1.96, 1.9582, 1.956, 1.9541, 1.9536, 1.8119, 1.6846, 1.6802, 1.6758, 1.6689, 1.6639, 1.6496, 1.6448, 1.6318, 1.4643, 1.3886, 1.3335, 1.3152, 1.3102, 1.3026, 1.1657, 1.1254, 1.0914, 0.8563, 0.71, 0.7054, 0.5457, 0.6044, 0.8119, -0.0191, -0.1722, -0.5227, 1.0528, 0.2469, -1.1239, 1.2975, 1.2795, 1.2706, 1.2702, 1.2472, 1.2401, 1.2141, 1.2057, 1.1967, 1.195, 1.1931, 1.1517, 1.1445, 1.1437, 1.1434, 1.1041, 1.0979, 1.0942, 1.0936, 1.0905, 1.0844, 1.0803, 1.0688, 1.0665, 1.0488, 1.0477, 1.0425, 1.0316, 1.031, 1.0279, 1.0203, 1.0201, 1.0218, 1.0137, 0.9514, 0.9935, 0.8185, 0.5888, 0.71, 0.9505, 0.7411, 0.8042, -0.0465, 0.9122, -0.2037, 0.0008, 0.3117, 0.0453, 0.4189, 0.0741, 0.5847, 0.187, -0.0114, 0.28, 0.4335, 0.4368, 0.6416, 0.0161, 0.3496, -0.4601, 0.0972, 1.4328, 1.4261, 1.4038, 1.3943, 1.3861, 1.3206, 1.3029, 1.2961, 1.2687, 1.2668, 1.252, 1.2378, 1.2227, 1.21, 1.2098, 1.1942, 1.1338, 1.1146, 0.9636, 0.8389, 0.7949, 0.7817, 0.7481, 0.7003, 0.6519, 0.6453, 0.639, 0.6382, 0.6211, 0.6178, 0.6125, 0.5425, 0.5707, 0.6099, 0.539, 0.419, 0.5567, 0.4248, -0.0064, -0.2331, -0.001, 0.3721, -0.0715, 0.1645, -0.4027, -0.0685, 0.3281, 0.5025, -0.0776, 0.4475, -0.4894, -0.5279, -0.957, -0.346, -0.1782, 0.3323, -0.6823, -0.434, 0.3495]}, \"token.table\": {\"Topic\": [3, 4, 8, 1, 1, 2, 3, 4, 7, 1, 3, 6, 7, 3, 1, 5, 2, 2, 8, 1, 2, 3, 4, 5, 7, 2, 3, 5, 1, 3, 5, 7, 1, 2, 4, 8, 8, 7, 1, 2, 3, 2, 8, 2, 5, 7, 3, 1, 4, 1, 2, 3, 2, 8, 8, 1, 2, 4, 6, 3, 2, 3, 4, 5, 6, 8, 3, 4, 4, 1, 7, 2, 4, 3, 8, 1, 4, 3, 5, 1, 3, 4, 2, 7, 1, 1, 4, 1, 3, 1, 7, 7, 1, 3, 1, 2, 7, 4, 1, 2, 2, 3, 3, 8, 8, 1, 1, 3, 1, 2, 3, 4, 7, 1, 8, 1, 1, 2, 3, 2, 8, 1, 3, 6, 7, 7, 1, 2, 7, 1, 3, 8, 7, 2, 8, 2, 4, 1, 2, 3, 4, 5, 6, 7, 8, 9, 1, 2, 3, 4, 5, 3, 5, 1, 2, 2, 3, 5, 1, 7, 2, 1, 2, 8, 1, 3, 2, 4, 2, 7, 3, 6, 2, 4, 3, 5, 5, 2, 2, 1, 2, 8, 8, 1, 3, 1, 1, 1, 2, 2, 3, 6, 1, 2, 3, 1, 2, 3, 4, 5, 6, 8, 9, 1, 2, 3, 4, 6, 7, 1, 1, 2, 7, 4, 2, 1, 2, 3, 4, 5, 6, 8, 9, 3, 3, 1, 4, 2, 8, 8, 2, 3, 5, 2, 3, 7, 1, 1, 3, 6, 8, 1, 2, 3, 3, 6, 1, 2, 1, 1, 2, 3, 3, 4, 3, 4, 1, 1, 4, 2, 2, 2, 3, 4, 5, 1, 1, 4, 3, 1, 1, 4, 2, 1, 2, 3, 6, 8, 1, 1, 2, 4, 8, 1, 2, 3, 4, 1, 2, 3, 4, 5, 6, 7, 1, 2, 3, 5, 6, 7, 9, 7, 1, 1, 3, 4, 1, 4, 1, 2, 3, 4, 5, 1, 2, 3, 4, 5, 7, 2, 1, 3, 4, 6, 7, 1, 8, 2, 4, 4, 2, 3, 5, 8, 4, 4, 3, 1, 1, 1, 2, 2, 2, 3, 6, 2, 1, 3, 4, 5, 8, 4, 1, 8, 1, 4, 2, 1, 2, 4, 7, 1, 4, 4, 1, 1, 2, 3, 4, 5, 6, 7, 8, 9, 1, 2, 3, 5, 8, 9, 7, 1, 4, 4, 4, 4, 7, 1, 3, 2, 3, 6, 3, 1, 2, 3, 7, 8, 3, 2, 3, 4, 3, 1, 4, 1, 1, 2, 1, 3, 6, 3, 6, 1, 2, 3, 5, 3, 2, 5, 8, 7, 1, 2, 3, 5, 1, 3, 4, 5, 2, 1, 1, 3, 6, 3, 3, 3, 5, 5, 1, 2, 8, 2, 3, 2, 2, 7, 3, 5, 1, 3, 5, 7, 8, 7, 1, 8, 1, 7, 1, 1, 4, 7, 2, 3, 1, 4, 8, 1, 3, 1, 4, 5, 4, 5, 2, 1, 2, 3, 4, 8, 1, 8, 8, 1, 8, 8, 1, 4, 3, 5, 1, 2, 3, 4, 1, 2, 7, 1, 3, 4, 1, 3, 4, 3, 5, 3, 6], \"Freq\": [0.38731060786677246, 0.38731060786677246, 0.38731060786677246, 0.6713905817569092, 0.4437131518773451, 0.08874263037546902, 0.08874263037546902, 0.17748526075093804, 0.08874263037546902, 0.6736147418323384, 0.37444710622983657, 0.37444710622983657, 0.5414670381127483, 0.34760004190084814, 0.2744977451469211, 0.2744977451469211, 0.7495649958003565, 0.3854693065819688, 0.906678025132969, 0.39843966992523405, 0.09960991748130851, 0.09960991748130851, 0.19921983496261703, 0.09960991748130851, 0.5290742406209835, 0.7495560665891108, 0.2924875469730823, 0.2924875469730823, 0.21494672044874802, 0.21494672044874802, 0.21494672044874802, 0.21494672044874802, 0.6713941895128761, 0.41250732439376797, 0.41250732439376797, 0.41250732439376797, 0.9029690066444939, 0.39945429219007744, 0.4469586114548617, 0.7495570221502074, 0.6472484763058814, 0.48844973169795836, 0.5759989011102857, 0.35435965962937227, 0.35435965962937227, 0.4205371081407413, 0.4681457064669277, 0.48558671539037157, 0.48558671539037157, 0.23582341989426941, 0.23582341989426941, 0.23582341989426941, 0.30336996749033296, 0.30336996749033296, 0.8959572967750085, 0.2213963810122513, 0.2213963810122513, 0.2213963810122513, 0.2213963810122513, 0.6420356077137349, 0.1299851186134971, 0.3899553558404913, 0.1299851186134971, 0.1299851186134971, 0.1299851186134971, 0.8959596282660083, 0.4881728197085923, 0.7441663627887286, 0.7430064592666057, 0.6713899607421429, 0.5714293228816938, 0.7495635656042069, 0.7412202826214018, 0.31276456771905964, 0.31276456771905964, 0.478616044659963, 0.478616044659963, 0.37489738577313775, 0.37489738577313775, 0.21882009171487765, 0.21882009171487765, 0.4376401834297553, 0.7495746404480493, 0.4293459419178306, 0.3558246906325181, 0.47660021752063125, 0.47660021752063125, 0.25404194249370443, 0.25404194249370443, 0.326155496134163, 0.326155496134163, 0.8564946068235736, 0.35188237936037664, 0.6347518163587572, 0.6713950086650485, 0.7495612032677361, 0.8564941501244636, 0.7253101765360016, 0.41850860872345125, 0.41850860872345125, 0.38063332450483156, 0.47321374139844247, 0.6295638682063954, 0.592936477329652, 0.9023026422474211, 0.6713812851350547, 0.3658115942370826, 0.6326788972445194, 0.3534986064929177, 0.17674930324645885, 0.17674930324645885, 0.17674930324645885, 0.5676010087613508, 0.6142117783487857, 0.9023334470173756, 0.671401594875529, 0.2580567525488467, 0.2580567525488467, 0.47721674540697157, 0.7495533105209811, 0.8959708308969672, 0.3905075897476883, 0.49728344734498564, 0.49728344734498564, 0.570060592245332, 0.43580741279721635, 0.6740205758023331, 0.4084059298955728, 0.4084059298955728, 0.6713996489852482, 0.6355416412441471, 0.5935553431604553, 0.42527879283190795, 0.412490134996439, 0.412490134996439, 0.7783409943467158, 0.7433973918651123, 0.13604486325322898, 0.27208972650645796, 0.13604486325322898, 0.18139315100430528, 0.09069657550215264, 0.04534828775107632, 0.04534828775107632, 0.04534828775107632, 0.04534828775107632, 0.27241499021872073, 0.27241499021872073, 0.18160999347914714, 0.09080499673957357, 0.09080499673957357, 0.3536181292351924, 0.3536181292351924, 0.5512922016263355, 0.3243347574406374, 0.4070141550662749, 0.20350707753313746, 0.20350707753313746, 0.4862387459078691, 0.574390562585554, 0.8339283442855342, 0.16782691459959964, 0.5034807437987989, 0.16782691459959964, 0.2327882846617302, 0.2327882846617302, 0.7495637792501824, 0.7148748555139518, 0.4845665073692631, 0.557999292883268, 0.5087838113196355, 0.5087838113196355, 0.7495638048781248, 0.731086809282278, 0.3519483704010256, 0.3519483704010256, 0.7471878449119547, 0.7495598002127228, 0.5021690490994003, 0.6727553867205273, 0.5760457992954158, 0.8959439753271323, 0.40483028451185404, 0.4463545491175543, 0.4769793300023613, 0.6740319500382393, 0.6713986375456514, 0.6713867016804663, 0.749559093562667, 0.4888352363171148, 0.5031841709816891, 0.5031841709816891, 0.17326675245739873, 0.34653350491479745, 0.17326675245739873, 0.31330953892061464, 0.12532381556824584, 0.18798572335236877, 0.06266190778412292, 0.12532381556824584, 0.12532381556824584, 0.06266190778412292, 0.06266190778412292, 0.2567966981638476, 0.1283983490819238, 0.2567966981638476, 0.1283983490819238, 0.1283983490819238, 0.1283983490819238, 0.6714167704393275, 0.22178525933464227, 0.44357051866928454, 0.22178525933464227, 0.7256057392990416, 0.5230710368611154, 0.1489458835348727, 0.2978917670697454, 0.1489458835348727, 0.07447294176743635, 0.1489458835348727, 0.07447294176743635, 0.07447294176743635, 0.07447294176743635, 0.6271301369106687, 0.3607679351505944, 0.2323228387687041, 0.6969685163061123, 0.5499790594571345, 0.5499790594571345, 0.5826960123933517, 0.749547553005811, 0.28054577326576413, 0.28054577326576413, 0.7495582094857649, 0.3679094601820389, 0.3679094601820389, 0.6738067129653151, 0.2114037691300921, 0.2114037691300921, 0.2114037691300921, 0.2114037691300921, 0.67139495011685, 0.22960124197011852, 0.22960124197011852, 0.5249884699048606, 0.5249884699048606, 0.6730619925058394, 0.7495713240206117, 0.6739887806826024, 0.17841966386406305, 0.5352589915921891, 0.17841966386406305, 0.5027927847749851, 0.7423271453771342, 0.31089222307307746, 0.31089222307307746, 0.3577712112975566, 0.4137958779257189, 0.20689793896285946, 0.7495656134288935, 0.627272943189863, 0.16847295390044714, 0.3369459078008943, 0.16847295390044714, 0.16847295390044714, 0.4043893954928499, 0.15692181692423124, 0.7846090846211562, 0.5924184943288874, 0.6713916063519237, 0.28197765159191257, 0.5639553031838251, 0.4990173947912962, 0.24184469145642118, 0.48368938291284236, 0.2556393697135494, 0.2556393697135494, 0.8959553790498879, 0.32001035306210396, 0.15056736385294786, 0.3011347277058957, 0.15056736385294786, 0.15056736385294786, 0.24792033523457213, 0.24792033523457213, 0.24792033523457213, 0.24792033523457213, 0.0945443246564946, 0.2836329739694838, 0.2836329739694838, 0.0945443246564946, 0.0945443246564946, 0.0945443246564946, 0.0945443246564946, 0.09706409706172382, 0.09706409706172382, 0.2911922911851715, 0.19412819412344764, 0.19412819412344764, 0.09706409706172382, 0.09706409706172382, 0.8565167593734258, 0.6731844113841889, 0.45829693983472347, 0.22914846991736174, 0.22914846991736174, 0.4814952627571363, 0.4814952627571363, 0.19703521302978727, 0.19703521302978727, 0.19703521302978727, 0.19703521302978727, 0.19703521302978727, 0.38069748502837897, 0.22841849101702738, 0.22841849101702738, 0.0761394970056758, 0.0761394970056758, 0.0761394970056758, 0.4886473195630603, 0.3095735394731605, 0.15478676973658026, 0.15478676973658026, 0.15478676973658026, 0.15478676973658026, 0.35937387470111826, 0.35937387470111826, 0.7143726736700031, 0.7428261842127549, 0.7393383609635371, 0.2843725595246434, 0.2843725595246434, 0.2843725595246434, 0.587082668275699, 0.74504120129167, 0.738166745100697, 0.7828524725030249, 0.45133255941539047, 0.6714072827273827, 0.32419745130588223, 0.32419745130588223, 0.74957264740708, 0.40480615711292595, 0.4977059592626771, 0.4977059592626771, 0.6554018327916749, 0.2705137697426775, 0.13525688487133875, 0.13525688487133875, 0.13525688487133875, 0.13525688487133875, 0.7413339242349656, 0.6731325502453256, 0.5781059121133588, 0.3534227970010497, 0.3534227970010497, 0.7495599811027932, 0.4718851443550568, 0.15729504811835227, 0.15729504811835227, 0.15729504811835227, 0.2790457598508385, 0.558091519701677, 0.7256161595040946, 0.5707094325222554, 0.31342980326383246, 0.1958936270398953, 0.15671490163191623, 0.15671490163191623, 0.07835745081595812, 0.03917872540797906, 0.03917872540797906, 0.03917872540797906, 0.03917872540797906, 0.23457231530242978, 0.23457231530242978, 0.11728615765121489, 0.11728615765121489, 0.11728615765121489, 0.11728615765121489, 0.8565007699386223, 0.23561429406410622, 0.7068428821923187, 0.719432158439404, 0.48560697191026664, 0.741622997743482, 0.8565173569227238, 0.30354877032138294, 0.30354877032138294, 0.28791591978153613, 0.28791591978153613, 0.28791591978153613, 0.6356299362162818, 0.6736101155990325, 0.3869002796675684, 0.1289667598891895, 0.1289667598891895, 0.1289667598891895, 0.5060124389179141, 0.4773149655948971, 0.23865748279744856, 0.23865748279744856, 0.46949526306689066, 0.3943383898847604, 0.3943383898847604, 0.67138432831885, 0.671393564752699, 0.7495596593731974, 0.671398416287685, 0.2942861769453951, 0.2942861769453951, 0.37362713886517784, 0.37362713886517784, 0.16230330072478913, 0.16230330072478913, 0.32460660144957826, 0.16230330072478913, 0.37710408473489004, 0.5648470473916781, 0.7471961701174642, 0.9043203851196754, 0.5744111615126701, 0.2165175606203565, 0.2165175606203565, 0.2165175606203565, 0.2165175606203565, 0.1811707808542741, 0.1811707808542741, 0.1811707808542741, 0.1811707808542741, 0.5289399119155597, 0.2945089262178014, 0.27605615981941223, 0.27605615981941223, 0.27605615981941223, 0.43734171106319397, 0.47546528523548603, 0.28990759699374963, 0.28990759699374963, 0.3769372543167123, 0.71010998755098, 0.39230029325383214, 0.39230029325383214, 0.359180742224634, 0.359180742224634, 0.3575242567535336, 0.4049608472173703, 0.4049608472173703, 0.3738879672324935, 0.3738879672324935, 0.2969433101532591, 0.14847165507662954, 0.14847165507662954, 0.14847165507662954, 0.2969433101532591, 0.8565106928690933, 0.5065785598282168, 0.5065785598282168, 0.3110087769091312, 0.3110087769091312, 0.8481677710358301, 0.4725301596461931, 0.4725301596461931, 0.5437054778324614, 0.48843195870576867, 0.4931263800406782, 0.4802859158369962, 0.4802859158369962, 0.9053014792681501, 0.3076648084802036, 0.3076648084802036, 0.6713923596519699, 0.7442538932248126, 0.7471904652109647, 0.4760206170809077, 0.4760206170809077, 0.48859362603790857, 0.2878172178890275, 0.2878172178890275, 0.14390860894451374, 0.14390860894451374, 0.14390860894451374, 0.3628106247731115, 0.582638949476781, 0.5886540506468393, 0.8520299635006279, 0.8959490050566908, 0.8959746822059284, 0.23466135066336324, 0.7039840519900897, 0.35222367034672875, 0.35222367034672875, 0.1806142521046432, 0.1806142521046432, 0.1806142521046432, 0.1806142521046432, 0.253841491608798, 0.507682983217596, 0.253841491608798, 0.27874053105451624, 0.27874053105451624, 0.27874053105451624, 0.2883333145150058, 0.2883333145150058, 0.2883333145150058, 0.27761624564946313, 0.27761624564946313, 0.5106556166993016, 0.5106556166993016], \"Term\": [\"able\", \"able\", \"able\", \"access\", \"account\", \"account\", \"account\", \"account\", \"account\", \"activities\", \"actually\", \"actually\", \"added\", \"address\", \"adopt\", \"adopt\", \"adult\", \"adults\", \"advice\", \"age\", \"age\", \"age\", \"age\", \"age\", \"ago\", \"allowed\", \"already\", \"already\", \"also\", \"also\", \"also\", \"also\", \"angry\", \"anything\", \"anything\", \"anything\", \"appreciated\", \"around\", \"ask\", \"asked\", \"asking\", \"assuming\", \"auto\", \"bad\", \"bad\", \"battle\", \"block\", \"breached\", \"breached\", \"buy\", \"buy\", \"buy\", \"buying\", \"buying\", \"cfd\", \"chat\", \"chat\", \"chat\", \"chat\", \"child\", \"children\", \"children\", \"children\", \"children\", \"children\", \"cl\", \"clearly\", \"clone\", \"code\", \"come\", \"completed\", \"condo\", \"connect\", \"could\", \"could\", \"course\", \"course\", \"create\", \"create\", \"created\", \"created\", \"created\", \"cringy\", \"crown\", \"customer\", \"date\", \"date\", \"daughter\", \"daughter\", \"day\", \"day\", \"days\", \"delete\", \"design\", \"dislike\", \"dm\", \"downlaoded\", \"driver\", \"easy\", \"easy\", \"edit\", \"effort\", \"email\", \"enabled\", \"enjoyable\", \"environment\", \"erasure\", \"etc\", \"even\", \"even\", \"even\", \"even\", \"event\", \"ever\", \"everyday\", \"experts\", \"fake\", \"fake\", \"father\", \"faze\", \"fdc\", \"feature\", \"features\", \"features\", \"figure\", \"final\", \"finished\", \"first\", \"first\", \"floor\", \"form\", \"format\", \"fps\", \"free\", \"free\", \"friend\", \"function\", \"game\", \"game\", \"game\", \"game\", \"game\", \"game\", \"game\", \"game\", \"game\", \"games\", \"games\", \"games\", \"games\", \"games\", \"gaming\", \"gaming\", \"gender\", \"get\", \"getting\", \"getting\", \"getting\", \"giving\", \"gold\", \"gonna\", \"good\", \"good\", \"good\", \"got\", \"got\", \"graphic\", \"ground\", \"guess\", \"guides\", \"guy\", \"guy\", \"half\", \"happens\", \"hate\", \"hate\", \"hear\", \"hello\", \"help\", \"hey\", \"hoping\", \"hour\", \"https\", \"id\", \"idea\", \"indoor\", \"info\", \"information\", \"invite\", \"involve\", \"keep\", \"keep\", \"kid\", \"kid\", \"kid\", \"kids\", \"kids\", \"kids\", \"kids\", \"kids\", \"kids\", \"kids\", \"kids\", \"know\", \"know\", \"know\", \"know\", \"know\", \"know\", \"lava\", \"let\", \"let\", \"let\", \"license\", \"life\", \"like\", \"like\", \"like\", \"like\", \"like\", \"like\", \"like\", \"like\", \"liked\", \"little\", \"local\", \"local\", \"lol\", \"lol\", \"looked\", \"lost\", \"love\", \"love\", \"luckily\", \"made\", \"made\", \"mainly\", \"make\", \"make\", \"make\", \"make\", \"makes\", \"many\", \"many\", \"media\", \"media\", \"mod\", \"moderate\", \"mods\", \"money\", \"money\", \"money\", \"monitor\", \"moveto\", \"much\", \"much\", \"must\", \"name\", \"name\", \"nearly\", \"needs\", \"new\", \"new\", \"new\", \"new\", \"news\", \"nextroom\", \"nextroom\", \"none\", \"nonviolent\", \"numofrooms\", \"numofrooms\", \"obbys\", \"old\", \"old\", \"one\", \"one\", \"onokqa\", \"option\", \"parent\", \"parent\", \"parent\", \"parent\", \"parental\", \"parental\", \"parental\", \"parental\", \"parents\", \"parents\", \"parents\", \"parents\", \"parents\", \"parents\", \"parents\", \"people\", \"people\", \"people\", \"people\", \"people\", \"people\", \"people\", \"percentage\", \"personally\", \"pin\", \"pin\", \"pin\", \"pins\", \"pins\", \"platform\", \"platform\", \"platform\", \"platform\", \"platform\", \"play\", \"play\", \"play\", \"play\", \"play\", \"play\", \"playing\", \"please\", \"please\", \"please\", \"please\", \"please\", \"png\", \"png\", \"point\", \"position\", \"possible\", \"pretty\", \"pretty\", \"pretty\", \"preview\", \"primarypart\", \"print\", \"profile\", \"proof\", \"ps\", \"purchases\", \"purchases\", \"question\", \"random\", \"reach\", \"reach\", \"real\", \"really\", \"really\", \"really\", \"really\", \"really\", \"recommend\", \"recommended\", \"redd\", \"refuses\", \"refuses\", \"remember\", \"request\", \"request\", \"request\", \"request\", \"reset\", \"reset\", \"responsibility\", \"right\", \"roblox\", \"roblox\", \"roblox\", \"roblox\", \"roblox\", \"roblox\", \"roblox\", \"roblox\", \"roblox\", \"robux\", \"robux\", \"robux\", \"robux\", \"robux\", \"robux\", \"rogold\", \"room\", \"room\", \"roombefore\", \"roombeforepos\", \"roombfeore\", \"ropro\", \"safe\", \"safe\", \"said\", \"said\", \"said\", \"santa\", \"school\", \"see\", \"see\", \"see\", \"see\", \"seeing\", \"seems\", \"seems\", \"seems\", \"servers\", \"set\", \"set\", \"ship\", \"sibling\", \"sims\", \"sinking\", \"snapchat\", \"snapchat\", \"snapmap\", \"snapmap\", \"something\", \"something\", \"something\", \"something\", \"soon\", \"spam\", \"speak\", \"spend\", \"started\", \"stop\", \"stop\", \"stop\", \"stop\", \"stuff\", \"stuff\", \"stuff\", \"stuff\", \"suggestions\", \"support\", \"sure\", \"sure\", \"sure\", \"tablet\", \"tags\", \"take\", \"take\", \"talk\", \"thank\", \"thing\", \"thing\", \"things\", \"things\", \"think\", \"though\", \"though\", \"thread\", \"thread\", \"time\", \"time\", \"time\", \"time\", \"time\", \"times\", \"tips\", \"tips\", \"together\", \"together\", \"ton\", \"totally\", \"totally\", \"turned\", \"understanding\", \"unique\", \"upon\", \"upon\", \"useful\", \"using\", \"using\", \"usually\", \"vector\", \"vertification\", \"voice\", \"voice\", \"wanna\", \"want\", \"want\", \"want\", \"want\", \"want\", \"wanted\", \"webp\", \"width\", \"wondering\", \"worked\", \"working\", \"workspace\", \"workspace\", \"worlds\", \"worlds\", \"would\", \"would\", \"would\", \"would\", \"year\", \"year\", \"year\", \"years\", \"years\", \"years\", \"yes\", \"yes\", \"yes\", \"young\", \"young\", \"youtube\", \"youtube\"]}, \"R\": 30, \"lambda.step\": 0.01, \"plot.opts\": {\"xlab\": \"PC1\", \"ylab\": \"PC2\"}, \"topic.order\": [2, 4, 9, 3, 10, 7, 5, 1, 6, 8]};\n",
       "\n",
       "function LDAvis_load_lib(url, callback){\n",
       "  var s = document.createElement('script');\n",
       "  s.src = url;\n",
       "  s.async = true;\n",
       "  s.onreadystatechange = s.onload = callback;\n",
       "  s.onerror = function(){console.warn(\"failed to load library \" + url);};\n",
       "  document.getElementsByTagName(\"head\")[0].appendChild(s);\n",
       "}\n",
       "\n",
       "if(typeof(LDAvis) !== \"undefined\"){\n",
       "   // already loaded: just create the visualization\n",
       "   !function(LDAvis){\n",
       "       new LDAvis(\"#\" + \"ldavis_el23151406954110019364032182152\", ldavis_el23151406954110019364032182152_data);\n",
       "   }(LDAvis);\n",
       "}else if(typeof define === \"function\" && define.amd){\n",
       "   // require.js is available: use it to load d3/LDAvis\n",
       "   require.config({paths: {d3: \"https://d3js.org/d3.v5\"}});\n",
       "   require([\"d3\"], function(d3){\n",
       "      window.d3 = d3;\n",
       "      LDAvis_load_lib(\"https://cdn.jsdelivr.net/gh/bmabey/pyLDAvis@3.4.0/pyLDAvis/js/ldavis.v3.0.0.js\", function(){\n",
       "        new LDAvis(\"#\" + \"ldavis_el23151406954110019364032182152\", ldavis_el23151406954110019364032182152_data);\n",
       "      });\n",
       "    });\n",
       "}else{\n",
       "    // require.js not available: dynamically load d3 & LDAvis\n",
       "    LDAvis_load_lib(\"https://d3js.org/d3.v5.js\", function(){\n",
       "         LDAvis_load_lib(\"https://cdn.jsdelivr.net/gh/bmabey/pyLDAvis@3.4.0/pyLDAvis/js/ldavis.v3.0.0.js\", function(){\n",
       "                 new LDAvis(\"#\" + \"ldavis_el23151406954110019364032182152\", ldavis_el23151406954110019364032182152_data);\n",
       "            })\n",
       "         });\n",
       "}\n",
       "</script>"
      ],
      "text/plain": [
       "<IPython.core.display.HTML object>"
      ]
     },
     "execution_count": 15,
     "metadata": {},
     "output_type": "execute_result"
    }
   ],
   "source": [
    "id2word = corpora.Dictionary(data_words)\n",
    "texts = data_words\n",
    "corpus = [id2word.doc2bow(text) for text in texts]\n",
    "num_topics = 10\n",
    "lda_model = gensim.models.LdaMulticore(corpus=corpus,\n",
    "                                       id2word=id2word,\n",
    "                                       num_topics=num_topics)\n",
    "\n",
    "LDAvis_data_filepath = os.path.join('./results/ldavis_prepared_'+str(num_topics))\n",
    "# # this is a bit time consuming - make the if statement True\n",
    "# # if you want to execute visualization prep yourself\n",
    "if 1 == 1:\n",
    "    LDAvis_prepared = pyLDAvis.gensim.prepare(lda_model, corpus, id2word)\n",
    "    with open(LDAvis_data_filepath, 'wb') as f:\n",
    "        pickle.dump(LDAvis_prepared, f)\n",
    "# load the pre-prepared pyLDAvis data from disk\n",
    "with open(LDAvis_data_filepath, 'rb') as f:\n",
    "    LDAvis_prepared = pickle.load(f)\n",
    "#s.makedirs('./results/ldavis_prepared_10')\n",
    "pyLDAvis.save_html(LDAvis_prepared, './results/ldavis_prepared_'+ str(num_topics) +'.html')\n",
    "LDAvis_prepared\n",
    "pyLDAvis.display(LDAvis_prepared)"
   ]
  },
  {
   "cell_type": "code",
   "execution_count": null,
   "id": "4f490f2b",
   "metadata": {},
   "outputs": [],
   "source": []
  }
 ],
 "metadata": {
  "kernelspec": {
   "display_name": "Python 3 (ipykernel)",
   "language": "python",
   "name": "python3"
  },
  "language_info": {
   "codemirror_mode": {
    "name": "ipython",
    "version": 3
   },
   "file_extension": ".py",
   "mimetype": "text/x-python",
   "name": "python",
   "nbconvert_exporter": "python",
   "pygments_lexer": "ipython3",
   "version": "3.9.5"
  }
 },
 "nbformat": 4,
 "nbformat_minor": 5
}
