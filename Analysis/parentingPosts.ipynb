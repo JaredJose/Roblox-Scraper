{
 "cells": [
  {
   "cell_type": "code",
   "execution_count": 36,
   "id": "90c45d27",
   "metadata": {},
   "outputs": [],
   "source": [
    "from collections import Counter\n",
    "import pandas as pd\n",
    "import nltk\n",
    "from nltk import ngrams\n",
    "from nltk.corpus import stopwords\n",
    "import re\n",
    "from sklearn.feature_extraction.text import  CountVectorizer, TfidfVectorizer\n",
    "#import pyLDAvis.gensim\n",
    "import gensim\n",
    "import pickle \n",
    "import pyLDAvis\n",
    "pyLDAvis.enable_notebook()\n",
    "import pyLDAvis.gensim\n",
    "import os\n",
    "import gensim.corpora as corpora\n",
    "from nltk.corpus import stopwords\n",
    "from gensim.utils import simple_preprocess"
   ]
  },
  {
   "cell_type": "code",
   "execution_count": 37,
   "id": "c2202310",
   "metadata": {},
   "outputs": [],
   "source": [
    "df = pd.read_csv('https://raw.githubusercontent.com/JaredJose/Roblox-Scraper/main/data/parentingPosts.csv?token=GHSAT0AAAAAAB6VRXEZHNIHOP56H5LSTHAYZALOLZQ')"
   ]
  },
  {
   "cell_type": "code",
   "execution_count": 38,
   "id": "fc63f94f",
   "metadata": {},
   "outputs": [
    {
     "data": {
      "text/html": [
       "<div>\n",
       "<style scoped>\n",
       "    .dataframe tbody tr th:only-of-type {\n",
       "        vertical-align: middle;\n",
       "    }\n",
       "\n",
       "    .dataframe tbody tr th {\n",
       "        vertical-align: top;\n",
       "    }\n",
       "\n",
       "    .dataframe thead th {\n",
       "        text-align: right;\n",
       "    }\n",
       "</style>\n",
       "<table border=\"1\" class=\"dataframe\">\n",
       "  <thead>\n",
       "    <tr style=\"text-align: right;\">\n",
       "      <th></th>\n",
       "      <th>url</th>\n",
       "      <th>title</th>\n",
       "      <th>author</th>\n",
       "      <th>date</th>\n",
       "      <th>timestamp</th>\n",
       "      <th>text</th>\n",
       "      <th>subreddit</th>\n",
       "      <th>score</th>\n",
       "      <th>upvote ratio</th>\n",
       "    </tr>\n",
       "  </thead>\n",
       "  <tbody>\n",
       "    <tr>\n",
       "      <th>0</th>\n",
       "      <td>https://www.reddit.com/r/Parenting/comments/zp...</td>\n",
       "      <td>Roblox is like heroin for kids</td>\n",
       "      <td>Ava_Gras77</td>\n",
       "      <td>2022-12-19</td>\n",
       "      <td>1.671421e+09</td>\n",
       "      <td>Anyone else feel like Roblox is a kid’s gatewa...</td>\n",
       "      <td>t5_2qhn3</td>\n",
       "      <td>394</td>\n",
       "      <td>0.90</td>\n",
       "    </tr>\n",
       "    <tr>\n",
       "      <th>1</th>\n",
       "      <td>https://www.reddit.com/r/Parenting/comments/yp...</td>\n",
       "      <td>Alternatives to Roblox</td>\n",
       "      <td>skysenfr</td>\n",
       "      <td>2022-11-08</td>\n",
       "      <td>1.667925e+09</td>\n",
       "      <td>Hi! So, a recent thread about 'scamming' and b...</td>\n",
       "      <td>t5_2qhn3</td>\n",
       "      <td>2</td>\n",
       "      <td>1.00</td>\n",
       "    </tr>\n",
       "    <tr>\n",
       "      <th>2</th>\n",
       "      <td>https://www.reddit.com/r/Parenting/comments/wh...</td>\n",
       "      <td>Is Roblox appropriate for my 9 yo?</td>\n",
       "      <td>Legal_Philosophy669</td>\n",
       "      <td>2022-08-06</td>\n",
       "      <td>1.659808e+09</td>\n",
       "      <td>My 9yo has been playing Roblox on their tablet...</td>\n",
       "      <td>t5_2qhn3</td>\n",
       "      <td>28</td>\n",
       "      <td>0.75</td>\n",
       "    </tr>\n",
       "    <tr>\n",
       "      <th>3</th>\n",
       "      <td>https://www.reddit.com/r/Parenting/comments/zw...</td>\n",
       "      <td>MIL bought a smartphone with SIM card for our ...</td>\n",
       "      <td>Stunning-Paper-5050</td>\n",
       "      <td>2022-12-27</td>\n",
       "      <td>1.672138e+09</td>\n",
       "      <td>So my mother in law gave our 6yr daughter a sm...</td>\n",
       "      <td>t5_2qhn3</td>\n",
       "      <td>1563</td>\n",
       "      <td>0.96</td>\n",
       "    </tr>\n",
       "    <tr>\n",
       "      <th>4</th>\n",
       "      <td>https://www.reddit.com/r/Parenting/comments/xz...</td>\n",
       "      <td>Need some non-judgmental advice. My 6 y/o spen...</td>\n",
       "      <td>jazzeriah</td>\n",
       "      <td>2022-10-09</td>\n",
       "      <td>1.665290e+09</td>\n",
       "      <td>My 6 y/o who will be 7 in December spends hour...</td>\n",
       "      <td>t5_2qhn3</td>\n",
       "      <td>1</td>\n",
       "      <td>0.57</td>\n",
       "    </tr>\n",
       "  </tbody>\n",
       "</table>\n",
       "</div>"
      ],
      "text/plain": [
       "                                                 url  \\\n",
       "0  https://www.reddit.com/r/Parenting/comments/zp...   \n",
       "1  https://www.reddit.com/r/Parenting/comments/yp...   \n",
       "2  https://www.reddit.com/r/Parenting/comments/wh...   \n",
       "3  https://www.reddit.com/r/Parenting/comments/zw...   \n",
       "4  https://www.reddit.com/r/Parenting/comments/xz...   \n",
       "\n",
       "                                               title               author  \\\n",
       "0                     Roblox is like heroin for kids           Ava_Gras77   \n",
       "1                             Alternatives to Roblox             skysenfr   \n",
       "2                 Is Roblox appropriate for my 9 yo?  Legal_Philosophy669   \n",
       "3  MIL bought a smartphone with SIM card for our ...  Stunning-Paper-5050   \n",
       "4  Need some non-judgmental advice. My 6 y/o spen...            jazzeriah   \n",
       "\n",
       "         date     timestamp  \\\n",
       "0  2022-12-19  1.671421e+09   \n",
       "1  2022-11-08  1.667925e+09   \n",
       "2  2022-08-06  1.659808e+09   \n",
       "3  2022-12-27  1.672138e+09   \n",
       "4  2022-10-09  1.665290e+09   \n",
       "\n",
       "                                                text subreddit  score  \\\n",
       "0  Anyone else feel like Roblox is a kid’s gatewa...  t5_2qhn3    394   \n",
       "1  Hi! So, a recent thread about 'scamming' and b...  t5_2qhn3      2   \n",
       "2  My 9yo has been playing Roblox on their tablet...  t5_2qhn3     28   \n",
       "3  So my mother in law gave our 6yr daughter a sm...  t5_2qhn3   1563   \n",
       "4  My 6 y/o who will be 7 in December spends hour...  t5_2qhn3      1   \n",
       "\n",
       "   upvote ratio  \n",
       "0          0.90  \n",
       "1          1.00  \n",
       "2          0.75  \n",
       "3          0.96  \n",
       "4          0.57  "
      ]
     },
     "execution_count": 38,
     "metadata": {},
     "output_type": "execute_result"
    }
   ],
   "source": [
    "df.head()"
   ]
  },
  {
   "cell_type": "code",
   "execution_count": 39,
   "id": "abae6bf3",
   "metadata": {},
   "outputs": [
    {
     "data": {
      "text/plain": [
       "0     Anyone else feel like Roblox is a kid’s gatewa...\n",
       "1     Hi! So, a recent thread about 'scamming' and b...\n",
       "2     My 9yo has been playing Roblox on their tablet...\n",
       "3     So my mother in law gave our 6yr daughter a sm...\n",
       "4     My 6 y/o who will be 7 in December spends hour...\n",
       "5     Hey all, we have a 9 and 5 year old and we use...\n",
       "6     Okay guys I desperately need advice. My son is...\n",
       "7     Hey gang,\\n\\n&#x200B;\\n\\nGot a message from he...\n",
       "8     For background Grandma (66) has always undermi...\n",
       "9     He had a bunch of limited edition cars, worth ...\n",
       "10    I’m looking for advice. My 8yo son received a ...\n",
       "11    I have a soon to be 8year old son, he has his ...\n",
       "12    so my son’s (6M) father (25M) has my son prima...\n",
       "13    My kids play roblox games all the time. I’m st...\n",
       "14    Hi! Just wanted to get some advise on how to d...\n",
       "15    My 8 year old kiddo has begun yelling at me. I...\n",
       "16    Hi, I am a Mom to an 8 year old boy. My mom ha...\n",
       "17    Husband and I were talking and our almost 8 ye...\n",
       "18    We have a 5yo little girl with ADHD. She is no...\n",
       "19    My daughter is 9, she is going through puberty...\n",
       "Name: text, dtype: object"
      ]
     },
     "execution_count": 39,
     "metadata": {},
     "output_type": "execute_result"
    }
   ],
   "source": [
    "df['text']"
   ]
  },
  {
   "cell_type": "code",
   "execution_count": 40,
   "id": "44a27f54",
   "metadata": {},
   "outputs": [],
   "source": [
    "text = \" \".join(df['text'].dropna().astype(str))\n",
    "tokens = nltk.word_tokenize(text)\n",
    "tokens = [re.sub(r'[^\\w\\s]', '', token) for token in tokens]\n",
    "stop_words = set(stopwords.words('english'))\n",
    "filtered_tokens = [token for token in tokens if token.lower() not in stop_words and token.strip() != '']\n",
    "\n",
    "\n",
    "bi_grams = ngrams(filtered_tokens, 2)"
   ]
  },
  {
   "cell_type": "code",
   "execution_count": 41,
   "id": "d9811df6",
   "metadata": {},
   "outputs": [],
   "source": [
    "bi_grams_list = list(bi_grams)\n",
    "bi_grams_list = [tuple(filter(None, bg)) for bg in bi_grams_list]\n",
    "#print(bi_grams_list)"
   ]
  },
  {
   "cell_type": "code",
   "execution_count": 42,
   "id": "0c2e5208",
   "metadata": {},
   "outputs": [
    {
     "name": "stdout",
     "output_type": "stream",
     "text": [
      "The most common bi-gram is: feel like with a frequency of 9\n"
     ]
    }
   ],
   "source": [
    "bi_grams_list1 = [' '.join(bi_gram) for bi_gram in bi_grams_list if '(' not in bi_gram and ')' not in bi_gram]\n",
    "\n",
    "freq_dist = nltk.FreqDist(bi_grams_list1)\n",
    "most_common = freq_dist.most_common(1)\n",
    "print('The most common bi-gram is:', most_common[0][0], 'with a frequency of', most_common[0][1])"
   ]
  },
  {
   "cell_type": "code",
   "execution_count": 43,
   "id": "95761871",
   "metadata": {},
   "outputs": [
    {
     "name": "stdout",
     "output_type": "stream",
     "text": [
      "time: 26\n",
      "I'm: 24\n",
      "play: 21\n",
      "told: 19\n",
      "like: 18\n",
      "Kylee: 15\n",
      "Roblox: 14\n",
      "playing: 14\n",
      "said: 13\n",
      "feel: 12\n"
     ]
    }
   ],
   "source": [
    "words = text.split()\n",
    "words = [word for word in words if word.lower() not in stop_words]\n",
    "word_counts = Counter(words)\n",
    "\n",
    "for word, count in word_counts.most_common(10):\n",
    "    print(f\"{word}: {count}\")"
   ]
  },
  {
   "cell_type": "code",
   "execution_count": 44,
   "id": "40e042ef",
   "metadata": {},
   "outputs": [
    {
     "name": "stdout",
     "output_type": "stream",
     "text": [
      "\n",
      "\n",
      "Words : \n",
      "                 term  rank\n",
      "541        feel like   9.0\n",
      "1924        year old   7.0\n",
      "1207     play roblox   7.0\n",
      "1400     screen time   6.0\n",
      "1222  playing roblox   5.0\n",
      "1804      video game   4.0\n",
      "895        let kylee   4.0\n"
     ]
    }
   ],
   "source": [
    "vectorizer = CountVectorizer(ngram_range = (2, 2))\n",
    "X1=vectorizer.fit_transform(bi_grams_list1)\n",
    "features = (vectorizer.get_feature_names_out())\n",
    "\n",
    "vectorizer = TfidfVectorizer(ngram_range = (2, 2))\n",
    "tfidf = vectorizer.fit_transform(bi_grams_list1)\n",
    "\n",
    "\n",
    "sums = tfidf.sum(axis = 0)\n",
    "data1 = []\n",
    "for col, term in enumerate(features):\n",
    "    data1.append( (term, sums[0, col] ))\n",
    "ranking = pd.DataFrame(data1, columns = ['term', 'rank'])\n",
    "words = (ranking.sort_values('rank', ascending = False))\n",
    "print (\"\\n\\nWords : \\n\", words.head(7))"
   ]
  },
  {
   "cell_type": "code",
   "execution_count": 45,
   "id": "55d0afbe",
   "metadata": {},
   "outputs": [
    {
     "name": "stdout",
     "output_type": "stream",
     "text": [
      "0     Anyone else feel like Roblox is a kid’s gatewa...\n",
      "1     Hi! So, a recent thread about 'scamming' and b...\n",
      "2     My 9yo has been playing Roblox on their tablet...\n",
      "3     So my mother in law gave our 6yr daughter a sm...\n",
      "4     My 6 y/o who will be 7 in December spends hour...\n",
      "5     Hey all, we have a 9 and 5 year old and we use...\n",
      "8     For background Grandma (66) has always undermi...\n",
      "10    I’m looking for advice. My 8yo son received a ...\n",
      "12    so my son’s (6M) father (25M) has my son prima...\n",
      "17    Husband and I were talking and our almost 8 ye...\n",
      "19    My daughter is 9, she is going through puberty...\n",
      "Name: text, dtype: object\n"
     ]
    }
   ],
   "source": [
    "df_ques = df['text'].str.endswith('?')\n",
    "df_no_na = df.dropna(subset=['text'])\n",
    "df_true = df_no_na.loc[df_ques]\n",
    "print(df_true['text'])"
   ]
  },
  {
   "cell_type": "code",
   "execution_count": 46,
   "id": "01d0d946",
   "metadata": {},
   "outputs": [
    {
     "data": {
      "text/plain": [
       "0    anyone else feel like roblox is a kid’s gatewa...\n",
       "1    hi so a recent thread about 'scamming' and bad...\n",
       "2    my 9yo has been playing roblox on their tablet...\n",
       "3    so my mother in law gave our 6yr daughter a sm...\n",
       "4    my 6 y/o who will be 7 in december spends hour...\n",
       "Name: text_processed, dtype: object"
      ]
     },
     "execution_count": 46,
     "metadata": {},
     "output_type": "execute_result"
    }
   ],
   "source": [
    "df['text_processed'] = df['text'].apply(lambda x: re.sub('[,.!?]', '', x) if isinstance(x, str) else x)\n",
    "df['text_processed'] = df['text_processed'].apply(lambda x: x.lower() if isinstance(x, str) else x)\n",
    "\n",
    "df['text_processed'].head()"
   ]
  },
  {
   "cell_type": "code",
   "execution_count": 47,
   "id": "697b7de1",
   "metadata": {},
   "outputs": [
    {
     "name": "stdout",
     "output_type": "stream",
     "text": [
      "['anyone', 'else', 'feel', 'like', 'roblox', 'kid', 'gateway', 'drug', 'believe', 'negative', 'effect', 'game', 'center', 'kids', 'life', 'feel', 'like', 'need', 'send', 'poor', 'kid', 'rehab', 'worry', 'look', 'forward', 'drugs', 'future', 'anyone', 'experience', 'roblox']\n"
     ]
    }
   ],
   "source": [
    "stop_words = stopwords.words('english')\n",
    "stop_words.extend(['from', 'subject', 're', 'edu', 'use'])\n",
    "def sent_to_words(sentences):\n",
    "    for sentence in sentences:\n",
    "        # deacc=True removes punctuations\n",
    "        yield(gensim.utils.simple_preprocess(str(sentence), deacc=True))\n",
    "def remove_stopwords(texts):\n",
    "    return [[word for word in simple_preprocess(str(doc)) \n",
    "             if word not in stop_words] for doc in texts]\n",
    "data = df.text.values.tolist()\n",
    "data_words = list(sent_to_words(data))\n",
    "# remove stop words\n",
    "data_words = remove_stopwords(data_words)\n",
    "print(data_words[:1][0][:30])"
   ]
  },
  {
   "cell_type": "code",
   "execution_count": 48,
   "id": "426ee2b4",
   "metadata": {},
   "outputs": [
    {
     "name": "stderr",
     "output_type": "stream",
     "text": [
      "/home/zhz094/.local/lib/python3.9/site-packages/pyLDAvis/_prepare.py:243: FutureWarning: In a future version of pandas all arguments of DataFrame.drop except for the argument 'labels' will be keyword-only.\n",
      "  default_term_info = default_term_info.sort_values(\n"
     ]
    },
    {
     "data": {
      "text/html": [
       "\n",
       "<link rel=\"stylesheet\" type=\"text/css\" href=\"https://cdn.jsdelivr.net/gh/bmabey/pyLDAvis@3.4.0/pyLDAvis/js/ldavis.v1.0.0.css\">\n",
       "\n",
       "\n",
       "<div id=\"ldavis_el8121397825559585127756635937\" style=\"background-color:white;\"></div>\n",
       "<script type=\"text/javascript\">\n",
       "\n",
       "var ldavis_el8121397825559585127756635937_data = {\"mdsDat\": {\"x\": [0.03812399920786591, -0.0579900101717686, 0.04071211578288622, -0.02456819952947479, -0.07102339608795705, 0.06067909548013925, -0.0031455295459124006, 0.011059578061212078, -0.008829280937016088, 0.014981627740025436], \"y\": [-0.06239012936384247, 0.023105950199418027, 0.0303476066207144, -0.03728818722083592, -0.026835205226525997, 0.0015443207931506164, 0.037969921762916505, -0.005990201306038204, 0.035253028809613576, 0.004282894931429543], \"topics\": [1, 2, 3, 4, 5, 6, 7, 8, 9, 10], \"cluster\": [1, 1, 1, 1, 1, 1, 1, 1, 1, 1], \"Freq\": [27.07999183931143, 19.20039809277078, 18.343570416697357, 13.20044936313701, 7.785051482222709, 7.438334776084357, 2.7184148099685137, 2.462338798732046, 1.674625670156097, 0.09682475091970459]}, \"tinfo\": {\"Term\": [\"grandma\", \"roblox\", \"like\", \"play\", \"kid\", \"card\", \"time\", \"kylee\", \"daughter\", \"feel\", \"told\", \"phone\", \"playing\", \"said\", \"husband\", \"anyone\", \"etc\", \"game\", \"even\", \"year\", \"get\", \"day\", \"bad\", \"say\", \"think\", \"talk\", \"old\", \"let\", \"know\", \"son\", \"trading\", \"awesome\", \"garbage\", \"learning\", \"necessity\", \"super\", \"immediately\", \"trade\", \"ended\", \"tough\", \"bunch\", \"crying\", \"lesson\", \"mistake\", \"dollars\", \"imo\", \"cars\", \"learn\", \"promised\", \"scammer\", \"millions\", \"unfriended\", \"edition\", \"instead\", \"made\", \"left\", \"stuff\", \"lo\", \"teacher\", \"overall\", \"youtube\", \"time\", \"videos\", \"kylee\", \"much\", \"watching\", \"screen\", \"grandma\", \"help\", \"playing\", \"worth\", \"card\", \"told\", \"get\", \"kids\", \"upset\", \"roblox\", \"said\", \"getting\", \"game\", \"hate\", \"would\", \"play\", \"device\", \"etc\", \"even\", \"also\", \"husband\", \"like\", \"let\", \"workers\", \"telling\", \"co\", \"thread\", \"sense\", \"act\", \"care\", \"turns\", \"physical\", \"rational\", \"horrible\", \"kiddo\", \"begun\", \"favorite\", \"yesterday\", \"south\", \"resource\", \"taken\", \"multiplayer\", \"option\", \"behaviour\", \"obby\", \"figure\", \"alternatives\", \"scamming\", \"controls\", \"particularly\", \"discipline\", \"love\", \"video\", \"tell\", \"like\", \"back\", \"without\", \"kid\", \"game\", \"really\", \"old\", \"room\", \"yt\", \"year\", \"bad\", \"rude\", \"told\", \"want\", \"going\", \"mom\", \"need\", \"speak\", \"something\", \"talk\", \"grandma\", \"anything\", \"kylee\", \"time\", \"says\", \"roblox\", \"card\", \"trying\", \"play\", \"feel\", \"playing\", \"park\", \"plays\", \"active\", \"mind\", \"think\", \"autism\", \"pm\", \"chores\", \"task\", \"keep\", \"childhood\", \"terrible\", \"honestly\", \"due\", \"stayed\", \"interactive\", \"heat\", \"piano\", \"taking\", \"business\", \"processing\", \"besides\", \"escape\", \"relax\", \"primarily\", \"yet\", \"summer\", \"kind\", \"couple\", \"clothing\", \"therapist\", \"live\", \"etc\", \"times\", \"fun\", \"loves\", \"school\", \"time\", \"toys\", \"roblox\", \"medication\", \"long\", \"play\", \"letting\", \"tablet\", \"playing\", \"son\", \"things\", \"husband\", \"talk\", \"year\", \"away\", \"day\", \"told\", \"something\", \"daughter\", \"room\", \"feel\", \"even\", \"also\", \"get\", \"like\", \"trying\", \"said\", \"game\", \"games\", \"phone\", \"gamers\", \"grandma\", \"charged\", \"cancel\", \"allowed\", \"leads\", \"subscription\", \"factors\", \"wanted\", \"ck\", \"permission\", \"anytime\", \"debit\", \"add\", \"messages\", \"homeschooled\", \"kylee\", \"budget\", \"trial\", \"two\", \"monthly\", \"schooling\", \"discord\", \"led\", \"accept\", \"half\", \"iphone\", \"plainly\", \"enough\", \"cancels\", \"card\", \"money\", \"pay\", \"yes\", \"would\", \"said\", \"bad\", \"idea\", \"phone\", \"make\", \"charges\", \"month\", \"could\", \"get\", \"told\", \"want\", \"even\", \"got\", \"time\", \"put\", \"gets\", \"talk\", \"let\", \"say\", \"play\", \"comes\", \"back\", \"husband\", \"playing\", \"also\", \"roblox\", \"know\", \"kid\", \"online\", \"activated\", \"account\", \"tools\", \"daily\", \"nervous\", \"inside\", \"pe\", \"class\", \"security\", \"pov\", \"text\", \"received\", \"sender\", \"words\", \"led\", \"discord\", \"friends\", \"gamers\", \"sexual\", \"looking\", \"upcoming\", \"stuffs\", \"curious\", \"trolling\", \"mum\", \"shame\", \"socialize\", \"totally\", \"status\", \"hearing\", \"everything\", \"seeing\", \"saying\", \"got\", \"might\", \"say\", \"control\", \"happened\", \"know\", \"advice\", \"let\", \"bad\", \"roblox\", \"play\", \"want\", \"school\", \"talk\", \"son\", \"kid\", \"yt\", \"games\", \"time\", \"card\", \"said\", \"told\", \"grandma\", \"like\", \"kylee\", \"chat\", \"fetish\", \"characters\", \"creepy\", \"plus\", \"pedophiles\", \"inflation\", \"running\", \"blocks\", \"described\", \"nephew\", \"sized\", \"visit\", \"safe\", \"block\", \"larger\", \"people\", \"found\", \"pop\", \"yo\", \"came\", \"tablet\", \"approach\", \"stressful\", \"almost\", \"anyone\", \"vary\", \"transition\", \"post\", \"meltdowns\", \"laptop\", \"talking\", \"every\", \"anything\", \"starting\", \"way\", \"time\", \"roblox\", \"playing\", \"like\", \"play\", \"game\", \"make\", \"things\", \"youtube\", \"advice\", \"help\", \"also\", \"much\", \"games\", \"know\", \"child\", \"want\", \"day\", \"old\", \"kids\", \"say\", \"pm\", \"autism\", \"obsessing\", \"disagreeing\", \"mind\", \"hubby\", \"hated\", \"branch\", \"think\", \"plays\", \"studies\", \"agree\", \"numbing\", \"part\", \"couple\", \"smart\", \"kind\", \"summer\", \"gave\", \"brain\", \"cartoons\", \"chores\", \"internet\", \"answer\", \"relax\", \"escape\", \"besides\", \"netflix\", \"sim\", \"mother\", \"effect\", \"loves\", \"tv\", \"fun\", \"roblox\", \"phone\", \"year\", \"something\", \"many\", \"talking\", \"old\", \"feel\", \"school\", \"play\", \"daughter\", \"like\", \"game\", \"times\", \"playing\", \"husband\", \"wrong\", \"grandma\", \"time\", \"talk\", \"card\", \"yt\", \"told\", \"said\", \"things\", \"tell\", \"kid\", \"kylee\", \"gave\", \"internet\", \"smart\", \"development\", \"ipad\", \"lighthouse\", \"mention\", \"yr\", \"wife\", \"mas\", \"mother\", \"tracked\", \"cartoons\", \"associated\", \"law\", \"discuss\", \"sim\", \"answer\", \"monitor\", \"netflix\", \"brain\", \"access\", \"pissed\", \"effect\", \"dangers\", \"around\", \"daughter\", \"many\", \"minecraft\", \"app\", \"phone\", \"card\", \"grandma\", \"day\", \"play\", \"time\", \"said\", \"roblox\", \"already\", \"watch\", \"wrong\", \"asked\", \"told\", \"one\", \"forward\", \"negative\", \"drugs\", \"send\", \"drug\", \"life\", \"gateway\", \"believe\", \"center\", \"look\", \"poor\", \"future\", \"rehab\", \"withdrawal\", \"worry\", \"experience\", \"effect\", \"else\", \"anyone\", \"feel\", \"kid\", \"huge\", \"scream\", \"drs\", \"dresser\", \"due\", \"appointment\", \"walls\", \"past\", \"keeping\", \"need\", \"task\", \"like\", \"chores\", \"nothing\", \"year\", \"yadda\", \"yt\", \"roblox\", \"kids\", \"old\", \"room\", \"told\", \"time\", \"talk\", \"game\", \"tell\", \"yet\", \"active\", \"processing\", \"terrible\", \"primarily\", \"interactive\", \"business\", \"park\", \"piano\", \"honestly\", \"heat\", \"taking\", \"childhood\", \"due\", \"trauma\", \"stayed\", \"rules\", \"mostly\", \"majority\", \"dr\", \"trigger\", \"past\", \"huge\", \"able\", \"top\", \"fight\", \"shoved\", \"floored\", \"live\", \"difficult\", \"girl\", \"dad\", \"long\", \"toys\", \"nobody\", \"afford\", \"days\", \"nothing\", \"parent\", \"husband\", \"right\", \"even\", \"daughter\", \"playing\", \"told\", \"play\", \"said\", \"upset\", \"time\", \"get\", \"grandma\", \"bed\", \"son\", \"etc\", \"day\", \"make\", \"roblox\", \"kylee\", \"let\"], \"Freq\": [17.0, 20.0, 14.0, 15.0, 9.0, 12.0, 29.0, 14.0, 6.0, 8.0, 15.0, 8.0, 14.0, 10.0, 7.0, 5.0, 7.0, 12.0, 7.0, 7.0, 9.0, 5.0, 8.0, 6.0, 3.0, 9.0, 7.0, 8.0, 8.0, 6.0, 2.255406933408594, 1.1814742897690897, 1.1814692980595582, 1.1814657142680998, 1.1814649463127873, 1.1814539389533079, 1.181449971184193, 1.1814465153852867, 1.1814435715565887, 1.1814344840853905, 1.181430644308828, 1.1814312842715884, 1.181429236390755, 1.1814275724875778, 1.1814241166886714, 1.1814138772845046, 1.1814102934930462, 1.181410037507942, 1.181396854275077, 1.1813960863197643, 1.181395574349556, 1.18138354304966, 1.181364856137055, 2.386350993746903, 1.4618080570897516, 1.4576913046444195, 2.09570806631838, 3.193137454677496, 2.5770675759099246, 2.024019181909247, 4.457445068358502, 11.406578488861447, 3.6480695740842894, 5.861103549184007, 3.2222004674948277, 2.725305477916045, 3.0171323364513754, 6.5127776281358765, 3.058576836787412, 5.348449860607146, 2.2140696908312063, 4.579628806461756, 5.1169773780383165, 3.5962750840162747, 2.624992851128344, 2.6387753451221956, 5.75975239082867, 3.8503093257117196, 2.550474563362772, 3.6843595583626714, 1.5252195351628546, 2.470048907348168, 3.923819544137053, 1.738021232188519, 2.503305724127188, 2.4143319575288897, 2.5287524353778483, 2.456187825927335, 2.4909887448547345, 2.370895381112168, 1.295220881948587, 1.2959663928022664, 1.2919490739379105, 2.1269561687904077, 1.2897287856182362, 1.2908451915247445, 1.2876979831978297, 1.2887102081597215, 1.284977753393929, 1.2799648168088524, 1.2814301562798645, 1.2772610127462198, 1.2740740559404355, 1.2623541534208442, 1.2483979905900695, 1.2372067972894116, 1.2069078386466185, 1.6548515062656173, 1.1661092920855036, 1.1625720404659392, 1.1498542514768337, 1.115053732227112, 1.1007106116020475, 1.0977717651643657, 1.0926816911202961, 1.0866320270863534, 1.0862505142891692, 1.5782647179798632, 1.0763765565382566, 2.788234550748697, 4.524864468540154, 6.119827540643017, 4.166144792238855, 2.04570483298437, 3.8600288699729135, 4.515833759340962, 2.9766621240788544, 2.867865455416171, 3.2494156415805593, 2.818399471712746, 2.921343857486557, 2.8198616349354464, 1.9179127474198259, 3.3683590623491355, 2.629475677646384, 2.2965928756099636, 2.123759955489544, 1.8566240415014694, 1.621053683232853, 2.0831789365627897, 2.335278672544236, 2.9608759884709106, 1.8280677541822563, 2.7277943568792637, 3.2854887474037624, 1.620117143730726, 2.901662370949418, 2.339282923415539, 1.7775089595597795, 2.0994957778886056, 1.877089244621978, 1.863518133836506, 1.1900498193116933, 1.115196518128846, 1.0502923236556547, 1.019651003202102, 2.0239083879689606, 0.9475614439221565, 0.9405389887692452, 1.9212803346588037, 1.3235632541055087, 1.3653120824847877, 0.6562100562011924, 0.6462663249032118, 0.6443493837395778, 0.9136892409510631, 0.6304563288135883, 0.6196896393281263, 0.6190769724474017, 0.6174838564871225, 0.6174410699441892, 0.6102385385001488, 0.6050670023174701, 0.6182086700614318, 0.6177953269136424, 0.6143978933343496, 0.5901983968725657, 0.5820205750101751, 0.5811833112916218, 0.5694554635185051, 0.5651108737319703, 0.884564220090943, 0.8684237662335587, 1.222990688859912, 2.990832584947399, 1.1235212968104296, 1.3799491550767984, 1.195989649213121, 1.8198144106728142, 7.22948826659119, 1.3350016966500315, 5.166931362276889, 1.146782870635027, 1.2971721502835103, 3.9051755453183534, 1.2896624400722714, 1.8222130580827238, 3.402953953683145, 1.9993320057885737, 2.00431206460536, 2.123774173279417, 2.2841086581290826, 2.0602357668727445, 1.8309491424576714, 1.6494091787492875, 2.6315456173690146, 1.6541924281385996, 1.6597048261116367, 1.830452523779006, 1.7872092442537493, 1.6927636079159634, 1.7387549366100368, 1.7913375604205335, 2.009142999098245, 1.4779359739061027, 1.7435551792362585, 1.738347272324582, 1.5369498442853937, 1.5083254303126017, 0.6318464797455302, 6.221777434462498, 0.7153562128572949, 0.7117883593816039, 0.7178016446484937, 0.7393969380318459, 1.236380490530346, 0.3698003854040062, 1.1117753369991212, 0.3610414720182392, 0.67321255415428, 0.42518939987680443, 0.6730251303221392, 0.6617205533254882, 0.34892658642640534, 0.3489506071239334, 4.209415485302347, 0.41399397667320614, 0.6630043816190843, 0.5779318057738654, 0.6470249401435215, 0.3353103448476467, 0.48528750052356406, 0.4820088312895419, 0.3960930665696666, 0.6296326449133549, 0.631138274712697, 0.32226086694770556, 0.32122105150614105, 0.6299172121897846, 3.3318052630453967, 0.8465332420579249, 1.0509257316725558, 1.316296914466182, 1.5171664724290705, 2.4594731055367127, 2.007379494970037, 0.7457321630370336, 1.8096307559431293, 1.326445128844691, 0.6089573130496156, 0.7528198909847814, 0.9600859423294097, 1.7508325805768807, 2.424734310380238, 1.577593937393364, 1.3156331945173423, 1.101703988852702, 2.7456041605710926, 1.0211810579021383, 0.9581532432454457, 1.404173360822856, 1.3335013491242529, 1.1802278362461336, 1.6504803454469419, 1.0444423894311823, 1.1829604557534923, 1.0796785690050426, 1.2496577595125595, 1.0557292472639423, 1.2007452554204092, 0.9993839906595506, 1.0088762840169887, 1.193438062503538, 0.4996169974086046, 0.49961342822086313, 0.49961140445461794, 0.4996091231181234, 0.49960636343688003, 0.4996048548111336, 0.49960474442388386, 0.4995966125631533, 0.4995956926694055, 0.4995919762986644, 0.499586272957428, 0.4995809743694407, 0.4995782514839472, 0.7429568952677427, 0.7289859905751348, 0.7271236840805859, 1.5563704396500853, 0.6490140341247775, 0.3998317806861034, 0.9537877112838313, 0.39076218026903087, 0.38993276727026327, 0.3901322738262864, 0.38841549452263974, 0.3863271517363811, 0.3861482508003087, 0.38536751857867474, 0.3823540938438772, 0.3817240402181331, 0.5837446290582793, 0.5881731447431946, 0.850742464710622, 1.0719022156845233, 1.6597953447708873, 1.1643538922665526, 1.8770292100036718, 0.5577993202675418, 0.5504419732768767, 1.7024656097479, 1.298816380395671, 1.5171723688177734, 1.4972145012484752, 2.44474597835776, 2.068962464779928, 1.4341586549051863, 1.0028577874515479, 1.2901102116004797, 1.1300450934995547, 1.3055009906906938, 1.0400802944710816, 0.8938963730244789, 1.1922114393844696, 0.9386276415455658, 0.8726872291836714, 0.9020784967494226, 0.9141034950036815, 0.7694192947319943, 0.7505101060351895, 0.6239830765676129, 0.6214467797989482, 0.61393928229993, 0.6119775213327889, 0.6115135894739647, 0.6091655233185272, 0.6070164458203302, 0.605951751033074, 0.6048330550837115, 0.6019657199410935, 0.6008007573710723, 0.598490309212675, 0.5947252750640538, 0.6896285205090714, 0.7507943289861722, 0.6243436468270931, 0.6858916822797271, 0.7144419841828785, 0.6149515228333694, 0.6098519990290002, 0.6572752148901928, 1.4265273239007141, 0.3249880289060826, 0.3222490168374801, 0.6480684386351567, 1.3433822689922263, 0.3191525283259763, 0.3182268794997424, 0.3177454042946349, 0.5003590880515458, 0.8332567051408974, 0.6523806564341826, 0.9032033275813159, 0.893432070428638, 0.48151451064080797, 0.6838367552451502, 2.1778918995336074, 1.746739589876019, 1.3886920565598937, 1.191619315549989, 1.1961171623437552, 1.0764368055697338, 0.8484908689179512, 0.8708320918890817, 0.8995983281266451, 0.8162592768558511, 0.8239262465367144, 0.8231999730947933, 0.7861662855039873, 0.7776334690650819, 0.7431796729310992, 0.6957823326267493, 0.738259449860286, 0.6998110443247174, 0.7065448767369453, 0.6967901433773598, 0.6986013620423269, 0.22916032324518382, 0.2274600576248623, 0.13961274788805944, 0.13501651100434922, 0.21014439949636324, 0.13112650390698394, 0.12405273234708249, 0.1221743995832731, 0.37662857017305584, 0.18718170404667572, 0.118565016230833, 0.11513714341566493, 0.11507644717597688, 0.1146610813765198, 0.1124798841415151, 0.12736666480375064, 0.11143107521909855, 0.10861024189171659, 0.14636679776540426, 0.08568480062216781, 0.08026207856359444, 0.3039493972070171, 0.11084022482149172, 0.07967548743852289, 0.10063245740287118, 0.09982027901524185, 0.09971546750481525, 0.07747779917395856, 0.07674178660107749, 0.0741532731420104, 0.1506839527223016, 0.20153952546002954, 0.14240564861064, 0.22046398084933716, 0.9515365428015928, 0.43031986763143387, 0.3932498576661905, 0.3217316223447863, 0.15785760839891236, 0.1965068255656921, 0.338152601968163, 0.37574862887939037, 0.25111851134621527, 0.4624471170922247, 0.28323758917101083, 0.3992490462442313, 0.3525569605915401, 0.1659373006407395, 0.36028820193998456, 0.2557779627725303, 0.21546890131694016, 0.32814820678279866, 0.381497400499023, 0.25319271925270975, 0.2781020500085821, 0.2319062242123074, 0.29044653963390926, 0.2606420134623492, 0.22619355683347145, 0.2329015191977424, 0.23182625524621542, 0.22705890224900704, 0.5915213010395652, 0.39440645410416914, 0.34440961027916106, 0.2147448763013808, 0.21262971223403443, 0.20642094502684072, 0.20884717358705637, 0.21086597376630944, 0.20933681386481737, 0.20339288441576991, 0.19984755455709108, 0.19846875956310692, 0.19318776245627808, 0.19758309629210452, 0.1991720297357762, 0.19568863811531384, 0.1902948324134019, 0.18888440492571754, 0.19035793446669197, 0.18697751720394093, 0.1681934371728331, 0.22237435912150944, 0.2113564985435264, 0.19868532227200064, 0.2268422451890235, 0.21186473658616337, 0.5810940300588264, 0.2002228150894196, 0.18771555053285835, 0.22593695999588034, 0.5730151051335787, 0.44608133305488296, 0.3995124367002314, 0.26921239935007957, 0.34860744469699917, 0.3554863133472648, 0.29071369662425284, 0.30334355746066616, 0.22880641588872222, 0.23357908184770818, 0.23838051731531326, 0.23293372311310076, 0.2608116562806825, 0.22611248658527927, 0.14104383469974324, 0.13774480829242983, 0.13724872433185176, 0.134516969885969, 0.13498975192587662, 0.13232735710323953, 0.1305153161689282, 0.1293770600854709, 0.12978630798230043, 0.12791817305621206, 0.12649419933268605, 0.12765164942348908, 0.1243082353901159, 0.12020047245143507, 0.15006400502525677, 0.13725915637378236, 0.15035730528760888, 0.13634349537015364, 0.26870147581954607, 0.39178779299934097, 0.4339407458706763, 0.04850307451643727, 0.04761204516264771, 0.04687095464521036, 0.04505826071889653, 0.06381958369121171, 0.04308435691851489, 0.043179001183602204, 0.04185601168387852, 0.04173575825971198, 0.15506337511671117, 0.08501175447961043, 0.3762477864285163, 0.10565188187158185, 0.09495238233182546, 0.18453870592381977, 0.08330183357943301, 0.15258798928853096, 0.291342679394257, 0.13165471202024437, 0.14014066365223476, 0.14679982068818498, 0.186404680040009, 0.22782940040006505, 0.14842525629582282, 0.15235425772691455, 0.13149634760829648, 0.004261429533892459, 0.005528168338801959, 0.0037947609061127438, 0.0038524535618592315, 0.003701415465011078, 0.0037715352943554895, 0.0036567472011112814, 0.0056110407227212096, 0.0036543185135662925, 0.0036775937791013176, 0.003589203190091153, 0.0035753182090361795, 0.0033566065894710378, 0.004743985082366408, 0.004994040591944756, 0.0030357274025278914, 0.00444735615979277, 0.004641648417560879, 0.004218192305597182, 0.0025301272383253374, 0.002707581831405484, 0.002417830071462772, 0.0023552155135971283, 0.004026963479980224, 0.0025681668373023154, 0.0025852797715509167, 0.002386182538301629, 0.0025372075924523963, 0.005272744729562273, 0.002304887634308434, 0.0025495748154061907, 0.0037883207882539044, 0.005576956264521991, 0.005389809116729371, 0.003565100285320192, 0.0036562000942787897, 0.006373512693211899, 0.0048513681269644, 0.004999248975767918, 0.008482047781203601, 0.004850011228797659, 0.007539319325887109, 0.006627667270877766, 0.00912265565188882, 0.009201205640130206, 0.00867299561677861, 0.007098878876094661, 0.005450763362099589, 0.007845866190136837, 0.00596699103647993, 0.006753086764227052, 0.004774155816072552, 0.0051857833456026075, 0.0050281369487451, 0.004744738812983819, 0.004780792489669204, 0.005298573846773351, 0.00503795970161219, 0.004720011689292306], \"Total\": [17.0, 20.0, 14.0, 15.0, 9.0, 12.0, 29.0, 14.0, 6.0, 8.0, 15.0, 8.0, 14.0, 10.0, 7.0, 5.0, 7.0, 12.0, 7.0, 7.0, 9.0, 5.0, 8.0, 6.0, 3.0, 9.0, 7.0, 8.0, 8.0, 6.0, 2.724542311374448, 1.6506045127950928, 1.6505992282464093, 1.650595935256812, 1.6505952165854652, 1.650584369371348, 1.650580427417876, 1.6505770195248846, 1.6505740498987904, 1.6505655561205603, 1.6505613623764104, 1.650562479235707, 1.6505600683884674, 1.650558705285182, 1.650555493379887, 1.6505456071606206, 1.6505417859987208, 1.6505419220155801, 1.650528492500978, 1.6505276220832434, 1.6505270915884556, 1.6505153681918192, 1.6504965230882727, 3.5050230831532594, 2.351037347965069, 2.366895623041774, 3.406547774612055, 5.296667634486988, 4.355230222337009, 3.4470199953355314, 8.23188750312049, 29.009921982782057, 7.4165681517200746, 14.210904809080946, 6.52259112648848, 5.187689932236182, 6.000182791344148, 17.599030508951547, 6.372971785327293, 14.51961390427418, 4.085146624397987, 12.240568435124107, 15.594054399243502, 9.533899106012948, 5.817496398726992, 5.868068492347104, 20.772098301212452, 10.866742223199589, 5.925261659692926, 12.380210000624343, 2.6011311115939804, 6.189639885201773, 15.774621644762515, 3.3306587053095225, 7.266577523216083, 7.138035137167751, 8.023255761907935, 7.494337151244133, 14.386092248207296, 8.56481633263739, 1.767104265350761, 1.7687679412862702, 1.763657237923603, 2.907006053047744, 1.763021321980891, 1.7647165499602893, 1.7605863072875578, 1.7636110174678816, 1.75901462167343, 1.7554716476118315, 1.7581432058207123, 1.7540895549665978, 1.7499026588926687, 1.7404836013867022, 1.7284869755916392, 1.7211700332946744, 1.7682586383599874, 2.4772299484340636, 1.754957707733734, 1.7538248442235902, 1.749634226526595, 1.7382461445141717, 1.7335969786219554, 1.7326339025505568, 1.730988627681008, 1.729000239382331, 1.7288530859761477, 2.5146086462394655, 1.7256151872558887, 4.98112002941587, 8.82893358254753, 14.386092248207296, 9.06562746573384, 3.912318698606709, 9.431931303278443, 12.380210000624343, 7.023330117853253, 7.057929178271891, 8.651540335592856, 7.063726813880822, 7.729599419860803, 8.625937428519153, 4.180131012017049, 15.594054399243502, 8.97328223159236, 7.10933550354261, 5.918949407367971, 4.3779849286028725, 3.1333056516652626, 6.247424286234964, 9.022769349919306, 17.599030508951547, 4.637646788379847, 14.210904809080946, 29.009921982782057, 3.4319988588470225, 20.772098301212452, 12.240568435124107, 5.162789288075819, 15.774621644762515, 8.29534591599446, 14.51961390427418, 1.7774743251332135, 1.7721261245842665, 1.6708622917836007, 1.6995431650225101, 3.488038556999573, 1.6447699373433626, 1.639446993277632, 3.443515204621714, 2.3924997972909057, 2.4685294593314904, 1.193913402208353, 1.180570328290145, 1.1809666317531438, 1.6887067641566191, 1.1779592943998465, 1.161143793035641, 1.162324763447196, 1.1609470311920191, 1.1616528782088078, 1.1549582763878186, 1.1490342193097207, 1.1876702193176643, 1.1873613869078516, 1.1847762261421044, 1.1392322684493865, 1.1264383026328608, 1.1595399149822692, 1.1506325979462764, 1.147336479139953, 1.8084200016792051, 1.8032063052991603, 2.5964564160716512, 7.266577523216083, 2.4947564907154427, 3.253152185595189, 2.7367480287281727, 4.827744553723908, 29.009921982782057, 3.3238132397539477, 20.772098301212452, 2.754000130211778, 3.2996232073273544, 15.774621644762515, 3.296368921582537, 5.518855140245965, 14.51961390427418, 6.704781151791531, 6.779477551238829, 7.494337151244133, 9.022769349919306, 7.729599419860803, 6.4476178214745365, 5.595317500931822, 15.594054399243502, 6.247424286234964, 6.559051606675632, 8.651540335592856, 8.29534591599446, 7.138035137167751, 8.023255761907935, 9.533899106012948, 14.386092248207296, 5.162789288075819, 10.866742223199589, 12.380210000624343, 6.928980286704382, 8.506232124175408, 1.7317071805165496, 17.599030508951547, 2.126503834132889, 2.1575519277913995, 2.209291824274802, 2.2760504184161467, 3.8140122024094096, 1.1597300209911976, 3.536441433588633, 1.1553824577836975, 2.1660164610483563, 1.3886635946146728, 2.2087246934367637, 2.1799368266942976, 1.1498599231751847, 1.1499660033419756, 14.210904809080946, 1.4000759711600699, 2.2487102423742598, 1.9642551074725294, 2.2060771297898247, 1.1436097894650794, 1.6638550164837347, 1.662410244491244, 1.3785465140711055, 2.1957310458673924, 2.2204355070492965, 1.1381885816772215, 1.1374540003501377, 2.232347718095471, 12.240568435124107, 3.08522839981666, 3.8912991397813714, 5.204405502165062, 6.189639885201773, 10.866742223199589, 8.625937428519153, 2.7978719307274487, 8.506232124175408, 6.048495805627342, 2.247024221791381, 2.990531043153868, 4.173141708703068, 9.533899106012948, 15.594054399243502, 8.97328223159236, 7.138035137167751, 5.500343641640961, 29.009921982782057, 4.986094077184413, 4.444803039755079, 9.022769349919306, 8.56481633263739, 6.834805671300014, 15.774621644762515, 5.754766787334465, 9.06562746573384, 7.494337151244133, 14.51961390427418, 8.023255761907935, 20.772098301212452, 8.002687467223131, 9.431931303278443, 2.1031877112850244, 1.030742846027653, 1.030739323044624, 1.03073745089095, 1.0307351692631852, 1.0307325434667298, 1.0307307421995657, 1.030730800954823, 1.0307232210266877, 1.0307222632636035, 1.0307186177830272, 1.0307132738393947, 1.0307085661378363, 1.0307054855285414, 1.6518410153969207, 1.662410244491244, 1.6638550164837347, 4.104112866266529, 1.7317071805165496, 1.1073927435097366, 2.656118921961042, 1.1175342338811025, 1.1165904632418124, 1.118441985343875, 1.119836804709548, 1.1198688558691714, 1.1217368365635179, 1.1198975027332483, 1.1249881101057446, 1.1237631875032845, 1.7315626836217437, 1.7517608007857006, 2.5793549655128083, 3.3568383619720037, 5.500343641640961, 3.8151690104733125, 6.834805671300014, 1.7046375032967889, 1.7208239725056946, 8.002687467223131, 5.95887234661931, 8.56481633263739, 8.625937428519153, 20.772098301212452, 15.774621644762515, 8.97328223159236, 4.827744553723908, 9.022769349919306, 6.704781151791531, 9.431931303278443, 7.063726813880822, 6.928980286704382, 29.009921982782057, 12.240568435124107, 10.866742223199589, 15.594054399243502, 17.599030508951547, 14.386092248207296, 14.210904809080946, 1.1543801035069052, 1.1527088254496893, 1.1477723387880325, 1.1464824183041307, 1.1461723026502302, 1.1446212406927017, 1.1432069069583644, 1.1425081462924582, 1.1417638392434617, 1.1398792787177912, 1.1391118870051007, 1.1375869526973, 1.1351057450674191, 1.751033321310694, 2.0697079537506156, 1.8296965262296825, 2.1559919498153213, 2.4797318582619354, 2.261958741371499, 2.25679789816085, 2.5238379359897234, 5.518855140245965, 1.2963730018739366, 1.2946398855667995, 2.633811376056109, 5.508996713047481, 1.322640516140997, 1.3244417805172584, 1.3237434084945505, 2.0925563137998298, 3.7801331472662527, 3.135348917562752, 4.652262446886196, 4.637646788379847, 2.2311204635843254, 3.718199469258629, 29.009921982782057, 20.772098301212452, 14.51961390427418, 14.386092248207296, 15.774621644762515, 12.380210000624343, 6.048495805627342, 6.779477551238829, 8.23188750312049, 5.95887234661931, 6.372971785327293, 8.023255761907935, 6.52259112648848, 6.928980286704382, 8.002687467223131, 4.304752946379282, 8.97328223159236, 5.595317500931822, 7.057929178271891, 5.817496398726992, 6.834805671300014, 1.639446993277632, 1.6447699373433626, 1.0615545663612331, 1.0760589741619049, 1.6995431650225101, 1.0883711443519466, 1.1107418191693963, 1.1166505100530681, 3.488038556999573, 1.7721261245842665, 1.1280967926841645, 1.1389443432098552, 1.1391217584518796, 1.14040592091219, 1.147336479139953, 1.3095969390288678, 1.1506325979462764, 1.1595399149822692, 1.6014887889452414, 0.9434751899607431, 0.9091340183244639, 3.443515204621714, 1.25890415345819, 0.9198429707419266, 1.1847762261421044, 1.1873613869078516, 1.1876702193176643, 0.9307204067246473, 0.9262093944982283, 0.9147321075124959, 1.9218133521818488, 2.7367480287281727, 1.8679104507346522, 3.253152185595189, 20.772098301212452, 8.506232124175408, 7.729599419860803, 6.247424286234964, 2.2690163717604794, 3.135348917562752, 7.057929178271891, 8.29534591599446, 4.827744553723908, 15.774621644762515, 6.559051606675632, 14.386092248207296, 12.380210000624343, 2.4947564907154427, 14.51961390427418, 7.494337151244133, 4.927373036867124, 17.599030508951547, 29.009921982782057, 9.022769349919306, 12.240568435124107, 7.063726813880822, 15.594054399243502, 10.866742223199589, 6.779477551238829, 8.82893358254753, 9.431931303278443, 14.210904809080946, 1.6014887889452414, 1.25890415345819, 1.3095969390288678, 0.9182523112989015, 0.9207942660060728, 0.9107203469921368, 0.9221923601390625, 0.9326692772009726, 0.9332812075326076, 0.9188356837920679, 0.9147321075124959, 0.923012867170073, 0.9091340183244639, 0.9342771521450871, 0.9457201013921104, 0.9429843444174975, 0.9262093944982283, 0.9198429707419266, 0.9378107574396238, 0.9307204067246473, 0.9434751899607431, 1.6644689350404285, 1.6700179350061624, 1.9218133521818488, 2.371447875952015, 2.2699770229328475, 6.559051606675632, 2.2690163717604794, 2.25509758759608, 3.0529641654484734, 8.506232124175408, 12.240568435124107, 17.599030508951547, 5.595317500931822, 15.774621644762515, 29.009921982782057, 10.866742223199589, 20.772098301212452, 3.364947629879696, 3.9411848679882424, 4.927373036867124, 4.139913467270143, 15.594054399243502, 3.4076335958649917, 0.9306777996325147, 0.9160991308056761, 0.9692354744963934, 0.9565804321758441, 0.9621156949894124, 0.9448159439010193, 0.9560567950563086, 0.9546203770602874, 0.9772042780360823, 0.979595371660626, 0.9698990551238459, 0.9888379600956129, 0.9804849283776167, 1.004198219394877, 1.6669058154194598, 1.7045988433740187, 1.9218133521818488, 2.578936315212937, 5.508996713047481, 8.29534591599446, 9.431931303278443, 1.1425994917505529, 1.166316566710416, 1.1561352047038462, 1.1890499313523994, 1.6887067641566191, 1.1705148344166534, 1.1791709492195515, 1.1488043064900526, 1.1508488299938733, 4.3779849286028725, 2.3924997972909057, 14.386092248207296, 3.443515204621714, 3.055284106462476, 7.729599419860803, 2.6974305493954325, 7.063726813880822, 20.772098301212452, 5.817496398726992, 7.057929178271891, 8.651540335592856, 15.594054399243502, 29.009921982782057, 9.022769349919306, 12.380210000624343, 8.82893358254753, 1.1264383026328608, 1.6708622917836007, 1.1490342193097207, 1.180570328290145, 1.1392322684493865, 1.161143793035641, 1.1549582763878186, 1.7774743251332135, 1.1609470311920191, 1.1809666317531438, 1.162324763447196, 1.1616528782088078, 1.193913402208353, 1.6887067641566191, 1.855022835758738, 1.1779592943998465, 1.916211285985578, 2.0555373282850535, 1.8767420561340245, 1.1644592429966638, 1.2547225040727754, 1.1488043064900526, 1.1425994917505529, 1.9623794084939112, 1.252130921166376, 1.2711485359732178, 1.1734218452947605, 1.2487463515500448, 2.5964564160716512, 1.1368927055508307, 1.2596628619816252, 1.8994883748426692, 3.2996232073273544, 3.3238132397539477, 1.9580322479365526, 2.0331314748172447, 4.486355896546828, 3.055284106462476, 3.295329962322691, 7.494337151244133, 3.3199342937012153, 7.138035137167751, 6.559051606675632, 14.51961390427418, 15.594054399243502, 15.774621644762515, 10.866742223199589, 5.868068492347104, 29.009921982782057, 9.533899106012948, 17.599030508951547, 4.0340660305827925, 6.704781151791531, 7.266577523216083, 5.595317500931822, 6.048495805627342, 20.772098301212452, 14.210904809080946, 8.56481633263739], \"Category\": [\"Default\", \"Default\", \"Default\", \"Default\", \"Default\", \"Default\", \"Default\", \"Default\", \"Default\", \"Default\", \"Default\", \"Default\", \"Default\", \"Default\", \"Default\", \"Default\", \"Default\", \"Default\", \"Default\", \"Default\", \"Default\", \"Default\", \"Default\", \"Default\", \"Default\", \"Default\", \"Default\", \"Default\", \"Default\", \"Default\", \"Topic1\", \"Topic1\", \"Topic1\", \"Topic1\", \"Topic1\", \"Topic1\", \"Topic1\", \"Topic1\", \"Topic1\", \"Topic1\", \"Topic1\", \"Topic1\", \"Topic1\", \"Topic1\", \"Topic1\", \"Topic1\", \"Topic1\", \"Topic1\", \"Topic1\", \"Topic1\", \"Topic1\", \"Topic1\", \"Topic1\", \"Topic1\", \"Topic1\", \"Topic1\", \"Topic1\", \"Topic1\", \"Topic1\", \"Topic1\", \"Topic1\", \"Topic1\", \"Topic1\", \"Topic1\", \"Topic1\", \"Topic1\", \"Topic1\", \"Topic1\", \"Topic1\", \"Topic1\", \"Topic1\", \"Topic1\", \"Topic1\", \"Topic1\", \"Topic1\", \"Topic1\", \"Topic1\", \"Topic1\", \"Topic1\", \"Topic1\", \"Topic1\", \"Topic1\", \"Topic1\", \"Topic1\", \"Topic1\", \"Topic1\", \"Topic1\", \"Topic1\", \"Topic1\", \"Topic1\", \"Topic2\", \"Topic2\", \"Topic2\", \"Topic2\", \"Topic2\", \"Topic2\", \"Topic2\", \"Topic2\", \"Topic2\", \"Topic2\", \"Topic2\", \"Topic2\", \"Topic2\", \"Topic2\", \"Topic2\", \"Topic2\", \"Topic2\", \"Topic2\", \"Topic2\", \"Topic2\", \"Topic2\", \"Topic2\", \"Topic2\", \"Topic2\", \"Topic2\", \"Topic2\", \"Topic2\", \"Topic2\", \"Topic2\", \"Topic2\", \"Topic2\", \"Topic2\", \"Topic2\", \"Topic2\", \"Topic2\", \"Topic2\", \"Topic2\", \"Topic2\", \"Topic2\", \"Topic2\", \"Topic2\", \"Topic2\", \"Topic2\", \"Topic2\", \"Topic2\", \"Topic2\", \"Topic2\", \"Topic2\", \"Topic2\", \"Topic2\", \"Topic2\", \"Topic2\", \"Topic2\", \"Topic2\", \"Topic2\", \"Topic2\", \"Topic2\", \"Topic2\", \"Topic2\", \"Topic2\", \"Topic2\", \"Topic2\", \"Topic3\", \"Topic3\", \"Topic3\", \"Topic3\", \"Topic3\", \"Topic3\", \"Topic3\", \"Topic3\", \"Topic3\", \"Topic3\", \"Topic3\", \"Topic3\", \"Topic3\", \"Topic3\", \"Topic3\", \"Topic3\", \"Topic3\", \"Topic3\", \"Topic3\", \"Topic3\", \"Topic3\", \"Topic3\", \"Topic3\", \"Topic3\", \"Topic3\", \"Topic3\", \"Topic3\", \"Topic3\", \"Topic3\", \"Topic3\", \"Topic3\", \"Topic3\", \"Topic3\", \"Topic3\", \"Topic3\", \"Topic3\", \"Topic3\", \"Topic3\", \"Topic3\", \"Topic3\", \"Topic3\", \"Topic3\", \"Topic3\", \"Topic3\", \"Topic3\", \"Topic3\", \"Topic3\", \"Topic3\", \"Topic3\", \"Topic3\", \"Topic3\", \"Topic3\", \"Topic3\", \"Topic3\", \"Topic3\", \"Topic3\", \"Topic3\", \"Topic3\", \"Topic3\", \"Topic3\", \"Topic3\", \"Topic3\", \"Topic3\", \"Topic3\", \"Topic3\", \"Topic3\", \"Topic3\", \"Topic4\", \"Topic4\", \"Topic4\", \"Topic4\", \"Topic4\", \"Topic4\", \"Topic4\", \"Topic4\", \"Topic4\", \"Topic4\", \"Topic4\", \"Topic4\", \"Topic4\", \"Topic4\", \"Topic4\", \"Topic4\", \"Topic4\", \"Topic4\", \"Topic4\", \"Topic4\", \"Topic4\", \"Topic4\", \"Topic4\", \"Topic4\", \"Topic4\", \"Topic4\", \"Topic4\", \"Topic4\", \"Topic4\", \"Topic4\", \"Topic4\", \"Topic4\", \"Topic4\", \"Topic4\", \"Topic4\", \"Topic4\", \"Topic4\", \"Topic4\", \"Topic4\", \"Topic4\", \"Topic4\", \"Topic4\", \"Topic4\", \"Topic4\", \"Topic4\", \"Topic4\", \"Topic4\", \"Topic4\", \"Topic4\", \"Topic4\", \"Topic4\", \"Topic4\", \"Topic4\", \"Topic4\", \"Topic4\", \"Topic4\", \"Topic4\", \"Topic4\", \"Topic4\", \"Topic4\", \"Topic4\", \"Topic4\", \"Topic4\", \"Topic5\", \"Topic5\", \"Topic5\", \"Topic5\", \"Topic5\", \"Topic5\", \"Topic5\", \"Topic5\", \"Topic5\", \"Topic5\", \"Topic5\", \"Topic5\", \"Topic5\", \"Topic5\", \"Topic5\", \"Topic5\", \"Topic5\", \"Topic5\", \"Topic5\", \"Topic5\", \"Topic5\", \"Topic5\", \"Topic5\", \"Topic5\", \"Topic5\", \"Topic5\", \"Topic5\", \"Topic5\", \"Topic5\", \"Topic5\", \"Topic5\", \"Topic5\", \"Topic5\", \"Topic5\", \"Topic5\", \"Topic5\", \"Topic5\", \"Topic5\", \"Topic5\", \"Topic5\", \"Topic5\", \"Topic5\", \"Topic5\", \"Topic5\", \"Topic5\", \"Topic5\", \"Topic5\", \"Topic5\", \"Topic5\", \"Topic5\", \"Topic5\", \"Topic5\", \"Topic5\", \"Topic5\", \"Topic5\", \"Topic5\", \"Topic5\", \"Topic5\", \"Topic5\", \"Topic6\", \"Topic6\", \"Topic6\", \"Topic6\", \"Topic6\", \"Topic6\", \"Topic6\", \"Topic6\", \"Topic6\", \"Topic6\", \"Topic6\", \"Topic6\", \"Topic6\", \"Topic6\", \"Topic6\", \"Topic6\", \"Topic6\", \"Topic6\", \"Topic6\", \"Topic6\", \"Topic6\", \"Topic6\", \"Topic6\", \"Topic6\", \"Topic6\", \"Topic6\", \"Topic6\", \"Topic6\", \"Topic6\", \"Topic6\", \"Topic6\", \"Topic6\", \"Topic6\", \"Topic6\", \"Topic6\", \"Topic6\", \"Topic6\", \"Topic6\", \"Topic6\", \"Topic6\", \"Topic6\", \"Topic6\", \"Topic6\", \"Topic6\", \"Topic6\", \"Topic6\", \"Topic6\", \"Topic6\", \"Topic6\", \"Topic6\", \"Topic6\", \"Topic6\", \"Topic6\", \"Topic6\", \"Topic6\", \"Topic6\", \"Topic6\", \"Topic7\", \"Topic7\", \"Topic7\", \"Topic7\", \"Topic7\", \"Topic7\", \"Topic7\", \"Topic7\", \"Topic7\", \"Topic7\", \"Topic7\", \"Topic7\", \"Topic7\", \"Topic7\", \"Topic7\", \"Topic7\", \"Topic7\", \"Topic7\", \"Topic7\", \"Topic7\", \"Topic7\", \"Topic7\", \"Topic7\", \"Topic7\", \"Topic7\", \"Topic7\", \"Topic7\", \"Topic7\", \"Topic7\", \"Topic7\", \"Topic7\", \"Topic7\", \"Topic7\", \"Topic7\", \"Topic7\", \"Topic7\", \"Topic7\", \"Topic7\", \"Topic7\", \"Topic7\", \"Topic7\", \"Topic7\", \"Topic7\", \"Topic7\", \"Topic7\", \"Topic7\", \"Topic7\", \"Topic7\", \"Topic7\", \"Topic7\", \"Topic7\", \"Topic7\", \"Topic7\", \"Topic7\", \"Topic7\", \"Topic7\", \"Topic7\", \"Topic7\", \"Topic7\", \"Topic7\", \"Topic7\", \"Topic7\", \"Topic8\", \"Topic8\", \"Topic8\", \"Topic8\", \"Topic8\", \"Topic8\", \"Topic8\", \"Topic8\", \"Topic8\", \"Topic8\", \"Topic8\", \"Topic8\", \"Topic8\", \"Topic8\", \"Topic8\", \"Topic8\", \"Topic8\", \"Topic8\", \"Topic8\", \"Topic8\", \"Topic8\", \"Topic8\", \"Topic8\", \"Topic8\", \"Topic8\", \"Topic8\", \"Topic8\", \"Topic8\", \"Topic8\", \"Topic8\", \"Topic8\", \"Topic8\", \"Topic8\", \"Topic8\", \"Topic8\", \"Topic8\", \"Topic8\", \"Topic8\", \"Topic8\", \"Topic8\", \"Topic8\", \"Topic8\", \"Topic8\", \"Topic8\", \"Topic9\", \"Topic9\", \"Topic9\", \"Topic9\", \"Topic9\", \"Topic9\", \"Topic9\", \"Topic9\", \"Topic9\", \"Topic9\", \"Topic9\", \"Topic9\", \"Topic9\", \"Topic9\", \"Topic9\", \"Topic9\", \"Topic9\", \"Topic9\", \"Topic9\", \"Topic9\", \"Topic9\", \"Topic9\", \"Topic9\", \"Topic9\", \"Topic9\", \"Topic9\", \"Topic9\", \"Topic9\", \"Topic9\", \"Topic9\", \"Topic9\", \"Topic9\", \"Topic9\", \"Topic9\", \"Topic9\", \"Topic9\", \"Topic9\", \"Topic9\", \"Topic9\", \"Topic9\", \"Topic9\", \"Topic9\", \"Topic9\", \"Topic9\", \"Topic9\", \"Topic9\", \"Topic9\", \"Topic10\", \"Topic10\", \"Topic10\", \"Topic10\", \"Topic10\", \"Topic10\", \"Topic10\", \"Topic10\", \"Topic10\", \"Topic10\", \"Topic10\", \"Topic10\", \"Topic10\", \"Topic10\", \"Topic10\", \"Topic10\", \"Topic10\", \"Topic10\", \"Topic10\", \"Topic10\", \"Topic10\", \"Topic10\", \"Topic10\", \"Topic10\", \"Topic10\", \"Topic10\", \"Topic10\", \"Topic10\", \"Topic10\", \"Topic10\", \"Topic10\", \"Topic10\", \"Topic10\", \"Topic10\", \"Topic10\", \"Topic10\", \"Topic10\", \"Topic10\", \"Topic10\", \"Topic10\", \"Topic10\", \"Topic10\", \"Topic10\", \"Topic10\", \"Topic10\", \"Topic10\", \"Topic10\", \"Topic10\", \"Topic10\", \"Topic10\", \"Topic10\", \"Topic10\", \"Topic10\", \"Topic10\", \"Topic10\", \"Topic10\", \"Topic10\", \"Topic10\", \"Topic10\"], \"logprob\": [30.0, 29.0, 28.0, 27.0, 26.0, 25.0, 24.0, 23.0, 22.0, 21.0, 20.0, 19.0, 18.0, 17.0, 16.0, 15.0, 14.0, 13.0, 12.0, 11.0, 10.0, 9.0, 8.0, 7.0, 6.0, 5.0, 4.0, 3.0, 2.0, 1.0, -5.4961, -6.1427, -6.1427, -6.1427, -6.1427, -6.1427, -6.1427, -6.1427, -6.1427, -6.1427, -6.1427, -6.1427, -6.1427, -6.1427, -6.1427, -6.1427, -6.1427, -6.1427, -6.1427, -6.1427, -6.1427, -6.1427, -6.1427, -5.4397, -5.9297, -5.9326, -5.5695, -5.1484, -5.3628, -5.6043, -4.8148, -3.8752, -5.0152, -4.5411, -5.1394, -5.3068, -5.2051, -4.4356, -5.1915, -4.6326, -5.5146, -4.7878, -4.6769, -5.0295, -5.3443, -5.3391, -4.5585, -4.9613, -5.3731, -5.0053, -5.8873, -5.4052, -4.9424, -5.7567, -5.3918, -5.428, -5.3817, -5.4108, -5.3967, -5.4461, -5.7069, -5.7063, -5.7094, -5.2109, -5.7111, -5.7103, -5.7127, -5.7119, -5.7148, -5.7187, -5.7176, -5.7208, -5.7233, -5.7326, -5.7437, -5.7527, -5.7775, -5.4618, -5.8119, -5.8149, -5.8259, -5.8566, -5.8696, -5.8723, -5.8769, -5.8825, -5.8828, -5.5092, -5.892, -4.9401, -4.456, -4.154, -4.5386, -5.2498, -4.6149, -4.458, -4.8747, -4.912, -4.7871, -4.9294, -4.8935, -4.9289, -5.3143, -4.7511, -4.9988, -5.1341, -5.2124, -5.3468, -5.4825, -5.2317, -5.1174, -4.8801, -5.3623, -4.9621, -4.776, -5.4831, -4.9003, -5.1157, -5.3903, -5.2239, -5.3358, -5.3431, -5.7459, -5.8109, -5.8708, -5.9004, -5.2149, -5.9738, -5.9812, -5.2669, -5.6396, -5.6085, -6.3412, -6.3564, -6.3594, -6.0102, -6.3812, -6.3984, -6.3994, -6.402, -6.4021, -6.4138, -6.4223, -6.4008, -6.4015, -6.407, -6.4472, -6.4611, -6.4626, -6.483, -6.4906, -6.0426, -6.061, -5.7186, -4.8243, -5.8034, -5.5979, -5.7409, -5.3212, -3.9417, -5.631, -4.2776, -5.7829, -5.6597, -4.5576, -5.6655, -5.3198, -4.6953, -5.2271, -5.2246, -5.1667, -5.0939, -5.1971, -5.3151, -5.4195, -4.9523, -5.4166, -5.4133, -5.3153, -5.3392, -5.3935, -5.3667, -5.3369, -5.2222, -5.5293, -5.364, -5.367, -5.4901, -5.5089, -6.05, -3.7628, -5.9258, -5.9308, -5.9224, -5.8928, -5.3787, -6.5857, -5.4849, -6.6096, -5.9866, -6.4461, -5.9868, -6.0038, -6.6438, -6.6437, -4.1535, -6.4728, -6.0018, -6.1392, -6.0262, -6.6836, -6.3139, -6.3207, -6.517, -6.0535, -6.0511, -6.7233, -6.7265, -6.053, -4.3874, -5.7575, -5.5412, -5.316, -5.174, -4.6909, -4.894, -5.8843, -4.9977, -5.3084, -6.0869, -5.8748, -5.6316, -5.0308, -4.7051, -5.135, -5.3166, -5.494, -4.5809, -5.5699, -5.6336, -5.2514, -5.3031, -5.4252, -5.0898, -5.5474, -5.4229, -5.5142, -5.368, -5.5366, -5.4079, -5.5915, -5.582, -4.886, -5.7567, -5.7567, -5.7568, -5.7568, -5.7568, -5.7568, -5.7568, -5.7568, -5.7568, -5.7568, -5.7568, -5.7568, -5.7568, -5.3599, -5.3789, -5.3815, -4.6205, -5.4951, -5.9795, -5.1101, -6.0025, -6.0046, -6.0041, -6.0085, -6.0139, -6.0144, -6.0164, -6.0242, -6.0259, -5.6011, -5.5936, -5.2245, -4.9934, -4.5561, -4.9107, -4.4331, -5.6466, -5.6599, -4.5307, -4.8014, -4.646, -4.6592, -4.1689, -4.3358, -4.7022, -5.06, -4.8081, -4.9406, -4.7962, -5.0235, -5.175, -4.887, -5.1262, -5.199, -5.1659, -5.1526, -5.3249, -5.3498, -5.4889, -5.493, -5.5051, -5.5083, -5.5091, -5.5129, -5.5165, -5.5182, -5.5201, -5.5248, -5.5268, -5.5306, -5.5369, -5.3889, -5.3039, -5.4883, -5.3943, -5.3535, -5.5035, -5.5118, -5.4369, -4.662, -6.1412, -6.1497, -5.451, -4.7221, -6.1594, -6.1623, -6.1638, -5.7097, -5.1997, -5.4444, -5.1191, -5.13, -5.7481, -5.3973, -4.2389, -4.4595, -4.6889, -4.842, -4.8382, -4.9436, -5.1816, -5.1556, -5.1231, -5.2203, -5.2109, -5.2118, -5.2579, -5.2688, -5.3141, -5.38, -5.3207, -5.3742, -5.3646, -5.3785, -5.3759, -5.484, -5.4915, -5.9796, -6.013, -5.5706, -6.0423, -6.0977, -6.113, -4.9872, -5.6863, -6.143, -6.1723, -6.1728, -6.1764, -6.1957, -6.0714, -6.205, -6.2307, -5.9323, -6.4677, -6.5331, -5.2016, -6.2103, -6.5405, -6.307, -6.3151, -6.3161, -6.5684, -6.578, -6.6123, -5.9032, -5.6124, -5.9597, -5.5227, -4.0603, -4.8539, -4.944, -5.1447, -5.8567, -5.6377, -5.0949, -4.9895, -5.3925, -4.7819, -5.2721, -4.9288, -5.0532, -5.8068, -5.0315, -5.3741, -5.5456, -5.125, -4.9743, -5.3843, -5.2904, -5.4721, -5.247, -5.3553, -5.497, -5.4678, -5.4724, -5.4932, -4.4368, -4.8421, -4.9777, -5.45, -5.4599, -5.4896, -5.4779, -5.4683, -5.4755, -5.5043, -5.5219, -5.5289, -5.5558, -5.5333, -5.5253, -5.543, -5.5709, -5.5784, -5.5706, -5.5885, -5.6944, -5.4151, -5.4659, -5.5278, -5.3952, -5.4635, -4.4546, -5.5201, -5.5846, -5.3992, -4.4686, -4.719, -4.8292, -5.224, -4.9655, -4.946, -5.1471, -5.1046, -5.3866, -5.366, -5.3456, -5.3687, -5.2557, -5.3985, -5.4849, -5.5086, -5.5122, -5.5323, -5.5288, -5.5487, -5.5625, -5.5712, -5.5681, -5.5826, -5.5938, -5.5847, -5.6112, -5.6448, -5.4229, -5.5121, -5.421, -5.5188, -4.8404, -4.4632, -4.3611, -6.5523, -6.5709, -6.5866, -6.626, -6.2779, -6.6708, -6.6686, -6.6997, -6.7026, -5.3901, -5.9912, -4.5037, -5.7738, -5.8806, -5.2161, -6.0115, -5.4062, -4.7595, -5.5538, -5.4913, -5.4449, -5.206, -5.0054, -5.4339, -5.4078, -5.555, -6.1339, -5.8737, -6.2499, -6.2348, -6.2748, -6.256, -6.2869, -5.8588, -6.2876, -6.2813, -6.3056, -6.3095, -6.3726, -6.0266, -5.9753, -6.4731, -6.0912, -6.0485, -6.1441, -6.6553, -6.5875, -6.7007, -6.7269, -6.1905, -6.6403, -6.6337, -6.7138, -6.6525, -5.921, -6.7485, -6.6476, -6.2516, -5.8649, -5.899, -6.3123, -6.2871, -5.7314, -6.0043, -5.9742, -5.4456, -6.0045, -5.5634, -5.6923, -5.3728, -5.3642, -5.4233, -5.6236, -5.8878, -5.5235, -5.7973, -5.6735, -6.0203, -5.9376, -5.9685, -6.0265, -6.0189, -5.9161, -5.9665, -6.0317], \"loglift\": [30.0, 29.0, 28.0, 27.0, 26.0, 25.0, 24.0, 23.0, 22.0, 21.0, 20.0, 19.0, 18.0, 17.0, 16.0, 15.0, 14.0, 13.0, 12.0, 11.0, 10.0, 9.0, 8.0, 7.0, 6.0, 5.0, 4.0, 3.0, 2.0, 1.0, 1.1174, 0.972, 0.972, 0.972, 0.972, 0.972, 0.972, 0.972, 0.972, 0.972, 0.972, 0.972, 0.972, 0.972, 0.972, 0.972, 0.972, 0.972, 0.972, 0.972, 0.972, 0.972, 0.972, 0.9219, 0.8312, 0.8216, 0.8206, 0.8003, 0.7816, 0.774, 0.6929, 0.3729, 0.5969, 0.4207, 0.6012, 0.6627, 0.6189, 0.3123, 0.5723, 0.3077, 0.6938, 0.3232, 0.192, 0.3314, 0.5106, 0.5072, 0.0237, 0.2688, 0.4634, 0.0944, 0.7726, 0.3877, -0.085, 0.656, 0.2407, 0.2224, 0.1518, 0.1908, -0.4472, 0.022, 1.3396, 1.3392, 1.339, 1.3378, 1.3376, 1.3375, 1.3374, 1.3365, 1.3362, 1.3343, 1.334, 1.333, 1.3329, 1.3291, 1.3249, 1.3201, 1.2683, 1.2468, 1.2415, 1.2391, 1.2305, 1.2063, 1.196, 1.1939, 1.1902, 1.1858, 1.1855, 1.1844, 1.1783, 1.07, 0.9818, 0.7955, 0.8727, 1.0019, 0.7568, 0.6417, 0.7918, 0.7497, 0.671, 0.7314, 0.6772, 0.5322, 0.8711, 0.1178, 0.4228, 0.5203, 0.6253, 0.7924, 0.9912, 0.552, 0.2986, -0.1321, 0.7193, -0.0003, -0.5279, 0.8996, -0.3181, -0.0047, 0.584, -0.3665, 0.1643, -0.4028, 1.2947, 1.2327, 1.2316, 1.185, 1.1516, 1.1444, 1.1402, 1.1124, 1.1039, 1.1037, 1.0974, 1.0933, 1.09, 1.0817, 1.0708, 1.0679, 1.0659, 1.0646, 1.0639, 1.0579, 1.0546, 1.043, 1.0426, 1.0392, 1.0382, 1.0356, 1.0052, 0.9925, 0.9877, 0.9808, 0.9652, 0.943, 0.8082, 0.8982, 0.8383, 0.8681, 0.7202, 0.3064, 0.7837, 0.3046, 0.8198, 0.7623, 0.2998, 0.7575, 0.5878, 0.245, 0.4859, 0.4773, 0.4349, 0.3221, 0.3737, 0.437, 0.4744, -0.0834, 0.367, 0.3217, 0.1427, 0.1609, 0.2568, 0.1667, 0.024, -0.2727, 0.4451, -0.1339, -0.2673, 0.19, -0.0339, 1.0167, 0.9851, 0.9355, 0.916, 0.9007, 0.9006, 0.8984, 0.8819, 0.8678, 0.8617, 0.8563, 0.8414, 0.8365, 0.8327, 0.8324, 0.8324, 0.8082, 0.8065, 0.8036, 0.8015, 0.7983, 0.798, 0.7928, 0.7869, 0.7778, 0.7758, 0.767, 0.7631, 0.7605, 0.7597, 0.7237, 0.7317, 0.7158, 0.6502, 0.6189, 0.5392, 0.567, 0.7027, 0.4772, 0.5076, 0.7193, 0.6455, 0.5555, 0.3302, 0.1638, 0.2866, 0.3338, 0.417, -0.3327, 0.4392, 0.4904, 0.1646, 0.1651, 0.2686, -0.2324, 0.3184, -0.0116, 0.0874, -0.4277, -0.0032, -0.8257, -0.0555, -0.2103, 1.9863, 1.8288, 1.8288, 1.8288, 1.8288, 1.8288, 1.8288, 1.8288, 1.8287, 1.8287, 1.8287, 1.8287, 1.8287, 1.8287, 1.754, 1.7286, 1.7252, 1.5833, 1.5716, 1.5342, 1.5288, 1.5022, 1.5009, 1.4998, 1.4941, 1.4887, 1.4866, 1.4862, 1.4738, 1.4732, 1.4656, 1.4616, 1.4438, 1.4114, 1.3548, 1.3661, 1.2606, 1.4359, 1.4131, 1.0053, 1.0295, 0.8222, 0.8018, 0.4133, 0.5216, 0.7193, 0.9814, 0.6079, 0.7724, 0.5755, 0.6373, 0.5051, -0.6389, -0.0151, 0.0311, -0.297, -0.4047, -0.3754, -0.388, 1.9833, 1.9807, 1.9728, 1.9708, 1.9703, 1.9678, 1.9655, 1.9643, 1.9631, 1.96, 1.9588, 1.9563, 1.9521, 1.6667, 1.5845, 1.5233, 1.4532, 1.3541, 1.2961, 1.29, 1.2531, 1.2456, 1.215, 1.2079, 1.1963, 1.1873, 1.1768, 1.1725, 1.1716, 1.1677, 1.0864, 1.0287, 0.9594, 0.9516, 1.0652, 0.9052, 0.0092, 0.1227, 0.2514, 0.1076, 0.0192, 0.1561, 0.6344, 0.5463, 0.3847, 0.6106, 0.5528, 0.3216, 0.4827, 0.4113, 0.2219, 0.7761, 0.1008, 0.5196, 0.297, 0.4764, 0.3178, 1.6374, 1.6267, 1.5765, 1.5295, 1.5148, 1.4888, 1.413, 1.3925, 1.3793, 1.3573, 1.3523, 1.3134, 1.3127, 1.308, 1.2827, 1.2747, 1.2705, 1.2371, 1.2125, 1.2062, 1.1779, 1.1777, 1.1752, 1.1589, 1.1393, 1.129, 1.1277, 1.1192, 1.1145, 1.0926, 1.0593, 0.9966, 1.0312, 0.9135, 0.5218, 0.6211, 0.6268, 0.6389, 0.9397, 0.8353, 0.5667, 0.5106, 0.6489, 0.0755, 0.4628, 0.0207, 0.0465, 0.8948, -0.0912, 0.2275, 0.4754, -0.377, -0.7262, 0.0318, -0.1794, 0.1887, -0.3781, -0.1252, 0.2049, -0.0301, -0.1007, -0.5314, 2.7081, 2.5434, 2.3684, 2.251, 2.2384, 2.2197, 2.2189, 2.2172, 2.2093, 2.1961, 2.183, 2.167, 2.1552, 2.1504, 2.1463, 2.1315, 2.1215, 2.121, 2.1094, 2.0991, 1.9796, 1.6912, 1.637, 1.4348, 1.3571, 1.3325, 1.2804, 1.2764, 1.218, 1.1004, 1.0064, 0.392, -0.0813, 0.6699, -0.1082, -0.6978, 0.0829, -0.5224, 1.0158, 0.8783, 0.6754, 0.8264, -0.3868, 0.9913, 2.2027, 2.1949, 2.1349, 2.1279, 2.1256, 2.1239, 2.0983, 2.091, 2.0708, 2.0538, 2.0526, 2.0424, 2.0243, 1.9668, 1.6819, 1.5704, 1.5416, 1.1496, 1.069, 1.0369, 1.0106, 0.9301, 0.8911, 0.8841, 0.8166, 0.8139, 0.7875, 0.7824, 0.7773, 0.7727, 0.7491, 0.7523, 0.4458, 0.6055, 0.6183, 0.3546, 0.612, 0.2546, -0.1773, 0.3011, 0.1703, 0.0132, -0.3371, -0.7572, -0.0178, -0.3081, -0.1172, 1.3628, 1.2288, 1.227, 1.215, 1.2106, 1.2103, 1.1848, 1.1818, 1.1789, 1.1682, 1.1598, 1.1565, 1.066, 1.0652, 1.0226, 0.9789, 0.8742, 0.8468, 0.8421, 0.8083, 0.8014, 0.7764, 0.7556, 0.7511, 0.7506, 0.7422, 0.742, 0.7412, 0.7407, 0.739, 0.7374, 0.7226, 0.5571, 0.5157, 0.6315, 0.6191, 0.3834, 0.4947, 0.449, 0.1561, 0.4113, 0.087, 0.0427, -0.4325, -0.4953, -0.5659, -0.3935, -0.0415, -1.2754, -0.4363, -0.9256, 0.2007, -0.2246, -0.336, -0.1326, -0.2029, -1.3339, -1.0047, -0.5636]}, \"token.table\": {\"Topic\": [2, 3, 2, 3, 1, 4, 1, 3, 4, 5, 6, 3, 3, 1, 4, 1, 3, 6, 2, 4, 1, 2, 3, 4, 5, 6, 2, 1, 2, 3, 6, 1, 2, 6, 1, 4, 5, 3, 1, 3, 4, 3, 1, 2, 3, 5, 6, 1, 1, 2, 3, 4, 5, 1, 2, 3, 4, 5, 1, 3, 4, 2, 2, 3, 1, 6, 6, 3, 1, 3, 6, 1, 4, 1, 4, 1, 2, 4, 5, 2, 1, 6, 1, 4, 1, 4, 6, 1, 2, 4, 6, 3, 3, 4, 3, 2, 1, 2, 3, 4, 5, 2, 1, 2, 4, 3, 6, 1, 3, 2, 1, 3, 4, 8, 1, 3, 6, 1, 3, 1, 4, 6, 1, 3, 2, 5, 1, 3, 1, 3, 1, 2, 1, 3, 1, 3, 6, 1, 2, 3, 4, 1, 3, 5, 6, 5, 2, 1, 2, 3, 4, 5, 6, 2, 2, 3, 6, 1, 3, 4, 5, 3, 1, 2, 3, 4, 6, 4, 5, 1, 2, 3, 4, 5, 6, 1, 8, 1, 2, 3, 4, 5, 6, 1, 3, 4, 1, 3, 4, 5, 1, 2, 3, 4, 1, 2, 4, 5, 1, 2, 4, 5, 1, 4, 5, 1, 3, 5, 3, 1, 2, 3, 4, 6, 3, 2, 1, 2, 3, 4, 5, 1, 4, 1, 1, 6, 1, 3, 1, 4, 3, 1, 2, 3, 4, 5, 2, 1, 2, 6, 3, 1, 2, 3, 4, 5, 6, 1, 2, 4, 5, 1, 6, 6, 1, 4, 1, 1, 5, 1, 1, 1, 2, 3, 4, 5, 1, 3, 1, 2, 3, 4, 5, 6, 2, 3, 1, 3, 2, 3, 2, 5, 2, 1, 3, 1, 3, 1, 2, 3, 4, 6, 2, 1, 3, 1, 6, 1, 2, 4, 5, 1, 3, 1, 1, 2, 3, 5, 1, 2, 4, 1, 4, 1, 4, 1, 3, 1, 3, 4, 6, 2, 1, 1, 2, 6, 6, 3, 3, 4, 3, 2, 1, 2, 3, 5, 6, 1, 3, 5, 2, 1, 3, 2, 3, 3, 3, 2, 1, 2, 4, 6, 1, 6, 1, 4, 1, 2, 3, 4, 8, 2, 3, 1, 2, 3, 4, 5, 6, 1, 2, 3, 4, 5, 6, 3, 6, 3, 2, 6, 3, 3, 1, 1, 3, 4, 6, 2, 1, 2, 3, 4, 3, 2, 2, 3, 1, 2, 3, 4, 5, 6, 7, 1, 2, 3, 4, 5, 1, 2, 3, 3, 6, 6, 1, 2, 3, 4, 5, 1, 2, 3, 4, 5, 6, 3, 4, 5, 1, 2, 4, 1, 2, 1, 3, 5, 1, 2, 3, 1, 5, 2, 6, 1, 2, 3, 4, 5, 1, 2, 3, 5, 2, 2, 3, 1, 3, 3, 1, 1, 2, 4, 3, 1, 1, 3, 6, 2, 3, 1, 2, 3, 4, 5, 2, 3, 6, 3, 1, 3, 4, 1, 2, 3, 4, 5, 2, 3, 3, 1, 2, 3, 4, 5, 6, 3, 2, 1, 2, 3, 4, 5, 6, 3, 1, 2, 3, 4, 5, 1, 1, 2, 3, 1, 1, 3, 1, 4, 1, 2, 3, 4, 2, 3, 4, 1, 1, 3, 4, 1, 2, 1, 2, 3, 5, 6, 6, 1, 2, 3, 4, 5, 6, 1, 4, 1, 2, 3, 5, 1, 2, 3, 1, 3, 4, 5, 6, 2, 6, 5, 2, 1, 4, 1, 2, 4, 1, 2, 3, 2, 3, 1, 2, 3, 5, 1, 2, 3, 4, 2, 3, 5, 6, 1, 2, 3, 6, 1, 2, 3, 4, 5], \"Freq\": [0.5095854530839584, 0.5095854530839584, 0.5666632412001251, 0.5984933677164542, 0.4587288896423761, 0.4587288896423761, 0.3356339729503812, 0.1678169864751906, 0.1678169864751906, 0.1678169864751906, 0.1678169864751906, 0.4918521071490906, 0.8780060289704129, 0.4526337304164193, 0.4526337304164193, 0.3796779105333687, 0.3796779105333687, 0.3796779105333687, 0.29718144529808094, 0.29718144529808094, 0.3739130459037739, 0.12463768196792463, 0.24927536393584926, 0.12463768196792463, 0.12463768196792463, 0.12463768196792463, 0.5771559696066959, 0.3630425110371204, 0.1815212555185602, 0.1815212555185602, 0.1815212555185602, 0.21562659806383144, 0.4312531961276629, 0.21562659806383144, 0.3275505200216139, 0.3275505200216139, 0.3275505200216139, 0.44053309346188163, 0.4831018850543267, 0.24155094252716336, 0.24155094252716336, 0.607987766128072, 0.15509604131147234, 0.3101920826229447, 0.3101920826229447, 0.15509604131147234, 0.15509604131147234, 0.6058386441138616, 0.22061352151956146, 0.4412270430391229, 0.11030676075978073, 0.11030676075978073, 0.11030676075978073, 0.11592942892140522, 0.34778828676421564, 0.11592942892140522, 0.23185885784281043, 0.11592942892140522, 0.24788885269077568, 0.24788885269077568, 0.24788885269077568, 0.5714603580480276, 0.5715480326337796, 0.8419845709144043, 0.4831599541316217, 0.4831599541316217, 0.8758378621121903, 0.8955353452106296, 0.60585448247755, 0.8658321434152088, 0.3962219545637545, 0.4634882651578451, 0.4634882651578451, 0.44795888736059036, 0.44795888736059036, 0.4084777620010345, 0.1633911048004138, 0.24508665720062067, 0.0816955524002069, 0.5679926032939828, 0.6058616682611966, 0.8712529185499714, 0.4702554417955064, 0.4702554417955064, 0.44503303093136054, 0.44503303093136054, 0.8662657966488576, 0.2323013683842409, 0.2323013683842409, 0.2323013683842409, 0.2323013683842409, 0.8375816856987482, 0.580801849608708, 0.290400924804354, 0.552968889456792, 0.5670035982600137, 0.1737689878590523, 0.3475379757181046, 0.1737689878590523, 0.1737689878590523, 0.5866349872427353, 0.5783689193456911, 0.23962761626678158, 0.47925523253356317, 0.23962761626678158, 0.8715838972971583, 0.8722331751752403, 0.6058540725238405, 0.5264575520673181, 0.42168331429108524, 0.3049221320296447, 0.3049221320296447, 0.15246106601482234, 0.15246106601482234, 0.3574417358205192, 0.3574417358205192, 0.1787208679102596, 0.44579610849406986, 0.22289805424703493, 0.45274995248231026, 0.45274995248231026, 0.8772858834006209, 0.6004818196507881, 0.30024090982539403, 0.795352391311845, 0.6010139045127407, 0.6058566367570429, 0.5921691209068047, 0.6058782832991872, 0.5203418942139686, 0.3877567639422039, 0.3877567639422039, 0.6058498254357736, 0.8422035708978363, 0.4128491013018524, 0.4128491013018524, 0.13761636710061745, 0.2801891503147693, 0.14009457515738466, 0.2801891503147693, 0.14009457515738466, 0.2149491804077626, 0.2149491804077626, 0.2149491804077626, 0.2149491804077626, 0.5708541939923987, 0.5745529571225297, 0.24109904761701992, 0.24109904761701992, 0.24109904761701992, 0.12054952380850996, 0.12054952380850996, 0.86752176952396, 0.5768353385080913, 0.4032694086129572, 0.4032694086129572, 0.4032694086129572, 0.24365801638142814, 0.24365801638142814, 0.24365801638142814, 0.4873160327628563, 0.30739416508946454, 0.3230962964116341, 0.40387037051454266, 0.16154814820581706, 0.08077407410290853, 0.08077407410290853, 0.5774648342693312, 0.5774648342693312, 0.2886427608745956, 0.1443213804372978, 0.2886427608745956, 0.1443213804372978, 0.1443213804372978, 0.1443213804372978, 0.6058405837632654, 0.62441898245108, 0.41955552030933857, 0.10488888007733464, 0.20977776015466928, 0.20977776015466928, 0.10488888007733464, 0.10488888007733464, 0.44996369515401646, 0.22498184757700823, 0.22498184757700823, 0.5063067544185844, 0.16876891813952813, 0.16876891813952813, 0.16876891813952813, 0.28132024420614166, 0.28132024420614166, 0.14066012210307083, 0.14066012210307083, 0.18180682247367042, 0.18180682247367042, 0.18180682247367042, 0.36361364494734083, 0.3977491826290959, 0.17046393541246968, 0.34092787082493936, 0.05682131180415656, 0.4554291846818444, 0.4554291846818444, 0.5811169625582903, 0.7688962663532921, 0.9002992259243393, 0.5775130230390481, 0.860344743094196, 0.47073800121114623, 0.1569126670703821, 0.1569126670703821, 0.1569126670703821, 0.1569126670703821, 0.8467639754694009, 0.5687818811853803, 0.26686816454047313, 0.13343408227023656, 0.26686816454047313, 0.13343408227023656, 0.13343408227023656, 0.35741450100612693, 0.35741450100612693, 0.6058474845508579, 0.605860265636808, 0.8747322937897716, 0.5706096515064089, 0.8612197782891695, 0.45036210095959284, 0.45036210095959284, 0.4050994798623197, 0.10602282479012652, 0.4240912991605061, 0.10602282479012652, 0.10602282479012652, 0.10602282479012652, 0.5700963198649469, 0.5156857511173487, 0.17189525037244957, 0.17189525037244957, 0.8690871454405731, 0.2499160448526155, 0.12495802242630775, 0.12495802242630775, 0.12495802242630775, 0.2499160448526155, 0.12495802242630775, 0.4222109767539872, 0.2111054883769936, 0.28147398450265815, 0.07036849612566454, 0.5290818926434843, 0.26454094632174213, 0.546538721402409, 0.4393575783333824, 0.4393575783333824, 0.6058616183337151, 0.6058417924338415, 0.6015362353027577, 0.4224943382652707, 0.6058549574486889, 0.2335134721311804, 0.2335134721311804, 0.1167567360655902, 0.1167567360655902, 0.2335134721311804, 0.3033641026805686, 0.3033641026805686, 0.13902315969433793, 0.4170694790830138, 0.13902315969433793, 0.06951157984716896, 0.06951157984716896, 0.06951157984716896, 0.3851402988358131, 0.3851402988358131, 0.5663938549715263, 0.18879795165717542, 0.30306490685946685, 0.30306490685946685, 0.37648916685616207, 0.37648916685616207, 0.5795034764327858, 0.3653971755904478, 0.3653971755904478, 0.4253441574909671, 0.5328382751010226, 0.1653303618181614, 0.1653303618181614, 0.1653303618181614, 0.1653303618181614, 0.1653303618181614, 0.44071960539628996, 0.36310818907735554, 0.36310818907735554, 0.47788439116561726, 0.47788439116561726, 0.2621115859493573, 0.2621115859493573, 0.2621115859493573, 0.2621115859493573, 0.6058670621623102, 0.5883934109945099, 0.6058554577901069, 0.1689489014309177, 0.3378978028618354, 0.1689489014309177, 0.1689489014309177, 0.32412511179380593, 0.32412511179380593, 0.32412511179380593, 0.3343887709473104, 0.3343887709473104, 0.45329330806093393, 0.45329330806093393, 0.4864908003564721, 0.4864908003564721, 0.45993991372798004, 0.15331330457599335, 0.15331330457599335, 0.15331330457599335, 0.5698143012753001, 0.6058420562181616, 0.22841558760667677, 0.45683117521335354, 0.22841558760667677, 0.8778768893626007, 0.510716818404721, 0.3273018040727603, 0.3273018040727603, 0.8778692818220305, 0.5752925172053198, 0.1416846180716206, 0.42505385421486186, 0.1416846180716206, 0.1416846180716206, 0.1416846180716206, 0.29345878066628245, 0.29345878066628245, 0.4754687347374292, 0.5701823664396174, 0.5802113137453155, 0.29010565687265777, 0.3034597480172082, 0.3034597480172082, 0.5625960307050031, 0.8768807506717592, 0.5784181479106876, 0.25698358416520606, 0.25698358416520606, 0.25698358416520606, 0.873651444205963, 0.4638236242420378, 0.4638236242420378, 0.4616770084544962, 0.4616770084544962, 0.23512172849314047, 0.23512172849314047, 0.23512172849314047, 0.23512172849314047, 0.11756086424657024, 0.5685001066384854, 0.8613657411856556, 0.2535718504112635, 0.12678592520563176, 0.2535718504112635, 0.12678592520563176, 0.12678592520563176, 0.06339296260281588, 0.34436177387114514, 0.13774470954845805, 0.2066170643226871, 0.06887235477422902, 0.06887235477422902, 0.06887235477422902, 0.5642939213678123, 0.8724691721198949, 0.6099617761967221, 0.44209471274160705, 0.44209471274160705, 0.877784125059154, 0.8702961001463885, 0.6058665479229268, 0.20055778822462328, 0.20055778822462328, 0.20055778822462328, 0.20055778822462328, 0.5696474798441855, 0.14238259959588223, 0.42714779878764664, 0.14238259959588223, 0.14238259959588223, 0.8440412441902408, 0.5655281293733553, 0.30121078055588685, 0.30121078055588685, 0.288849008559226, 0.144424504279613, 0.24070750713268835, 0.04814150142653767, 0.09628300285307534, 0.09628300285307534, 0.04814150142653767, 0.23117270710417928, 0.3467590606562689, 0.23117270710417928, 0.11558635355208964, 0.11558635355208964, 0.23922695176902303, 0.47845390353804607, 0.23922695176902303, 0.5218631198519756, 0.8752672821153092, 0.5710913595016421, 0.36809560012018444, 0.09202390003004611, 0.18404780006009222, 0.18404780006009222, 0.09202390003004611, 0.14630993887640334, 0.14630993887640334, 0.14630993887640334, 0.14630993887640334, 0.2926198777528067, 0.14630993887640334, 0.2978993601028026, 0.2978993601028026, 0.2978993601028026, 0.29137538825870973, 0.5827507765174195, 0.29137538825870973, 0.6058668674310532, 0.5777045464127007, 0.2071360629941873, 0.4142721259883746, 0.2071360629941873, 0.49998476785203844, 0.1666615892840128, 0.1666615892840128, 0.3876938278641255, 0.3876938278641255, 0.5672081145770957, 0.8790536825593231, 0.1600659654576869, 0.3201319309153738, 0.3201319309153738, 0.1600659654576869, 0.1600659654576869, 0.14914729912292485, 0.14914729912292485, 0.2982945982458497, 0.14914729912292485, 0.5810001223910422, 0.6383035114806169, 0.31915175574030846, 0.4482052925073738, 0.8489257691281139, 0.8864487573097568, 0.5871046385743891, 0.2621910856415914, 0.2621910856415914, 0.2621910856415914, 0.8624110193009538, 0.6058460376556615, 0.1811970009336813, 0.3623940018673626, 0.1811970009336813, 0.8073533913411083, 0.8608423555425043, 0.11083071740151967, 0.22166143480303935, 0.22166143480303935, 0.11083071740151967, 0.11083071740151967, 0.318943768713737, 0.318943768713737, 0.318943768713737, 0.4179728671794781, 0.6888269613426325, 0.22960898711421085, 0.22960898711421085, 0.11326396224983909, 0.5663198112491955, 0.11326396224983909, 0.11326396224983909, 0.11326396224983909, 0.5653652899615466, 0.8470482240971867, 0.5545677147763164, 0.2950079832677572, 0.1475039916338786, 0.2950079832677572, 0.1475039916338786, 0.1475039916338786, 0.1475039916338786, 0.5733881570737019, 0.68799306348302, 0.3791806129823, 0.10341289444971818, 0.2412967537160091, 0.10341289444971818, 0.034470964816572726, 0.06894192963314545, 0.40084072482489924, 0.32063502357940726, 0.19238101414764436, 0.19238101414764436, 0.1282540094317629, 0.06412700471588145, 0.6058529431271849, 0.3008592624999674, 0.3008592624999674, 0.3008592624999674, 0.6058487354245657, 0.7340682475916703, 0.5390769217086117, 0.4446993575055576, 0.4446993575055576, 0.19369374657796692, 0.38738749315593385, 0.19369374657796692, 0.19369374657796692, 0.5670184582061399, 0.535357570062686, 0.5090988416910532, 0.6058713655574894, 0.511241476460692, 0.17041382548689732, 0.17041382548689732, 0.2007580612582164, 0.6022741837746493, 0.5393330066106528, 0.1348332516526632, 0.1348332516526632, 0.1348332516526632, 0.1348332516526632, 0.8809751905013973, 0.22288388444515564, 0.33432582666773347, 0.11144194222257782, 0.22288388444515564, 0.11144194222257782, 0.11144194222257782, 0.28277012889345143, 0.28277012889345143, 0.2537308026635261, 0.2537308026635261, 0.2537308026635261, 0.2537308026635261, 0.5782920797478799, 0.19276402658262665, 0.19276402658262665, 0.2689473785007532, 0.2689473785007532, 0.2689473785007532, 0.2689473785007532, 0.2689473785007532, 0.5112057973989333, 0.2556028986994667, 0.6053851373582161, 0.5658975645115685, 0.48957851061092156, 0.24478925530546078, 0.32312057520205845, 0.16156028760102922, 0.32312057520205845, 0.2029478978997317, 0.4058957957994634, 0.2029478978997317, 0.37072316847013065, 0.37072316847013065, 0.12937281037236575, 0.38811843111709726, 0.2587456207447315, 0.12937281037236575, 0.3842898096944961, 0.19214490484724805, 0.19214490484724805, 0.19214490484724805, 0.5785406625107561, 0.8877539033098107, 0.44310569449525716, 0.44310569449525716, 0.48591528959594094, 0.12147882239898523, 0.12147882239898523, 0.12147882239898523, 0.14156832878005915, 0.4247049863401775, 0.14156832878005915, 0.14156832878005915, 0.14156832878005915], \"Term\": [\"able\", \"able\", \"act\", \"active\", \"add\", \"add\", \"advice\", \"advice\", \"advice\", \"advice\", \"advice\", \"afford\", \"agree\", \"allowed\", \"allowed\", \"almost\", \"almost\", \"almost\", \"already\", \"already\", \"also\", \"also\", \"also\", \"also\", \"also\", \"also\", \"alternatives\", \"anyone\", \"anyone\", \"anyone\", \"anyone\", \"anything\", \"anything\", \"anything\", \"app\", \"app\", \"app\", \"around\", \"asked\", \"asked\", \"asked\", \"autism\", \"away\", \"away\", \"away\", \"away\", \"away\", \"awesome\", \"back\", \"back\", \"back\", \"back\", \"back\", \"bad\", \"bad\", \"bad\", \"bad\", \"bad\", \"bed\", \"bed\", \"bed\", \"begun\", \"behaviour\", \"besides\", \"block\", \"block\", \"blocks\", \"branch\", \"bunch\", \"business\", \"came\", \"cancel\", \"cancel\", \"cancels\", \"cancels\", \"card\", \"card\", \"card\", \"card\", \"care\", \"cars\", \"characters\", \"charged\", \"charged\", \"charges\", \"charges\", \"chat\", \"child\", \"child\", \"child\", \"child\", \"childhood\", \"chores\", \"chores\", \"clothing\", \"co\", \"comes\", \"comes\", \"comes\", \"comes\", \"control\", \"controls\", \"could\", \"could\", \"could\", \"couple\", \"creepy\", \"crying\", \"dad\", \"dangers\", \"daughter\", \"daughter\", \"daughter\", \"daughter\", \"day\", \"day\", \"day\", \"days\", \"days\", \"debit\", \"debit\", \"described\", \"device\", \"device\", \"discipline\", \"discord\", \"dollars\", \"due\", \"edition\", \"effect\", \"else\", \"else\", \"ended\", \"escape\", \"etc\", \"etc\", \"etc\", \"even\", \"even\", \"even\", \"even\", \"every\", \"every\", \"every\", \"every\", \"everything\", \"favorite\", \"feel\", \"feel\", \"feel\", \"feel\", \"feel\", \"fetish\", \"figure\", \"found\", \"found\", \"found\", \"friends\", \"friends\", \"friends\", \"friends\", \"fun\", \"game\", \"game\", \"game\", \"game\", \"game\", \"gamers\", \"gamers\", \"games\", \"games\", \"games\", \"games\", \"games\", \"games\", \"garbage\", \"gave\", \"get\", \"get\", \"get\", \"get\", \"get\", \"get\", \"gets\", \"gets\", \"gets\", \"getting\", \"getting\", \"getting\", \"getting\", \"going\", \"going\", \"going\", \"going\", \"got\", \"got\", \"got\", \"got\", \"grandma\", \"grandma\", \"grandma\", \"grandma\", \"half\", \"half\", \"happened\", \"hate\", \"hated\", \"hearing\", \"heat\", \"help\", \"help\", \"help\", \"help\", \"help\", \"honestly\", \"horrible\", \"husband\", \"husband\", \"husband\", \"husband\", \"husband\", \"idea\", \"idea\", \"immediately\", \"imo\", \"inflation\", \"instead\", \"interactive\", \"iphone\", \"iphone\", \"keep\", \"kid\", \"kid\", \"kid\", \"kid\", \"kid\", \"kiddo\", \"kids\", \"kids\", \"kids\", \"kind\", \"know\", \"know\", \"know\", \"know\", \"know\", \"know\", \"kylee\", \"kylee\", \"kylee\", \"kylee\", \"laptop\", \"laptop\", \"larger\", \"leads\", \"leads\", \"learn\", \"learning\", \"led\", \"left\", \"lesson\", \"let\", \"let\", \"let\", \"let\", \"let\", \"letting\", \"letting\", \"like\", \"like\", \"like\", \"like\", \"like\", \"like\", \"live\", \"live\", \"lo\", \"lo\", \"long\", \"long\", \"looking\", \"looking\", \"love\", \"loves\", \"loves\", \"made\", \"majority\", \"make\", \"make\", \"make\", \"make\", \"make\", \"many\", \"medication\", \"medication\", \"meltdowns\", \"meltdowns\", \"might\", \"might\", \"might\", \"might\", \"millions\", \"mind\", \"mistake\", \"mom\", \"mom\", \"mom\", \"mom\", \"money\", \"money\", \"money\", \"month\", \"month\", \"monthly\", \"monthly\", \"mostly\", \"mostly\", \"much\", \"much\", \"much\", \"much\", \"multiplayer\", \"necessity\", \"need\", \"need\", \"need\", \"nephew\", \"nobody\", \"nothing\", \"nothing\", \"numbing\", \"obby\", \"old\", \"old\", \"old\", \"old\", \"old\", \"one\", \"one\", \"online\", \"option\", \"overall\", \"overall\", \"parent\", \"parent\", \"park\", \"part\", \"particularly\", \"pay\", \"pay\", \"pay\", \"pedophiles\", \"people\", \"people\", \"permission\", \"permission\", \"phone\", \"phone\", \"phone\", \"phone\", \"phone\", \"physical\", \"piano\", \"play\", \"play\", \"play\", \"play\", \"play\", \"play\", \"playing\", \"playing\", \"playing\", \"playing\", \"playing\", \"playing\", \"plays\", \"plus\", \"pm\", \"pop\", \"pop\", \"primarily\", \"processing\", \"promised\", \"put\", \"put\", \"put\", \"put\", \"rational\", \"really\", \"really\", \"really\", \"really\", \"relax\", \"resource\", \"right\", \"right\", \"roblox\", \"roblox\", \"roblox\", \"roblox\", \"roblox\", \"roblox\", \"roblox\", \"room\", \"room\", \"room\", \"room\", \"room\", \"rude\", \"rude\", \"rude\", \"rules\", \"running\", \"safe\", \"said\", \"said\", \"said\", \"said\", \"said\", \"say\", \"say\", \"say\", \"say\", \"say\", \"say\", \"saying\", \"saying\", \"saying\", \"says\", \"says\", \"says\", \"scammer\", \"scamming\", \"school\", \"school\", \"school\", \"screen\", \"screen\", \"screen\", \"seeing\", \"seeing\", \"sense\", \"sized\", \"something\", \"something\", \"something\", \"something\", \"something\", \"son\", \"son\", \"son\", \"son\", \"south\", \"speak\", \"speak\", \"starting\", \"stayed\", \"studies\", \"stuff\", \"subscription\", \"subscription\", \"subscription\", \"summer\", \"super\", \"tablet\", \"tablet\", \"tablet\", \"taken\", \"taking\", \"talk\", \"talk\", \"talk\", \"talk\", \"talk\", \"talking\", \"talking\", \"talking\", \"task\", \"teacher\", \"teacher\", \"teacher\", \"tell\", \"tell\", \"tell\", \"tell\", \"tell\", \"telling\", \"terrible\", \"therapist\", \"things\", \"things\", \"things\", \"things\", \"things\", \"things\", \"think\", \"thread\", \"time\", \"time\", \"time\", \"time\", \"time\", \"time\", \"times\", \"told\", \"told\", \"told\", \"told\", \"told\", \"tough\", \"toys\", \"toys\", \"toys\", \"trade\", \"trading\", \"trauma\", \"trial\", \"trial\", \"trying\", \"trying\", \"trying\", \"trying\", \"turns\", \"tv\", \"two\", \"unfriended\", \"upset\", \"upset\", \"upset\", \"video\", \"video\", \"videos\", \"videos\", \"videos\", \"videos\", \"videos\", \"visit\", \"want\", \"want\", \"want\", \"want\", \"want\", \"want\", \"wanted\", \"wanted\", \"watch\", \"watch\", \"watch\", \"watch\", \"watching\", \"watching\", \"watching\", \"way\", \"way\", \"way\", \"way\", \"way\", \"without\", \"without\", \"words\", \"workers\", \"worth\", \"worth\", \"would\", \"would\", \"would\", \"wrong\", \"wrong\", \"wrong\", \"yadda\", \"yadda\", \"year\", \"year\", \"year\", \"year\", \"yes\", \"yes\", \"yes\", \"yes\", \"yesterday\", \"yet\", \"yo\", \"yo\", \"youtube\", \"youtube\", \"youtube\", \"youtube\", \"yt\", \"yt\", \"yt\", \"yt\", \"yt\"]}, \"R\": 30, \"lambda.step\": 0.01, \"plot.opts\": {\"xlab\": \"PC1\", \"ylab\": \"PC2\"}, \"topic.order\": [1, 9, 5, 10, 2, 7, 6, 4, 3, 8]};\n",
       "\n",
       "function LDAvis_load_lib(url, callback){\n",
       "  var s = document.createElement('script');\n",
       "  s.src = url;\n",
       "  s.async = true;\n",
       "  s.onreadystatechange = s.onload = callback;\n",
       "  s.onerror = function(){console.warn(\"failed to load library \" + url);};\n",
       "  document.getElementsByTagName(\"head\")[0].appendChild(s);\n",
       "}\n",
       "\n",
       "if(typeof(LDAvis) !== \"undefined\"){\n",
       "   // already loaded: just create the visualization\n",
       "   !function(LDAvis){\n",
       "       new LDAvis(\"#\" + \"ldavis_el8121397825559585127756635937\", ldavis_el8121397825559585127756635937_data);\n",
       "   }(LDAvis);\n",
       "}else if(typeof define === \"function\" && define.amd){\n",
       "   // require.js is available: use it to load d3/LDAvis\n",
       "   require.config({paths: {d3: \"https://d3js.org/d3.v5\"}});\n",
       "   require([\"d3\"], function(d3){\n",
       "      window.d3 = d3;\n",
       "      LDAvis_load_lib(\"https://cdn.jsdelivr.net/gh/bmabey/pyLDAvis@3.4.0/pyLDAvis/js/ldavis.v3.0.0.js\", function(){\n",
       "        new LDAvis(\"#\" + \"ldavis_el8121397825559585127756635937\", ldavis_el8121397825559585127756635937_data);\n",
       "      });\n",
       "    });\n",
       "}else{\n",
       "    // require.js not available: dynamically load d3 & LDAvis\n",
       "    LDAvis_load_lib(\"https://d3js.org/d3.v5.js\", function(){\n",
       "         LDAvis_load_lib(\"https://cdn.jsdelivr.net/gh/bmabey/pyLDAvis@3.4.0/pyLDAvis/js/ldavis.v3.0.0.js\", function(){\n",
       "                 new LDAvis(\"#\" + \"ldavis_el8121397825559585127756635937\", ldavis_el8121397825559585127756635937_data);\n",
       "            })\n",
       "         });\n",
       "}\n",
       "</script>"
      ],
      "text/plain": [
       "<IPython.core.display.HTML object>"
      ]
     },
     "execution_count": 48,
     "metadata": {},
     "output_type": "execute_result"
    }
   ],
   "source": [
    "#os.makedirs('./results')\n",
    "id2word = corpora.Dictionary(data_words)\n",
    "texts = data_words\n",
    "corpus = [id2word.doc2bow(text) for text in texts]\n",
    "num_topics = 10\n",
    "lda_model = gensim.models.LdaMulticore(corpus=corpus,\n",
    "                                       id2word=id2word,\n",
    "                                       num_topics=num_topics)\n",
    "\n",
    "LDAvis_data_filepath = os.path.join('./results'+str(num_topics))\n",
    "# # this is a bit time consuming - make the if statement True\n",
    "# # if you want to execute visualization prep yourself\n",
    "if 1 == 1:\n",
    "    LDAvis_prepared = pyLDAvis.gensim.prepare(lda_model, corpus, id2word)\n",
    "    with open(LDAvis_data_filepath, 'wb') as f:\n",
    "        pickle.dump(LDAvis_prepared, f)\n",
    "# load the pre-prepared pyLDAvis data from disk\n",
    "with open(LDAvis_data_filepath, 'rb') as f:\n",
    "    LDAvis_prepared = pickle.load(f)\n",
    "#os.makedirs('./results')\n",
    "pyLDAvis.save_html(LDAvis_prepared, './results'+ str(num_topics) +'.html')\n",
    "LDAvis_prepared\n",
    "pyLDAvis.display(LDAvis_prepared)"
   ]
  },
  {
   "cell_type": "code",
   "execution_count": null,
   "id": "d7dfbc3e",
   "metadata": {},
   "outputs": [],
   "source": []
  }
 ],
 "metadata": {
  "kernelspec": {
   "display_name": "Python 3 (ipykernel)",
   "language": "python",
   "name": "python3"
  },
  "language_info": {
   "codemirror_mode": {
    "name": "ipython",
    "version": 3
   },
   "file_extension": ".py",
   "mimetype": "text/x-python",
   "name": "python",
   "nbconvert_exporter": "python",
   "pygments_lexer": "ipython3",
   "version": "3.9.5"
  }
 },
 "nbformat": 4,
 "nbformat_minor": 5
}
