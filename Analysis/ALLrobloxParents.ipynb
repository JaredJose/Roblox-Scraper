{
 "cells": [
  {
   "cell_type": "code",
   "execution_count": 1,
   "id": "9966110d",
   "metadata": {},
   "outputs": [],
   "source": [
    "import webbrowser\n",
    "from IPython.core.display import HTML\n",
    "import pandas as pd\n",
    "import nltk\n",
    "from nltk import ngrams\n",
    "from nltk.corpus import stopwords\n",
    "import re\n",
    "from sklearn.feature_extraction.text import CountVectorizer, TfidfVectorizer\n",
    "from collections import Counter\n",
    "#import pyLDAvis.gensim\n",
    "import gensim\n",
    "import pickle \n",
    "import pyLDAvis\n",
    "import pyLDAvis.gensim\n",
    "pyLDAvis.enable_notebook()\n",
    "import os\n",
    "import gensim.corpora as corpora\n",
    "from nltk.corpus import stopwords\n",
    "from gensim.utils import simple_preprocess\n"
   ]
  },
  {
   "cell_type": "code",
   "execution_count": 2,
   "id": "31443236",
   "metadata": {},
   "outputs": [],
   "source": [
    "df = pd.read_csv('https://raw.githubusercontent.com/JaredJose/Roblox-Scraper/main/data/ALLrobloxParents.csv?token=GHSAT0AAAAAAB6VRXEZNR2RGISESXKJJH3UZALPBFQ')"
   ]
  },
  {
   "cell_type": "code",
   "execution_count": 3,
   "id": "2db3ef21",
   "metadata": {},
   "outputs": [
    {
     "data": {
      "text/html": [
       "<div>\n",
       "<style scoped>\n",
       "    .dataframe tbody tr th:only-of-type {\n",
       "        vertical-align: middle;\n",
       "    }\n",
       "\n",
       "    .dataframe tbody tr th {\n",
       "        vertical-align: top;\n",
       "    }\n",
       "\n",
       "    .dataframe thead th {\n",
       "        text-align: right;\n",
       "    }\n",
       "</style>\n",
       "<table border=\"1\" class=\"dataframe\">\n",
       "  <thead>\n",
       "    <tr style=\"text-align: right;\">\n",
       "      <th></th>\n",
       "      <th>type</th>\n",
       "      <th>url</th>\n",
       "      <th>title</th>\n",
       "      <th>author</th>\n",
       "      <th>date</th>\n",
       "      <th>timestamp</th>\n",
       "      <th>score</th>\n",
       "      <th>text</th>\n",
       "      <th>comment_id</th>\n",
       "      <th>parent_id</th>\n",
       "    </tr>\n",
       "  </thead>\n",
       "  <tbody>\n",
       "    <tr>\n",
       "      <th>0</th>\n",
       "      <td>Post</td>\n",
       "      <td>https://www.reddit.com/r/RobloxParents/comment...</td>\n",
       "      <td>Can you limit friends?</td>\n",
       "      <td>discovoytng</td>\n",
       "      <td>2022-11-15</td>\n",
       "      <td>1.668478e+09</td>\n",
       "      <td>1</td>\n",
       "      <td>Can you limit friends?\\nCan you limit Roblox t...</td>\n",
       "      <td>NaN</td>\n",
       "      <td>NaN</td>\n",
       "    </tr>\n",
       "    <tr>\n",
       "      <th>1</th>\n",
       "      <td>comment</td>\n",
       "      <td>https://www.reddit.com/r/RobloxParents/comment...</td>\n",
       "      <td>NaN</td>\n",
       "      <td>zackyattacky</td>\n",
       "      <td>2022-11-15</td>\n",
       "      <td>1.668479e+09</td>\n",
       "      <td>1</td>\n",
       "      <td>You unfortunately can't limit friends or turn ...</td>\n",
       "      <td>iwery2p</td>\n",
       "      <td>NaN</td>\n",
       "    </tr>\n",
       "    <tr>\n",
       "      <th>2</th>\n",
       "      <td>comment</td>\n",
       "      <td>https://www.reddit.com/r/RobloxParents/comment...</td>\n",
       "      <td>NaN</td>\n",
       "      <td>discovoytng</td>\n",
       "      <td>2022-11-15</td>\n",
       "      <td>1.668489e+09</td>\n",
       "      <td>2</td>\n",
       "      <td>Thank you!!</td>\n",
       "      <td>iwfc4d5</td>\n",
       "      <td>iwery2p</td>\n",
       "    </tr>\n",
       "    <tr>\n",
       "      <th>3</th>\n",
       "      <td>comment</td>\n",
       "      <td>https://www.reddit.com/r/RobloxParents/comment...</td>\n",
       "      <td>NaN</td>\n",
       "      <td>JesseB999</td>\n",
       "      <td>2022-11-15</td>\n",
       "      <td>1.668480e+09</td>\n",
       "      <td>1</td>\n",
       "      <td>It's a terrible platform for little kids. No m...</td>\n",
       "      <td>iwet3lq</td>\n",
       "      <td>iwery2p</td>\n",
       "    </tr>\n",
       "    <tr>\n",
       "      <th>4</th>\n",
       "      <td>Post</td>\n",
       "      <td>https://www.reddit.com/r/RobloxParents/comment...</td>\n",
       "      <td>pbm 4 korblox</td>\n",
       "      <td>Total-Affect-2532</td>\n",
       "      <td>2022-07-19</td>\n",
       "      <td>1.658200e+09</td>\n",
       "      <td>0</td>\n",
       "      <td>pbm 4 korblox\\nhey! i have korblox user is (vy...</td>\n",
       "      <td>NaN</td>\n",
       "      <td>NaN</td>\n",
       "    </tr>\n",
       "  </tbody>\n",
       "</table>\n",
       "</div>"
      ],
      "text/plain": [
       "      type                                                url  \\\n",
       "0     Post  https://www.reddit.com/r/RobloxParents/comment...   \n",
       "1  comment  https://www.reddit.com/r/RobloxParents/comment...   \n",
       "2  comment  https://www.reddit.com/r/RobloxParents/comment...   \n",
       "3  comment  https://www.reddit.com/r/RobloxParents/comment...   \n",
       "4     Post  https://www.reddit.com/r/RobloxParents/comment...   \n",
       "\n",
       "                    title             author        date     timestamp  score  \\\n",
       "0  Can you limit friends?        discovoytng  2022-11-15  1.668478e+09      1   \n",
       "1                     NaN       zackyattacky  2022-11-15  1.668479e+09      1   \n",
       "2                     NaN        discovoytng  2022-11-15  1.668489e+09      2   \n",
       "3                     NaN          JesseB999  2022-11-15  1.668480e+09      1   \n",
       "4           pbm 4 korblox  Total-Affect-2532  2022-07-19  1.658200e+09      0   \n",
       "\n",
       "                                                text comment_id parent_id  \n",
       "0  Can you limit friends?\\nCan you limit Roblox t...        NaN       NaN  \n",
       "1  You unfortunately can't limit friends or turn ...    iwery2p       NaN  \n",
       "2                                        Thank you!!    iwfc4d5   iwery2p  \n",
       "3  It's a terrible platform for little kids. No m...    iwet3lq   iwery2p  \n",
       "4  pbm 4 korblox\\nhey! i have korblox user is (vy...        NaN       NaN  "
      ]
     },
     "execution_count": 3,
     "metadata": {},
     "output_type": "execute_result"
    }
   ],
   "source": [
    "df.head()"
   ]
  },
  {
   "cell_type": "code",
   "execution_count": 5,
   "id": "a9e845c8",
   "metadata": {},
   "outputs": [
    {
     "data": {
      "text/plain": [
       "0      Can you limit friends?\\nCan you limit Roblox t...\n",
       "1      You unfortunately can't limit friends or turn ...\n",
       "2                                            Thank you!!\n",
       "3      It's a terrible platform for little kids. No m...\n",
       "4      pbm 4 korblox\\nhey! i have korblox user is (vy...\n",
       "                             ...                        \n",
       "318    How long has your kid been playing Roblox?\\nWo...\n",
       "319    I’m not a parent but myself have been playing ...\n",
       "320    Welcoming all parents to the /r/RobloxParents ...\n",
       "321    Am happy to be a new member of the Roblox Pare...\n",
       "322    Welcome to the community! all of us here are p...\n",
       "Name: text, Length: 323, dtype: object"
      ]
     },
     "execution_count": 5,
     "metadata": {},
     "output_type": "execute_result"
    }
   ],
   "source": [
    "df['text']"
   ]
  },
  {
   "cell_type": "code",
   "execution_count": null,
   "id": "07b5b754",
   "metadata": {},
   "outputs": [],
   "source": [
    "## Key Words"
   ]
  },
  {
   "cell_type": "code",
   "execution_count": 6,
   "id": "623969e4",
   "metadata": {},
   "outputs": [],
   "source": [
    "text = \" \".join(df['text'].dropna().astype(str))\n",
    "tokens = nltk.word_tokenize(text)\n",
    "tokens = [re.sub(r'[^\\w\\s]', '', token) for token in tokens]\n",
    "stop_words = set(stopwords.words('english'))\n",
    "filtered_tokens = [token for token in tokens if token.lower() not in stop_words and token.strip() != '']\n",
    "\n",
    "\n",
    "bi_grams = ngrams(filtered_tokens, 2)"
   ]
  },
  {
   "cell_type": "code",
   "execution_count": 7,
   "id": "e70b7794",
   "metadata": {},
   "outputs": [],
   "source": [
    "bi_grams_list = list(bi_grams)\n",
    "bi_grams_list = [tuple(filter(None, bg)) for bg in bi_grams_list]\n",
    "#print(bi_grams_list)"
   ]
  },
  {
   "cell_type": "code",
   "execution_count": 8,
   "id": "5be9a57c",
   "metadata": {},
   "outputs": [
    {
     "name": "stdout",
     "output_type": "stream",
     "text": [
      "The most common bi-gram is: parental controls with a frequency of 15\n"
     ]
    }
   ],
   "source": [
    "bi_grams_list1 = [' '.join(bi_gram) for bi_gram in bi_grams_list if '(' not in bi_gram and ')' not in bi_gram]\n",
    "\n",
    "freq_dist = nltk.FreqDist(bi_grams_list1)\n",
    "most_common = freq_dist.most_common(1)\n",
    "print('The most common bi-gram is:', most_common[0][0], 'with a frequency of', most_common[0][1])"
   ]
  },
  {
   "cell_type": "code",
   "execution_count": 9,
   "id": "0bad3957",
   "metadata": {
    "scrolled": false
   },
   "outputs": [
    {
     "name": "stdout",
     "output_type": "stream",
     "text": [
      "The most common bi-gram is: parental controls with a frequency of 15\n"
     ]
    }
   ],
   "source": [
    "bi_grams_list1 = [' '.join(bi_gram) for bi_gram in bi_grams_list if '(' not in bi_gram and ')' not in bi_gram]\n",
    "\n",
    "if bi_grams_list1:\n",
    "    freq_dist = nltk.FreqDist(bi_grams_list1)\n",
    "    most_common = freq_dist.most_common(1)\n",
    "    print('The most common bi-gram is:', most_common[0][0], 'with a frequency of', most_common[0][1])\n",
    "else:\n",
    "    print('No bigrams found in the text')"
   ]
  },
  {
   "cell_type": "code",
   "execution_count": 10,
   "id": "7a1e2829",
   "metadata": {},
   "outputs": [
    {
     "name": "stdout",
     "output_type": "stream",
     "text": [
      "Roblox: 94\n",
      "games: 77\n",
      "game: 72\n",
      "get: 50\n",
      "play: 49\n",
      "playing: 44\n",
      "kids: 38\n",
      "like: 38\n",
      "chat: 37\n",
      "would: 36\n"
     ]
    }
   ],
   "source": [
    "words = text.split()\n",
    "words = [word for word in words if word.lower() not in stop_words]\n",
    "word_counts = Counter(words)\n",
    "\n",
    "for word, count in word_counts.most_common(10):\n",
    "    print(f\"{word}: {count}\")"
   ]
  },
  {
   "cell_type": "code",
   "execution_count": 11,
   "id": "f4597d7a",
   "metadata": {},
   "outputs": [
    {
     "name": "stdout",
     "output_type": "stream",
     "text": [
      "\n",
      "\n",
      "Words : \n",
      "                       term  rank\n",
      "490             beast mode  23.0\n",
      "3136     parental controls  18.0\n",
      "3393       poisonous beast  17.0\n",
      "5069              year old  14.0\n",
      "148   account restrictions  13.0\n",
      "3302           play roblox  12.0\n",
      "3362        playing roblox  11.0\n"
     ]
    }
   ],
   "source": [
    "vectorizer = CountVectorizer(ngram_range = (2, 2))\n",
    "X1=vectorizer.fit_transform(bi_grams_list1)\n",
    "features = (vectorizer.get_feature_names_out())\n",
    "\n",
    "vectorizer = TfidfVectorizer(ngram_range = (2, 2))\n",
    "tfidf = vectorizer.fit_transform(bi_grams_list1)\n",
    "\n",
    "\n",
    "sums = tfidf.sum(axis = 0)\n",
    "data1 = []\n",
    "for col, term in enumerate(features):\n",
    "    data1.append( (term, sums[0, col] ))\n",
    "ranking = pd.DataFrame(data1, columns = ['term', 'rank'])\n",
    "words = (ranking.sort_values('rank', ascending = False))\n",
    "print (\"\\n\\nWords : \\n\", words.head(7))"
   ]
  },
  {
   "cell_type": "code",
   "execution_count": 12,
   "id": "ad991e4b",
   "metadata": {
    "scrolled": true
   },
   "outputs": [
    {
     "name": "stdout",
     "output_type": "stream",
     "text": [
      "9      pbm 4 korblox\\nhey! i have korblox user is (vy...\n",
      "13                 Can i offer Candy Set and logchopper?\n",
      "19     hey! i have korblox user is (vyyhitta) and i w...\n",
      "23                                          still avail?\n",
      "31     LF account\\nAnyone trading their acct that has...\n",
      "40     A potential solution to lack of parental contr...\n",
      "49     Filter curated content\\nIs there anyway to fil...\n",
      "54     idk\\ni have poisonous beast mode and meta valk...\n",
      "61     I don’t really understand what happened, the v...\n",
      "62     It was like a clip before the game opened (aft...\n",
      "71     Account Restrictions\\nI changed the settings t...\n",
      "77     Account Hacked and Roblox saw nothing?\\nMy son...\n",
      "78     How long did it take to retain access to the r...\n",
      "91     What's with all the \"get eaten\" games?\\nI have...\n",
      "110    Searching for \"parental controls\"-approved gam...\n",
      "116    Son getting scammed\\nMy 8yo plays Roblox for a...\n",
      "118                      Was it a game, or avatar items?\n",
      "127    do the settings described [here](https://en.he...\n",
      "132    Report it, these games are from around 2014 an...\n",
      "137                                                    ?\n",
      "141                                   clickbaited games?\n",
      "163    What are your biggest safety concerns?\\nHi fel...\n",
      "166         Really? How is that allowed on the platform?\n",
      "193    My 6yr old is asking me for robux, what’s the ...\n",
      "243    Well your son has to learn.\\nAl, he needs is a...\n",
      "260              Hmm, have you check your local Walmart?\n",
      "263    At what age would a kid be able to learn to cr...\n",
      "290    Best Roblox game for 4 year old?\\nWhat are the...\n",
      "299    Best age for kid to start playing Roblox?\\nHow...\n",
      "Name: text, dtype: object\n"
     ]
    }
   ],
   "source": [
    "df_ques = df['text'].str.endswith('?')\n",
    "df_true = df.loc[df_ques]\n",
    "print(df_true['text'])"
   ]
  },
  {
   "cell_type": "code",
   "execution_count": 13,
   "id": "e14bb0d7",
   "metadata": {},
   "outputs": [
    {
     "data": {
      "text/plain": [
       "0    can you limit friends\\ncan you limit roblox to...\n",
       "1    you unfortunately can't limit friends or turn ...\n",
       "2                                            thank you\n",
       "3    it's a terrible platform for little kids no ma...\n",
       "4    pbm 4 korblox\\nhey i have korblox user is (vyy...\n",
       "Name: text_processed, dtype: object"
      ]
     },
     "execution_count": 13,
     "metadata": {},
     "output_type": "execute_result"
    }
   ],
   "source": [
    "df['text_processed'] = df['text'].apply(lambda x: re.sub('[,.!?]', '', x) if isinstance(x, str) else x)\n",
    "df['text_processed'] = df['text_processed'].apply(lambda x: x.lower() if isinstance(x, str) else x)\n",
    "\n",
    "df['text_processed'].head()\n"
   ]
  },
  {
   "cell_type": "code",
   "execution_count": 14,
   "id": "492f1a8f",
   "metadata": {},
   "outputs": [
    {
     "name": "stdout",
     "output_type": "stream",
     "text": [
      "['limit', 'friends', 'limit', 'roblox', 'certain', 'friends', 'roblox', 'confusing', 'year', 'old', 'loves', 'one', 'friend', 'circle', 'chat', 'app', 'message', 'turned', 'protect', 'creepy', 'people', 'couple', 'girls', 'tried', 'cyber', 'bully', 'limit', 'friends', 'right', 'friend']\n"
     ]
    }
   ],
   "source": [
    "stop_words = stopwords.words('english')\n",
    "stop_words.extend(['from', 'subject', 're', 'edu', 'use'])\n",
    "def sent_to_words(sentences):\n",
    "    for sentence in sentences:\n",
    "        # deacc=True removes punctuations\n",
    "        yield(gensim.utils.simple_preprocess(str(sentence), deacc=True))\n",
    "def remove_stopwords(texts):\n",
    "    return [[word for word in simple_preprocess(str(doc)) \n",
    "             if word not in stop_words] for doc in texts]\n",
    "data = df.text.values.tolist()\n",
    "data_words = list(sent_to_words(data))\n",
    "# remove stop words\n",
    "data_words = remove_stopwords(data_words)\n",
    "print(data_words[:1][0][:30])"
   ]
  },
  {
   "cell_type": "code",
   "execution_count": 15,
   "id": "f7a642f5",
   "metadata": {},
   "outputs": [
    {
     "name": "stderr",
     "output_type": "stream",
     "text": [
      "/home/zhz094/.local/lib/python3.9/site-packages/pyLDAvis/_prepare.py:243: FutureWarning: In a future version of pandas all arguments of DataFrame.drop except for the argument 'labels' will be keyword-only.\n",
      "  default_term_info = default_term_info.sort_values(\n"
     ]
    },
    {
     "data": {
      "text/html": [
       "\n",
       "<link rel=\"stylesheet\" type=\"text/css\" href=\"https://cdn.jsdelivr.net/gh/bmabey/pyLDAvis@3.4.0/pyLDAvis/js/ldavis.v1.0.0.css\">\n",
       "\n",
       "\n",
       "<div id=\"ldavis_el47101398167367874724807215098\" style=\"background-color:white;\"></div>\n",
       "<script type=\"text/javascript\">\n",
       "\n",
       "var ldavis_el47101398167367874724807215098_data = {\"mdsDat\": {\"x\": [-0.02655572853664222, 0.007702268995570433, -0.010355915705907014, -0.026535585070984826, -0.03519426255412579, 0.026164268374900795, -0.1005316711128821, 0.06620214592206193, 0.07781537759447, 0.021289102093538907], \"y\": [0.07128049226983264, -0.035351184880343195, 0.026180864676321535, 0.005866083463803757, -0.07159896376159283, 0.07574299830394696, -0.009921535198867834, 0.008382569430391148, -0.034663807296255546, -0.035917517007236756], \"topics\": [1, 2, 3, 4, 5, 6, 7, 8, 9, 10], \"cluster\": [1, 1, 1, 1, 1, 1, 1, 1, 1, 1], \"Freq\": [28.611895068838844, 10.455895561350987, 9.899675495468015, 9.698778958843315, 9.646903702435381, 8.02265595201266, 7.438084460758884, 7.39282581066492, 5.180123536457123, 3.653161453169873]}, \"tinfo\": {\"Term\": [\"robux\", \"games\", \"account\", \"time\", \"play\", \"child\", \"game\", \"roblox\", \"https\", \"com\", \"community\", \"son\", \"make\", \"parent\", \"friends\", \"chat\", \"bad\", \"curated\", \"way\", \"people\", \"also\", \"beast\", \"gift\", \"good\", \"want\", \"mode\", \"could\", \"im\", \"accounts\", \"korblox\", \"asked\", \"taken\", \"hacked\", \"catalog\", \"wiki\", \"person\", \"en\", \"fandom\", \"valk\", \"meta\", \"reset\", \"fair\", \"usually\", \"blizzard\", \"links\", \"insult\", \"disaster\", \"paid\", \"pg\", \"radioactive\", \"toxic\", \"phishing\", \"ruin\", \"minutes\", \"quite\", \"kiddos\", \"biggest\", \"item\", \"though\", \"beast\", \"mode\", \"account\", \"poisonous\", \"settings\", \"premium\", \"get\", \"roblox\", \"limited\", \"spent\", \"games\", \"like\", \"game\", \"com\", \"eaten\", \"robux\", \"https\", \"worth\", \"see\", \"playing\", \"birthday\", \"two\", \"restrictions\", \"kids\", \"much\", \"help\", \"old\", \"age\", \"time\", \"play\", \"kid\", \"would\", \"best\", \"know\", \"items\", \"parents\", \"warning\", \"summary\", \"recent\", \"lf\", \"logo\", \"ipads\", \"ten\", \"botted\", \"optional\", \"pictures\", \"worthless\", \"gamestop\", \"strolling\", \"left\", \"header\", \"wanting\", \"weekends\", \"odds\", \"approve\", \"love\", \"rn\", \"watches\", \"man\", \"imgne\", \"imagne\", \"north\", \"cvs\", \"string\", \"issues\", \"sees\", \"acct\", \"hundred\", \"continue\", \"gameplay\", \"report\", \"deleted\", \"homepage\", \"section\", \"videos\", \"email\", \"made\", \"recently\", \"sent\", \"even\", \"game\", \"show\", \"buy\", \"child\", \"hours\", \"need\", \"content\", \"see\", \"games\", \"kids\", \"needs\", \"youtube\", \"finish\", \"playing\", \"much\", \"roblox\", \"keep\", \"children\", \"time\", \"kid\", \"also\", \"get\", \"robux\", \"really\", \"go\", \"parental\", \"know\", \"parents\", \"controls\", \"like\", \"good\", \"account\", \"ok\", \"stolen\", \"starters\", \"corp\", \"google\", \"developer\", \"wont\", \"cause\", \"dhc\", \"siblings\", \"commonsense\", \"schooled\", \"paintball\", \"simon\", \"distancing\", \"locations\", \"vacation\", \"vacinate\", \"afford\", \"ultimate\", \"em\", \"usd\", \"checking\", \"typing\", \"weapon\", \"messages\", \"sometime\", \"improves\", \"yr\", \"believes\", \"social\", \"items\", \"card\", \"trade\", \"old\", \"limited\", \"disable\", \"chat\", \"robux\", \"today\", \"party\", \"something\", \"roblox\", \"friends\", \"page\", \"got\", \"good\", \"get\", \"think\", \"korblox\", \"also\", \"certain\", \"would\", \"rolimons\", \"year\", \"trading\", \"gift\", \"play\", \"like\", \"way\", \"games\", \"game\", \"kid\", \"parents\", \"time\", \"kids\", \"buy\", \"platform\", \"playing\", \"parenting\", \"coronavirus\", \"mytransactions\", \"aspx\", \"microsoft\", \"funeral\", \"bed\", \"mow\", \"clean\", \"lawn\", \"generates\", \"distraction\", \"panic\", \"kick\", \"shel\", \"nanny\", \"careful\", \"scientific\", \"offers\", \"common\", \"logchopper\", \"surge\", \"dopamine\", \"wuggy\", \"candy\", \"huggy\", \"explained\", \"jokes\", \"squished\", \"lolol\", \"chores\", \"sense\", \"limit\", \"make\", \"korblox\", \"wish\", \"amount\", \"clicking\", \"comment\", \"friends\", \"www\", \"internet\", \"busy\", \"money\", \"type\", \"thank\", \"discuss\", \"reporting\", \"vyyhitta\", \"com\", \"block\", \"kids\", \"sure\", \"keeping\", \"https\", \"roblox\", \"playing\", \"good\", \"chat\", \"games\", \"set\", \"would\", \"game\", \"age\", \"anyone\", \"yes\", \"kid\", \"child\", \"best\", \"play\", \"robux\", \"like\", \"sup\", \"welcome\", \"modern\", \"helpful\", \"stuck\", \"award\", \"memberships\", \"coupon\", \"soon\", \"relatives\", \"limitations\", \"automatically\", \"chrome\", \"learned\", \"touchid\", \"pedo\", \"imma\", \"ufo\", \"coworkers\", \"fingerprint\", \"cuz\", \"instant\", \"ginger\", \"robluxes\", \"predators\", \"lower\", \"apparently\", \"worked\", \"agreed\", \"idiot\", \"community\", \"capitalism\", \"questions\", \"christmas\", \"cyber\", \"desktop\", \"gift\", \"happy\", \"parents\", \"sale\", \"still\", \"personally\", \"played\", \"roblox\", \"screen\", \"chat\", \"present\", \"codes\", \"us\", \"many\", \"kids\", \"play\", \"rls\", \"disable\", \"little\", \"one\", \"parent\", \"want\", \"kid\", \"playing\", \"game\", \"way\", \"account\", \"would\", \"child\", \"started\", \"like\", \"games\", \"time\", \"unique\", \"choose\", \"average\", \"assuming\", \"comfortable\", \"deathshard\", \"sented\", \"cons\", \"occupied\", \"needing\", \"workers\", \"ill\", \"cbc\", \"exclusive\", \"surviving\", \"tbh\", \"yea\", \"waaaayy\", \"clickbaited\", \"short\", \"gotten\", \"moderation\", \"rlly\", \"lucky\", \"nudity\", \"wander\", \"awh\", \"lately\", \"costs\", \"hair\", \"curated\", \"son\", \"approved\", \"avatar\", \"games\", \"spending\", \"play\", \"robux\", \"parental\", \"list\", \"feel\", \"would\", \"well\", \"controls\", \"bad\", \"game\", \"started\", \"allows\", \"roblox\", \"control\", \"couple\", \"daughter\", \"allow\", \"seems\", \"chat\", \"spend\", \"kids\", \"option\", \"restrictions\", \"account\", \"see\", \"way\", \"make\", \"old\", \"get\", \"want\", \"utm\", \"esrb\", \"rating\", \"pegi\", \"occurred\", \"dancing\", \"correction\", \"primary\", \"filtered\", \"shot\", \"arent\", \"instance\", \"context\", \"pole\", \"incident\", \"downloaded\", \"took\", \"media\", \"respectfully\", \"chance\", \"clips\", \"laptop\", \"lead\", \"monitored\", \"ujg\", \"jn\", \"event\", \"factors\", \"unfortunate\", \"bypasses\", \"remember\", \"helped\", \"servers\", \"extremely\", \"could\", \"stomach\", \"grammar\", \"spelling\", \"people\", \"game\", \"also\", \"random\", \"free\", \"around\", \"kid\", \"roblox\", \"guide\", \"lot\", \"back\", \"opinion\", \"eaten\", \"using\", \"chat\", \"saw\", \"private\", \"understand\", \"playing\", \"think\", \"games\", \"really\", \"get\", \"https\", \"would\", \"play\", \"played\", \"parents\", \"parental\", \"controls\", \"son\", \"many\", \"child\", \"dear\", \"months\", \"clarify\", \"thousand\", \"college\", \"elsewhere\", \"ignorant\", \"scared\", \"indicate\", \"full\", \"three\", \"knowledgeable\", \"overpays\", \"balance\", \"among\", \"currently\", \"student\", \"internally\", \"shes\", \"wrong\", \"heard\", \"cutest\", \"lees\", \"gambling\", \"willing\", \"added\", \"cord\", \"uab\", \"linked\", \"ownership\", \"probably\", \"subreddit\", \"yeah\", \"proof\", \"customization\", \"response\", \"acc\", \"spend\", \"im\", \"ur\", \"robux\", \"sell\", \"mode\", \"stuff\", \"option\", \"beast\", \"parent\", \"anything\", \"child\", \"add\", \"content\", \"lack\", \"nothing\", \"parents\", \"looking\", \"since\", \"worth\", \"need\", \"play\", \"game\", \"roblox\", \"games\", \"get\", \"many\", \"pm\", \"connect\", \"avoid\", \"profile\", \"glad\", \"dedlvghts\", \"browser\", \"tracks\", \"f\\u00e6king\", \"lure\", \"macro\", \"isnt\", \"concept\", \"correct\", \"icon\", \"micro\", \"regretting\", \"menu\", \"strange\", \"friending\", \"dollar\", \"brand\", \"username\", \"agree\", \"night\", \"crimes\", \"resolve\", \"computer\", \"scary\", \"drives\", \"brother\", \"accounts\", \"child\", \"gets\", \"parent\", \"time\", \"wants\", \"way\", \"play\", \"really\", \"want\", \"give\", \"free\", \"know\", \"people\", \"add\", \"friend\", \"account\", \"new\", \"get\", \"like\", \"see\", \"option\", \"im\", \"robux\", \"roblox\", \"go\", \"much\", \"games\", \"make\", \"trade\", \"game\", \"nom\", \"gaming\", \"oof\", \"effects\", \"seers\", \"youre\", \"becomes\", \"tides\", \"known\", \"house\", \"illness\", \"sound\", \"ideas\", \"xd\", \"karen\", \"incredibly\", \"evades\", \"tos\", \"treads\", \"proven\", \"thin\", \"life\", \"bitch\", \"privacy\", \"line\", \"keeps\", \"rule\", \"caused\", \"pure\", \"irl\", \"web\", \"bad\", \"real\", \"account\", \"time\", \"still\", \"good\", \"roblox\", \"https\", \"com\", \"well\", \"video\", \"friends\", \"restrictions\", \"games\", \"play\", \"called\", \"game\", \"kids\", \"want\", \"also\", \"way\", \"scammed\", \"content\", \"curated\", \"disable\", \"chat\", \"really\"], \"Freq\": [63.0, 90.0, 43.0, 27.0, 45.0, 27.0, 84.0, 148.0, 18.0, 16.0, 11.0, 19.0, 14.0, 20.0, 18.0, 32.0, 11.0, 12.0, 19.0, 15.0, 22.0, 24.0, 8.0, 20.0, 15.0, 25.0, 10.0, 8.0, 5.0, 9.0, 3.400082204049635, 4.067949578660895, 2.55747746601269, 5.827366971298238, 1.8960864447296983, 1.8960376265358445, 1.8959663364749788, 1.8958340236717959, 1.8958520399100038, 1.8957638959488792, 1.8015705469690828, 1.7871519384359957, 1.7809448600658895, 1.743554385479759, 1.7512480940865058, 1.7350084894334787, 1.7250540335161257, 2.2737999783265503, 1.6851412855808867, 1.6927834638718988, 1.6752416532701233, 1.6425133161970222, 1.6141786165707552, 3.2539468779784637, 2.730648191606252, 1.5896352696108018, 1.580529029811657, 5.732349330989681, 5.753799115498643, 15.464794825643427, 15.069229524658427, 24.974298477454795, 9.917132470921997, 5.03000701281411, 8.510666357941176, 24.681307175784138, 67.61649642759768, 8.796930047563615, 5.301205252834899, 38.61972600607057, 15.590973584023988, 33.37221960413681, 8.568835948039755, 5.085074710373062, 24.69354891906193, 8.782302411922718, 6.51755820855603, 9.941744589543926, 14.27777036849487, 4.216869479011642, 3.530255143068591, 6.846774159850075, 14.52165366671656, 7.716326153448286, 5.803342220786484, 8.472125556231621, 7.160207886473985, 8.803523603301729, 11.16356092107086, 9.200062943487906, 8.808493760371217, 6.302235103522695, 6.64185320456741, 6.75218774692056, 7.568153636398679, 1.3570975013161175, 0.8256219254897235, 0.8256031651087384, 0.8255810066210089, 0.8255725113541478, 0.8255771837509214, 0.8255673434001405, 0.8255738564380675, 0.8255604763927611, 0.8255698211863084, 0.8255607595683231, 0.8255664938734544, 0.825556724316564, 0.8255494325458416, 0.8255406541034184, 0.8255462468207686, 0.8255485122252649, 0.8255413620423234, 0.8255419283934475, 0.8255282651725792, 0.8255427779201336, 0.8255223184857764, 0.8255321588365572, 0.825523380394134, 0.8255207610201851, 0.8255259997680828, 0.8255242299208201, 0.825516301005083, 0.8255234511880245, 0.825527274058112, 1.5761224715306643, 1.5761074632258762, 1.5940225651582625, 1.5760928796844313, 2.32652779978887, 1.233927883615055, 1.1869039621645598, 1.4884711398127881, 1.5759626189258935, 2.164542033509117, 2.4859563491556314, 1.8670319829321091, 1.3857804955828108, 4.087279605066597, 12.573352888434087, 1.7440976841231006, 3.7629238032694046, 5.289216579087003, 1.8352337743074267, 3.197291095592654, 3.461642562144945, 4.392380884522961, 9.65114079921044, 6.1868729164298335, 1.770811900294719, 1.8866056441313566, 1.0823179531039662, 5.0705399148137635, 3.340321656100653, 9.973257531838591, 2.467952613272327, 2.813330519268596, 3.5125549796194666, 3.7153208585884308, 3.0526739024105525, 3.82276191445939, 4.178430703555712, 2.690245995823926, 2.309943198234723, 2.5021607875177407, 2.4737163686620653, 2.7334970984674873, 2.3548633376409414, 2.5467535759742423, 2.247702059225276, 2.3107628498990445, 1.39300228403366, 0.7834429418745837, 0.7834279946567012, 0.7833935423249001, 0.7834005132247197, 0.7833985023882333, 0.7833857670904858, 0.783389051456747, 0.7833660608929186, 0.7833763831868824, 0.7833635138333691, 0.7833689430918825, 0.7833661279208015, 0.7833615700247656, 0.7833560067104864, 0.7833482314760721, 0.7833320107284149, 0.7833366356523337, 0.7832725569962989, 0.7832566043601731, 0.7831716800325622, 1.5358896436451972, 1.1255676000688655, 0.7284885234249697, 1.4956202300003323, 0.7240239972298794, 0.71005706213444, 0.709001842174236, 2.16162241177629, 0.6778671894921152, 1.6361646969936283, 5.289476957773843, 1.261615300455405, 4.4823947562203665, 5.598916809438603, 3.9195361530686377, 2.65405803572277, 6.055866799741473, 9.171573212245578, 1.7732091019986163, 1.656023718133769, 1.382071779060637, 14.22316124277304, 3.817407912814298, 1.958924463600372, 2.3612732723964136, 3.5892726149733067, 5.688135211338428, 2.7226943196819287, 2.207660647189237, 3.5322525312290494, 0.9889619595852199, 4.041214818090332, 0.9910896256715284, 2.70694839754693, 2.449969929255889, 2.0271081752943143, 4.665553540313255, 3.8523911054478277, 2.7864456115366805, 4.8835298241131895, 4.750091787318759, 3.217246952281339, 3.1660019909261545, 3.0330125047239678, 2.73939123341925, 2.127109486769057, 2.1002350592950036, 2.200015044700472, 2.1607448939677774, 2.667603822927618, 1.525647118989074, 2.966335508341437, 1.3554017153733855, 1.354710234811898, 0.8581507544963898, 0.8581490471369787, 0.8581324332165555, 0.858115293954775, 0.8581166729758378, 0.8581133239246853, 0.8581166073081682, 0.8581043274539424, 0.8581077421727645, 0.8580880418718674, 0.8580860718417778, 0.858072806972507, 0.8580787170627762, 0.8580579004114949, 0.858070705607078, 0.8580634821634158, 0.8580511366415202, 0.8580343913857578, 0.8580304513255783, 0.858012327048753, 0.8580000471945272, 0.8579404209504786, 0.8578844064282612, 0.8579356928782633, 1.7079921847450699, 1.7143079698773345, 4.027647979875071, 6.037131993524979, 3.899538499165432, 1.1998185890386972, 1.5306072607489405, 1.5036875875851168, 1.189131044466692, 5.592808255044096, 3.8713983266933645, 2.5510245343270226, 1.897185863104927, 2.9938166400808273, 1.6223415805408536, 1.6600663434053686, 1.63094443927193, 1.3579689272509536, 1.603282852776322, 4.027939281657669, 2.614711929737781, 7.496875433252373, 2.8351217855517756, 1.1102603644838756, 3.970254436594911, 13.032310107987886, 5.320371480584986, 3.6393986525262783, 4.457525093702107, 6.834539234241331, 2.587774000961793, 3.953827012353533, 5.8575377464509115, 3.1277647646350033, 2.499769867477072, 2.1705637866055607, 3.665436671557288, 3.2797081947112865, 2.5959546165769747, 3.2380328648402106, 3.178139222040872, 2.801861636211896, 2.4845280571488133, 2.959865554019495, 1.6831195413529876, 1.6828874067356325, 1.3433132595087771, 0.8816680473415686, 0.881654004307598, 0.8816526979788565, 0.8816543962062204, 0.8816498240556253, 0.8816441415256, 0.8816539389911608, 0.8816474073474536, 0.8816512610172409, 0.8816482564611356, 0.8816449253228449, 0.8816319273518675, 0.8816284655807026, 0.8816135081166131, 0.8816231096328627, 0.8816135734330501, 0.881607956219462, 0.8815954807799812, 0.8815918883759422, 0.881591757743068, 0.8815914311608827, 0.8815978321717157, 0.8815960033114777, 0.8815830706569374, 0.8815841157199306, 6.7965838970067125, 1.3228672552120242, 3.7092742173004196, 2.386064573325262, 1.6829937418951864, 1.6831282937555554, 4.142363475078226, 2.484340207075793, 7.5703150951246325, 1.1712774715998229, 3.301196452137848, 1.8952327112522813, 3.960217878406342, 18.83018328507156, 1.1601828215987162, 6.027603555255685, 1.1286347212270305, 1.1121282125158585, 1.7214096043592797, 3.0068641269477676, 5.556119728172271, 5.531650623250485, 1.2459608082798266, 2.1870904579074395, 2.1026403543920096, 2.7209709466931806, 3.2158921402583864, 2.8069148371244546, 3.7044078814727825, 3.9455916992856084, 5.207754249781227, 2.8827255355083268, 3.5090691483095315, 3.0434170339936837, 2.7619941106923274, 2.385344524922977, 2.852597675744342, 3.215150406798993, 2.4980621454416974, 1.5657338078109082, 1.5656539587071288, 0.8201976635811131, 0.8201832146956672, 0.8201578476674598, 0.8201332954260256, 0.8201226488788551, 0.820116347861142, 0.820115370117014, 0.8200831588799112, 0.8200797910945817, 0.8200609423605604, 0.8200535006413646, 0.820043342966258, 0.8200231362542811, 0.8200241139984091, 0.8200262867631378, 0.8199961396525273, 0.8199047205765677, 0.8199562151006375, 0.81991531280462, 0.819904286023622, 0.8198580604540191, 0.8198406240170714, 0.8198324761493387, 0.8197976032754434, 0.8196268239677684, 0.8196121578058497, 1.5655786724092797, 1.5656274509774388, 4.755643579999093, 6.104822272831088, 2.5532655889940012, 3.602527571607387, 16.527470383642264, 1.6766009749422521, 8.826940144462123, 10.420690015237684, 4.16086748674437, 2.5597308677206865, 2.4377774944759194, 4.490626685958568, 2.381313205642076, 2.9219320516518765, 2.3901559235348917, 6.164241738972421, 2.3880946216367853, 1.2377365035152035, 6.543305315410015, 1.2559336253944415, 1.4487772502509422, 1.8944655065849094, 1.5880025821534718, 1.609437014840219, 2.9551379804474753, 1.8546222160961134, 3.130144619178518, 1.7649732915610123, 2.0306320203023915, 2.6956740212240593, 2.1907641289773068, 2.0674556023712567, 1.9185766767791645, 2.0124931285178826, 2.1127616579409207, 1.7895773534339703, 1.4233323369305682, 1.3379955677283077, 1.3279267620538497, 1.3120733738344286, 0.7456351174532481, 0.7456140161309105, 0.7456104404891779, 0.745608929654643, 0.7456031884834103, 0.7455970444229684, 0.7455937205869916, 0.745592612641666, 0.7455954832272823, 0.745592612641666, 0.7455898427783519, 0.7455981020071428, 0.7455846555797822, 0.7455792669366076, 0.7455794180200611, 0.7455770006848053, 0.7455761949063866, 0.7455783100747355, 0.7455697990401888, 0.7455750365999099, 0.7455754394891192, 0.7455747344330028, 0.745567381704933, 0.7455662233984562, 0.7455650147308283, 0.7455614894502468, 1.8178006581539723, 1.4278274725611364, 1.6502881884856937, 1.8167088283967436, 3.119179136482676, 1.2857487943427517, 1.440269799289939, 1.4353562632155028, 3.8852834431041017, 10.650416537017138, 4.431641499848693, 1.1952203947893292, 2.3086202359506465, 2.185923147479908, 4.2447859163522565, 9.045473529039228, 1.37885417400122, 2.0737896126326603, 1.878210671976255, 1.471369421690352, 1.9121649658692303, 1.7622323654045664, 3.594391390644515, 1.3402778343767436, 1.2052800347342754, 1.4558408628959365, 3.680546830720092, 2.1763146427270863, 4.984610162739634, 2.2396111562894667, 3.085937755045574, 2.09598739795338, 2.301827725326293, 2.528318743456178, 1.87043309723514, 2.031491281770281, 1.8284250480480682, 1.7875803414528773, 1.6748956541672937, 1.5235366244570696, 1.5410534414994272, 3.1333188138164, 2.6455443991121816, 0.9388077656055032, 0.9388048624318746, 0.9387878438278444, 0.938787343280667, 0.9387807360579259, 0.9387643181105085, 0.9387505030084136, 0.9387489012574459, 0.9387437956762369, 0.9387299805741419, 0.9387390905327698, 0.9387166660192242, 0.9387019499322099, 0.9386884351584213, 0.9386855319847925, 0.9387209707249494, 0.938689236033905, 0.9387060544190642, 0.9386838301243895, 0.9386542978409255, 0.9386528963088289, 0.9386171572403655, 1.8179511085455182, 0.874402360294959, 0.8645047406287698, 0.858256510323256, 0.856618419630637, 0.850209613790627, 1.7921947527685578, 1.7270167028350452, 1.6932521928769835, 1.9036770205472835, 1.401391242624304, 1.8363564284758114, 2.493007051627752, 2.846259212198366, 2.4631508140304947, 2.3167175392645, 7.0209197775093815, 1.7921723282550122, 3.5918368466607062, 2.0724905604884003, 2.2489708814356613, 3.4051567757710037, 2.7963328347589256, 2.273229600057969, 3.0730501305984066, 1.7293724780705588, 2.3386529181083864, 1.3333860021236428, 2.267314934391446, 2.9027127248305438, 1.7921252768203406, 1.7254063424560517, 1.9212528336952606, 1.8925314366585075, 2.535268249812016, 2.920658342233152, 2.8753590229012014, 2.577634162465783, 2.2282634449272667, 1.8478555988906726, 2.4553788444633646, 1.2578338048043636, 1.0266582453014061, 0.6588557563690728, 0.6588500745202438, 0.6588330991200386, 0.6588169654752155, 0.6588124059668958, 0.6588264352232638, 0.6588127566983051, 0.6588146506479148, 0.6587872935979973, 0.658811073187541, 0.6587899591567071, 0.6587991483196282, 0.6587839265764689, 0.6587778939962308, 0.6587832952599324, 0.6587641453249902, 0.6587409970519831, 0.6587627423993534, 0.6587189711194853, 1.2576873393678822, 1.0823545333747213, 0.5042962456456364, 0.5038472392955803, 0.489347336449629, 2.2937721927543215, 0.4878461358719768, 0.47081279483796074, 0.9029498058670457, 1.9638583762023405, 5.088108813887264, 0.99148416388197, 3.1937223331710545, 3.7322645197079645, 1.7834108540688351, 2.665888116849544, 3.8269468485947327, 2.4072809419314933, 2.2115643980448048, 1.8567396727156413, 1.4547581273717687, 1.8048210425045235, 1.7311849831432589, 1.2577971884452432, 1.2577747416350546, 2.5646308366733734, 1.3855398808407708, 2.578124456033193, 2.151617104999438, 1.8699581783580852, 1.3438171529876224, 1.257648478327743, 2.4608317358284584, 2.6756648250272392, 1.3332782353114565, 1.4098939684327094, 1.660873436663507, 1.330597665297233, 1.33208532764249, 1.2792494646500356, 1.5625865996486472, 1.058436225765478, 1.0584181201000549, 0.5544829859716831, 0.5544775443782499, 0.5544662159701027, 0.5544562726948293, 0.5544535024290815, 0.554452908800707, 0.5544525625174885, 0.5544350999494712, 0.5543992349018434, 0.5544090297700232, 0.554263640287295, 0.5541473385949187, 0.5428917983306488, 0.5422892160614716, 0.5400301632822052, 0.5370181918479124, 0.5349468740420905, 0.5336992650749575, 0.6199252705460899, 0.40563759672314936, 0.6065714518539883, 0.6029769825771899, 0.5544666611913835, 0.5544964910172036, 0.5544591418986395, 0.37433735341941, 0.5544372765868444, 1.0683842500658187, 1.8968559670796326, 0.7771543249209893, 3.058145234396461, 2.3137358463666873, 1.2481323494832828, 1.6236606698290896, 3.3707869392582666, 1.3996244308396497, 1.2586453101200494, 1.0817348532708915, 0.9501958088391608, 1.2175229906694316, 1.1032657544150233, 1.7248392836120214, 1.4190502268296425, 0.8077728355056145, 1.5465433970747777, 1.1934613528266247, 0.91822743679989, 0.9693757437440365, 0.9114571051883978, 0.7567168377737072, 0.8013008516213539, 0.7767161282425252, 0.7310242059718844, 0.8157695044008192, 0.766571909764403], \"Total\": [63.0, 90.0, 43.0, 27.0, 45.0, 27.0, 84.0, 148.0, 18.0, 16.0, 11.0, 19.0, 14.0, 20.0, 18.0, 32.0, 11.0, 12.0, 19.0, 15.0, 22.0, 24.0, 8.0, 20.0, 15.0, 25.0, 10.0, 8.0, 5.0, 9.0, 4.244212200505011, 5.154025340413605, 3.3347603149697416, 7.653942118929828, 2.5387150462067587, 2.538680707078112, 2.5386099718382944, 2.5384667642986707, 2.5385076184366913, 2.538425003376396, 2.496858975986031, 2.5180985662639426, 2.514711206935164, 2.5177613524802913, 2.5307023937955506, 2.5074295014840757, 2.509783301554846, 3.3529382548747617, 2.4994984018595585, 2.5110921741866585, 2.496462871201871, 2.524626813172784, 2.485656742441707, 5.018242467725834, 4.212866870855192, 2.4731125295103693, 2.4730379184262383, 9.099607005273597, 9.153193041016998, 24.765579275913314, 25.394187982622853, 43.55230924329156, 16.858739694547424, 8.239911781132168, 14.849758000436838, 48.271318989008414, 148.1859982269047, 15.5125679788475, 9.022171045887163, 90.67951369955773, 33.389569281685525, 84.3220657560693, 16.588462096859942, 8.955464203559268, 63.78112118445411, 18.680000284612017, 12.956725180153002, 22.93846770232355, 37.89870146868166, 7.4038173973314265, 5.873046770930317, 14.863056636559788, 44.12037781794656, 18.096350227727, 12.004388010330414, 22.132708956087928, 18.14918511817408, 27.30977956490025, 45.4481811930385, 31.65934678851656, 30.522771033330102, 14.464081439810423, 16.855331234602367, 17.974918452375253, 30.49032067237215, 2.27847402882615, 1.4834862564335458, 1.4834649608794421, 1.4834462944655373, 1.4834349114469343, 1.4834469484999055, 1.4834343617561874, 1.4834460697432201, 1.48342700801526, 1.4834451582605945, 1.4834300776013458, 1.48344138720257, 1.483424490902282, 1.4834123743136982, 1.4834038494178643, 1.4834148142713632, 1.4834195414780114, 1.4834092584742247, 1.4834141832103784, 1.483392110834828, 1.4834186653419055, 1.4833871841689144, 1.4834051182861936, 1.4833926980339351, 1.4833896564600995, 1.4834040566910611, 1.4834025024273512, 1.4833884844757907, 1.483401882525561, 1.4834107199848727, 2.911804668510496, 2.946150357779307, 3.0133152334373663, 2.987676560169487, 4.565068768055142, 2.3032016005650506, 2.2492387417979853, 3.0174004176164946, 3.6406788744023837, 5.720952947656946, 6.953783183606797, 4.695994674994111, 3.125876868323389, 15.752971005530759, 84.3220657560693, 4.580580740834067, 14.86543982326783, 27.347841442363272, 5.298724529145431, 13.281346178480671, 15.274829626397329, 22.93846770232355, 90.67951369955773, 44.12037781794656, 5.34666943105561, 5.965149212828011, 2.3341316665774414, 37.89870146868166, 18.096350227727, 148.1859982269047, 10.89487690209031, 14.605704020238607, 27.30977956490025, 31.65934678851656, 22.20393666846828, 48.271318989008414, 63.78112118445411, 18.34500683533597, 11.448383072053911, 16.982462753605347, 16.855331234602367, 30.49032067237215, 16.38721891955371, 33.389569281685525, 20.28241998032387, 43.55230924329156, 2.1846187792987983, 1.4451423581241594, 1.4451280718082504, 1.4450950324148986, 1.4451086204615777, 1.4451063302093217, 1.4450934337191366, 1.4451065058261319, 1.4450690132852901, 1.445092270508943, 1.445070945695678, 1.4450827456727326, 1.4450777993998007, 1.4450736941611713, 1.4450717725993387, 1.4450574374206773, 1.445052556416652, 1.4450638430795781, 1.4449958544715658, 1.4450019157771616, 1.4449055493286824, 2.9768536909675634, 2.2331456084204375, 1.4476645002532296, 2.9731101206108943, 1.4478688071389652, 1.4485042215228028, 1.4485306710710715, 4.450767860327934, 1.473331554245586, 3.783771696179969, 17.974918452375253, 2.9810954733924238, 15.914230121405645, 22.132708956087928, 15.5125679788475, 8.776155067565883, 32.68733697314449, 63.78112118445411, 5.148623532221444, 4.630238164647101, 3.515094608796017, 148.1859982269047, 18.743947327726204, 6.379537358458874, 8.826120852942129, 20.28241998032387, 48.271318989008414, 13.203248393599404, 9.28896220184841, 22.20393666846828, 2.2055559127984528, 30.522771033330102, 2.2481775212863644, 15.010315381040629, 12.52375578405385, 8.855845297015245, 45.4481811930385, 33.389569281685525, 19.938936653695812, 90.67951369955773, 84.3220657560693, 31.65934678851656, 30.49032067237215, 27.30977956490025, 44.12037781794656, 14.86543982326783, 13.979648197813217, 37.89870146868166, 3.063336671446507, 3.8360034614015324, 2.310794243892363, 4.706167911042405, 2.2822417277889593, 2.2823492302083253, 1.5130524589431156, 1.513050876991348, 1.5130353331321433, 1.513018829163744, 1.5130345585326623, 1.513035687057383, 1.5130449162449093, 1.5130263006921405, 1.5130360763106376, 1.5130041456287537, 1.513011123503955, 1.5129950381868815, 1.513011882213035, 1.5129846414840697, 1.5130101175451967, 1.5129993313435406, 1.5129801369737723, 1.5129729547103554, 1.5129744975844164, 1.512952247161463, 1.5129439484354972, 1.5129316442587164, 1.512836196042534, 1.5129290701971525, 3.034894676571734, 3.1622497554463713, 8.202187654833743, 14.283047741842925, 9.28896220184841, 2.2885742440245056, 3.0963799998189447, 3.0496391655651642, 2.2760842264580674, 18.743947327726204, 11.882645498846538, 6.869156846406719, 4.59672473342107, 8.800751895916713, 3.7281386390508464, 3.8528846832684835, 3.8465276151791765, 3.0299574417555997, 3.913461284043427, 16.588462096859942, 8.449659570599563, 44.12037781794656, 10.073697088334258, 2.2815620482444374, 18.680000284612017, 148.1859982269047, 37.89870146868166, 20.28241998032387, 32.68733697314449, 90.67951369955773, 10.667772500134017, 30.522771033330102, 84.3220657560693, 18.14918511817408, 10.649712684196928, 7.648852174465482, 31.65934678851656, 27.347841442363272, 14.464081439810423, 45.4481811930385, 63.78112118445411, 33.389569281685525, 3.1373304113293914, 3.9011691243459548, 2.3359274703745623, 2.335688594466265, 2.314236101121916, 1.5344349659739034, 1.5344158897161437, 1.5344143645246866, 1.5344183022043465, 1.5344116190622983, 1.5344084844885841, 1.5344262225751542, 1.5344148685854233, 1.534422052741858, 1.5344208863886628, 1.5344181212535914, 1.5344003672248692, 1.5343966340133968, 1.5343766922874005, 1.5343968755561153, 1.534389297905448, 1.5343813034145461, 1.5343650452501878, 1.5343656699492993, 1.5343677087191299, 1.5343683943428004, 1.534382044481753, 1.534379977713728, 1.5343601144950523, 1.5343620340373156, 11.837244515927148, 2.3128537504308198, 7.012957608076228, 4.4870784778862545, 3.0776059132168716, 3.086351363915925, 8.855845297015245, 6.152702054691491, 30.49032067237215, 2.2788871816601444, 10.255227565851106, 4.6484291932364865, 13.976345810346526, 148.1859982269047, 2.3309093193010586, 32.68733697314449, 2.274085811147533, 2.2298859705564142, 4.867426572190512, 12.991442529241645, 44.12037781794656, 45.4481811930385, 2.933190458727781, 8.776155067565883, 8.402971536633629, 14.279450262748696, 20.72817065910113, 15.668154031245699, 31.65934678851656, 37.89870146868166, 84.3220657560693, 19.938936653695812, 43.55230924329156, 30.522771033330102, 27.347841442363272, 14.197267474677075, 33.389569281685525, 90.67951369955773, 27.30977956490025, 2.224097374967438, 2.224019859871821, 1.4785530193321201, 1.478539533889336, 1.4785179787381764, 1.4784987699399204, 1.478484419895972, 1.4784779875922902, 1.4784824843643052, 1.478458183708281, 1.4784576605912816, 1.4784305381007161, 1.4784325505919798, 1.4784216994801853, 1.4784067119508086, 1.4784152008066236, 1.4784409424494351, 1.4783936947534404, 1.4783683290326952, 1.4785449563740403, 1.4785133878866448, 1.478510204075407, 1.4784980652207904, 1.4784820983218574, 1.4784959894535312, 1.4784818751968694, 1.4782213130004072, 1.4783937838186545, 2.936177261040897, 3.126776875132825, 12.882467654069487, 19.041573945003876, 6.251737524092464, 10.640364484520891, 90.67951369955773, 3.9586002963683042, 45.4481811930385, 63.78112118445411, 16.982462753605347, 8.812042479369133, 9.605296166202436, 30.522771033330102, 11.003246848153436, 16.38721891955371, 11.314957241817357, 84.3220657560693, 14.197267474677075, 3.6232461498811688, 148.1859982269047, 3.785573446535102, 5.303841749084172, 10.041135155007453, 6.906452763642993, 7.241705467159625, 32.68733697314449, 10.998906021725254, 44.12037781794656, 9.932720956607627, 14.863056636559788, 43.55230924329156, 22.93846770232355, 19.938936653695812, 14.283047741842925, 22.132708956087928, 48.271318989008414, 15.668154031245699, 2.0884900394600954, 2.097106413076438, 2.0980438898243157, 2.099554023524835, 1.4107703830854421, 1.4107512393687656, 1.4107456553538733, 1.4107452336152997, 1.4107439706519975, 1.4107335771669607, 1.4107294249780118, 1.4107288575627939, 1.4107367009261722, 1.410731281886863, 1.4107262315721711, 1.410747053416532, 1.4107282006539146, 1.4107182842609265, 1.4107193763253545, 1.410716056516544, 1.4107155230619952, 1.410722629473356, 1.410706881270046, 1.4107171849601754, 1.41071817969973, 1.4107169686311365, 1.410704204578932, 1.4107030531328322, 1.4107016592931234, 1.4107050782714698, 3.7272164061217614, 2.867997651228516, 3.6036416236754367, 4.4569265258421655, 10.201394764443364, 2.979332268725225, 3.5757234138945253, 3.5747982612437834, 15.511278962769781, 84.3220657560693, 22.20393666846828, 3.017997013081152, 8.811355166120661, 9.053701072362006, 31.65934678851656, 148.1859982269047, 4.5091253893192755, 10.147216933130386, 8.562412271894624, 5.333769371563105, 8.955464203559268, 7.717243377059296, 32.68733697314449, 4.555948728706604, 3.6871289117972728, 5.421523811798495, 37.89870146868166, 13.203248393599404, 90.67951369955773, 18.34500683533597, 48.271318989008414, 18.680000284612017, 30.522771033330102, 45.4481811930385, 13.976345810346526, 30.49032067237215, 16.982462753605347, 16.38721891955371, 19.041573945003876, 12.991442529241645, 27.347841442363272, 4.102241546956685, 4.067152779754085, 1.5863749886448997, 1.5863747041245024, 1.5863551156329758, 1.586356358146635, 1.5863497824537032, 1.586333618146831, 1.586320208874134, 1.5863187999363806, 1.5863123288260417, 1.5862997171209994, 1.586322295658723, 1.5862960436808387, 1.586273394788973, 1.5862578658981414, 1.586255839685556, 1.5863261443660974, 1.5862752211663511, 1.5863102804213867, 1.5862848544872967, 1.5862544118864215, 1.586265532319129, 1.5862286911349908, 3.258455372123613, 1.5757231256538604, 1.574067609505282, 1.5729944172310988, 1.5727652573517703, 1.5717105542438383, 3.9415325478363483, 3.8825555595366605, 3.802054287827449, 4.789926425633159, 3.1107631392227324, 4.679039505494446, 7.694682938762879, 10.998906021725254, 8.724016670497846, 7.99891899366098, 63.78112118445411, 5.552755975132624, 25.394187982622853, 8.338776574945639, 9.932720956607627, 24.765579275913314, 20.72817065910113, 12.674300483520632, 27.347841442363272, 6.925054311942971, 15.274829626397329, 3.841375305948701, 15.575083898302369, 30.49032067237215, 9.136796621198336, 8.277121988484135, 12.956725180153002, 13.281346178480671, 45.4481811930385, 84.3220657560693, 148.1859982269047, 90.67951369955773, 48.271318989008414, 12.991442529241645, 3.1284666457158936, 1.9308824407215992, 2.0479960237399046, 1.33189283607659, 1.3318865681125616, 1.331871565533279, 1.3318422362985856, 1.331838204381066, 1.3318671328084137, 1.3318536541169101, 1.3318677925249536, 1.3318135285298078, 1.331863080288072, 1.3318305417425784, 1.3318604185134155, 1.3318411078675767, 1.3318289599021735, 1.3318488167301832, 1.3318342830568444, 1.3317976364343422, 1.3318433886626486, 1.331765133935075, 2.6762503443847496, 2.6772482573758034, 1.3073643463929594, 1.3072892402000567, 1.3050067999636314, 6.123049829639973, 1.3047695227776748, 1.3020879983176212, 2.572702080902203, 5.922317367435271, 27.347841442363272, 3.58396065520994, 20.72817065910113, 27.30977956490025, 8.847038545932095, 19.938936653695812, 45.4481811930385, 18.34500683533597, 15.668154031245699, 11.983751232167483, 8.811355166120661, 16.855331234602367, 15.511278962769781, 6.925054311942971, 6.980807764204377, 43.55230924329156, 9.384848517485008, 48.271318989008414, 33.389569281685525, 22.93846770232355, 9.932720956607627, 8.724016670497846, 63.78112118445411, 148.1859982269047, 11.448383072053911, 18.096350227727, 90.67951369955773, 14.283047741842925, 15.914230121405645, 84.3220657560693, 2.2451347434990176, 1.7409905054538677, 1.7409951177808922, 1.2370047414869503, 1.237001297469995, 1.2369892686645114, 1.2369803254056306, 1.2369799135491633, 1.2369797395152915, 1.2369821132975798, 1.2369608038103763, 1.236927801844528, 1.2369705798854072, 1.2369075977156943, 1.2368763642752418, 1.2461676286338328, 1.2466317908494096, 1.248393276502732, 1.25069548078084, 1.2523836224496618, 1.253341728380201, 1.9978015717687496, 1.3547455598926559, 2.098659632471793, 2.1013401920690833, 2.0050051011530274, 2.0140186052154827, 2.032046299752966, 1.3794916499602827, 2.0631993991102657, 4.21674699217424, 11.314957241817357, 3.4055248162906064, 43.55230924329156, 27.30977956490025, 10.255227565851106, 20.28241998032387, 148.1859982269047, 18.680000284612017, 16.588462096859942, 11.003246848153436, 7.81679383813518, 18.743947327726204, 14.863056636559788, 90.67951369955773, 45.4481811930385, 5.502434648558754, 84.3220657560693, 44.12037781794656, 15.668154031245699, 22.20393666846828, 19.938936653695812, 9.92023933006129, 15.274829626397329, 12.882467654069487, 8.776155067565883, 32.68733697314449, 18.34500683533597], \"Category\": [\"Default\", \"Default\", \"Default\", \"Default\", \"Default\", \"Default\", \"Default\", \"Default\", \"Default\", \"Default\", \"Default\", \"Default\", \"Default\", \"Default\", \"Default\", \"Default\", \"Default\", \"Default\", \"Default\", \"Default\", \"Default\", \"Default\", \"Default\", \"Default\", \"Default\", \"Default\", \"Default\", \"Default\", \"Default\", \"Default\", \"Topic1\", \"Topic1\", \"Topic1\", \"Topic1\", \"Topic1\", \"Topic1\", \"Topic1\", \"Topic1\", \"Topic1\", \"Topic1\", \"Topic1\", \"Topic1\", \"Topic1\", \"Topic1\", \"Topic1\", \"Topic1\", \"Topic1\", \"Topic1\", \"Topic1\", \"Topic1\", \"Topic1\", \"Topic1\", \"Topic1\", \"Topic1\", \"Topic1\", \"Topic1\", \"Topic1\", \"Topic1\", \"Topic1\", \"Topic1\", \"Topic1\", \"Topic1\", \"Topic1\", \"Topic1\", \"Topic1\", \"Topic1\", \"Topic1\", \"Topic1\", \"Topic1\", \"Topic1\", \"Topic1\", \"Topic1\", \"Topic1\", \"Topic1\", \"Topic1\", \"Topic1\", \"Topic1\", \"Topic1\", \"Topic1\", \"Topic1\", \"Topic1\", \"Topic1\", \"Topic1\", \"Topic1\", \"Topic1\", \"Topic1\", \"Topic1\", \"Topic1\", \"Topic1\", \"Topic1\", \"Topic1\", \"Topic1\", \"Topic1\", \"Topic1\", \"Topic1\", \"Topic2\", \"Topic2\", \"Topic2\", \"Topic2\", \"Topic2\", \"Topic2\", \"Topic2\", \"Topic2\", \"Topic2\", \"Topic2\", \"Topic2\", \"Topic2\", \"Topic2\", \"Topic2\", \"Topic2\", \"Topic2\", \"Topic2\", \"Topic2\", \"Topic2\", \"Topic2\", \"Topic2\", \"Topic2\", \"Topic2\", \"Topic2\", \"Topic2\", \"Topic2\", \"Topic2\", \"Topic2\", \"Topic2\", \"Topic2\", \"Topic2\", \"Topic2\", \"Topic2\", \"Topic2\", \"Topic2\", \"Topic2\", \"Topic2\", \"Topic2\", \"Topic2\", \"Topic2\", \"Topic2\", \"Topic2\", \"Topic2\", \"Topic2\", \"Topic2\", \"Topic2\", \"Topic2\", \"Topic2\", \"Topic2\", \"Topic2\", \"Topic2\", \"Topic2\", \"Topic2\", \"Topic2\", \"Topic2\", \"Topic2\", \"Topic2\", \"Topic2\", \"Topic2\", \"Topic2\", \"Topic2\", \"Topic2\", \"Topic2\", \"Topic2\", \"Topic2\", \"Topic2\", \"Topic2\", \"Topic2\", \"Topic2\", \"Topic2\", \"Topic2\", \"Topic2\", \"Topic2\", \"Topic2\", \"Topic2\", \"Topic2\", \"Topic3\", \"Topic3\", \"Topic3\", \"Topic3\", \"Topic3\", \"Topic3\", \"Topic3\", \"Topic3\", \"Topic3\", \"Topic3\", \"Topic3\", \"Topic3\", \"Topic3\", \"Topic3\", \"Topic3\", \"Topic3\", \"Topic3\", \"Topic3\", \"Topic3\", \"Topic3\", \"Topic3\", \"Topic3\", \"Topic3\", \"Topic3\", \"Topic3\", \"Topic3\", \"Topic3\", \"Topic3\", \"Topic3\", \"Topic3\", \"Topic3\", \"Topic3\", \"Topic3\", \"Topic3\", \"Topic3\", \"Topic3\", \"Topic3\", \"Topic3\", \"Topic3\", \"Topic3\", \"Topic3\", \"Topic3\", \"Topic3\", \"Topic3\", \"Topic3\", \"Topic3\", \"Topic3\", \"Topic3\", \"Topic3\", \"Topic3\", \"Topic3\", \"Topic3\", \"Topic3\", \"Topic3\", \"Topic3\", \"Topic3\", \"Topic3\", \"Topic3\", \"Topic3\", \"Topic3\", \"Topic3\", \"Topic3\", \"Topic3\", \"Topic3\", \"Topic3\", \"Topic3\", \"Topic3\", \"Topic3\", \"Topic3\", \"Topic4\", \"Topic4\", \"Topic4\", \"Topic4\", \"Topic4\", \"Topic4\", \"Topic4\", \"Topic4\", \"Topic4\", \"Topic4\", \"Topic4\", \"Topic4\", \"Topic4\", \"Topic4\", \"Topic4\", \"Topic4\", \"Topic4\", \"Topic4\", \"Topic4\", \"Topic4\", \"Topic4\", \"Topic4\", \"Topic4\", \"Topic4\", \"Topic4\", \"Topic4\", \"Topic4\", \"Topic4\", \"Topic4\", \"Topic4\", \"Topic4\", \"Topic4\", \"Topic4\", \"Topic4\", \"Topic4\", \"Topic4\", \"Topic4\", \"Topic4\", \"Topic4\", \"Topic4\", \"Topic4\", \"Topic4\", \"Topic4\", \"Topic4\", \"Topic4\", \"Topic4\", \"Topic4\", \"Topic4\", \"Topic4\", \"Topic4\", \"Topic4\", \"Topic4\", \"Topic4\", \"Topic4\", \"Topic4\", \"Topic4\", \"Topic4\", \"Topic4\", \"Topic4\", \"Topic4\", \"Topic4\", \"Topic4\", \"Topic4\", \"Topic4\", \"Topic4\", \"Topic4\", \"Topic4\", \"Topic4\", \"Topic4\", \"Topic4\", \"Topic4\", \"Topic4\", \"Topic5\", \"Topic5\", \"Topic5\", \"Topic5\", \"Topic5\", \"Topic5\", \"Topic5\", \"Topic5\", \"Topic5\", \"Topic5\", \"Topic5\", \"Topic5\", \"Topic5\", \"Topic5\", \"Topic5\", \"Topic5\", \"Topic5\", \"Topic5\", \"Topic5\", \"Topic5\", \"Topic5\", \"Topic5\", \"Topic5\", \"Topic5\", \"Topic5\", \"Topic5\", \"Topic5\", \"Topic5\", \"Topic5\", \"Topic5\", \"Topic5\", \"Topic5\", \"Topic5\", \"Topic5\", \"Topic5\", \"Topic5\", \"Topic5\", \"Topic5\", \"Topic5\", \"Topic5\", \"Topic5\", \"Topic5\", \"Topic5\", \"Topic5\", \"Topic5\", \"Topic5\", \"Topic5\", \"Topic5\", \"Topic5\", \"Topic5\", \"Topic5\", \"Topic5\", \"Topic5\", \"Topic5\", \"Topic5\", \"Topic5\", \"Topic5\", \"Topic5\", \"Topic5\", \"Topic5\", \"Topic5\", \"Topic5\", \"Topic5\", \"Topic5\", \"Topic5\", \"Topic5\", \"Topic5\", \"Topic5\", \"Topic5\", \"Topic6\", \"Topic6\", \"Topic6\", \"Topic6\", \"Topic6\", \"Topic6\", \"Topic6\", \"Topic6\", \"Topic6\", \"Topic6\", \"Topic6\", \"Topic6\", \"Topic6\", \"Topic6\", \"Topic6\", \"Topic6\", \"Topic6\", \"Topic6\", \"Topic6\", \"Topic6\", \"Topic6\", \"Topic6\", \"Topic6\", \"Topic6\", \"Topic6\", \"Topic6\", \"Topic6\", \"Topic6\", \"Topic6\", \"Topic6\", \"Topic6\", \"Topic6\", \"Topic6\", \"Topic6\", \"Topic6\", \"Topic6\", \"Topic6\", \"Topic6\", \"Topic6\", \"Topic6\", \"Topic6\", \"Topic6\", \"Topic6\", \"Topic6\", \"Topic6\", \"Topic6\", \"Topic6\", \"Topic6\", \"Topic6\", \"Topic6\", \"Topic6\", \"Topic6\", \"Topic6\", \"Topic6\", \"Topic6\", \"Topic6\", \"Topic6\", \"Topic6\", \"Topic6\", \"Topic6\", \"Topic6\", \"Topic6\", \"Topic6\", \"Topic6\", \"Topic6\", \"Topic6\", \"Topic7\", \"Topic7\", \"Topic7\", \"Topic7\", \"Topic7\", \"Topic7\", \"Topic7\", \"Topic7\", \"Topic7\", \"Topic7\", \"Topic7\", \"Topic7\", \"Topic7\", \"Topic7\", \"Topic7\", \"Topic7\", \"Topic7\", \"Topic7\", \"Topic7\", \"Topic7\", \"Topic7\", \"Topic7\", \"Topic7\", \"Topic7\", \"Topic7\", \"Topic7\", \"Topic7\", \"Topic7\", \"Topic7\", \"Topic7\", \"Topic7\", \"Topic7\", \"Topic7\", \"Topic7\", \"Topic7\", \"Topic7\", \"Topic7\", \"Topic7\", \"Topic7\", \"Topic7\", \"Topic7\", \"Topic7\", \"Topic7\", \"Topic7\", \"Topic7\", \"Topic7\", \"Topic7\", \"Topic7\", \"Topic7\", \"Topic7\", \"Topic7\", \"Topic7\", \"Topic7\", \"Topic7\", \"Topic7\", \"Topic7\", \"Topic7\", \"Topic7\", \"Topic7\", \"Topic7\", \"Topic7\", \"Topic7\", \"Topic7\", \"Topic7\", \"Topic7\", \"Topic7\", \"Topic7\", \"Topic7\", \"Topic7\", \"Topic7\", \"Topic7\", \"Topic8\", \"Topic8\", \"Topic8\", \"Topic8\", \"Topic8\", \"Topic8\", \"Topic8\", \"Topic8\", \"Topic8\", \"Topic8\", \"Topic8\", \"Topic8\", \"Topic8\", \"Topic8\", \"Topic8\", \"Topic8\", \"Topic8\", \"Topic8\", \"Topic8\", \"Topic8\", \"Topic8\", \"Topic8\", \"Topic8\", \"Topic8\", \"Topic8\", \"Topic8\", \"Topic8\", \"Topic8\", \"Topic8\", \"Topic8\", \"Topic8\", \"Topic8\", \"Topic8\", \"Topic8\", \"Topic8\", \"Topic8\", \"Topic8\", \"Topic8\", \"Topic8\", \"Topic8\", \"Topic8\", \"Topic8\", \"Topic8\", \"Topic8\", \"Topic8\", \"Topic8\", \"Topic8\", \"Topic8\", \"Topic8\", \"Topic8\", \"Topic8\", \"Topic8\", \"Topic8\", \"Topic8\", \"Topic8\", \"Topic8\", \"Topic8\", \"Topic8\", \"Topic8\", \"Topic8\", \"Topic8\", \"Topic8\", \"Topic8\", \"Topic8\", \"Topic9\", \"Topic9\", \"Topic9\", \"Topic9\", \"Topic9\", \"Topic9\", \"Topic9\", \"Topic9\", \"Topic9\", \"Topic9\", \"Topic9\", \"Topic9\", \"Topic9\", \"Topic9\", \"Topic9\", \"Topic9\", \"Topic9\", \"Topic9\", \"Topic9\", \"Topic9\", \"Topic9\", \"Topic9\", \"Topic9\", \"Topic9\", \"Topic9\", \"Topic9\", \"Topic9\", \"Topic9\", \"Topic9\", \"Topic9\", \"Topic9\", \"Topic9\", \"Topic9\", \"Topic9\", \"Topic9\", \"Topic9\", \"Topic9\", \"Topic9\", \"Topic9\", \"Topic9\", \"Topic9\", \"Topic9\", \"Topic9\", \"Topic9\", \"Topic9\", \"Topic9\", \"Topic9\", \"Topic9\", \"Topic9\", \"Topic9\", \"Topic9\", \"Topic9\", \"Topic9\", \"Topic9\", \"Topic9\", \"Topic9\", \"Topic9\", \"Topic9\", \"Topic9\", \"Topic9\", \"Topic9\", \"Topic9\", \"Topic10\", \"Topic10\", \"Topic10\", \"Topic10\", \"Topic10\", \"Topic10\", \"Topic10\", \"Topic10\", \"Topic10\", \"Topic10\", \"Topic10\", \"Topic10\", \"Topic10\", \"Topic10\", \"Topic10\", \"Topic10\", \"Topic10\", \"Topic10\", \"Topic10\", \"Topic10\", \"Topic10\", \"Topic10\", \"Topic10\", \"Topic10\", \"Topic10\", \"Topic10\", \"Topic10\", \"Topic10\", \"Topic10\", \"Topic10\", \"Topic10\", \"Topic10\", \"Topic10\", \"Topic10\", \"Topic10\", \"Topic10\", \"Topic10\", \"Topic10\", \"Topic10\", \"Topic10\", \"Topic10\", \"Topic10\", \"Topic10\", \"Topic10\", \"Topic10\", \"Topic10\", \"Topic10\", \"Topic10\", \"Topic10\", \"Topic10\", \"Topic10\", \"Topic10\", \"Topic10\", \"Topic10\", \"Topic10\", \"Topic10\", \"Topic10\", \"Topic10\"], \"logprob\": [30.0, 29.0, 28.0, 27.0, 26.0, 25.0, 24.0, 23.0, 22.0, 21.0, 20.0, 19.0, 18.0, 17.0, 16.0, 15.0, 14.0, 13.0, 12.0, 11.0, 10.0, 9.0, 8.0, 7.0, 6.0, 5.0, 4.0, 3.0, 2.0, 1.0, -6.1932, -6.0139, -6.478, -5.6545, -6.7772, -6.7773, -6.7773, -6.7774, -6.7774, -6.7774, -6.8284, -6.8364, -6.8399, -6.8611, -6.8567, -6.866, -6.8718, -6.5956, -6.8952, -6.8906, -6.9011, -6.9208, -6.9382, -6.2372, -6.4125, -6.9535, -6.9593, -5.6709, -5.6672, -4.6785, -4.7044, -4.1992, -5.1228, -5.8016, -5.2757, -4.211, -3.2032, -5.2426, -5.7491, -3.7633, -4.6703, -3.9093, -5.2689, -5.7907, -4.2105, -5.2443, -5.5425, -5.1203, -4.7583, -5.9779, -6.1557, -5.4932, -4.7414, -5.3737, -5.6586, -5.2802, -5.4485, -5.2419, -5.0044, -5.1978, -5.2413, -5.5761, -5.5236, -5.5072, -5.3931, -6.105, -6.602, -6.602, -6.602, -6.602, -6.602, -6.602, -6.602, -6.6021, -6.602, -6.6021, -6.602, -6.6021, -6.6021, -6.6021, -6.6021, -6.6021, -6.6021, -6.6021, -6.6021, -6.6021, -6.6021, -6.6021, -6.6021, -6.6021, -6.6021, -6.6021, -6.6021, -6.6021, -6.6021, -5.9554, -5.9554, -5.9441, -5.9554, -5.566, -6.2002, -6.239, -6.0126, -5.9555, -5.6382, -5.4997, -5.786, -6.0841, -5.0025, -3.8788, -5.8541, -5.0852, -4.7447, -5.8032, -5.2481, -5.1686, -4.9305, -4.1433, -4.5879, -5.8389, -5.7756, -6.3313, -4.7869, -5.2043, -4.1105, -5.507, -5.376, -5.154, -5.0979, -5.2943, -5.0694, -4.9804, -5.4207, -5.5731, -5.4932, -5.5046, -5.4048, -5.5539, -5.4755, -5.6005, -5.5728, -6.0242, -6.5998, -6.5998, -6.5998, -6.5998, -6.5998, -6.5998, -6.5998, -6.5999, -6.5998, -6.5999, -6.5999, -6.5999, -6.5999, -6.5999, -6.5999, -6.5999, -6.5999, -6.6, -6.6, -6.6001, -5.9266, -6.2374, -6.6725, -5.9532, -6.6786, -6.6981, -6.6996, -5.5848, -6.7445, -5.8633, -4.69, -6.1233, -4.8555, -4.6331, -4.9897, -5.3796, -4.5547, -4.1396, -5.7829, -5.8513, -6.0321, -3.7008, -5.0161, -5.6833, -5.4965, -5.0778, -4.6173, -5.3541, -5.5638, -5.0938, -6.3668, -4.9592, -6.3647, -5.3599, -5.4596, -5.6491, -4.8155, -5.007, -5.3309, -4.7698, -4.7975, -5.1872, -5.2032, -5.2461, -5.348, -5.6009, -5.6137, -5.5672, -5.5647, -5.354, -5.9128, -5.2479, -6.0311, -6.0316, -6.4882, -6.4882, -6.4882, -6.4882, -6.4882, -6.4882, -6.4882, -6.4882, -6.4882, -6.4882, -6.4882, -6.4883, -6.4883, -6.4883, -6.4883, -6.4883, -6.4883, -6.4883, -6.4883, -6.4883, -6.4883, -6.4884, -6.4885, -6.4884, -5.7999, -5.7962, -4.942, -4.5373, -4.9743, -6.153, -5.9095, -5.9273, -6.162, -4.6137, -4.9816, -5.3987, -5.6948, -5.2386, -5.8513, -5.8283, -5.846, -6.0292, -5.8631, -4.9419, -5.374, -4.3207, -5.2931, -6.2306, -4.9564, -3.7678, -4.6637, -5.0434, -4.8406, -4.4132, -5.3844, -4.9605, -4.5675, -5.1949, -5.419, -5.5602, -5.0363, -5.1474, -5.3812, -5.1602, -5.1789, -5.3049, -5.4198, -5.2447, -5.8092, -5.8093, -6.0347, -6.4558, -6.4558, -6.4558, -6.4558, -6.4558, -6.4558, -6.4558, -6.4558, -6.4558, -6.4558, -6.4558, -6.4558, -6.4558, -6.4558, -6.4558, -6.4558, -6.4558, -6.4559, -6.4559, -6.4559, -6.4559, -6.4559, -6.4559, -6.4559, -6.4559, -4.4134, -6.05, -5.019, -5.4602, -5.8093, -5.8092, -4.9086, -5.4198, -4.3056, -6.1717, -5.1355, -5.6905, -4.9535, -3.3944, -6.1813, -4.5335, -6.2088, -6.2236, -5.7867, -5.2289, -4.6149, -4.6193, -6.1099, -5.5473, -5.5866, -5.3288, -5.1617, -5.2977, -5.0203, -4.9572, -4.6797, -5.2711, -5.0745, -5.2169, -5.3139, -5.4605, -5.2816, -5.162, -5.4143, -5.6971, -5.6972, -6.3437, -6.3437, -6.3437, -6.3438, -6.3438, -6.3438, -6.3438, -6.3438, -6.3438, -6.3438, -6.3439, -6.3439, -6.3439, -6.3439, -6.3439, -6.3439, -6.344, -6.344, -6.344, -6.344, -6.3441, -6.3441, -6.3441, -6.3442, -6.3444, -6.3444, -5.6972, -5.6972, -4.5861, -4.3364, -5.2081, -4.8638, -3.3404, -5.6287, -3.9677, -3.8017, -4.7197, -5.2056, -5.2544, -4.6435, -5.2778, -5.0732, -5.2741, -4.3267, -5.275, -5.9322, -4.267, -5.9176, -5.7747, -5.5065, -5.683, -5.6696, -5.0619, -5.5278, -5.0044, -5.5773, -5.4371, -5.1538, -5.3612, -5.4191, -5.4939, -5.4461, -5.3975, -5.5635, -5.7168, -5.7786, -5.7862, -5.7982, -6.3633, -6.3634, -6.3634, -6.3634, -6.3634, -6.3634, -6.3634, -6.3634, -6.3634, -6.3634, -6.3634, -6.3634, -6.3634, -6.3634, -6.3634, -6.3634, -6.3634, -6.3634, -6.3634, -6.3634, -6.3634, -6.3634, -6.3634, -6.3634, -6.3634, -6.3634, -5.4722, -5.7137, -5.5689, -5.4728, -4.9322, -5.8185, -5.705, -5.7084, -4.7126, -3.7042, -4.581, -5.8915, -5.2332, -5.2878, -4.6241, -3.8675, -5.7486, -5.3404, -5.4395, -5.6836, -5.4216, -5.5032, -4.7904, -5.7769, -5.8831, -5.6942, -4.7667, -5.2922, -4.4635, -5.2635, -4.943, -5.3298, -5.2361, -5.1423, -5.4436, -5.361, -5.4664, -5.4889, -5.5541, -5.6488, -5.6373, -4.9216, -5.0908, -6.1269, -6.1269, -6.1269, -6.1269, -6.1269, -6.1269, -6.1269, -6.1269, -6.1269, -6.1269, -6.1269, -6.1269, -6.127, -6.127, -6.127, -6.1269, -6.127, -6.127, -6.127, -6.127, -6.127, -6.1271, -5.466, -6.1979, -6.2093, -6.2166, -6.2185, -6.226, -5.4803, -5.5173, -5.5371, -5.4199, -5.7262, -5.4559, -5.1502, -5.0177, -5.1623, -5.2236, -4.1148, -5.4803, -4.785, -5.335, -5.2532, -4.8384, -5.0354, -5.2425, -4.941, -5.5159, -5.2141, -5.776, -5.2451, -4.9981, -5.4803, -5.5182, -5.4107, -5.4258, -5.1334, -4.9919, -5.0075, -5.1168, -5.2625, -5.4497, -4.8097, -5.4786, -5.6817, -6.1253, -6.1253, -6.1253, -6.1253, -6.1253, -6.1253, -6.1253, -6.1253, -6.1254, -6.1253, -6.1254, -6.1254, -6.1254, -6.1254, -6.1254, -6.1254, -6.1255, -6.1254, -6.1255, -5.4788, -5.6289, -6.3926, -6.3935, -6.4227, -4.8778, -6.4258, -6.4613, -5.8101, -5.0331, -4.0811, -5.7166, -4.5468, -4.391, -5.1295, -4.7275, -4.366, -4.8295, -4.9143, -5.0892, -5.3332, -5.1176, -5.1592, -5.4787, -5.4787, -4.7662, -5.3819, -4.761, -4.9418, -5.0821, -5.4125, -5.4788, -4.8075, -4.7238, -5.4204, -5.3645, -5.2007, -5.4224, -5.4213, -5.4618, -4.9124, -5.302, -5.302, -5.9485, -5.9485, -5.9485, -5.9486, -5.9486, -5.9486, -5.9486, -5.9486, -5.9487, -5.9486, -5.9489, -5.9491, -5.9696, -5.9707, -5.9749, -5.9805, -5.9844, -5.9867, -5.8369, -6.2611, -5.8587, -5.8647, -5.9485, -5.9485, -5.9486, -6.3414, -5.9486, -5.2926, -4.7186, -5.6109, -4.241, -4.5199, -5.1371, -4.8741, -4.1436, -5.0226, -5.1288, -5.2802, -5.4099, -5.162, -5.2605, -4.8137, -5.0088, -5.5723, -4.9228, -5.1819, -5.4441, -5.3899, -5.4515, -5.6376, -5.5803, -5.6115, -5.6721, -5.5624, -5.6246], \"loglift\": [30.0, 29.0, 28.0, 27.0, 26.0, 25.0, 24.0, 23.0, 22.0, 21.0, 20.0, 19.0, 18.0, 17.0, 16.0, 15.0, 14.0, 13.0, 12.0, 11.0, 10.0, 9.0, 8.0, 7.0, 6.0, 5.0, 4.0, 3.0, 2.0, 1.0, 1.0296, 1.0147, 0.986, 0.9787, 0.9595, 0.9595, 0.9595, 0.9594, 0.9594, 0.9594, 0.925, 0.9085, 0.9063, 0.8839, 0.8832, 0.8831, 0.8764, 0.863, 0.8571, 0.857, 0.8524, 0.8215, 0.8196, 0.8181, 0.8177, 0.8094, 0.8037, 0.7892, 0.7871, 0.7805, 0.7295, 0.6952, 0.7207, 0.7578, 0.6947, 0.5806, 0.4667, 0.6841, 0.7196, 0.3978, 0.4898, 0.3244, 0.5908, 0.6854, 0.3024, 0.4966, 0.5642, 0.4153, 0.2751, 0.6884, 0.7423, 0.4762, 0.1401, 0.399, 0.5245, 0.2911, 0.3213, 0.1193, -0.1526, 0.0155, 0.0086, 0.4206, 0.3201, 0.2722, -0.1421, 1.7398, 1.672, 1.672, 1.672, 1.672, 1.672, 1.672, 1.672, 1.672, 1.672, 1.672, 1.672, 1.672, 1.672, 1.6719, 1.6719, 1.6719, 1.6719, 1.6719, 1.6719, 1.6719, 1.6719, 1.6719, 1.6719, 1.6719, 1.6719, 1.6719, 1.6719, 1.6719, 1.6719, 1.6442, 1.6325, 1.6212, 1.6185, 1.5839, 1.6339, 1.6188, 1.5514, 1.4207, 1.2861, 1.2294, 1.3356, 1.4446, 0.9089, 0.3549, 1.2924, 0.8842, 0.615, 1.1977, 0.8339, 0.7735, 0.6051, 0.0177, 0.2935, 1.153, 1.1068, 1.4895, 0.2465, 0.5684, -0.4406, 0.7731, 0.611, 0.2071, 0.1154, 0.2738, -0.2779, -0.4675, 0.3383, 0.6574, 0.343, 0.3391, -0.1538, 0.318, -0.3154, 0.0582, -0.6784, 1.8627, 1.7004, 1.7004, 1.7004, 1.7004, 1.7004, 1.7004, 1.7004, 1.7004, 1.7004, 1.7004, 1.7004, 1.7003, 1.7003, 1.7003, 1.7003, 1.7003, 1.7003, 1.7003, 1.7003, 1.7002, 1.6509, 1.6275, 1.6259, 1.6256, 1.6196, 1.5997, 1.5982, 1.5905, 1.5363, 1.4743, 1.0894, 1.4528, 1.0456, 0.9382, 0.937, 1.1167, 0.6267, 0.3733, 1.2467, 1.2845, 1.3792, -0.0309, 0.7214, 1.132, 0.9942, 0.5809, 0.1742, 0.7338, 0.8758, 0.4743, 1.5106, 0.2907, 1.4936, 0.5998, 0.6811, 0.8382, 0.0363, 0.1531, 0.3448, -0.6088, -0.5638, 0.0262, 0.0477, 0.115, -0.4665, 0.3684, 0.4171, -0.5338, 1.9841, 1.9699, 1.918, 1.8716, 1.8121, 1.8116, 1.7661, 1.7661, 1.7661, 1.766, 1.766, 1.766, 1.766, 1.766, 1.766, 1.766, 1.766, 1.766, 1.766, 1.766, 1.766, 1.766, 1.766, 1.766, 1.766, 1.766, 1.766, 1.7659, 1.7659, 1.7659, 1.7583, 1.7209, 1.622, 1.472, 1.4652, 1.6874, 1.6286, 1.6261, 1.6839, 1.1238, 1.2117, 1.3426, 1.4482, 1.2549, 1.5011, 1.4912, 1.4752, 1.5306, 1.4408, 0.9177, 1.1602, 0.5607, 1.0653, 1.6129, 0.7845, -0.0979, 0.3698, 0.6152, 0.3408, -0.2522, 0.9167, 0.2894, -0.3337, 0.5749, 0.8838, 1.0736, 0.1771, 0.2123, 0.6155, -0.3084, -0.666, -0.1448, 2.1052, 2.0624, 2.0108, 2.0107, 1.7946, 1.7844, 1.7844, 1.7844, 1.7844, 1.7844, 1.7844, 1.7844, 1.7844, 1.7844, 1.7844, 1.7844, 1.7844, 1.7844, 1.7844, 1.7844, 1.7844, 1.7844, 1.7844, 1.7844, 1.7844, 1.7844, 1.7844, 1.7844, 1.7844, 1.7844, 1.7837, 1.7799, 1.7016, 1.707, 1.735, 1.7322, 1.5787, 1.4316, 0.9454, 1.6729, 1.205, 1.4413, 1.0775, 0.2755, 1.6409, 0.6479, 1.638, 1.6429, 1.2991, 0.8751, 0.2665, 0.2324, 1.4823, 0.9491, 0.9531, 0.6807, 0.4751, 0.619, 0.193, 0.0762, -0.446, 0.4046, -0.1801, 0.033, 0.0458, 0.5548, -0.1215, -1.0009, -0.0532, 2.1719, 2.1719, 1.9336, 1.9336, 1.9336, 1.9336, 1.9336, 1.9336, 1.9336, 1.9336, 1.9335, 1.9335, 1.9335, 1.9335, 1.9335, 1.9335, 1.9335, 1.9335, 1.9334, 1.9333, 1.9333, 1.9333, 1.9332, 1.9332, 1.9332, 1.9332, 1.9332, 1.933, 1.894, 1.8312, 1.5264, 1.3854, 1.6274, 1.4399, 0.8206, 1.6638, 0.8841, 0.7112, 1.1164, 1.2867, 1.1517, 0.6064, 0.9924, 0.7986, 0.9681, -0.093, 0.7403, 1.4488, -0.5971, 1.4196, 1.2252, 0.8551, 1.0529, 1.0189, 0.1195, 0.7428, -0.1229, 0.7952, 0.5324, -0.2594, 0.1743, 0.2565, 0.5154, 0.1252, -0.6059, 0.3532, 2.2151, 2.1492, 2.1412, 2.1284, 1.9609, 1.9609, 1.9609, 1.9609, 1.9609, 1.9609, 1.9609, 1.9609, 1.9609, 1.9609, 1.9609, 1.9609, 1.9609, 1.9609, 1.9609, 1.9609, 1.9609, 1.9609, 1.9609, 1.9609, 1.9609, 1.9609, 1.9609, 1.9609, 1.9609, 1.9608, 1.8805, 1.9011, 1.8176, 1.7011, 1.4136, 1.7582, 1.6892, 1.6861, 1.2142, 0.5295, 0.9871, 1.6723, 1.2592, 1.1774, 0.5892, -0.1976, 1.4137, 1.0107, 1.0815, 1.3107, 1.0545, 1.1217, 0.3909, 1.375, 1.4804, 1.2838, 0.2667, 0.7957, -0.3024, 0.4955, -0.1514, 0.4111, 0.0138, -0.2905, 0.5874, -0.1101, 0.3698, 0.3829, 0.1677, 0.4553, -0.2776, 2.3352, 2.1746, 2.0801, 2.0801, 2.0801, 2.0801, 2.0801, 2.08, 2.08, 2.08, 2.08, 2.08, 2.08, 2.08, 2.08, 2.08, 2.08, 2.08, 2.08, 2.08, 2.08, 2.08, 2.08, 2.08, 2.0211, 2.0157, 2.0054, 1.9988, 1.9971, 1.9902, 1.8165, 1.7946, 1.7958, 1.6819, 1.8073, 1.6694, 1.4776, 1.2529, 1.34, 1.3655, 0.3981, 1.4738, 0.6488, 1.2125, 1.1193, 0.6205, 0.6015, 0.8863, 0.4187, 1.2173, 0.728, 1.5466, 0.6776, 0.2529, 0.9758, 1.0366, 0.696, 0.6562, -0.2816, -0.7582, -1.3376, -0.9558, -0.471, 0.6544, 2.7181, 2.5318, 2.2698, 2.2565, 2.2565, 2.2565, 2.2565, 2.2565, 2.2565, 2.2565, 2.2564, 2.2564, 2.2564, 2.2564, 2.2564, 2.2564, 2.2564, 2.2564, 2.2564, 2.2564, 2.2564, 2.2564, 2.2052, 2.0547, 2.0077, 2.0069, 1.9795, 1.9785, 1.9766, 1.9431, 1.9133, 1.8565, 1.2786, 1.6753, 1.09, 0.9701, 1.3588, 0.9482, 0.4858, 0.9295, 1.0024, 1.0956, 1.1591, 0.7261, 0.7676, 1.2546, 1.2465, 0.1282, 1.0473, 0.0306, 0.2183, 0.4534, 0.96, 1.0235, -0.2946, -1.0539, 0.8101, 0.4081, -1.0396, 0.5869, 0.4799, -1.228, 2.9472, 2.8119, 2.8119, 2.5072, 2.5072, 2.5071, 2.5071, 2.5071, 2.5071, 2.5071, 2.5071, 2.5071, 2.5071, 2.5068, 2.5067, 2.4787, 2.4772, 2.4716, 2.4642, 2.4589, 2.4558, 2.1394, 2.1037, 2.0683, 2.0611, 2.0242, 2.0198, 2.0108, 2.0053, 1.9955, 1.9367, 1.5236, 1.8321, 0.6534, 0.8412, 1.2034, 0.7845, -0.4737, 0.7183, 0.7309, 0.99, 1.2022, 0.5755, 0.709, -0.6526, -0.157, 1.3909, -0.689, -0.3005, 0.4726, 0.1782, 0.2242, 0.7362, 0.3619, 0.501, 0.8242, -0.381, 0.1344]}, \"token.table\": {\"Topic\": [2, 3, 4, 5, 8, 9, 1, 2, 3, 4, 5, 6, 7, 8, 9, 10, 1, 4, 9, 2, 7, 1, 4, 5, 8, 9, 8, 3, 1, 2, 4, 5, 6, 8, 9, 10, 9, 5, 1, 5, 6, 8, 2, 6, 1, 2, 3, 4, 5, 6, 7, 8, 9, 10, 8, 1, 4, 1, 2, 3, 4, 5, 7, 8, 1, 2, 3, 4, 6, 8, 5, 2, 1, 6, 7, 1, 2, 3, 4, 6, 7, 1, 1, 4, 6, 5, 1, 3, 4, 6, 8, 9, 6, 9, 5, 6, 1, 3, 5, 7, 8, 1, 2, 3, 5, 6, 7, 9, 10, 8, 1, 2, 3, 4, 5, 7, 8, 10, 4, 3, 1, 2, 3, 4, 7, 8, 9, 1, 1, 3, 5, 6, 1, 1, 2, 4, 5, 6, 8, 9, 2, 9, 9, 10, 9, 1, 2, 4, 1, 2, 3, 5, 6, 7, 8, 7, 2, 6, 7, 10, 4, 5, 3, 5, 4, 1, 3, 10, 6, 3, 4, 7, 1, 2, 3, 4, 5, 6, 7, 8, 10, 3, 1, 2, 3, 4, 5, 6, 7, 8, 9, 1, 2, 3, 4, 5, 6, 7, 8, 10, 6, 4, 3, 5, 5, 8, 4, 6, 4, 6, 7, 5, 8, 1, 3, 4, 7, 10, 6, 2, 4, 4, 3, 1, 3, 4, 5, 2, 4, 5, 7, 9, 9, 9, 6, 1, 2, 4, 6, 8, 9, 10, 7, 2, 4, 1, 6, 1, 2, 3, 4, 5, 6, 7, 8, 8, 4, 3, 9, 7, 6, 1, 3, 5, 7, 1, 3, 5, 6, 7, 5, 5, 9, 1, 2, 4, 6, 8, 9, 10, 8, 8, 8, 5, 2, 5, 7, 1, 3, 5, 6, 7, 9, 8, 6, 9, 1, 2, 2, 5, 3, 3, 1, 2, 3, 4, 5, 6, 10, 1, 4, 5, 8, 3, 4, 9, 4, 7, 1, 4, 5, 7, 10, 8, 3, 1, 2, 1, 7, 10, 1, 2, 3, 4, 5, 6, 9, 7, 6, 4, 1, 7, 7, 1, 1, 1, 2, 3, 4, 5, 6, 9, 10, 7, 5, 1, 2, 1, 3, 6, 7, 9, 3, 4, 5, 9, 10, 9, 1, 2, 3, 4, 5, 6, 8, 10, 8, 4, 9, 8, 1, 2, 3, 4, 5, 6, 7, 8, 9, 10, 2, 6, 1, 2, 3, 4, 5, 6, 7, 8, 9, 10, 2, 10, 4, 1, 2, 3, 4, 5, 6, 7, 8, 9, 5, 6, 9, 2, 3, 5, 10, 5, 1, 2, 3, 5, 6, 8, 9, 9, 1, 2, 3, 4, 5, 7, 8, 9, 1, 2, 3, 4, 5, 6, 7, 8, 10, 3, 1, 3, 8, 6, 3, 7, 1, 3, 5, 7, 1, 1, 6, 1, 3, 4, 5, 7, 2, 8, 1, 2, 3, 5, 6, 7, 9, 4, 7, 5, 2, 2, 4, 5, 10, 1, 3, 4, 7, 10, 4, 2, 3, 9, 10, 5, 8, 6, 10, 1, 2, 7, 8, 9, 10, 2, 2, 5, 3, 7, 10, 8, 7, 5, 1, 8, 1, 2, 4, 8, 2, 1, 10, 9, 2, 1, 3, 6, 1, 3, 4, 5, 6, 9, 7, 4, 10, 1, 2, 4, 5, 6, 7, 8, 4, 6, 10, 4, 1, 2, 3, 4, 5, 6, 7, 8, 9, 10, 1, 1, 2, 3, 4, 5, 6, 7, 8, 9, 10, 1, 2, 3, 4, 5, 7, 9, 10, 8, 10, 1, 2, 3, 4, 8, 7, 8, 7, 6, 4, 7, 5, 8, 2, 2, 10, 1, 2, 3, 4, 5, 6, 7, 8, 9, 10, 1, 2, 3, 4, 5, 1, 2, 3, 4, 1, 10, 8, 1, 1, 2, 6, 8, 1, 2, 3, 4, 5, 9, 3, 4, 2, 4, 1, 2, 3, 4, 5, 6, 8, 9, 1, 2, 6, 7, 8, 2, 5, 6, 9, 9, 1, 2, 3, 4, 3, 4, 5, 6, 8, 9, 2, 1, 2, 3, 4, 5, 7, 8, 9, 7, 5, 9, 3, 1, 9, 4, 1, 2, 1, 2, 3, 4, 5, 7, 8, 6, 5, 1, 3, 4, 8, 7, 8, 4, 1, 2, 3, 4, 6, 8, 9, 4, 4, 1, 2, 4, 5, 6, 8, 9, 6, 1, 2, 3, 1, 2, 3, 4, 5, 6, 9, 10, 9, 10, 2, 1, 2, 3, 4, 8, 9, 6, 6, 7, 2, 4, 3, 1, 2, 3, 4, 5, 6, 8, 1, 2, 3, 4, 5, 6, 7, 9, 10, 1, 2, 6, 7, 1, 6, 7, 8, 9, 2, 8, 8, 1, 2, 3, 1, 2, 3, 4, 1, 2, 3, 4, 5, 7, 8, 9, 1, 2, 3, 4, 5, 6, 7, 8, 4, 1, 2, 3, 4, 5, 6, 7, 8, 9, 10, 1, 3, 6, 5, 7, 1, 3, 4, 5, 6, 7, 9, 1, 1, 3, 5, 1, 1, 2, 1, 2, 3, 4, 6, 8, 9, 10, 1, 2, 3, 4, 5, 6, 7, 8, 9, 10, 1, 2, 3, 4, 5, 6, 7, 1, 2, 3, 4, 5, 6, 7, 9, 10, 9, 1, 2, 3, 4, 5, 7, 8, 7, 5, 1, 3, 4, 6, 7, 8, 3, 5, 7, 1, 10, 5, 7, 5, 7, 8, 9, 1, 3, 8, 10, 1, 2, 3, 5, 1, 5, 1, 1, 7, 7, 1, 7, 10, 1, 2, 3, 4, 5, 6, 7, 8, 9, 10, 2, 1, 2, 4, 9, 5, 1, 7, 1, 2, 7, 2, 4, 1, 7, 1, 2, 8, 1, 4, 5, 6, 8, 9, 10, 6, 3, 5, 2, 1, 2, 3, 4, 5, 6, 7, 8, 9, 10, 5, 1, 2, 3, 4, 5, 6, 7, 8, 9, 3, 1, 4, 10, 3, 5, 1, 6, 7, 1, 2, 3, 5, 9, 10, 8, 3, 4, 5, 2, 4, 1, 2, 3, 4, 5, 6, 8, 9, 1, 6, 8, 10, 2, 1, 2, 3, 8, 1, 4, 2, 8, 6, 7, 1, 3, 4, 6, 7, 9, 10, 1, 4, 4, 8, 6, 7, 1, 2, 4, 3, 3, 1, 3, 6, 8, 1, 3, 3, 9, 3, 1, 2, 3, 5, 6, 7, 10, 5, 10, 3, 7, 1, 2, 3, 5, 6, 8, 1, 6, 1, 3, 4, 5, 4, 1, 2, 3, 5, 6, 7, 3, 1, 2, 4, 5, 6, 10, 3, 1, 7, 9, 2, 2, 5, 8, 2, 3, 4, 5, 7, 8, 5, 8, 2, 5, 1, 3, 4, 5, 6, 4, 6, 1, 6, 2, 4, 5, 10, 1, 3, 4, 6, 7, 8, 1, 2, 5, 7, 8, 8, 10, 1, 2, 3, 4, 5, 6, 8, 9, 10, 1, 3, 5, 7, 10, 5, 1, 9, 1, 2, 3, 4, 5, 8, 9, 1, 2, 3, 4, 5, 6, 7, 8, 10, 1, 3, 8, 4, 7, 3, 8, 5, 7, 3, 1, 4, 7, 7, 6, 1, 3, 4, 7, 8, 1, 5, 1, 3, 6, 9, 1, 2, 4, 7, 1, 7, 3, 3, 1, 1, 2, 3, 5, 7, 10, 1, 2, 10, 1, 3, 4, 6, 6, 1, 2, 4, 5, 6, 8, 9, 10, 2, 1, 3, 4, 6, 8, 9, 2, 2, 1, 2, 3, 4, 5, 6, 7, 9, 10, 3, 1, 7, 10, 2, 5, 1, 2, 3, 4, 5, 6, 8, 10, 1, 1, 8, 4, 3, 5, 6, 1, 3, 5, 6, 8, 10, 2, 1, 2, 3, 4, 5, 6, 7, 8, 9, 8, 4, 1, 3, 4, 7, 10, 6, 4, 8, 9, 1, 2, 3, 4, 5, 6, 7, 1, 2, 3, 4, 7, 10, 1, 2, 4, 10, 1, 3], \"Freq\": [0.12995987072610637, 0.12995987072610637, 0.25991974145221275, 0.12995987072610637, 0.25991974145221275, 0.12995987072610637, 0.5740223752624735, 0.045921790020997874, 0.045921790020997874, 0.022960895010498937, 0.09184358004199575, 0.06888268503149682, 0.022960895010498937, 0.022960895010498937, 0.06888268503149682, 0.06888268503149682, 0.3377056439084627, 0.16885282195423135, 0.3377056439084627, 0.6868592600420136, 0.3434296300210068, 0.14440319959301934, 0.14440319959301934, 0.14440319959301934, 0.2888063991860387, 0.14440319959301934, 0.6346292592393357, 0.6920435078796122, 0.38569224758142984, 0.05509889251163284, 0.16529667753489852, 0.05509889251163284, 0.11019778502326567, 0.05509889251163284, 0.05509889251163284, 0.05509889251163284, 0.3735178451400634, 0.6517374836278857, 0.28958425814890343, 0.14479212907445171, 0.28958425814890343, 0.14479212907445171, 0.2759956013567549, 0.2759956013567549, 0.22518529370066523, 0.13511117622039914, 0.18014823496053217, 0.04503705874013304, 0.04503705874013304, 0.04503705874013304, 0.18014823496053217, 0.04503705874013304, 0.04503705874013304, 0.04503705874013304, 0.6304083541242481, 0.3229577765191847, 0.6459155530383694, 0.09389924682981322, 0.09389924682981322, 0.09389924682981322, 0.18779849365962645, 0.18779849365962645, 0.09389924682981322, 0.09389924682981322, 0.3155992715496115, 0.15779963577480574, 0.07889981788740287, 0.07889981788740287, 0.15779963577480574, 0.15779963577480574, 0.6517281687415445, 0.674120560068947, 0.3199110634911581, 0.4798665952367372, 0.7088531523439277, 0.22090413456496227, 0.11045206728248114, 0.22090413456496227, 0.11045206728248114, 0.11045206728248114, 0.22090413456496227, 0.7068449592701881, 0.21248710604941046, 0.6374613181482314, 0.676343092003414, 0.6517094046540393, 0.18796348592282786, 0.09398174296141393, 0.09398174296141393, 0.3759269718456557, 0.09398174296141393, 0.09398174296141393, 0.6763369232790257, 0.48828219801612266, 0.6517056911338707, 0.6764886902964878, 0.3503685532460566, 0.11678951774868553, 0.11678951774868553, 0.23357903549737105, 0.11678951774868553, 0.2651357787648302, 0.08837859292161006, 0.08837859292161006, 0.08837859292161006, 0.17675718584322012, 0.08837859292161006, 0.08837859292161006, 0.17675718584322012, 0.6303993532503566, 0.6056793516874773, 0.04037862344583182, 0.04037862344583182, 0.08075724689166364, 0.04037862344583182, 0.04037862344583182, 0.12113587033749547, 0.8084202953446975, 0.6609156173596991, 0.6787338512627229, 0.4148206731943457, 0.06913677886572428, 0.06913677886572428, 0.20741033659717284, 0.06913677886572428, 0.06913677886572428, 0.06913677886572428, 0.8087219306660431, 0.5402618386349897, 0.13506545965874742, 0.13506545965874742, 0.13506545965874742, 0.7943564619536974, 0.11834796321019629, 0.11834796321019629, 0.35504388963058886, 0.11834796321019629, 0.11834796321019629, 0.11834796321019629, 0.11834796321019629, 0.6741060699113227, 0.7508831508790281, 0.388696385571903, 0.388696385571903, 0.7508396811165629, 0.21754620039119882, 0.21754620039119882, 0.43509240078239764, 0.2690805013208611, 0.2690805013208611, 0.13454025066043054, 0.06727012533021527, 0.06727012533021527, 0.06727012533021527, 0.06727012533021527, 0.708865386112663, 0.3634754663599426, 0.1817377331799713, 0.1817377331799713, 0.1817377331799713, 0.6609496733729348, 0.43236629199478266, 0.33544715656557655, 0.33544715656557655, 0.6609336735635613, 0.7839097692103947, 0.6919905183239934, 0.492114771263612, 0.6763920339819288, 0.4534004303392066, 0.4534004303392066, 0.7088598696957361, 0.18355732083435017, 0.06118577361145006, 0.18355732083435017, 0.12237154722290013, 0.18355732083435017, 0.09177866041717508, 0.12237154722290013, 0.03059288680572503, 0.03059288680572503, 0.4477988341778243, 0.1462638288447799, 0.18282978605597486, 0.036565957211194974, 0.10969787163358492, 0.10969787163358492, 0.036565957211194974, 0.07313191442238995, 0.10969787163358492, 0.18282978605597486, 0.2738656071941032, 0.20539920539557738, 0.1369328035970516, 0.0684664017985258, 0.1369328035970516, 0.0684664017985258, 0.0684664017985258, 0.0684664017985258, 0.0684664017985258, 0.8992725452169603, 0.6590014524850767, 0.2228621596275432, 0.4457243192550864, 0.6517142270146924, 0.6303679818188586, 0.6609230981604998, 0.6764214170187924, 0.6558152920459875, 0.32790764602299377, 0.7088601377473139, 0.4484534246163602, 0.6303758787331721, 0.5425457735291582, 0.06028286372546203, 0.24113145490184812, 0.06028286372546203, 0.06028286372546203, 0.676352952335039, 0.43935105229218685, 0.43935105229218685, 0.6609452419947311, 0.6920075467426864, 0.1689582400117677, 0.1689582400117677, 0.08447912000588385, 0.591353840041187, 0.16331730556221827, 0.16331730556221827, 0.16331730556221827, 0.16331730556221827, 0.32663461112443654, 0.7508279302882301, 0.517897920096205, 0.6763712469121747, 0.26186871460008726, 0.19640153595006546, 0.06546717865002182, 0.06546717865002182, 0.13093435730004363, 0.06546717865002182, 0.06546717865002182, 0.7088494963967998, 0.6637208008664094, 0.3318604004332047, 0.26416077091709583, 0.26416077091709583, 0.3051158359783583, 0.12204633439134333, 0.06102316719567166, 0.06102316719567166, 0.06102316719567166, 0.183069501587015, 0.12204633439134333, 0.12204633439134333, 0.6352967267487911, 0.7820639449850527, 0.6919960124206501, 0.7508462741000004, 0.7088449971154854, 0.6811577851709759, 0.49012905739393015, 0.09802581147878603, 0.09802581147878603, 0.2940774344363581, 0.18854257862664786, 0.18854257862664786, 0.18854257862664786, 0.18854257862664786, 0.18854257862664786, 0.6517144411052022, 0.6517304420919164, 0.7649416588535284, 0.23287463866073205, 0.07762487955357734, 0.07762487955357734, 0.3881243977678867, 0.07762487955357734, 0.07762487955357734, 0.07762487955357734, 0.6304145255940455, 0.32146452662733555, 0.6304158982989179, 0.6517250878672525, 0.674125868308608, 0.6498557828378674, 0.7088421913756004, 0.39836133447573646, 0.09959033361893412, 0.09959033361893412, 0.19918066723786823, 0.09959033361893412, 0.09959033361893412, 0.7313074975376814, 0.6763617395776633, 0.7508231468246729, 0.4341782324893606, 0.4341782324893606, 0.3240071793806432, 0.6480143587612864, 0.6919906024182673, 0.6920084721258755, 0.11394511517870841, 0.11394511517870841, 0.3418353455361252, 0.11394511517870841, 0.22789023035741682, 0.11394511517870841, 0.11394511517870841, 0.7968815470088481, 0.519949471338148, 0.259974735669074, 0.259974735669074, 0.6920071507598816, 0.6609229435591457, 0.7508390314600996, 0.660947209789665, 0.7088442946438986, 0.5583183502662872, 0.11166367005325743, 0.11166367005325743, 0.22332734010651487, 0.8084043386914935, 0.6303753849912486, 0.6920867599024795, 0.5243881618059225, 0.349592107870615, 0.7878327203417276, 0.4768475236948077, 0.8021614781046426, 0.3808805334494326, 0.25392035563295506, 0.06348008890823877, 0.06348008890823877, 0.06348008890823877, 0.06348008890823877, 0.06348008890823877, 0.7088658251348168, 0.6763969984691114, 0.6609630191746882, 0.22436986434526054, 0.4487397286905211, 0.7088664037263126, 0.7942500848834381, 0.7878771659051291, 0.20821846254332863, 0.10410923127166431, 0.10410923127166431, 0.10410923127166431, 0.10410923127166431, 0.20821846254332863, 0.10410923127166431, 0.10410923127166431, 0.7088458436138729, 0.6517218693094429, 0.4284248460869001, 0.4284248460869001, 0.3404697624191669, 0.11348992080638895, 0.11348992080638895, 0.2269798416127779, 0.11348992080638895, 0.1432498979742315, 0.286499795948463, 0.1432498979742315, 0.1432498979742315, 0.1432498979742315, 0.7508648255881629, 0.10670111076558475, 0.053350555382792375, 0.2134022215311695, 0.32010333229675425, 0.10670111076558475, 0.053350555382792375, 0.053350555382792375, 0.053350555382792375, 0.6303903099680247, 0.4381450422943045, 0.7508256457169049, 0.6304261205138536, 0.39135663606088467, 0.15417079602398487, 0.05929646000922495, 0.07115575201106994, 0.05929646000922495, 0.07115575201106994, 0.1304522120202949, 0.03557787600553497, 0.01185929200184499, 0.02371858400368998, 0.6694165046722939, 0.3347082523361469, 0.430086117678311, 0.11027849171238743, 0.05513924585619372, 0.0771949441986712, 0.03308354751371623, 0.18747343591105864, 0.05513924585619372, 0.03308354751371623, 0.022055698342477486, 0.022055698342477486, 0.6741081977534484, 0.5743856711839476, 0.6609234365207083, 0.5179058812478815, 0.08286494099966105, 0.12429741149949157, 0.04143247049983052, 0.04143247049983052, 0.04143247049983052, 0.062148705749745785, 0.04143247049983052, 0.062148705749745785, 0.2790209202063415, 0.2790209202063415, 0.2790209202063415, 0.11291976840844746, 0.22583953681689492, 0.45167907363378984, 0.11291976840844746, 0.651735389238448, 0.16689264999355824, 0.16689264999355824, 0.16689264999355824, 0.16689264999355824, 0.08344632499677912, 0.16689264999355824, 0.16689264999355824, 0.7508146894349392, 0.2620457387841217, 0.17469715918941447, 0.08734857959470724, 0.08734857959470724, 0.08734857959470724, 0.08734857959470724, 0.08734857959470724, 0.08734857959470724, 0.19721512540813327, 0.09860756270406663, 0.19721512540813327, 0.19721512540813327, 0.09860756270406663, 0.04930378135203332, 0.04930378135203332, 0.04930378135203332, 0.09860756270406663, 0.6919895057304364, 0.5665002874205244, 0.22660011496820975, 0.11330005748410488, 0.6763550524418169, 0.2796636887837034, 0.2796636887837034, 0.22177249769294305, 0.22177249769294305, 0.22177249769294305, 0.22177249769294305, 0.8996148798259946, 0.31981815138552866, 0.6396363027710573, 0.1625302169861274, 0.1625302169861274, 0.1625302169861274, 0.3250604339722548, 0.1625302169861274, 0.6741252561751355, 0.6304037999046584, 0.49981723306816483, 0.08330287217802747, 0.08330287217802747, 0.16660574435605494, 0.08330287217802747, 0.08330287217802747, 0.08330287217802747, 0.34867532041793925, 0.34867532041793925, 0.8562785316237869, 0.44459486732859, 0.3774493255875215, 0.18872466279376074, 0.18872466279376074, 0.8084191268814498, 0.4817987078626498, 0.05353318976251664, 0.21413275905006657, 0.10706637952503328, 0.05353318976251664, 0.6609593937126289, 0.6788519787250512, 0.3394259893625256, 0.7508294308469436, 0.8084266645150444, 0.6517366682807795, 0.6303779980057359, 0.6763929547103797, 0.8084330537552733, 0.1146260991661922, 0.2292521983323844, 0.1146260991661922, 0.2292521983323844, 0.1146260991661922, 0.1146260991661922, 0.6741317061535667, 0.6741303239023516, 0.6517203862565605, 0.690354729776333, 0.7088547569471073, 0.8024602605801074, 0.6303897500680108, 0.7088534374547508, 0.6517284835097006, 0.7976296038697228, 0.6303873913643427, 0.14557827435882523, 0.14557827435882523, 0.43673482307647565, 0.14557827435882523, 0.6741056705878307, 0.4846841272012972, 0.4846841272012972, 0.7508558657636571, 0.6741261500204201, 0.6593691350101991, 0.21978971167006636, 0.10989485583503318, 0.3894315303041056, 0.27816537878864683, 0.05563307575772937, 0.05563307575772937, 0.11126615151545874, 0.05563307575772937, 0.7088594113745805, 0.6609683945701096, 0.808488244163319, 0.18357251926511226, 0.18357251926511226, 0.18357251926511226, 0.09178625963255613, 0.09178625963255613, 0.09178625963255613, 0.09178625963255613, 0.43829621060249335, 0.4987518482745632, 0.4987518482745632, 0.6609270437285496, 0.28427623791860634, 0.1263449946304917, 0.09475874597286879, 0.1263449946304917, 0.1263449946304917, 0.06317249731524585, 0.1263449946304917, 0.031586248657622926, 0.031586248657622926, 0.031586248657622926, 0.8086975324151396, 0.33997895625224106, 0.1359915825008964, 0.0679957912504482, 0.1586568462510458, 0.1359915825008964, 0.0679957912504482, 0.022665263750149402, 0.022665263750149402, 0.022665263750149402, 0.022665263750149402, 0.41529886909784813, 0.11865681974224233, 0.11865681974224233, 0.11865681974224233, 0.05932840987112117, 0.05932840987112117, 0.11865681974224233, 0.05932840987112117, 0.6303978934163311, 0.8084206782496279, 0.10765465272331608, 0.10765465272331608, 0.21530930544663215, 0.4306186108932643, 0.10765465272331608, 0.2603234311553505, 0.2603234311553505, 0.7088565669165704, 0.676409770485523, 0.6609303074917494, 0.7088644801248218, 0.6517111756919164, 0.6304114788007745, 0.6741213821022969, 0.6741059677932489, 0.5005502118584539, 0.4791915662349122, 0.08984841866904604, 0.11979789155872805, 0.08984841866904604, 0.08984841866904604, 0.05989894577936403, 0.029949472889682013, 0.029949472889682013, 0.05989894577936403, 0.029949472889682013, 0.1219186931684837, 0.1219186931684837, 0.1219186931684837, 0.4876747726739348, 0.6517169385525774, 0.580174733949411, 0.06446385932771233, 0.2578554373108493, 0.06446385932771233, 0.47588677158235415, 0.47588677158235415, 0.6358227938502437, 0.7902944277064509, 0.34044320678476514, 0.2269621378565101, 0.34044320678476514, 0.11348106892825505, 0.2380110406516066, 0.1190055203258033, 0.1190055203258033, 0.1190055203258033, 0.2380110406516066, 0.1190055203258033, 0.6920140155708464, 0.6609341130001585, 0.6741111404912302, 0.6609695191260276, 0.10944754944855553, 0.10944754944855553, 0.10944754944855553, 0.21889509889711106, 0.10944754944855553, 0.10944754944855553, 0.21889509889711106, 0.10944754944855553, 0.39419675624950024, 0.19709837812475012, 0.09854918906237506, 0.19709837812475012, 0.09854918906237506, 0.674130590756086, 0.6517339666842651, 0.6763693663488007, 0.7508332442598982, 0.7508252738090475, 0.28761322393756855, 0.28761322393756855, 0.14380661196878428, 0.14380661196878428, 0.14002613700862296, 0.42007841102586885, 0.07001306850431148, 0.14002613700862296, 0.07001306850431148, 0.07001306850431148, 0.6741246795449373, 0.15394749239727012, 0.07697374619863506, 0.15394749239727012, 0.07697374619863506, 0.2309212385959052, 0.15394749239727012, 0.15394749239727012, 0.07697374619863506, 0.7088587502953495, 0.6517137933086662, 0.7508359713492828, 0.6906703114738909, 0.7878901276735656, 0.7508403172816234, 0.4381656806217465, 0.5978188617417562, 0.19927295391391875, 0.5906863417040326, 0.0393790894469355, 0.0393790894469355, 0.078758178893871, 0.0393790894469355, 0.0393790894469355, 0.157516357787742, 0.6763565088990066, 0.8561909671276322, 0.34087996519841796, 0.22725331013227865, 0.34087996519841796, 0.11362665506613932, 0.7088593026732215, 0.7376167462736403, 0.6609163083719083, 0.44207809305892526, 0.16577928489709695, 0.11051952326473131, 0.05525976163236566, 0.05525976163236566, 0.05525976163236566, 0.05525976163236566, 0.8655032810844928, 0.6609367217460158, 0.22588071718669614, 0.22588071718669614, 0.07529357239556538, 0.07529357239556538, 0.07529357239556538, 0.15058714479113075, 0.07529357239556538, 0.6763803068760401, 0.18703232225123123, 0.37406464450246246, 0.18703232225123123, 0.10655473001369066, 0.10655473001369066, 0.10655473001369066, 0.10655473001369066, 0.10655473001369066, 0.21310946002738132, 0.10655473001369066, 0.10655473001369066, 0.7648977140603667, 0.8908151307137238, 0.6741251619809097, 0.3210255580417761, 0.12841022321671045, 0.12841022321671045, 0.12841022321671045, 0.12841022321671045, 0.06420511160835522, 0.6763630115558252, 0.6763691897438774, 0.7088325726068463, 0.6741227980662329, 0.6609333421343204, 0.4577457675800865, 0.36145597973895927, 0.09036399493473982, 0.2710919848042194, 0.04518199746736991, 0.09036399493473982, 0.09036399493473982, 0.04518199746736991, 0.3501535358853188, 0.1400614143541275, 0.07003070717706375, 0.07003070717706375, 0.21009212153119125, 0.07003070717706375, 0.07003070717706375, 0.07003070717706375, 0.574384149494124, 0.1874846717841761, 0.1874846717841761, 0.1874846717841761, 0.1874846717841761, 0.20135469512707124, 0.20135469512707124, 0.10067734756353562, 0.20135469512707124, 0.10067734756353562, 0.6741147320338615, 0.6303889207991925, 0.6362494654628743, 0.4702535358652904, 0.15675117862176347, 0.31350235724352693, 0.5964917478251336, 0.2982458739125668, 0.6920042646944964, 0.6609189120980034, 0.2894611443854345, 0.04824352406423909, 0.04824352406423909, 0.04824352406423909, 0.14473057219271726, 0.04824352406423909, 0.14473057219271726, 0.14473057219271726, 0.2355370983605312, 0.1766528237703984, 0.0588842745901328, 0.0588842745901328, 0.0588842745901328, 0.2355370983605312, 0.1177685491802656, 0.1177685491802656, 0.6528828576506416, 0.2623783490492755, 0.0983918808934783, 0.0983918808934783, 0.06559458726231887, 0.2623783490492755, 0.032797293631159435, 0.06559458726231887, 0.0983918808934783, 0.032797293631159435, 0.032797293631159435, 0.21597161192165507, 0.43194322384331013, 0.21597161192165507, 0.6517128455072065, 0.4762916261240807, 0.25787686557638556, 0.12893843278819278, 0.06446921639409639, 0.12893843278819278, 0.06446921639409639, 0.25787686557638556, 0.12893843278819278, 0.787810768965072, 0.21512643485137098, 0.21512643485137098, 0.43025286970274196, 0.8001605436162931, 0.7921962919686069, 0.6741064841065945, 0.4291953499186451, 0.07153255831977418, 0.14306511663954835, 0.07153255831977418, 0.07153255831977418, 0.07153255831977418, 0.07153255831977418, 0.07153255831977418, 0.2420338880730593, 0.044006161467828965, 0.11001540366957242, 0.06600924220174345, 0.1320184844034869, 0.19802772660523035, 0.06600924220174345, 0.06600924220174345, 0.08801232293565793, 0.022003080733914483, 0.21464838096515435, 0.14309892064343624, 0.07154946032171812, 0.07154946032171812, 0.2861978412868725, 0.07154946032171812, 0.14309892064343624, 0.3694057964378853, 0.131930641584959, 0.05277225663398361, 0.131930641584959, 0.10554451326796722, 0.05277225663398361, 0.10554451326796722, 0.026386128316991806, 0.026386128316991806, 0.6392908176722261, 0.5931641499414261, 0.059316414994142606, 0.059316414994142606, 0.11863282998828521, 0.059316414994142606, 0.059316414994142606, 0.11863282998828521, 0.7088522192989816, 0.6517342579079606, 0.6060704827469408, 0.13468232949932016, 0.06734116474966008, 0.13468232949932016, 0.06734116474966008, 0.06734116474966008, 0.4397371440857753, 0.4397371440857753, 0.7088452090228312, 0.47649460852411013, 0.47649460852411013, 0.27121373402498017, 0.27121373402498017, 0.2537084212456743, 0.2537084212456743, 0.5074168424913486, 0.7508111560579753, 0.2087714739517767, 0.2087714739517767, 0.4175429479035534, 0.7984773851034561, 0.1425931904747841, 0.1425931904747841, 0.1425931904747841, 0.5703727618991364, 0.7121041542409371, 0.2373680514136457, 0.7964661833442251, 0.3313455896959533, 0.3313455896959533, 0.4766344521437715, 0.29364049711704293, 0.29364049711704293, 0.29364049711704293, 0.21804298226235816, 0.1635322366967686, 0.10902149113117908, 0.05451074556558954, 0.10902149113117908, 0.05451074556558954, 0.10902149113117908, 0.05451074556558954, 0.10902149113117908, 0.05451074556558954, 0.6740974855295336, 0.21294743056778573, 0.42589486113557146, 0.21294743056778573, 0.750847165895426, 0.651715607192231, 0.268296737038813, 0.536593474077626, 0.21905475049963602, 0.43810950099927204, 0.21905475049963602, 0.3300376388853125, 0.3300376388853125, 0.8010063921252031, 0.7088582015544457, 0.21371907606801185, 0.21371907606801185, 0.4274381521360237, 0.4709663813553377, 0.0672809116221911, 0.0672809116221911, 0.1345618232443822, 0.0672809116221911, 0.0672809116221911, 0.0672809116221911, 0.6763620619622966, 0.3409256964628653, 0.3409256964628653, 0.6741185232218412, 0.45888276094666747, 0.06748275896274522, 0.0944758625478433, 0.08772758665156878, 0.12821724202921592, 0.04723793127392165, 0.060734483066470696, 0.020244827688823564, 0.020244827688823564, 0.020244827688823564, 0.6517351238919751, 0.391965514806495, 0.0627144823690392, 0.1411075853303382, 0.0470358617767794, 0.0156786205922598, 0.156786205922598, 0.0156786205922598, 0.1097503441458186, 0.0313572411845196, 0.4448047320692981, 0.8046163276894632, 0.49651974287149575, 0.49651974287149575, 0.43881066515610084, 0.43881066515610084, 0.21949325147122356, 0.21949325147122356, 0.21949325147122356, 0.4032160784547611, 0.10080401961369027, 0.20160803922738055, 0.10080401961369027, 0.10080401961369027, 0.10080401961369027, 0.6303844213855903, 0.6920018960813678, 0.6609407002407383, 0.4290171186495826, 0.33141110280282926, 0.33141110280282926, 0.435948910353199, 0.1743795641412796, 0.0435948910353199, 0.0871897820706398, 0.0435948910353199, 0.0871897820706398, 0.0435948910353199, 0.0871897820706398, 0.41426705540631076, 0.2761780369375405, 0.13808901846877025, 0.8084065894233682, 0.6741221338957276, 0.18009075213792655, 0.18009075213792655, 0.18009075213792655, 0.3601815042758531, 0.3162305565136628, 0.6324611130273255, 0.31991023387186873, 0.31991023387186873, 0.6763683042871438, 0.5549941444954657, 0.28122084530414493, 0.09374028176804831, 0.28122084530414493, 0.09374028176804831, 0.09374028176804831, 0.09374028176804831, 0.09374028176804831, 0.6068026130387767, 0.12136052260775533, 0.6609227735259185, 0.6304076282958788, 0.6763406115512266, 0.708851065988096, 0.21831292942516986, 0.4366258588503397, 0.21831292942516986, 0.6919973349852689, 0.6920062305753027, 0.48325976173423013, 0.12081494043355753, 0.12081494043355753, 0.24162988086711507, 0.264286558570535, 0.52857311714107, 0.28448736415163456, 0.28448736415163456, 0.6903673355875392, 0.26258333551843277, 0.052516667103686555, 0.10503333420737311, 0.10503333420737311, 0.3151000026221193, 0.10503333420737311, 0.052516667103686555, 0.6517127686520678, 0.8084546232276313, 0.2797360653443053, 0.2797360653443053, 0.09091813295111173, 0.18183626590222346, 0.09091813295111173, 0.09091813295111173, 0.18183626590222346, 0.2727543988533352, 0.25261454179079895, 0.5052290835815979, 0.5541903356265114, 0.11083806712530228, 0.11083806712530228, 0.11083806712530228, 0.6610100965431188, 0.3521804466189173, 0.07043608932378345, 0.07043608932378345, 0.1408721786475669, 0.1408721786475669, 0.07043608932378345, 0.6919801915886434, 0.09751124424872844, 0.09751124424872844, 0.09751124424872844, 0.2925337327461853, 0.09751124424872844, 0.09751124424872844, 0.69197335084554, 0.3356456782270454, 0.3356456782270454, 0.7508441648647054, 0.6741322387664256, 0.6741158758891445, 0.43210802887190775, 0.6304153308574929, 0.11992166848606554, 0.11992166848606554, 0.2398433369721311, 0.11992166848606554, 0.11992166848606554, 0.2398433369721311, 0.2575623155072992, 0.5151246310145984, 0.674087808810648, 0.6374846566296258, 0.1985368412870067, 0.09926842064350334, 0.29780526193051005, 0.1985368412870067, 0.09926842064350334, 0.660938824812303, 0.6764038555266471, 0.7760924201585327, 0.6763999717091652, 0.6741113902849966, 0.5190915805721332, 0.2595457902860666, 0.7978669961722125, 0.3029557485216363, 0.22721681139122726, 0.07573893713040908, 0.07573893713040908, 0.15147787426081816, 0.07573893713040908, 0.6555089544285793, 0.10925149240476321, 0.10925149240476321, 0.10925149240476321, 0.6303680948769829, 0.6303928815456253, 0.8084205645108524, 0.3295522755360209, 0.1464676780160093, 0.10985075851200697, 0.07323383900800465, 0.07323383900800465, 0.036616919504002324, 0.036616919504002324, 0.1464676780160093, 0.07323383900800465, 0.19422666927223095, 0.3884533385444619, 0.19422666927223095, 0.7088537675340084, 0.8010296264983222, 0.6517116710745189, 0.8011334849282742, 0.7508419541581792, 0.18851053284474067, 0.06283684428158022, 0.2513473771263209, 0.12567368856316044, 0.06283684428158022, 0.12567368856316044, 0.06283684428158022, 0.31939300549864513, 0.07984825137466128, 0.15969650274932257, 0.07984825137466128, 0.07984825137466128, 0.07984825137466128, 0.07984825137466128, 0.07984825137466128, 0.7995551398136302, 0.6810774979349231, 0.17026937448373078, 0.17026937448373078, 0.5364607364787227, 0.26823036823936136, 0.6907677848182898, 0.6357301647390929, 0.6517219719026502, 0.7088588028353396, 0.6920406049857537, 0.36889997525189056, 0.18444998762594528, 0.18444998762594528, 0.7088671041197198, 0.899241203424954, 0.2500337860134562, 0.1250168930067281, 0.2500337860134562, 0.1250168930067281, 0.2500337860134562, 0.4108947449616955, 0.4108947449616955, 0.33592514238580906, 0.6718502847716181, 0.3736571214640582, 0.3736571214640582, 0.3887398457482844, 0.12957994858276148, 0.12957994858276148, 0.25915989716552296, 0.7953199534341462, 0.47881482846741963, 0.6920163530105337, 0.692010948020745, 0.7878644859973576, 0.12792968840004176, 0.12792968840004176, 0.2558593768000835, 0.12792968840004176, 0.12792968840004176, 0.12792968840004176, 0.27467404692872005, 0.5493480938574401, 0.27467404692872005, 0.2555282721404082, 0.2555282721404082, 0.5110565442808164, 0.6764098112355487, 0.676369468423036, 0.1914711837793622, 0.06382372792645406, 0.06382372792645406, 0.1914711837793622, 0.12764745585290813, 0.06382372792645406, 0.12764745585290813, 0.06382372792645406, 0.6741202732906432, 0.3390965218953875, 0.11303217396512917, 0.11303217396512917, 0.11303217396512917, 0.11303217396512917, 0.22606434793025834, 0.43889023414288875, 0.6741328296969629, 0.25076562942353386, 0.050153125884706766, 0.15045937765412032, 0.050153125884706766, 0.15045937765412032, 0.10030625176941353, 0.050153125884706766, 0.15045937765412032, 0.050153125884706766, 0.33634812012766174, 0.4742992652183667, 0.23714963260918334, 0.23714963260918334, 0.6741181250744788, 0.7690002418192933, 0.09088226537131809, 0.18176453074263618, 0.09088226537131809, 0.09088226537131809, 0.09088226537131809, 0.18176453074263618, 0.09088226537131809, 0.09088226537131809, 0.7878001128910926, 0.30689387633020615, 0.6137877526604123, 0.4369532701903868, 0.6919967779705216, 0.6517290466016312, 0.676380546197088, 0.5402599733088835, 0.15435999237396672, 0.07717999618698336, 0.07717999618698336, 0.15435999237396672, 0.07717999618698336, 0.6741133371226804, 0.2948618259519172, 0.06552485021153716, 0.13104970042307432, 0.13104970042307432, 0.09828727531730573, 0.13104970042307432, 0.06552485021153716, 0.03276242510576858, 0.03276242510576858, 0.6303936955728235, 0.6609503473850533, 0.3366253752489953, 0.08415634381224882, 0.3366253752489953, 0.08415634381224882, 0.8084678288392664, 0.6763881946770434, 0.2630157079033753, 0.5260314158067506, 0.2630157079033753, 0.3997251122104028, 0.06662085203506712, 0.1998625561052014, 0.06662085203506712, 0.13324170407013425, 0.06662085203506712, 0.06662085203506712, 0.26147714119468707, 0.13073857059734353, 0.13073857059734353, 0.26147714119468707, 0.13073857059734353, 0.8084144505793719, 0.16764039998354227, 0.33528079996708454, 0.16764039998354227, 0.16764039998354227, 0.2246803318846469, 0.4493606637692938], \"Term\": [\"acc\", \"acc\", \"acc\", \"acc\", \"acc\", \"acc\", \"account\", \"account\", \"account\", \"account\", \"account\", \"account\", \"account\", \"account\", \"account\", \"account\", \"accounts\", \"accounts\", \"accounts\", \"acct\", \"acct\", \"add\", \"add\", \"add\", \"add\", \"add\", \"added\", \"afford\", \"age\", \"age\", \"age\", \"age\", \"age\", \"age\", \"age\", \"age\", \"agree\", \"agreed\", \"allow\", \"allow\", \"allow\", \"allow\", \"allows\", \"allows\", \"also\", \"also\", \"also\", \"also\", \"also\", \"also\", \"also\", \"also\", \"also\", \"also\", \"among\", \"amount\", \"amount\", \"anyone\", \"anyone\", \"anyone\", \"anyone\", \"anyone\", \"anyone\", \"anyone\", \"anything\", \"anything\", \"anything\", \"anything\", \"anything\", \"anything\", \"apparently\", \"approve\", \"approved\", \"approved\", \"arent\", \"around\", \"around\", \"around\", \"around\", \"around\", \"around\", \"asked\", \"aspx\", \"aspx\", \"assuming\", \"automatically\", \"avatar\", \"avatar\", \"avatar\", \"avatar\", \"avatar\", \"avatar\", \"average\", \"avoid\", \"award\", \"awh\", \"back\", \"back\", \"back\", \"back\", \"back\", \"bad\", \"bad\", \"bad\", \"bad\", \"bad\", \"bad\", \"bad\", \"bad\", \"balance\", \"beast\", \"beast\", \"beast\", \"beast\", \"beast\", \"beast\", \"beast\", \"becomes\", \"bed\", \"believes\", \"best\", \"best\", \"best\", \"best\", \"best\", \"best\", \"best\", \"biggest\", \"birthday\", \"birthday\", \"birthday\", \"birthday\", \"blizzard\", \"block\", \"block\", \"block\", \"block\", \"block\", \"block\", \"block\", \"botted\", \"brand\", \"brother\", \"brother\", \"browser\", \"busy\", \"busy\", \"busy\", \"buy\", \"buy\", \"buy\", \"buy\", \"buy\", \"buy\", \"buy\", \"bypasses\", \"called\", \"called\", \"called\", \"called\", \"candy\", \"capitalism\", \"card\", \"card\", \"careful\", \"catalog\", \"cause\", \"caused\", \"cbc\", \"certain\", \"certain\", \"chance\", \"chat\", \"chat\", \"chat\", \"chat\", \"chat\", \"chat\", \"chat\", \"chat\", \"chat\", \"checking\", \"child\", \"child\", \"child\", \"child\", \"child\", \"child\", \"child\", \"child\", \"child\", \"children\", \"children\", \"children\", \"children\", \"children\", \"children\", \"children\", \"children\", \"children\", \"choose\", \"chores\", \"christmas\", \"christmas\", \"chrome\", \"clarify\", \"clean\", \"clickbaited\", \"clicking\", \"clicking\", \"clips\", \"codes\", \"college\", \"com\", \"com\", \"com\", \"com\", \"com\", \"comfortable\", \"comment\", \"comment\", \"common\", \"commonsense\", \"community\", \"community\", \"community\", \"community\", \"computer\", \"computer\", \"computer\", \"computer\", \"computer\", \"concept\", \"connect\", \"cons\", \"content\", \"content\", \"content\", \"content\", \"content\", \"content\", \"content\", \"context\", \"continue\", \"continue\", \"control\", \"control\", \"controls\", \"controls\", \"controls\", \"controls\", \"controls\", \"controls\", \"controls\", \"controls\", \"cord\", \"coronavirus\", \"corp\", \"correct\", \"correction\", \"costs\", \"could\", \"could\", \"could\", \"could\", \"couple\", \"couple\", \"couple\", \"couple\", \"couple\", \"coupon\", \"coworkers\", \"crimes\", \"curated\", \"curated\", \"curated\", \"curated\", \"curated\", \"curated\", \"curated\", \"currently\", \"customization\", \"cutest\", \"cuz\", \"cvs\", \"cyber\", \"dancing\", \"daughter\", \"daughter\", \"daughter\", \"daughter\", \"daughter\", \"daughter\", \"dear\", \"deathshard\", \"dedlvghts\", \"deleted\", \"deleted\", \"desktop\", \"desktop\", \"developer\", \"dhc\", \"disable\", \"disable\", \"disable\", \"disable\", \"disable\", \"disable\", \"disable\", \"disaster\", \"discuss\", \"discuss\", \"discuss\", \"distancing\", \"distraction\", \"dollar\", \"dopamine\", \"downloaded\", \"eaten\", \"eaten\", \"eaten\", \"eaten\", \"effects\", \"elsewhere\", \"em\", \"email\", \"email\", \"en\", \"esrb\", \"evades\", \"even\", \"even\", \"even\", \"even\", \"even\", \"even\", \"even\", \"event\", \"exclusive\", \"explained\", \"extremely\", \"extremely\", \"factors\", \"fair\", \"fandom\", \"feel\", \"feel\", \"feel\", \"feel\", \"feel\", \"feel\", \"feel\", \"feel\", \"filtered\", \"fingerprint\", \"finish\", \"finish\", \"free\", \"free\", \"free\", \"free\", \"free\", \"friend\", \"friend\", \"friend\", \"friend\", \"friend\", \"friending\", \"friends\", \"friends\", \"friends\", \"friends\", \"friends\", \"friends\", \"friends\", \"friends\", \"full\", \"funeral\", \"f\\u00e6king\", \"gambling\", \"game\", \"game\", \"game\", \"game\", \"game\", \"game\", \"game\", \"game\", \"game\", \"game\", \"gameplay\", \"gameplay\", \"games\", \"games\", \"games\", \"games\", \"games\", \"games\", \"games\", \"games\", \"games\", \"games\", \"gamestop\", \"gaming\", \"generates\", \"get\", \"get\", \"get\", \"get\", \"get\", \"get\", \"get\", \"get\", \"get\", \"gets\", \"gets\", \"gets\", \"gift\", \"gift\", \"gift\", \"gift\", \"ginger\", \"give\", \"give\", \"give\", \"give\", \"give\", \"give\", \"give\", \"glad\", \"go\", \"go\", \"go\", \"go\", \"go\", \"go\", \"go\", \"go\", \"good\", \"good\", \"good\", \"good\", \"good\", \"good\", \"good\", \"good\", \"good\", \"google\", \"got\", \"got\", \"got\", \"gotten\", \"grammar\", \"grammar\", \"guide\", \"guide\", \"guide\", \"guide\", \"hacked\", \"hair\", \"hair\", \"happy\", \"happy\", \"happy\", \"happy\", \"happy\", \"header\", \"heard\", \"help\", \"help\", \"help\", \"help\", \"help\", \"help\", \"help\", \"helped\", \"helped\", \"helpful\", \"homepage\", \"hours\", \"hours\", \"hours\", \"house\", \"https\", \"https\", \"https\", \"https\", \"https\", \"huggy\", \"hundred\", \"hundred\", \"icon\", \"ideas\", \"idiot\", \"ignorant\", \"ill\", \"illness\", \"im\", \"im\", \"im\", \"im\", \"im\", \"im\", \"imagne\", \"imgne\", \"imma\", \"improves\", \"incident\", \"incredibly\", \"indicate\", \"instance\", \"instant\", \"insult\", \"internally\", \"internet\", \"internet\", \"internet\", \"internet\", \"ipads\", \"irl\", \"irl\", \"isnt\", \"issues\", \"item\", \"item\", \"item\", \"items\", \"items\", \"items\", \"items\", \"items\", \"items\", \"jn\", \"jokes\", \"karen\", \"keep\", \"keep\", \"keep\", \"keep\", \"keep\", \"keep\", \"keep\", \"keeping\", \"keeps\", \"keeps\", \"kick\", \"kid\", \"kid\", \"kid\", \"kid\", \"kid\", \"kid\", \"kid\", \"kid\", \"kid\", \"kid\", \"kiddos\", \"kids\", \"kids\", \"kids\", \"kids\", \"kids\", \"kids\", \"kids\", \"kids\", \"kids\", \"kids\", \"know\", \"know\", \"know\", \"know\", \"know\", \"know\", \"know\", \"know\", \"knowledgeable\", \"known\", \"korblox\", \"korblox\", \"korblox\", \"korblox\", \"korblox\", \"lack\", \"lack\", \"laptop\", \"lately\", \"lawn\", \"lead\", \"learned\", \"lees\", \"left\", \"lf\", \"life\", \"like\", \"like\", \"like\", \"like\", \"like\", \"like\", \"like\", \"like\", \"like\", \"like\", \"limit\", \"limit\", \"limit\", \"limit\", \"limitations\", \"limited\", \"limited\", \"limited\", \"limited\", \"line\", \"line\", \"linked\", \"links\", \"list\", \"list\", \"list\", \"list\", \"little\", \"little\", \"little\", \"little\", \"little\", \"little\", \"locations\", \"logchopper\", \"logo\", \"lolol\", \"looking\", \"looking\", \"looking\", \"looking\", \"looking\", \"looking\", \"looking\", \"looking\", \"lot\", \"lot\", \"lot\", \"lot\", \"lot\", \"love\", \"lower\", \"lucky\", \"lure\", \"macro\", \"made\", \"made\", \"made\", \"made\", \"make\", \"make\", \"make\", \"make\", \"make\", \"make\", \"man\", \"many\", \"many\", \"many\", \"many\", \"many\", \"many\", \"many\", \"many\", \"media\", \"memberships\", \"menu\", \"messages\", \"meta\", \"micro\", \"microsoft\", \"minutes\", \"minutes\", \"mode\", \"mode\", \"mode\", \"mode\", \"mode\", \"mode\", \"mode\", \"moderation\", \"modern\", \"money\", \"money\", \"money\", \"money\", \"monitored\", \"months\", \"mow\", \"much\", \"much\", \"much\", \"much\", \"much\", \"much\", \"much\", \"mytransactions\", \"nanny\", \"need\", \"need\", \"need\", \"need\", \"need\", \"need\", \"need\", \"needing\", \"needs\", \"needs\", \"needs\", \"new\", \"new\", \"new\", \"new\", \"new\", \"new\", \"new\", \"new\", \"night\", \"nom\", \"north\", \"nothing\", \"nothing\", \"nothing\", \"nothing\", \"nothing\", \"nothing\", \"nudity\", \"occupied\", \"occurred\", \"odds\", \"offers\", \"ok\", \"old\", \"old\", \"old\", \"old\", \"old\", \"old\", \"old\", \"one\", \"one\", \"one\", \"one\", \"one\", \"one\", \"one\", \"one\", \"oof\", \"opinion\", \"opinion\", \"opinion\", \"opinion\", \"option\", \"option\", \"option\", \"option\", \"option\", \"optional\", \"overpays\", \"ownership\", \"page\", \"page\", \"page\", \"paid\", \"paid\", \"paintball\", \"panic\", \"parent\", \"parent\", \"parent\", \"parent\", \"parent\", \"parent\", \"parent\", \"parent\", \"parental\", \"parental\", \"parental\", \"parental\", \"parental\", \"parental\", \"parental\", \"parental\", \"parenting\", \"parents\", \"parents\", \"parents\", \"parents\", \"parents\", \"parents\", \"parents\", \"parents\", \"parents\", \"parents\", \"party\", \"party\", \"party\", \"pedo\", \"pegi\", \"people\", \"people\", \"people\", \"people\", \"people\", \"people\", \"people\", \"person\", \"personally\", \"personally\", \"personally\", \"pg\", \"phishing\", \"pictures\", \"platform\", \"platform\", \"platform\", \"platform\", \"platform\", \"platform\", \"platform\", \"platform\", \"play\", \"play\", \"play\", \"play\", \"play\", \"play\", \"play\", \"play\", \"play\", \"play\", \"played\", \"played\", \"played\", \"played\", \"played\", \"played\", \"played\", \"playing\", \"playing\", \"playing\", \"playing\", \"playing\", \"playing\", \"playing\", \"playing\", \"playing\", \"pm\", \"poisonous\", \"poisonous\", \"poisonous\", \"poisonous\", \"poisonous\", \"poisonous\", \"poisonous\", \"pole\", \"predators\", \"premium\", \"premium\", \"premium\", \"premium\", \"premium\", \"premium\", \"present\", \"present\", \"primary\", \"privacy\", \"privacy\", \"private\", \"private\", \"probably\", \"probably\", \"probably\", \"profile\", \"proof\", \"proof\", \"proof\", \"proven\", \"questions\", \"questions\", \"questions\", \"questions\", \"quite\", \"quite\", \"radioactive\", \"random\", \"random\", \"rating\", \"real\", \"real\", \"real\", \"really\", \"really\", \"really\", \"really\", \"really\", \"really\", \"really\", \"really\", \"really\", \"really\", \"recent\", \"recently\", \"recently\", \"recently\", \"regretting\", \"relatives\", \"remember\", \"remember\", \"report\", \"report\", \"report\", \"reporting\", \"reporting\", \"reset\", \"respectfully\", \"response\", \"response\", \"response\", \"restrictions\", \"restrictions\", \"restrictions\", \"restrictions\", \"restrictions\", \"restrictions\", \"restrictions\", \"rlly\", \"rls\", \"rls\", \"rn\", \"roblox\", \"roblox\", \"roblox\", \"roblox\", \"roblox\", \"roblox\", \"roblox\", \"roblox\", \"roblox\", \"roblox\", \"robluxes\", \"robux\", \"robux\", \"robux\", \"robux\", \"robux\", \"robux\", \"robux\", \"robux\", \"robux\", \"rolimons\", \"ruin\", \"rule\", \"rule\", \"sale\", \"sale\", \"saw\", \"saw\", \"saw\", \"scammed\", \"scammed\", \"scammed\", \"scammed\", \"scammed\", \"scammed\", \"scared\", \"schooled\", \"scientific\", \"screen\", \"section\", \"section\", \"see\", \"see\", \"see\", \"see\", \"see\", \"see\", \"see\", \"see\", \"seems\", \"seems\", \"seems\", \"seers\", \"sees\", \"sell\", \"sell\", \"sell\", \"sell\", \"sense\", \"sense\", \"sent\", \"sent\", \"sented\", \"servers\", \"set\", \"set\", \"set\", \"set\", \"set\", \"set\", \"set\", \"settings\", \"settings\", \"shel\", \"shes\", \"short\", \"shot\", \"show\", \"show\", \"show\", \"siblings\", \"simon\", \"since\", \"since\", \"since\", \"since\", \"social\", \"social\", \"something\", \"something\", \"sometime\", \"son\", \"son\", \"son\", \"son\", \"son\", \"son\", \"son\", \"soon\", \"sound\", \"spelling\", \"spelling\", \"spend\", \"spend\", \"spend\", \"spend\", \"spend\", \"spend\", \"spending\", \"spending\", \"spent\", \"spent\", \"spent\", \"spent\", \"squished\", \"started\", \"started\", \"started\", \"started\", \"started\", \"started\", \"starters\", \"still\", \"still\", \"still\", \"still\", \"still\", \"still\", \"stolen\", \"stomach\", \"stomach\", \"strange\", \"string\", \"strolling\", \"stuck\", \"student\", \"stuff\", \"stuff\", \"stuff\", \"stuff\", \"stuff\", \"stuff\", \"subreddit\", \"subreddit\", \"summary\", \"sup\", \"sure\", \"sure\", \"sure\", \"sure\", \"sure\", \"surge\", \"surviving\", \"taken\", \"tbh\", \"ten\", \"thank\", \"thank\", \"thin\", \"think\", \"think\", \"think\", \"think\", \"think\", \"think\", \"though\", \"though\", \"though\", \"though\", \"thousand\", \"three\", \"tides\", \"time\", \"time\", \"time\", \"time\", \"time\", \"time\", \"time\", \"time\", \"time\", \"today\", \"today\", \"today\", \"took\", \"tos\", \"touchid\", \"toxic\", \"tracks\", \"trade\", \"trade\", \"trade\", \"trade\", \"trade\", \"trade\", \"trade\", \"trading\", \"trading\", \"trading\", \"trading\", \"trading\", \"trading\", \"trading\", \"trading\", \"treads\", \"two\", \"two\", \"two\", \"type\", \"type\", \"typing\", \"uab\", \"ufo\", \"ujg\", \"ultimate\", \"understand\", \"understand\", \"understand\", \"unfortunate\", \"unique\", \"ur\", \"ur\", \"ur\", \"ur\", \"ur\", \"us\", \"us\", \"usd\", \"usd\", \"username\", \"username\", \"using\", \"using\", \"using\", \"using\", \"usually\", \"utm\", \"vacation\", \"vacinate\", \"valk\", \"video\", \"video\", \"video\", \"video\", \"video\", \"video\", \"videos\", \"videos\", \"videos\", \"vyyhitta\", \"vyyhitta\", \"vyyhitta\", \"waaaayy\", \"wander\", \"want\", \"want\", \"want\", \"want\", \"want\", \"want\", \"want\", \"want\", \"wanting\", \"wants\", \"wants\", \"wants\", \"wants\", \"wants\", \"wants\", \"warning\", \"watches\", \"way\", \"way\", \"way\", \"way\", \"way\", \"way\", \"way\", \"way\", \"way\", \"weapon\", \"web\", \"web\", \"web\", \"weekends\", \"welcome\", \"well\", \"well\", \"well\", \"well\", \"well\", \"well\", \"well\", \"well\", \"wiki\", \"willing\", \"willing\", \"wish\", \"wont\", \"worked\", \"workers\", \"worth\", \"worth\", \"worth\", \"worth\", \"worth\", \"worth\", \"worthless\", \"would\", \"would\", \"would\", \"would\", \"would\", \"would\", \"would\", \"would\", \"would\", \"wrong\", \"wuggy\", \"www\", \"www\", \"www\", \"www\", \"xd\", \"yea\", \"yeah\", \"yeah\", \"yeah\", \"year\", \"year\", \"year\", \"year\", \"year\", \"year\", \"year\", \"yes\", \"yes\", \"yes\", \"yes\", \"yes\", \"youre\", \"youtube\", \"youtube\", \"youtube\", \"youtube\", \"yr\", \"yr\"]}, \"R\": 30, \"lambda.step\": 0.01, \"plot.opts\": {\"xlab\": \"PC1\", \"ylab\": \"PC2\"}, \"topic.order\": [10, 8, 9, 4, 7, 5, 1, 6, 2, 3]};\n",
       "\n",
       "function LDAvis_load_lib(url, callback){\n",
       "  var s = document.createElement('script');\n",
       "  s.src = url;\n",
       "  s.async = true;\n",
       "  s.onreadystatechange = s.onload = callback;\n",
       "  s.onerror = function(){console.warn(\"failed to load library \" + url);};\n",
       "  document.getElementsByTagName(\"head\")[0].appendChild(s);\n",
       "}\n",
       "\n",
       "if(typeof(LDAvis) !== \"undefined\"){\n",
       "   // already loaded: just create the visualization\n",
       "   !function(LDAvis){\n",
       "       new LDAvis(\"#\" + \"ldavis_el47101398167367874724807215098\", ldavis_el47101398167367874724807215098_data);\n",
       "   }(LDAvis);\n",
       "}else if(typeof define === \"function\" && define.amd){\n",
       "   // require.js is available: use it to load d3/LDAvis\n",
       "   require.config({paths: {d3: \"https://d3js.org/d3.v5\"}});\n",
       "   require([\"d3\"], function(d3){\n",
       "      window.d3 = d3;\n",
       "      LDAvis_load_lib(\"https://cdn.jsdelivr.net/gh/bmabey/pyLDAvis@3.4.0/pyLDAvis/js/ldavis.v3.0.0.js\", function(){\n",
       "        new LDAvis(\"#\" + \"ldavis_el47101398167367874724807215098\", ldavis_el47101398167367874724807215098_data);\n",
       "      });\n",
       "    });\n",
       "}else{\n",
       "    // require.js not available: dynamically load d3 & LDAvis\n",
       "    LDAvis_load_lib(\"https://d3js.org/d3.v5.js\", function(){\n",
       "         LDAvis_load_lib(\"https://cdn.jsdelivr.net/gh/bmabey/pyLDAvis@3.4.0/pyLDAvis/js/ldavis.v3.0.0.js\", function(){\n",
       "                 new LDAvis(\"#\" + \"ldavis_el47101398167367874724807215098\", ldavis_el47101398167367874724807215098_data);\n",
       "            })\n",
       "         });\n",
       "}\n",
       "</script>"
      ],
      "text/plain": [
       "<IPython.core.display.HTML object>"
      ]
     },
     "execution_count": 15,
     "metadata": {},
     "output_type": "execute_result"
    }
   ],
   "source": [
    "\n",
    "id2word = corpora.Dictionary(data_words)\n",
    "texts = data_words\n",
    "corpus = [id2word.doc2bow(text) for text in texts]\n",
    "num_topics = 10\n",
    "lda_model = gensim.models.LdaMulticore(corpus=corpus,\n",
    "                                       id2word=id2word,\n",
    "                                       num_topics=num_topics)\n",
    "\n",
    "\n",
    "LDAvis_data_filepath = os.path.join('./results'+str(num_topics))\n",
    "# # this is a bit time consuming - make the if statement True\n",
    "# # if you want to execute visualization prep yourself\n",
    "if 1 == 1:\n",
    "    LDAvis_prepared = pyLDAvis.gensim.prepare(lda_model, corpus, id2word)\n",
    "    with open(LDAvis_data_filepath, 'wb') as f:\n",
    "        pickle.dump(LDAvis_prepared, f)\n",
    "# load the pre-prepared pyLDAvis data from disk\n",
    "with open(LDAvis_data_filepath, 'rb') as f:\n",
    "    LDAvis_prepared = pickle.load(f)\n",
    "#os.makedirs('./results')\n",
    "pyLDAvis.save_html(LDAvis_prepared,  'ParentsComments' +'.html')\n",
    "LDAvis_prepared\n",
    "pyLDAvis.display(LDAvis_prepared)"
   ]
  },
  {
   "cell_type": "code",
   "execution_count": null,
   "id": "93f986e7",
   "metadata": {},
   "outputs": [],
   "source": []
  }
 ],
 "metadata": {
  "kernelspec": {
   "display_name": "Python 3 (clean)",
   "language": "python",
   "name": "python3_clean"
  },
  "language_info": {
   "codemirror_mode": {
    "name": "ipython",
    "version": 3
   },
   "file_extension": ".py",
   "mimetype": "text/x-python",
   "name": "python",
   "nbconvert_exporter": "python",
   "pygments_lexer": "ipython3",
   "version": "3.9.5"
  }
 },
 "nbformat": 4,
 "nbformat_minor": 5
}
