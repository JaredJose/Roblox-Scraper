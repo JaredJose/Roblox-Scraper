{
 "cells": [
  {
   "cell_type": "code",
   "execution_count": 27,
   "id": "9966110d",
   "metadata": {},
   "outputs": [],
   "source": [
    "import pandas as pd\n",
    "import nltk\n",
    "from nltk import ngrams\n",
    "from nltk.corpus import stopwords\n",
    "import re\n",
    "from sklearn.feature_extraction.text import TfidfVectorizer"
   ]
  },
  {
   "cell_type": "code",
   "execution_count": 28,
   "id": "31443236",
   "metadata": {},
   "outputs": [],
   "source": [
    "df = pd.read_csv('https://raw.githubusercontent.com/JaredJose/Roblox-Scraper/main/robloxParentsComments.csv?token=GHSAT0AAAAAAB6VRXEZATEH3S22GPVE4F2KY7VXSQQ')"
   ]
  },
  {
   "cell_type": "code",
   "execution_count": 29,
   "id": "2db3ef21",
   "metadata": {},
   "outputs": [
    {
     "data": {
      "text/html": [
       "<div>\n",
       "<style scoped>\n",
       "    .dataframe tbody tr th:only-of-type {\n",
       "        vertical-align: middle;\n",
       "    }\n",
       "\n",
       "    .dataframe tbody tr th {\n",
       "        vertical-align: top;\n",
       "    }\n",
       "\n",
       "    .dataframe thead th {\n",
       "        text-align: right;\n",
       "    }\n",
       "</style>\n",
       "<table border=\"1\" class=\"dataframe\">\n",
       "  <thead>\n",
       "    <tr style=\"text-align: right;\">\n",
       "      <th></th>\n",
       "      <th>url</th>\n",
       "      <th>author</th>\n",
       "      <th>date</th>\n",
       "      <th>timestamp</th>\n",
       "      <th>score</th>\n",
       "      <th>comment</th>\n",
       "      <th>comment_id</th>\n",
       "      <th>parent_id</th>\n",
       "    </tr>\n",
       "  </thead>\n",
       "  <tbody>\n",
       "    <tr>\n",
       "      <th>0</th>\n",
       "      <td>https://www.reddit.com/r/RobloxParents/comment...</td>\n",
       "      <td>dianndianna</td>\n",
       "      <td>2021-05-06</td>\n",
       "      <td>1.620311e+09</td>\n",
       "      <td>4</td>\n",
       "      <td>I agree. I have been frustrated since download...</td>\n",
       "      <td>gx5jdbv</td>\n",
       "      <td>NaN</td>\n",
       "    </tr>\n",
       "    <tr>\n",
       "      <th>1</th>\n",
       "      <td>https://www.reddit.com/r/RobloxParents/comment...</td>\n",
       "      <td>cutenfuzzie</td>\n",
       "      <td>2021-05-06</td>\n",
       "      <td>1.620337e+09</td>\n",
       "      <td>3</td>\n",
       "      <td>I also agree. I am regretting ever letting my ...</td>\n",
       "      <td>gx79ppg</td>\n",
       "      <td>NaN</td>\n",
       "    </tr>\n",
       "    <tr>\n",
       "      <th>2</th>\n",
       "      <td>https://i.redd.it/wahei45uohz41.jpg</td>\n",
       "      <td>Deathly_banana</td>\n",
       "      <td>2020-06-11</td>\n",
       "      <td>1.591900e+09</td>\n",
       "      <td>3</td>\n",
       "      <td>Hehehe secy</td>\n",
       "      <td>ftq05wx</td>\n",
       "      <td>NaN</td>\n",
       "    </tr>\n",
       "    <tr>\n",
       "      <th>3</th>\n",
       "      <td>https://i.redd.it/wahei45uohz41.jpg</td>\n",
       "      <td>Afimiliarface</td>\n",
       "      <td>2020-07-01</td>\n",
       "      <td>1.593626e+09</td>\n",
       "      <td>2</td>\n",
       "      <td>I want to report this too what’s the game call...</td>\n",
       "      <td>fwlsxns</td>\n",
       "      <td>NaN</td>\n",
       "    </tr>\n",
       "    <tr>\n",
       "      <th>4</th>\n",
       "      <td>https://i.redd.it/wahei45uohz41.jpg</td>\n",
       "      <td>StupidSam1</td>\n",
       "      <td>2020-05-29</td>\n",
       "      <td>1.590754e+09</td>\n",
       "      <td>1</td>\n",
       "      <td>Report it, these games are from around 2014 an...</td>\n",
       "      <td>fs6xz8e</td>\n",
       "      <td>NaN</td>\n",
       "    </tr>\n",
       "  </tbody>\n",
       "</table>\n",
       "</div>"
      ],
      "text/plain": [
       "                                                 url          author  \\\n",
       "0  https://www.reddit.com/r/RobloxParents/comment...     dianndianna   \n",
       "1  https://www.reddit.com/r/RobloxParents/comment...     cutenfuzzie   \n",
       "2                https://i.redd.it/wahei45uohz41.jpg  Deathly_banana   \n",
       "3                https://i.redd.it/wahei45uohz41.jpg   Afimiliarface   \n",
       "4                https://i.redd.it/wahei45uohz41.jpg      StupidSam1   \n",
       "\n",
       "         date     timestamp  score  \\\n",
       "0  2021-05-06  1.620311e+09      4   \n",
       "1  2021-05-06  1.620337e+09      3   \n",
       "2  2020-06-11  1.591900e+09      3   \n",
       "3  2020-07-01  1.593626e+09      2   \n",
       "4  2020-05-29  1.590754e+09      1   \n",
       "\n",
       "                                             comment comment_id parent_id  \n",
       "0  I agree. I have been frustrated since download...    gx5jdbv       NaN  \n",
       "1  I also agree. I am regretting ever letting my ...    gx79ppg       NaN  \n",
       "2                                        Hehehe secy    ftq05wx       NaN  \n",
       "3  I want to report this too what’s the game call...    fwlsxns       NaN  \n",
       "4  Report it, these games are from around 2014 an...    fs6xz8e       NaN  "
      ]
     },
     "execution_count": 29,
     "metadata": {},
     "output_type": "execute_result"
    }
   ],
   "source": [
    "df.head()"
   ]
  },
  {
   "cell_type": "code",
   "execution_count": 30,
   "id": "a9e845c8",
   "metadata": {},
   "outputs": [
    {
     "data": {
      "text/plain": [
       "0     I agree. I have been frustrated since download...\n",
       "1     I also agree. I am regretting ever letting my ...\n",
       "2                                           Hehehe secy\n",
       "3     I want to report this too what’s the game call...\n",
       "4     Report it, these games are from around 2014 an...\n",
       "5     I thought they removed those games now... repo...\n",
       "6                                                  Same\n",
       "7                              If you know it i know it\n",
       "8     They did nothing.\\nMaybe its cause i vacinate ...\n",
       "9                                                     ?\n",
       "10                                                karen\n",
       "11                  I dont know how he came to the game\n",
       "12    This was Just a troll to see how this SR would...\n",
       "13                                   clickbaited games?\n",
       "14    Oh okay\\n\\nThere should have been /s at the en...\n",
       "15                                             Could be\n",
       "16    I don't get why Roblox is so popular with elem...\n",
       "17    Having this problem also. Just downloaded for ...\n",
       "18    Right?! I just started with my kid as well and...\n",
       "19    That's two more than I've found so far!  Getti...\n",
       "Name: comment, dtype: object"
      ]
     },
     "execution_count": 30,
     "metadata": {},
     "output_type": "execute_result"
    }
   ],
   "source": [
    "df['comment']"
   ]
  },
  {
   "cell_type": "code",
   "execution_count": 31,
   "id": "66a1aae2",
   "metadata": {},
   "outputs": [
    {
     "data": {
      "text/plain": [
       "22"
      ]
     },
     "execution_count": 31,
     "metadata": {},
     "output_type": "execute_result"
    }
   ],
   "source": [
    "df['comment'].str.count('game').sum()"
   ]
  },
  {
   "cell_type": "code",
   "execution_count": 32,
   "id": "623969e4",
   "metadata": {},
   "outputs": [],
   "source": [
    "text = \" \".join(df['comment'].dropna().astype(str))\n",
    "tokens = nltk.word_tokenize(text)\n",
    "tokens = [re.sub(r'[^\\w\\s]', '', token) for token in tokens]\n",
    "stop_words = set(stopwords.words('english'))\n",
    "filtered_tokens = [token for token in tokens if token.lower() not in stop_words and token.strip() != '']\n",
    "\n",
    "\n",
    "bi_grams = ngrams(filtered_tokens, 2)"
   ]
  },
  {
   "cell_type": "code",
   "execution_count": 33,
   "id": "e70b7794",
   "metadata": {},
   "outputs": [
    {
     "name": "stdout",
     "output_type": "stream",
     "text": [
      "[('agree', 'frustrated'), ('frustrated', 'since'), ('since', 'downloading'), ('downloading', 'Roblox'), ('Roblox', 'son'), ('son', 'almost'), ('almost', '9'), ('9', 'months'), ('months', 'ago'), ('ago', 'would'), ('would', 'like'), ('like', 'able'), ('able', 'block'), ('block', 'games'), ('games', 'block'), ('block', 'content'), ('content', 'countries'), ('countries', 'due'), ('due', 'less'), ('less', 'monitoring'), ('monitoring', 'even'), ('even', 'make'), ('make', 'curated'), ('curated', 'list'), ('list', 'games'), ('games', 'think'), ('think', 'okay'), ('okay', 'games'), ('games', 'shown'), ('shown', 'allowed'), ('allowed', 'turn'), ('turn', 'account'), ('account', 'restrictions'), ('restrictions', 'basically'), ('basically', 'struggles'), ('struggles', 'find'), ('find', 'much'), ('much', 'anything'), ('anything', 'play'), ('play', 'gets'), ('gets', 'upset'), ('upset', 'going'), ('going', 'game'), ('game', 'game'), ('game', 'find'), ('find', 'let'), ('let', 'play'), ('play', 'really'), ('really', 'cater'), ('cater', 'kids'), ('kids', 'seem'), ('seem', 'driven'), ('driven', 'kids'), ('kids', 'playing'), ('playing', 'platform'), ('platform', 'wish'), ('wish', 'would'), ('would', 'take'), ('take', 'parental'), ('parental', 'control'), ('control', 'settings'), ('settings', 'seriously'), ('seriously', 'also'), ('also', 'agree'), ('agree', 'regretting'), ('regretting', 'ever'), ('ever', 'letting'), ('letting', 'child'), ('child', 'use'), ('use', 'Roblox'), ('Roblox', 'Hehehe'), ('Hehehe', 'secy'), ('secy', 'want'), ('want', 'report'), ('report', 'game'), ('game', 'called'), ('called', 'heheh'), ('heheh', 'Report'), ('Report', 'games'), ('games', 'around'), ('around', '2014'), ('2014', 'botted'), ('botted', 'nt'), ('nt', 'get'), ('get', 'deleted'), ('deleted', 'Roblox'), ('Roblox', 'kid'), ('kid', 'even'), ('even', 'find'), ('find', 'thought'), ('thought', 'removed'), ('removed', 'games'), ('games', 'report'), ('report', 'hope'), ('hope', 'roblox'), ('roblox', 'sees'), ('sees', 'know'), ('know', 'know'), ('know', 'nothing'), ('nothing', 'Maybe'), ('Maybe', 'cause'), ('cause', 'vacinate'), ('vacinate', 'kids'), ('kids', 'play'), ('play', 'karen'), ('karen', 'dont'), ('dont', 'know'), ('know', 'came'), ('came', 'game'), ('game', 'troll'), ('troll', 'see'), ('see', 'SR'), ('SR', 'would'), ('would', 'react'), ('react', 'clickbaited'), ('clickbaited', 'games'), ('games', 'Oh'), ('Oh', 'okay'), ('okay', 'end'), ('end', 'message'), ('message', 'Could'), ('Could', 'nt'), ('nt', 'get'), ('get', 'Roblox'), ('Roblox', 'popular'), ('popular', 'elementary'), ('elementary', 'school'), ('school', 'children'), ('children', 'parental'), ('parental', 'controls'), ('controls', 'grossly'), ('grossly', 'inadequate'), ('inadequate', 'tried'), ('tried', 'account'), ('account', 'restrictions'), ('restrictions', 'every'), ('every', 'game'), ('game', 'recommends'), ('recommends', 'son'), ('son', 'restricted'), ('restricted', 'frustrating'), ('frustrating', 'click'), ('click', 'game'), ('game', 'game'), ('game', 'game'), ('game', 'restricted'), ('restricted', 'saw'), ('saw', 'lot'), ('lot', 'games'), ('games', 'recommending'), ('recommending', '8yearold'), ('8yearold', 'way'), ('way', 'would'), ('would', 'let'), ('let', 'play'), ('play', 'without'), ('without', 'account'), ('account', 'restrictions'), ('restrictions', 'Squid'), ('Squid', 'Games'), ('Games', 'horror'), ('horror', 'movies'), ('movies', 'etc'), ('etc', '1'), ('1', 'Roblox'), ('Roblox', 'needs'), ('needs', 'show'), ('show', 'games'), ('games', 'played'), ('played', 'recommendations'), ('recommendations', 'search'), ('search', 'curated'), ('curated', 'mode'), ('mode', 'minimum'), ('minimum', 'recommend'), ('recommend', 'games'), ('games', 'played'), ('played', 'search'), ('search', 'clearly'), ('clearly', 'put'), ('put', 'X'), ('X', 'gray'), ('gray', 'ones'), ('ones', 'blocked'), ('blocked', '2'), ('2', 'option'), ('option', 'curate'), ('curate', 'games'), ('games', 'allow'), ('allow', 'chat'), ('chat', 'parentapproved'), ('parentapproved', 'friends'), ('friends', '3'), ('3', 'option'), ('option', 'allow'), ('allow', 'list'), ('list', 'deny'), ('deny', 'list'), ('list', 'additional'), ('additional', 'games'), ('games', 'beyond'), ('beyond', 'account'), ('account', 'ideal'), ('ideal', 'parental'), ('parental', 'controls'), ('controls', 'child'), ('child', 'shown'), ('shown', 'games'), ('games', 'able'), ('able', 'play'), ('play', 'curated'), ('curated', 'list'), ('list', 'approved'), ('approved', 'ideal'), ('ideal', 'chat'), ('chat', 'option'), ('option', 'child'), ('child', 'chat'), ('chat', 'friends'), ('friends', 'control'), ('control', 'friends'), ('friends', 'list'), ('list', 'current'), ('current', 'account'), ('account', 'restrictions'), ('restrictions', 'son'), ('son', 'frustrated'), ('frustrated', 'everything'), ('everything', 'blocked'), ('blocked', 'uninstalled'), ('uninstalled', 'game'), ('game', 'tried'), ('tried', 'talking'), ('talking', 'allowing'), ('allowing', 'play'), ('play', 'without'), ('without', 'account'), ('account', 'restrictions'), ('restrictions', 'inadequate'), ('inadequate', 'parental'), ('parental', 'controls'), ('controls', 'without'), ('without', 'account'), ('account', 'restrictions'), ('restrictions', 'said'), ('said', 'problem'), ('problem', 'also'), ('also', 'downloaded'), ('downloaded', 'son'), ('son', 'every'), ('every', 'game'), ('game', 'try'), ('try', 'says'), ('says', 'restricted'), ('restricted', 'Right'), ('Right', 'started'), ('started', 'kid'), ('kid', 'well'), ('well', 'confused'), ('confused', 'following'), ('following', 'two'), ('two', 'found'), ('found', 'far'), ('far', 'Getting'), ('Getting', 'ready'), ('ready', 'uninstall'), ('uninstall', 'move')]\n"
     ]
    }
   ],
   "source": [
    "bi_grams_list = list(bi_grams)\n",
    "bi_grams_list = [tuple(filter(None, bg)) for bg in bi_grams_list]\n",
    "print(bi_grams_list)"
   ]
  },
  {
   "cell_type": "code",
   "execution_count": 34,
   "id": "2da0f1ef",
   "metadata": {},
   "outputs": [],
   "source": [
    "pattern = r'^\\s*(who|what|when|where|why|how)\\b.*\\?$'\n",
    "questions = df['comment'].str.extract('({})'.format(pattern), flags=re.IGNORECASE)[0].dropna()"
   ]
  },
  {
   "cell_type": "code",
   "execution_count": 35,
   "id": "71935c0c",
   "metadata": {},
   "outputs": [
    {
     "name": "stdout",
     "output_type": "stream",
     "text": [
      "Series([], Name: 0, dtype: object)\n"
     ]
    }
   ],
   "source": [
    "print(questions)"
   ]
  },
  {
   "cell_type": "code",
   "execution_count": 43,
   "id": "0bad3957",
   "metadata": {},
   "outputs": [
    {
     "name": "stdout",
     "output_type": "stream",
     "text": [
      "The most common bi-gram is: account restrictions with a frequency of 6\n"
     ]
    }
   ],
   "source": [
    "bi_grams_list1 = [' '.join(bi_gram) for bi_gram in bi_grams_list if '(' not in bi_gram and ')' not in bi_gram]\n",
    "\n",
    "freq_dist = nltk.FreqDist(bi_grams_list1)\n",
    "most_common = freq_dist.most_common(1)\n",
    "print('The most common bi-gram is:', most_common[0][0], 'with a frequency of', most_common[0][1])"
   ]
  },
  {
   "cell_type": "code",
   "execution_count": 44,
   "id": "f6b217ce",
   "metadata": {},
   "outputs": [
    {
     "name": "stdout",
     "output_type": "stream",
     "text": [
      "('agree frustrated', 1.0)\n",
      "('2014 botted', 0.0)\n",
      "('8yearold way', 0.0)\n",
      "('able block', 0.0)\n",
      "('able play', 0.0)\n",
      "('account ideal', 0.0)\n",
      "('account restrictions', 0.0)\n",
      "('additional games', 0.0)\n",
      "('ago would', 0.0)\n",
      "('agree regretting', 0.0)\n"
     ]
    }
   ],
   "source": [
    "vectorizer = TfidfVectorizer(ngram_range=(2, 2))\n",
    "tfidf = vectorizer.fit_transform(bi_grams_list1)\n",
    "feature_names = vectorizer.get_feature_names()\n",
    "scores = tfidf.toarray()[0]\n",
    "sorted_scores = sorted(zip(feature_names, scores), key=lambda x: x[1], reverse=True)\n",
    "for i in range(10):\n",
    "    print(sorted_scores[i])"
   ]
  },
  {
   "cell_type": "code",
   "execution_count": 45,
   "id": "f4597d7a",
   "metadata": {},
   "outputs": [
    {
     "name": "stdout",
     "output_type": "stream",
     "text": [
      "\n",
      "\n",
      "Words : \n",
      "                      term  rank\n",
      "5    account restrictions   6.0\n",
      "151     parental controls   3.0\n",
      "79              game game   3.0\n",
      "235       without account   3.0\n",
      "142                nt get   2.0\n",
      "49           curated list   2.0\n",
      "158          play without   2.0\n"
     ]
    }
   ],
   "source": [
    "sums = tfidf.sum(axis = 0)\n",
    "data1 = []\n",
    "for col, term in enumerate(feature_names):\n",
    "    data1.append( (term, sums[0, col] ))\n",
    "ranking = pd.DataFrame(data1, columns = ['term', 'rank'])\n",
    "words = (ranking.sort_values('rank', ascending = False))\n",
    "print (\"\\n\\nWords : \\n\", words.head(7))"
   ]
  },
  {
   "cell_type": "code",
   "execution_count": null,
   "id": "c9e59a31",
   "metadata": {},
   "outputs": [],
   "source": []
  }
 ],
 "metadata": {
  "kernelspec": {
   "display_name": "Python 3 (clean)",
   "language": "python",
   "name": "python3_clean"
  },
  "language_info": {
   "codemirror_mode": {
    "name": "ipython",
    "version": 3
   },
   "file_extension": ".py",
   "mimetype": "text/x-python",
   "name": "python",
   "nbconvert_exporter": "python",
   "pygments_lexer": "ipython3",
   "version": "3.9.5"
  }
 },
 "nbformat": 4,
 "nbformat_minor": 5
}
