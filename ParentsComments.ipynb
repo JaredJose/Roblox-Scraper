{
 "cells": [
  {
   "cell_type": "code",
   "execution_count": 135,
   "id": "9966110d",
   "metadata": {},
   "outputs": [
    {
     "ename": "ModuleNotFoundError",
     "evalue": "No module named 'pyLDAvis'",
     "output_type": "error",
     "traceback": [
      "\u001b[0;31m---------------------------------------------------------------------------\u001b[0m",
      "\u001b[0;31mModuleNotFoundError\u001b[0m                       Traceback (most recent call last)",
      "\u001b[0;32m/tmp/ipykernel_3820/2907856144.py\u001b[0m in \u001b[0;36m<module>\u001b[0;34m\u001b[0m\n\u001b[1;32m      5\u001b[0m \u001b[0;32mimport\u001b[0m \u001b[0mre\u001b[0m\u001b[0;34m\u001b[0m\u001b[0;34m\u001b[0m\u001b[0m\n\u001b[1;32m      6\u001b[0m \u001b[0;32mfrom\u001b[0m \u001b[0msklearn\u001b[0m\u001b[0;34m.\u001b[0m\u001b[0mfeature_extraction\u001b[0m\u001b[0;34m.\u001b[0m\u001b[0mtext\u001b[0m \u001b[0;32mimport\u001b[0m \u001b[0mTfidfVectorizer\u001b[0m\u001b[0;34m\u001b[0m\u001b[0;34m\u001b[0m\u001b[0m\n\u001b[0;32m----> 7\u001b[0;31m \u001b[0;32mimport\u001b[0m \u001b[0mpyLDAvis\u001b[0m\u001b[0;34m.\u001b[0m\u001b[0mgensim\u001b[0m\u001b[0;34m\u001b[0m\u001b[0;34m\u001b[0m\u001b[0m\n\u001b[0m\u001b[1;32m      8\u001b[0m \u001b[0;32mimport\u001b[0m \u001b[0mpickle\u001b[0m\u001b[0;34m\u001b[0m\u001b[0;34m\u001b[0m\u001b[0m\n\u001b[1;32m      9\u001b[0m \u001b[0;32mimport\u001b[0m \u001b[0mpyLDAvis\u001b[0m\u001b[0;34m\u001b[0m\u001b[0;34m\u001b[0m\u001b[0m\n",
      "\u001b[0;31mModuleNotFoundError\u001b[0m: No module named 'pyLDAvis'"
     ]
    }
   ],
   "source": [
    "import pandas as pd\n",
    "import nltk\n",
    "from nltk import ngrams\n",
    "from nltk.corpus import stopwords\n",
    "import re\n",
    "from sklearn.feature_extraction.text import TfidfVectorizer\n",
    "import pyLDAvis.gensim\n",
    "import pickle \n",
    "import pyLDAvis"
   ]
  },
  {
   "cell_type": "code",
   "execution_count": 119,
   "id": "31443236",
   "metadata": {},
   "outputs": [],
   "source": [
    "df = pd.read_csv('data/robloxParentsComments.csv')"
   ]
  },
  {
   "cell_type": "code",
   "execution_count": 120,
   "id": "2db3ef21",
   "metadata": {},
   "outputs": [
    {
     "data": {
      "text/html": [
       "<div>\n",
       "<style scoped>\n",
       "    .dataframe tbody tr th:only-of-type {\n",
       "        vertical-align: middle;\n",
       "    }\n",
       "\n",
       "    .dataframe tbody tr th {\n",
       "        vertical-align: top;\n",
       "    }\n",
       "\n",
       "    .dataframe thead th {\n",
       "        text-align: right;\n",
       "    }\n",
       "</style>\n",
       "<table border=\"1\" class=\"dataframe\">\n",
       "  <thead>\n",
       "    <tr style=\"text-align: right;\">\n",
       "      <th></th>\n",
       "      <th>url</th>\n",
       "      <th>author</th>\n",
       "      <th>date</th>\n",
       "      <th>timestamp</th>\n",
       "      <th>score</th>\n",
       "      <th>comment</th>\n",
       "      <th>comment_id</th>\n",
       "      <th>parent_id</th>\n",
       "    </tr>\n",
       "  </thead>\n",
       "  <tbody>\n",
       "    <tr>\n",
       "      <th>0</th>\n",
       "      <td>https://www.reddit.com/r/RobloxParents/comment...</td>\n",
       "      <td>dianndianna</td>\n",
       "      <td>2021-05-06</td>\n",
       "      <td>1.620311e+09</td>\n",
       "      <td>3</td>\n",
       "      <td>I agree. I have been frustrated since download...</td>\n",
       "      <td>gx5jdbv</td>\n",
       "      <td>NaN</td>\n",
       "    </tr>\n",
       "    <tr>\n",
       "      <th>1</th>\n",
       "      <td>https://www.reddit.com/r/RobloxParents/comment...</td>\n",
       "      <td>cutenfuzzie</td>\n",
       "      <td>2021-05-06</td>\n",
       "      <td>1.620337e+09</td>\n",
       "      <td>3</td>\n",
       "      <td>I also agree. I am regretting ever letting my ...</td>\n",
       "      <td>gx79ppg</td>\n",
       "      <td>NaN</td>\n",
       "    </tr>\n",
       "    <tr>\n",
       "      <th>2</th>\n",
       "      <td>https://i.redd.it/wahei45uohz41.jpg</td>\n",
       "      <td>Deathly_banana</td>\n",
       "      <td>2020-06-11</td>\n",
       "      <td>1.591900e+09</td>\n",
       "      <td>3</td>\n",
       "      <td>Hehehe secy</td>\n",
       "      <td>ftq05wx</td>\n",
       "      <td>NaN</td>\n",
       "    </tr>\n",
       "    <tr>\n",
       "      <th>3</th>\n",
       "      <td>https://i.redd.it/wahei45uohz41.jpg</td>\n",
       "      <td>Afimiliarface</td>\n",
       "      <td>2020-07-01</td>\n",
       "      <td>1.593626e+09</td>\n",
       "      <td>2</td>\n",
       "      <td>I want to report this too what’s the game call...</td>\n",
       "      <td>fwlsxns</td>\n",
       "      <td>NaN</td>\n",
       "    </tr>\n",
       "    <tr>\n",
       "      <th>4</th>\n",
       "      <td>https://i.redd.it/wahei45uohz41.jpg</td>\n",
       "      <td>StupidSam1</td>\n",
       "      <td>2020-05-29</td>\n",
       "      <td>1.590754e+09</td>\n",
       "      <td>1</td>\n",
       "      <td>Report it, these games are from around 2014 an...</td>\n",
       "      <td>fs6xz8e</td>\n",
       "      <td>NaN</td>\n",
       "    </tr>\n",
       "  </tbody>\n",
       "</table>\n",
       "</div>"
      ],
      "text/plain": [
       "                                                 url          author  \\\n",
       "0  https://www.reddit.com/r/RobloxParents/comment...     dianndianna   \n",
       "1  https://www.reddit.com/r/RobloxParents/comment...     cutenfuzzie   \n",
       "2                https://i.redd.it/wahei45uohz41.jpg  Deathly_banana   \n",
       "3                https://i.redd.it/wahei45uohz41.jpg   Afimiliarface   \n",
       "4                https://i.redd.it/wahei45uohz41.jpg      StupidSam1   \n",
       "\n",
       "         date     timestamp  score  \\\n",
       "0  2021-05-06  1.620311e+09      3   \n",
       "1  2021-05-06  1.620337e+09      3   \n",
       "2  2020-06-11  1.591900e+09      3   \n",
       "3  2020-07-01  1.593626e+09      2   \n",
       "4  2020-05-29  1.590754e+09      1   \n",
       "\n",
       "                                             comment comment_id parent_id  \n",
       "0  I agree. I have been frustrated since download...    gx5jdbv       NaN  \n",
       "1  I also agree. I am regretting ever letting my ...    gx79ppg       NaN  \n",
       "2                                        Hehehe secy    ftq05wx       NaN  \n",
       "3  I want to report this too what’s the game call...    fwlsxns       NaN  \n",
       "4  Report it, these games are from around 2014 an...    fs6xz8e       NaN  "
      ]
     },
     "execution_count": 120,
     "metadata": {},
     "output_type": "execute_result"
    }
   ],
   "source": [
    "df.head()"
   ]
  },
  {
   "cell_type": "code",
   "execution_count": 121,
   "id": "a9e845c8",
   "metadata": {},
   "outputs": [
    {
     "data": {
      "text/plain": [
       "0      I agree. I have been frustrated since download...\n",
       "1      I also agree. I am regretting ever letting my ...\n",
       "2                                            Hehehe secy\n",
       "3      I want to report this too what’s the game call...\n",
       "4      Report it, these games are from around 2014 an...\n",
       "                             ...                        \n",
       "166    No one really plays Murder Mystery 2 for the g...\n",
       "167    Murder Mystery 2 is one of my favorite games o...\n",
       "168                                Buy another computer.\n",
       "169    Both games are in PC, Xbox, or Mobile. You can...\n",
       "170    Have them take turns. Child 1 gets computer 2p...\n",
       "Name: comment, Length: 171, dtype: object"
      ]
     },
     "execution_count": 121,
     "metadata": {},
     "output_type": "execute_result"
    }
   ],
   "source": [
    "df['comment']"
   ]
  },
  {
   "cell_type": "code",
   "execution_count": 122,
   "id": "66a1aae2",
   "metadata": {},
   "outputs": [
    {
     "data": {
      "text/plain": [
       "110"
      ]
     },
     "execution_count": 122,
     "metadata": {},
     "output_type": "execute_result"
    }
   ],
   "source": [
    "df['comment'].str.count('game').sum()"
   ]
  },
  {
   "cell_type": "code",
   "execution_count": 123,
   "id": "623969e4",
   "metadata": {},
   "outputs": [],
   "source": [
    "text = \" \".join(df['comment'].dropna().astype(str))\n",
    "tokens = nltk.word_tokenize(text)\n",
    "tokens = [re.sub(r'[^\\w\\s]', '', token) for token in tokens]\n",
    "stop_words = set(stopwords.words('english'))\n",
    "filtered_tokens = [token for token in tokens if token.lower() not in stop_words and token.strip() != '']\n",
    "\n",
    "\n",
    "bi_grams = ngrams(filtered_tokens, 2)"
   ]
  },
  {
   "cell_type": "code",
   "execution_count": 124,
   "id": "e70b7794",
   "metadata": {},
   "outputs": [
    {
     "name": "stdout",
     "output_type": "stream",
     "text": [
      "[('agree', 'frustrated'), ('frustrated', 'since'), ('since', 'downloading'), ('downloading', 'Roblox'), ('Roblox', 'son'), ('son', 'almost'), ('almost', '9'), ('9', 'months'), ('months', 'ago'), ('ago', 'would'), ('would', 'like'), ('like', 'able'), ('able', 'block'), ('block', 'games'), ('games', 'block'), ('block', 'content'), ('content', 'countries'), ('countries', 'due'), ('due', 'less'), ('less', 'monitoring'), ('monitoring', 'even'), ('even', 'make'), ('make', 'curated'), ('curated', 'list'), ('list', 'games'), ('games', 'think'), ('think', 'okay'), ('okay', 'games'), ('games', 'shown'), ('shown', 'allowed'), ('allowed', 'turn'), ('turn', 'account'), ('account', 'restrictions'), ('restrictions', 'basically'), ('basically', 'struggles'), ('struggles', 'find'), ('find', 'much'), ('much', 'anything'), ('anything', 'play'), ('play', 'gets'), ('gets', 'upset'), ('upset', 'going'), ('going', 'game'), ('game', 'game'), ('game', 'find'), ('find', 'let'), ('let', 'play'), ('play', 'really'), ('really', 'cater'), ('cater', 'kids'), ('kids', 'seem'), ('seem', 'driven'), ('driven', 'kids'), ('kids', 'playing'), ('playing', 'platform'), ('platform', 'wish'), ('wish', 'would'), ('would', 'take'), ('take', 'parental'), ('parental', 'control'), ('control', 'settings'), ('settings', 'seriously'), ('seriously', 'also'), ('also', 'agree'), ('agree', 'regretting'), ('regretting', 'ever'), ('ever', 'letting'), ('letting', 'child'), ('child', 'use'), ('use', 'Roblox'), ('Roblox', 'Hehehe'), ('Hehehe', 'secy'), ('secy', 'want'), ('want', 'report'), ('report', 'game'), ('game', 'called'), ('called', 'heheh'), ('heheh', 'Report'), ('Report', 'games'), ('games', 'around'), ('around', '2014'), ('2014', 'botted'), ('botted', 'nt'), ('nt', 'get'), ('get', 'deleted'), ('deleted', 'Roblox'), ('Roblox', 'kid'), ('kid', 'even'), ('even', 'find'), ('find', 'thought'), ('thought', 'removed'), ('removed', 'games'), ('games', 'report'), ('report', 'hope'), ('hope', 'roblox'), ('roblox', 'sees'), ('sees', 'know'), ('know', 'know'), ('know', 'nothing'), ('nothing', 'Maybe'), ('Maybe', 'cause'), ('cause', 'vacinate'), ('vacinate', 'kids'), ('kids', 'play'), ('play', 'karen'), ('karen', 'dont'), ('dont', 'know'), ('know', 'came'), ('came', 'game'), ('game', 'troll'), ('troll', 'see'), ('see', 'SR'), ('SR', 'would'), ('would', 'react'), ('react', 'clickbaited'), ('clickbaited', 'games'), ('games', 'Oh'), ('Oh', 'okay'), ('okay', 'end'), ('end', 'message'), ('message', 'Could'), ('Could', 'nt'), ('nt', 'get'), ('get', 'Roblox'), ('Roblox', 'popular'), ('popular', 'elementary'), ('elementary', 'school'), ('school', 'children'), ('children', 'parental'), ('parental', 'controls'), ('controls', 'grossly'), ('grossly', 'inadequate'), ('inadequate', 'tried'), ('tried', 'account'), ('account', 'restrictions'), ('restrictions', 'every'), ('every', 'game'), ('game', 'recommends'), ('recommends', 'son'), ('son', 'restricted'), ('restricted', 'frustrating'), ('frustrating', 'click'), ('click', 'game'), ('game', 'game'), ('game', 'game'), ('game', 'restricted'), ('restricted', 'saw'), ('saw', 'lot'), ('lot', 'games'), ('games', 'recommending'), ('recommending', '8yearold'), ('8yearold', 'way'), ('way', 'would'), ('would', 'let'), ('let', 'play'), ('play', 'without'), ('without', 'account'), ('account', 'restrictions'), ('restrictions', 'Squid'), ('Squid', 'Games'), ('Games', 'horror'), ('horror', 'movies'), ('movies', 'etc'), ('etc', '1'), ('1', 'Roblox'), ('Roblox', 'needs'), ('needs', 'show'), ('show', 'games'), ('games', 'played'), ('played', 'recommendations'), ('recommendations', 'search'), ('search', 'curated'), ('curated', 'mode'), ('mode', 'minimum'), ('minimum', 'recommend'), ('recommend', 'games'), ('games', 'played'), ('played', 'search'), ('search', 'clearly'), ('clearly', 'put'), ('put', 'X'), ('X', 'gray'), ('gray', 'ones'), ('ones', 'blocked'), ('blocked', '2'), ('2', 'option'), ('option', 'curate'), ('curate', 'games'), ('games', 'allow'), ('allow', 'chat'), ('chat', 'parentapproved'), ('parentapproved', 'friends'), ('friends', '3'), ('3', 'option'), ('option', 'allow'), ('allow', 'list'), ('list', 'deny'), ('deny', 'list'), ('list', 'additional'), ('additional', 'games'), ('games', 'beyond'), ('beyond', 'account'), ('account', 'ideal'), ('ideal', 'parental'), ('parental', 'controls'), ('controls', 'child'), ('child', 'shown'), ('shown', 'games'), ('games', 'able'), ('able', 'play'), ('play', 'curated'), ('curated', 'list'), ('list', 'approved'), ('approved', 'ideal'), ('ideal', 'chat'), ('chat', 'option'), ('option', 'child'), ('child', 'chat'), ('chat', 'friends'), ('friends', 'control'), ('control', 'friends'), ('friends', 'list'), ('list', 'current'), ('current', 'account'), ('account', 'restrictions'), ('restrictions', 'son'), ('son', 'frustrated'), ('frustrated', 'everything'), ('everything', 'blocked'), ('blocked', 'uninstalled'), ('uninstalled', 'game'), ('game', 'tried'), ('tried', 'talking'), ('talking', 'allowing'), ('allowing', 'play'), ('play', 'without'), ('without', 'account'), ('account', 'restrictions'), ('restrictions', 'inadequate'), ('inadequate', 'parental'), ('parental', 'controls'), ('controls', 'without'), ('without', 'account'), ('account', 'restrictions'), ('restrictions', 'said'), ('said', 'problem'), ('problem', 'also'), ('also', 'downloaded'), ('downloaded', 'son'), ('son', 'every'), ('every', 'game'), ('game', 'try'), ('try', 'says'), ('says', 'restricted'), ('restricted', 'Right'), ('Right', 'started'), ('started', 'kid'), ('kid', 'well'), ('well', 'confused'), ('confused', 'following'), ('following', 'two'), ('two', 'found'), ('found', 'far'), ('far', 'Getting'), ('Getting', 'ready'), ('ready', 'uninstall'), ('uninstall', 'move'), ('move', 'Parental'), ('Parental', 'Controls'), ('Controls', 'really'), ('really', 'joke'), ('joke', 'way'), ('way', 'even'), ('even', 'see'), ('see', 'games'), ('games', 'parental'), ('parental', 'controls'), ('controls', 'jenga'), ('jenga', 'bad'), ('bad', 'platform'), ('platform', 'Roblox'), ('Roblox', 'fired'), ('fired', 'moderators'), ('moderators', 'Due'), ('Due', 'parents'), ('parents', 'complain'), ('complain', 'childrens'), ('childrens', 'playing'), ('playing', 'weird'), ('weird', 'games'), ('games', 'Report'), ('Report', 'game'), ('game', 'also'), ('also', 'nt'), ('nt', 'think'), ('think', 'pole'), ('pole', 'dancing'), ('dancing', 'without'), ('without', 'stripping'), ('stripping', 'bad'), ('bad', 'Also'), ('Also', 'respectfully'), ('respectfully', 'saying'), ('saying', 'ur'), ('ur', 'son'), ('son', 'playing'), ('playing', 'kind'), ('kind', 'games'), ('games', 'lol'), ('lol', 'daughter'), ('daughter', 'playing'), ('playing', 'usually'), ('usually', 'play'), ('play', 'game'), ('game', 'since'), ('since', 'taken'), ('taken', 'image'), ('image', 'game'), ('game', 'nice'), ('nice', 'platform'), ('platform', 'roblox'), ('roblox', 'games'), ('games', 'exist'), ('exist', 'short'), ('short', 'actually'), ('actually', 'lucky'), ('lucky', 'games'), ('games', 'hidden'), ('hidden', 'rlly'), ('rlly', 'well'), ('well', 'actual'), ('actual', 'nudity'), ('nudity', 'ask'), ('ask', 'daughter'), ('daughter', 'play'), ('play', 'popular'), ('popular', 'games'), ('games', 'wander'), ('wander', 'roblox'), ('roblox', 'moderation'), ('moderation', 'gotten'), ('gotten', 'bad'), ('bad', 'lately'), ('lately', 'Get'), ('Get', 'Eaten'), ('Eaten', 'games'), ('games', 'always'), ('always', 'around'), ('around', 'far'), ('far', 'remember'), ('remember', 'joined'), ('joined', 'Roblox'), ('Roblox', '2009'), ('2009', 'remember'), ('remember', 'playing'), ('playing', 'back'), ('back', 'used'), ('used', 'normal'), ('normal', 'though'), ('though', 'Get'), ('Get', 'Eaten'), ('Eaten', 'Giant'), ('Giant', 'Noob'), ('Noob', 'one'), ('one', 'remember'), ('remember', 'big'), ('big', 'blocky'), ('blocky', 'character'), ('character', 'funny'), ('funny', 'die'), ('die', 'stomach'), ('stomach', 'acid'), ('acid', 'go'), ('go', 'digestive'), ('digestive', 'tract'), ('tract', 'games'), ('games', 'probably'), ('probably', 'stem'), ('stem', 'back'), ('back', 'Eventually'), ('Eventually', 'people'), ('people', 'started'), ('started', 'using'), ('using', 'cartoon'), ('cartoon', 'characters'), ('characters', 'draw'), ('draw', 'attention'), ('attention', 'guess'), ('guess', 'using'), ('using', 'real'), ('real', 'people'), ('people', 'Using'), ('Using', 'famous'), ('famous', 'people'), ('people', 'click'), ('click', 'bait'), ('bait', 'nt'), ('nt', 'played'), ('played', 'get'), ('get', 'eaten'), ('eaten', 'games'), ('games', 'years'), ('years', 'might'), ('might', 'fetish'), ('fetish', 'stuff'), ('stuff', 'honestly'), ('honestly', 'nt'), ('nt', 'think'), ('think', 'original'), ('original', 'intention'), ('intention', 'way'), ('way', 'older'), ('older', 'games'), ('games', 'Also'), ('Also', 'checked'), ('checked', 'Snow'), ('Snow', 'Giantess'), ('Giantess', 'RP'), ('RP', 'first'), ('first', 'thing'), ('thing', 'saw'), ('saw', 'furry'), ('furry', 'putting'), ('putting', 'people'), ('people', 'stomach'), ('stomach', 'straight'), ('straight', 'fetish'), ('fetish', 'stuff'), ('stuff', 'Extremely'), ('Extremely', 'weird'), ('weird', 'Maybe'), ('Maybe', 'instead'), ('instead', 'Parental'), ('Parental', 'Controls'), ('Controls', 'check'), ('check', 'rating'), ('rating', 'system'), ('system', 'called'), ('called', 'ESRB'), ('ESRB', 'https'), ('https', 'wwwesrborgratingsguide'), ('wwwesrborgratingsguide', 'Entertainment'), ('Entertainment', 'Service'), ('Service', 'Rating'), ('Rating', 'Board'), ('Board', 'PEGI'), ('PEGI', 'https'), ('https', 'pegiinfowhatdothelabelsmean'), ('pegiinfowhatdothelabelsmean', 'Pan'), ('Pan', 'European'), ('European', 'Game'), ('Game', 'Information'), ('Information', 'would'), ('would', 'also'), ('also', 'recommend'), ('recommend', 'PLAY'), ('PLAY', 'titles'), ('titles', 'child'), ('child', 'shows'), ('shows', 'interest'), ('interest', 'better'), ('better', 'inform'), ('inform', 'experiencing'), ('experiencing', 'worth'), ('worth', 'replying'), ('replying', 'Take'), ('Take', 'downvote'), ('downvote', 'buzz'), ('buzz', 'make'), ('make', 'want'), ('want', 'die'), ('die', 'internally'), ('internally', 'Agreed'), ('Agreed', 'guy'), ('guy', 'either'), ('either', 'idiot'), ('idiot', 'one'), ('one', 'predators'), ('predators', 'taking'), ('taking', 'advantage'), ('advantage', 'pedo'), ('pedo', 'buffet'), ('buffet', 'homework'), ('homework', 'Sadly'), ('Sadly', 'roblox'), ('roblox', 'developer'), ('developer', 'wont'), ('wont', 'anything'), ('anything', 'kid'), ('kid', 'accepted'), ('accepted', 'trade'), ('trade', 'fault'), ('fault', 'teach'), ('teach', 'commonsense'), ('commonsense', 'dont'), ('dont', 'think'), ('think', 'anything'), ('anything', 'shes'), ('shes', '1'), ('1', 'accepted'), ('accepted', 'trade'), ('trade', 'U'), ('U', 'teach'), ('teach', 'stuff'), ('stuff', 'feel'), ('feel', 'bad'), ('bad', 'scammers'), ('scammers', 'exist'), ('exist', 'sadly'), ('sadly', 'accepted'), ('accepted', 'trade'), ('trade', 'really'), ('really', 'ca'), ('ca', 'nt'), ('nt', 'anything'), ('anything', 'tips'), ('tips', 'get'), ('get', 'scammed'), ('scammed', 'nt'), ('nt', 'fall'), ('fall', 'borrow'), ('borrow', 'give'), ('give', 'give'), ('give', 'inv'), ('inv', 'sorry'), ('sorry', 'hear'), ('hear', 'guess'), ('guess', 'keep'), ('keep', 'trying'), ('trying', 'get'), ('get', 'godly'), ('godly', 'seer'), ('seer', 'nt'), ('nt', 'good'), ('good', 'still'), ('still', 'scam'), ('scam', 'btw'), ('btw', 'fault'), ('fault', 'Great'), ('Great', 'hear'), ('hear', 'probably'), ('probably', 'cutest'), ('cutest', 'thing'), ('thing', 'heard'), ('heard', 'day'), ('day', 'poisonous'), ('poisonous', 'beast'), ('beast', 'mode'), ('mode', 'face'), ('face', 'think'), ('think', 'worth'), ('worth', 'get'), ('get', 'asked'), ('asked', 'time'), ('time', 'u'), ('u', 'get'), ('get', 'roblox'), ('roblox', 'acount'), ('acount', 'name'), ('name', 'Flamespeed'), ('Flamespeed', 'production'), ('production', 'would'), ('would', 'say'), ('say', 'hundred'), ('hundred', 'thousands'), ('thousands', 'maybe'), ('maybe', 'millions'), ('millions', '24'), ('24', 'hours'), ('hours', 'imgne'), ('imgne', 'strolling'), ('strolling', 'across'), ('across', 'ten'), ('ten', 'robux'), ('robux', 'buy'), ('buy', 'wanting'), ('wanting', 'buy'), ('buy', 'imagne'), ('imagne', 'odds'), ('odds', 'Poisonous'), ('Poisonous', 'Beast'), ('Beast', 'Mode'), ('Mode', 'https'), ('https', 'wwwrobloxcomcatalog2606177838PoisonousBeastMode'), ('wwwrobloxcomcatalog2606177838PoisonousBeastMode', 'limited'), ('limited', 'item'), ('item', 'ca'), ('ca', 'nt'), ('nt', 'traded'), ('traded', 'sold'), ('sold', '3'), ('3', 'beast'), ('beast', 'modes'), ('modes', 'faces'), ('faces', 'limited'), ('limited', 'items'), ('items', 'Blizzard'), ('Blizzard', 'Beast'), ('Beast', 'Mode'), ('Mode', 'https'), ('https', 'wwwrobloxcomcatalog209995252BlizzardBeastMode'), ('wwwrobloxcomcatalog209995252BlizzardBeastMode', 'Radioactive'), ('Radioactive', 'Beast'), ('Beast', 'Mode'), ('Mode', 'https'), ('https', 'wwwrobloxcomcatalog2225761296RadioactiveBeastMode'), ('wwwrobloxcomcatalog2225761296RadioactiveBeastMode', 'Beast'), ('Beast', 'Mode'), ('Mode', 'https'), ('https', 'wwwrobloxcomcatalog128992838BeastMode'), ('wwwrobloxcomcatalog128992838BeastMode', 'cost'), ('cost', 'much'), ('much', '15k'), ('15k', 'though'), ('though', 'Yes'), ('Yes', 'limited'), ('limited', 'item'), ('item', 'cant'), ('cant', 'trade'), ('trade', 'would'), ('would', 'say'), ('say', 'worth'), ('worth', '10'), ('10', 'Robux'), ('Robux', 'cost'), ('cost', '10'), ('10', 'Robux'), ('Robux', 'wrong'), ('wrong', 'worth'), ('worth', 'anything'), ('anything', 'tradeable'), ('tradeable', 'limiteds'), ('limiteds', 'started'), ('started', '10'), ('10', '100'), ('100', 'robux'), ('robux', 'back'), ('back', 'would'), ('would', 'worth'), ('worth', 'ever'), ('ever', 'goes'), ('goes', 'limited'), ('limited', 'like'), ('like', '40k'), ('40k', 'say'), ('say', 'many'), ('many', 'people'), ('people', 'go'), ('go', '12k'), ('12k', 'Time'), ('Time', 'New'), ('New', 'rule'), ('rule', 'house'), ('house', 'gaming'), ('gaming', 'also'), ('also', 'includes'), ('includes', 'gaming'), ('gaming', 'YouTube'), ('YouTube', 'videos'), ('videos', 'log'), ('log', 'Game'), ('Game', 'Jolt'), ('Jolt', 'need'), ('need', 'verify'), ('verify', 'email'), ('email', 'address'), ('address', 'account'), ('account', 'sent'), ('sent', 'email'), ('email', 'instructions'), ('instructions', 'authorize'), ('authorize', 'account'), ('account', 'nt'), ('nt', 'see'), ('see', 'email'), ('email', 'within'), ('within', '10'), ('10', 'minutes'), ('minutes', 'please'), ('please', 'check'), ('check', 'spam'), ('spam', 'folder'), ('folder', 'might'), ('might', 'gobbled'), ('gobbled', 'Note'), ('Note', 'week'), ('week', 'authorize'), ('authorize', 'account'), ('account', 'deleted'), ('deleted', 'sign'), ('sign', 'Never'), ('Never', 'let'), ('let', 'play'), ('play', 'games'), ('games', 'called'), ('called', 'scented'), ('scented', 'con'), ('con', 'pure'), ('pure', 'porn'), ('porn', 'games'), ('games', 'interactive'), ('interactive', 'sex'), ('sex', 'features'), ('features', 'disable'), ('disable', 'playing'), ('playing', 'going'), ('going', 'PC'), ('PC', 'https'), ('https', 'webrobloxcommyaccount'), ('webrobloxcommyaccount', 'security'), ('security', 'https'), ('https', 'webrobloxcommyaccount'), ('webrobloxcommyaccount', 'security'), ('security', 'Click'), ('Click', 'account'), ('account', 'restrictions'), ('restrictions', 'account'), ('account', 'button'), ('button', 'pin'), ('pin', 'makes'), ('makes', 'cant'), ('cant', 'disable'), ('disable', 'also'), ('also', 'prevent'), ('prevent', 'reading'), ('reading', 'ingame'), ('ingame', 'chats'), ('chats', 'good'), ('good', 'thing'), ('thing', 'people'), ('people', 'bypass'), ('bypass', 'filter'), ('filter', 'like'), ('like', 'b'), ('b', 'bitch'), ('bitch', '9'), ('9', '9itch'), ('9itch', 'control'), ('control', 'contact'), ('contact', 'settings'), ('settings', 'https'), ('https', 'webrobloxcommyaccount'), ('webrobloxcommyaccount', 'privacy'), ('privacy', 'https'), ('https', 'webrobloxcommyaccount'), ('webrobloxcommyaccount', 'privacy'), ('privacy', 'nt'), ('nt', 'buy'), ('buy', 'robux'), ('robux', 'could'), ('could', 'good'), ('good', 'idea'), ('idea', 'happened'), ('happened', 'child'), ('child', 'agree'), ('agree', 'called'), ('called', 'crimes'), ('crimes', 'kids'), ('kids', 'last'), ('last', 'night'), ('night', 'today'), ('today', 'scary'), ('scary', 'make'), ('make', 'new'), ('new', 'account'), ('account', 'device'), ('device', 'go'), ('go', 'profile'), ('profile', 'add'), ('add', 'friend'), ('friend', 'kid'), ('kid', 'asked'), ('asked', 'Lego'), ('Lego', 'themed'), ('themed', 'birthday'), ('birthday', 'party'), ('party', 'get'), ('get', 'online'), ('online', 'roblox'), ('roblox', 'birthday'), ('birthday', 'Epic'), ('Epic', 'Minigames'), ('Minigames', 'Murder'), ('Murder', 'Mystery'), ('Mystery', '2'), ('2', 'Hide'), ('Hide', 'Seek'), ('Seek', 'Extreme'), ('Extreme', 'Natural'), ('Natural', 'Disaster'), ('Disaster', 'Survival'), ('Survival', 'Survive'), ('Survive', 'Disasters'), ('Disasters', '2'), ('2', 'Cursed'), ('Cursed', 'Islands'), ('Islands', 'Icebreaker'), ('Icebreaker', 'Super'), ('Super', 'Bomb'), ('Bomb', 'Survival'), ('Survival', 'Dodgeball'), ('Dodgeball', 'Lab'), ('Lab', 'Experiment'), ('Experiment', 'say'), ('say', 'maybe'), ('maybe', 'Epic'), ('Epic', 'Minigames'), ('Minigames', 'maybe'), ('maybe', 'survive'), ('survive', 'disaster'), ('disaster', 'game'), ('game', 'Big'), ('Big', 'paintball'), ('paintball', 'Epic'), ('Epic', 'minigames'), ('minigames', 'Hide'), ('Hide', 'seek'), ('seek', 'extreme'), ('extreme', 'Simon'), ('Simon', 'says'), ('says', 'Great'), ('Great', 'advice'), ('advice', 'post'), ('post', 'rparents'), ('rparents', 'rroblox'), ('rroblox', 'Careful'), ('Careful', 'wish'), ('wish', 'Roblox'), ('Roblox', 'type'), ('type', 'nanny'), ('nanny', 'looking'), ('looking', 'amount'), ('amount', 'dopamine'), ('dopamine', 'game'), ('game', 'generates'), ('generates', 'charts'), ('charts', 'understand'), ('understand', 'would'), ('would', 'want'), ('want', 'scientific'), ('scientific', 'evidence'), ('evidence', 'parenting'), ('parenting', 'common'), ('common', 'sense'), ('sense', 'kick'), ('kick', 'However'), ('However', 'somehow'), ('somehow', 'limit'), ('limit', 'activity'), ('activity', 'yes'), ('yes', 'good'), ('good', 'distraction'), ('distraction', 'uJollyMingtingTDM'), ('uJollyMingtingTDM', 'correct'), ('correct', 'really'), ('really', 'nt'), ('nt', 'need'), ('need', 'robux'), ('robux', 'play'), ('play', 'tons'), ('tons', 'fun'), ('fun', 'without'), ('without', 'robux'), ('robux', 'Well'), ('Well', 'free'), ('free', 'robux'), ('robux', 'customize'), ('customize', 'avatar'), ('avatar', 'play'), ('play', 'exclusive'), ('exclusive', 'games'), ('games', 'need'), ('need', 'Robux'), ('Robux', 'play'), ('play', 'spend'), ('spend', 'Robux'), ('Robux', 'avatar'), ('avatar', 'games'), ('games', 'tons'), ('tons', 'fun'), ('fun', 'Yes'), ('Yes', 'roblox'), ('roblox', 'really'), ('really', 'win'), ('win', 'need'), ('need', 'pay'), ('pay', 'fun'), ('fun', 'child'), ('child', 'would'), ('would', 'like'), ('like', 'customize'), ('customize', 'avatar'), ('avatar', 'roblox'), ('roblox', 'promo'), ('promo', 'codes'), ('codes', 'come'), ('come', 'every'), ('every', 'weeks'), ('weeks', 'watch'), ('watch', 'also'), ('also', 'plenty'), ('plenty', 'free'), ('free', 'items'), ('items', 'catalog'), ('catalog', 'like'), ('like', 'silly'), ('silly', 'fun'), ('fun', 'face'), ('face', 'chill'), ('chill', 'face'), ('face', 'medieval'), ('medieval', 'hood'), ('hood', 'country'), ('country', 'fedoras'), ('fedoras', 'much'), ('much', 'Yes'), ('Yes', 'roblox'), ('roblox', 'indeed'), ('indeed', 'freetoplay'), ('freetoplay', 'platform'), ('platform', 'f2p'), ('f2p', 'gamesitemsclothing'), ('gamesitemsclothing', 'actually'), ('actually', '999'), ('999', 'clothinghatsaccessories'), ('clothinghatsaccessories', 'get'), ('get', 'paying'), ('paying', 'irl'), ('irl', 'money'), ('money', 'kid'), ('kid', 'get'), ('get', 'decent'), ('decent', 'looking'), ('looking', 'avatar'), ('avatar', '400'), ('400', 'robux'), ('robux', 'tho'), ('tho', 'around'), ('around', '5'), ('5', 'hand'), ('hand', '99'), ('99', 'games'), ('games', 'free'), ('free', 'play'), ('play', 'including'), ('including', 'gamepasses'), ('gamepasses', 'give'), ('give', 'player'), ('player', 'ingame'), ('ingame', 'advantage'), ('advantage', 'son'), ('son', 'ever'), ('ever', 'wants'), ('wants', 'get'), ('get', 'trading'), ('trading', 'limited'), ('limited', 'items'), ('items', 'might'), ('might', 'pricy'), ('pricy', 'items'), ('items', 'costing'), ('costing', 'hundreds'), ('hundreds', 'thousands'), ('thousands', 'dollars'), ('dollars', 'plus'), ('plus', 'trading'), ('trading', 'notions'), ('notions', 'Rap'), ('Rap', 'value'), ('value', 'trend'), ('trend', 'demand'), ('demand', 'availablepremium'), ('availablepremium', 'copies'), ('copies', 'Numberpercentage'), ('Numberpercentage', 'hoarded'), ('hoarded', 'items'), ('items', 'kind'), ('kind', 'upgrading'), ('upgrading', 'downgrading'), ('downgrading', 'items'), ('items', 'plus'), ('plus', 'charts'), ('charts', 'seeing'), ('seeing', 'item'), ('item', 'evolved'), ('evolved', 'years'), ('years', 'massive'), ('massive', 'drops'), ('drops', 'item'), ('item', 'projected'), ('projected', 'Yes'), ('Yes', 'say'), ('say', 'free'), ('free', 'lure'), ('lure', 'parents'), ('parents', 'make'), ('make', 'get'), ('get', 'fæking'), ('fæking', 'robux'), ('robux', 'welcome'), ('welcome', 'capitalism'), ('capitalism', 'guess'), ('guess', 'stuck'), ('stuck', 'knee'), ('knee', 'deep'), ('deep', 'Roblox'), ('Roblox', 'capitalism'), ('capitalism', 'crap'), ('crap', '6'), ('6', 'year'), ('year', 'old'), ('old', 'quite'), ('quite', 'old'), ('old', 'enough'), ('enough', 'able'), ('able', 'responsibly'), ('responsibly', 'use'), ('use', 'Robux'), ('Robux', 'ROBLOX'), ('ROBLOX', 'Premium'), ('Premium', 'suggest'), ('suggest', 'start'), ('start', 'older'), ('older', 'Hope'), ('Hope', 'helps'), ('helps', 'going'), ('going', 'use'), ('use', 'cheapest'), ('cheapest', 'options'), ('options', 'Premium'), ('Premium', 'Robux'), ('Robux', 'examples'), ('examples', 'Going'), ('Going', 'using'), ('using', 'USD'), ('USD', 'prices'), ('prices', 'sure'), ('sure', 'similar'), ('similar', 'cheapest'), ('cheapest', 'option'), ('option', 'buying'), ('buying', 'Robux'), ('Robux', '499'), ('499', 'get'), ('get', '400'), ('400', 'Robux'), ('Robux', 'cheapest'), ('cheapest', 'option'), ('option', 'Premium'), ('Premium', 'also'), ('also', '499'), ('499', 'get'), ('get', '450'), ('450', 'Robux'), ('Robux', 'get'), ('get', 'Robux'), ('Robux', 'Premium'), ('Premium', 'Premium'), ('Premium', 'membership'), ('membership', 'bought'), ('bought', 'month'), ('month', 'want'), ('want', 'get'), ('get', 'Robux'), ('Robux', 'buying'), ('buying', 'Premium'), ('Premium', 'buy'), ('buy', 'Robux'), ('Robux', 'directly'), ('directly', 'wait'), ('wait', 'til'), ('til', 'next'), ('next', 'month'), ('month', 'membership'), ('membership', 'renew'), ('renew', 'already'), ('already', 'Premium'), ('Premium', 'membership'), ('membership', 'go'), ('go', 'buy'), ('buy', 'Robux'), ('Robux', 'get'), ('get', '10'), ('10', 'bonus'), ('bonus', 'purchase'), ('purchase', 'Premium'), ('Premium', 'buying'), ('buying', '499'), ('499', 'Robux'), ('Robux', 'option'), ('option', 'get'), ('get', '440'), ('440', 'Robux'), ('Robux', 'instead'), ('instead', '400'), ('400', 'Premium'), ('Premium', 'membership'), ('membership', 'comes'), ('comes', 'features'), ('features', '6'), ('6', 'year'), ('year', 'old'), ('old', 'wo'), ('wo', 'nt'), ('nt', 'use'), ('use', 'may'), ('may', 'even'), ('even', 'aware'), ('aware', 'hats'), ('hats', 'avatar'), ('avatar', 'considered'), ('considered', 'limited'), ('limited', 'traded'), ('traded', 'Premium'), ('Premium', 'doubt'), ('doubt', 'trading'), ('trading', 'hats'), ('hats', 'Premium'), ('Premium', 'also'), ('also', 'lets'), ('lets', 'upload'), ('upload', 'shirts'), ('shirts', 'pants'), ('pants', 'avatar'), ('avatar', '6'), ('6', 'nt'), ('nt', 'think'), ('think', 'either'), ('either', 'Premium'), ('Premium', 'good'), ('good', 'set'), ('set', 'date'), ('date', 'kid'), ('kid', 'get'), ('get', 'Robux'), ('Robux', 'allow'), ('allow', 'Premium'), ('Premium', 'membership'), ('membership', 'renew'), ('renew', 'month'), ('month', 'set'), ('set', 'date'), ('date', 'kid'), ('kid', 'look'), ('look', 'forward'), ('forward', 'get'), ('get', 'Robux'), ('Robux', 'Might'), ('Might', 'nice'), ('nice', 'marked'), ('marked', 'calendar'), ('calendar', 'kid'), ('kid', 'understand'), ('understand', 'spending'), ('spending', 'limit'), ('limit', 'buy'), ('buy', 'Robux'), ('Robux', 'feel'), ('feel', 'earned'), ('earned', 'perfectly'), ('perfectly', 'alright'), ('alright', 'Going'), ('Going', 'want'), ('want', 'figure'), ('figure', 'much'), ('much', 'Robux'), ('Robux', 'willing'), ('willing', 'spend'), ('spend', 'though'), ('though', '450'), ('450', 'Robux'), ('Robux', 'may'), ('may', 'go'), ('go', 'far'), ('far', 'depending'), ('depending', 'kid'), ('kid', 'buys'), ('buys', 'exactly'), ('exactly', 'need'), ('need', 'would'), ('would', 'talk'), ('talk', 'kid'), ('kid', 'figure'), ('figure', 'exactly'), ('exactly', 'want'), ('want', 'see'), ('see', 'anything'), ('anything', 'mind'), ('mind', 'wants'), ('wants', 'buy'), ('buy', 'different'), ('different', 'things'), ('things', 'spend'), ('spend', 'Robux'), ('Robux', 'Robux'), ('Robux', 'spent'), ('spent', 'hats'), ('hats', 'avatar'), ('avatar', 'game'), ('game', 'passes'), ('passes', 'specific'), ('specific', 'games'), ('games', 'Hats'), ('Hats', 'game'), ('game', 'passes'), ('passes', 'last'), ('last', 'forever'), ('forever', 'account'), ('account', 'purchases'), ('purchases', 'inside'), ('inside', 'Roblox'), ('Roblox', 'games'), ('games', 'nt'), ('nt', 'permanent'), ('permanent', 'though'), ('though', 'would'), ('would', 'recommend'), ('recommend', 'making'), ('making', 'sure'), ('sure', 'stray'), ('stray', 'away'), ('away', 'buying'), ('buying', 'Roblox'), ('Roblox', 'also'), ('also', 'nt'), ('nt', 'set'), ('set', 'prices'), ('prices', 'everything'), ('everything', 'game'), ('game', 'creators'), ('creators', 'always'), ('always', 'good'), ('good', 'know'), ('know', 'buying'), ('buying', 'seeing'), ('seeing', 'benefit'), ('benefit', 'outweighs'), ('outweighs', 'cost'), ('cost', 'also'), ('also', 'point'), ('point', 'buying'), ('buying', 'game'), ('game', 'passes'), ('passes', 'game'), ('game', 'kid'), ('kid', 'play'), ('play', 'day'), ('day', 'get'), ('get', 'game'), ('game', 'passes'), ('passes', 'game'), ('game', 'know'), ('know', 'play'), ('play', 'often'), ('often', 'Robux'), ('Robux', 'thrown'), ('thrown', 'away'), ('away', 'really'), ('really', 'easy'), ('easy', 'might'), ('might', 'want'), ('want', 'monitor'), ('monitor', 'purchases'), ('purchases', 'lot'), ('lot', 'longer'), ('longer', 'intended'), ('intended', 'lot'), ('lot', 'different'), ('different', 'parts'), ('parts', 'Roblox'), ('Roblox', 'parents'), ('parents', 'even'), ('even', 'kids'), ('kids', 'may'), ('may', 'understand'), ('understand', 'comes'), ('comes', 'purchases'), ('purchases', 'questions'), ('questions', 'anything'), ('anything', 'Roblox'), ('Roblox', 'feel'), ('feel', 'free'), ('free', 'ask'), ('ask', 'Yes'), ('Yes', 'top'), ('top', 'right'), ('right', 'corner'), ('corner', 'press'), ('press', 'Robux'), ('Robux', 'symbol'), ('symbol', 'click'), ('click', 'bar'), ('bar', 'states'), ('states', 'much'), ('much', 'robux'), ('robux', 'show'), ('show', 'transaction'), ('transaction', 'history'), ('history', 'need'), ('need', 'responces'), ('responces', 'repost'), ('repost', 'rRobloxR'), ('rRobloxR', 'Click'), ('Click', 'Robux'), ('Robux', 'top'), ('top', 'right'), ('right', 'website'), ('website', 'little'), ('little', 'drop'), ('drop', 'says'), ('says', 'much'), ('much', 'Robux'), ('Robux', 'buy'), ('buy', 'button'), ('button', 'Click'), ('Click', 'Robux'), ('Robux', 'amount'), ('amount', 'bring'), ('bring', 'page'), ('page', 'shows'), ('shows', 'much'), ('much', 'Robux'), ('Robux', 'account'), ('account', 'got'), ('got', 'past'), ('past', 'day'), ('day', 'page'), ('page', '3'), ('3', 'tabs'), ('tabs', 'click'), ('click', 'Transactions'), ('Transactions', 'tab'), ('tab', 'see'), ('see', 'purchases'), ('purchases', 'account'), ('account', 'trouble'), ('trouble', 'finding'), ('finding', 'link'), ('link', 'page'), ('page', 'https'), ('https', 'wwwrobloxcomMyMoneyaspx'), ('wwwrobloxcomMyMoneyaspx', 'MyTransactions_tab'), ('MyTransactions_tab', 'click'), ('click', 'Robux'), ('Robux', 'symbol'), ('symbol', 'get'), ('get', 'tells'), ('tells', 'balance'), ('balance', 'option'), ('option', 'buy'), ('buy', 'Robux'), ('Robux', 'Ca'), ('Ca', 'nt'), ('nt', 'find'), ('find', 'transaction'), ('transaction', 'history'), ('history', 'try'), ('try', 'https'), ('https', 'wwwrobloxcomMyMoneyaspx'), ('wwwrobloxcomMyMoneyaspx', 'MyTransactions_tab'), ('MyTransactions_tab', 'https'), ('https', 'wwwrobloxcomMyMoneyaspx'), ('wwwrobloxcomMyMoneyaspx', 'MyTransactions_tab'), ('MyTransactions_tab', 'https'), ('https', 'wwwrobloxcomMyMoneyaspx'), ('wwwrobloxcomMyMoneyaspx', 'MyTransactions_tab'), ('MyTransactions_tab', 'https'), ('https', 'wwwrobloxcomMyMoneyaspx'), ('wwwrobloxcomMyMoneyaspx', 'MyTransactions_tab'), ('MyTransactions_tab', 'Thanks'), ('Thanks', 'worked'), ('worked', 'computer'), ('computer', 'Apparently'), ('Apparently', 'mobile'), ('mobile', 'app'), ('app', 'Im'), ('Im', 'parent'), ('parent', 'like'), ('like', 'Welcome'), ('Welcome', 'community'), ('community', 'us'), ('us', 'parents'), ('parents', 'kids'), ('kids', 'playing'), ('playing', 'happy'), ('happy', 'help'), ('help', 'questions'), ('questions', 'community'), ('community', 'helpful'), ('helpful', 'Awh'), ('Awh', 'unfortunately'), ('unfortunately', 'ca'), ('ca', 'nt'), ('nt', 'limit'), ('limit', 'friends'), ('friends', 'turn'), ('turn', 'friend'), ('friend', 'request'), ('request', 'Best'), ('Best', 'tell'), ('tell', 'add'), ('add', 'anyone'), ('anyone', 'nt'), ('nt', 'know'), ('know', 'keep'), ('keep', 'friends'), ('friends', 'follows'), ('follows', 'rule'), ('rule', 'make'), ('make', 'friends'), ('friends', 'message'), ('message', 'chat'), ('chat', 'website'), ('website', 'far'), ('far', 'ingame'), ('ingame', 'chat'), ('chat', 'goes'), ('goes', 'either'), ('either', 'nothing'), ('nothing', 'think'), ('think', 'Fortunately'), ('Fortunately', 'increased'), ('increased', 'chat'), ('chat', 'filter'), ('filter', 'accounts'), ('accounts', '13'), ('13', 'set'), ('set', 'experiences'), ('experiences', 'able'), ('able', 'play'), ('play', 'suitable'), ('suitable', 'ages'), ('ages', 'ca'), ('ca', 'nt'), ('nt', 'join'), ('join', '9'), ('9', '13'), ('13', 'reccomend'), ('reccomend', 'games'), ('games', 'hopefully'), ('hopefully', 'nt'), ('nt', 'run'), ('run', 'weirdos'), ('weirdos', 'honestly'), ('honestly', 'pretty'), ('pretty', 'rare'), ('rare', 'unless'), ('unless', 'joining'), ('joining', 'weird'), ('weird', 'games'), ('games', 'course'), ('course', 'always'), ('always', 'monitor'), ('monitor', 'kids'), ('kids', 'online'), ('online', 'teach'), ('teach', 'internet'), ('internet', 'safety'), ('safety', 'make'), ('make', 'smart'), ('smart', 'well'), ('well', 'Teach'), ('Teach', 'block'), ('block', 'anyone'), ('anyone', 'mean'), ('mean', 'clicking'), ('clicking', 'name'), ('name', 'leaderboardsand'), ('leaderboardsand', 'clicking'), ('clicking', 'Block'), ('Block', 'button'), ('button', 'also'), ('also', 'make'), ('make', 'sure'), ('sure', 'settings'), ('settings', 'set'), ('set', 'friends'), ('friends', 'follow'), ('follow', 'games'), ('games', 'Thank'), ('Thank', 'terrible'), ('terrible', 'platform'), ('platform', 'little'), ('little', 'kids'), ('kids', 'matter'), ('matter', 'age'), ('age', 'recommended'), ('recommended', 'games'), ('games', 'monitor'), ('monitor', 'long'), ('long', 'enough'), ('enough', 'creep'), ('creep', 'often'), ('often', 'older'), ('older', 'kid'), ('kid', 'far'), ('far', 'tell'), ('tell', 'finds'), ('finds', 'way'), ('way', 'get'), ('get', 'around'), ('around', 'lame'), ('lame', 'attempts'), ('attempts', 'keep'), ('keep', 'things'), ('things', 'childfriendly'), ('childfriendly', 'Reporting'), ('Reporting', 'nothing'), ('nothing', 'nt'), ('nt', 'bother'), ('bother', 'ever'), ('ever', 'calling'), ('calling', 'customer'), ('customer', 'support'), ('support', 'issue'), ('issue', 'joke'), ('joke', 'Good'), ('Good', 'job'), ('job', 'restricting'), ('restricting', 'chat'), ('chat', 'ability'), ('ability', 'half'), ('half', 'reason'), ('reason', 'many'), ('many', 'play'), ('play', 'Good'), ('Good', 'luck'), ('luck', 'offer'), ('offer', 'Candy'), ('Candy', 'Set'), ('Set', 'logchopper'), ('logchopper', 'acc'), ('acc', 'im'), ('im', 'willing'), ('willing', 'sell'), ('sell', 'headless'), ('headless', 'korblox'), ('korblox', 'thousand'), ('thousand', 'robux'), ('robux', 'need'), ('need', 'proof'), ('proof', 'going'), ('going', 'give'), ('give', 'money'), ('money', 'need'), ('need', '100'), ('100', 'dollars'), ('dollars', '50'), ('50', 'best'), ('best', 'nt'), ('nt', 'scam'), ('scam', 'Istg'), ('Istg', 'im'), ('im', 'legit'), ('legit', 'like'), ('like', 'im'), ('im', 'serious'), ('serious', 'rn'), ('rn', 'need'), ('need', 'sell'), ('sell', 'acc'), ('acc', 'im'), ('im', 'sorry'), ('sorry', 'im'), ('im', 'trading'), ('trading', 'acct'), ('acct', 'w'), ('w', 'poisonous'), ('poisonous', 'beast'), ('beast', 'mode'), ('mode', 'atm'), ('atm', 'find'), ('find', 'acc'), ('acc', 'yet'), ('yet', 'im'), ('im', 'selling'), ('selling', '20'), ('20', '200k'), ('200k', 'account'), ('account', 'give'), ('give', 'username'), ('username', 'password'), ('password', 'free'), ('free', 'even'), ('even', 'want'), ('want', 'Definitely'), ('Definitely', '4yearolds'), ('4yearolds', 'hope'), ('hope', 'least'), ('least', 'chat'), ('chat', 'enabled'), ('enabled', 'lot'), ('lot', 'random'), ('random', 'violence'), ('violence', 'best'), ('best', 'option'), ('option', 'join'), ('join', 'private'), ('private', 'server'), ('server', 'free'), ('free', 'easy'), ('easy', 'set'), ('set', 'couple'), ('couple', 'clicks'), ('clicks', 'game'), ('game', 'includes'), ('includes', 'kids'), ('kids', 'daycare'), ('daycare', 'means'), ('means', 'people'), ('people', 'correction'), ('correction', 'anyone'), ('anyone', 'game'), ('game', 'specific'), ('specific', 'instance'), ('instance', 'arent'), ('arent', 'allowed'), ('allowed', 'play'), ('play', 'game'), ('game', 'incident'), ('incident', 'nt'), ('nt', 'many'), ('many', 'factors'), ('factors', 'occurred'), ('occurred', 'extremely'), ('extremely', 'unfortunate'), ('unfortunate', 'roblox'), ('roblox', 'nt'), ('nt', 'primary'), ('primary', 'issue'), ('issue', 'lead'), ('lead', 'event'), ('event', 'long'), ('long', 'shot'), ('shot', 'came'), ('came', 'looking'), ('looking', 'among'), ('among', 'things'), ('things', 'lack'), ('lack', 'response'), ('response', '7'), ('7', 'months'), ('months', 'seems'), ('seems', 'indicate'), ('indicate', 'subreddit'), ('subreddit', 'anyone'), ('anyone', 'knowledgeable'), ('knowledgeable', 'b'), ('b', 'actually'), ('actually', 'full'), ('full', 'scaredignorant'), ('scaredignorant', 'parents'), ('parents', 'Oh'), ('Oh', 'well'), ('well', 'keep'), ('keep', 'looking'), ('looking', 'elsewhere'), ('elsewhere', 'poisionous'), ('poisionous', 'beast'), ('beast', 'mode'), ('mode', 'worth'), ('worth', '10'), ('10', 'robux'), ('robux', 'tradeable'), ('tradeable', 'worth'), ('worth', 'anything'), ('anything', 'meta'), ('meta', 'valk'), ('valk', 'free'), ('free', 'item'), ('item', 'kids'), ('kids', 'really'), ('really', 'understand'), ('understand', 'happened'), ('happened', 'video'), ('video', 'played'), ('played', 'Roblox'), ('Roblox', 'Video'), ('Video', 'media'), ('media', 'really'), ('really', 'built'), ('built', 'Roblox'), ('Roblox', 'save'), ('save', 'select'), ('select', 'clips'), ('clips', 'chance'), ('chance', 'could'), ('could', 'link'), ('link', 'game'), ('game', 'like'), ('like', 'clip'), ('clip', 'game'), ('game', 'opened'), ('opened', 'click'), ('click', 'play'), ('play', 'button'), ('button', 'although'), ('although', 'wait'), ('wait', 'see'), ('see', 'game'), ('game', 'start'), ('start', 'closed'), ('closed', 'quickly'), ('quickly', 'minutes'), ('minutes', 'later'), ('later', 'tried'), ('tried', 'game'), ('game', 'functioning'), ('functioning', 'like'), ('like', 'normal'), ('normal', 'know'), ('know', 'could'), ('could', 'link'), ('link', 'game'), ('game', 'actually'), ('actually', 'press'), ('press', 'button'), ('button', '3'), ('3', 'long'), ('long', 'take'), ('take', 'retain'), ('retain', 'access'), ('access', 'roblox'), ('roblox', 'account'), ('account', 'day'), ('day', 'two'), ('two', 'remember'), ('remember', 'correctly'), ('correctly', 'changed'), ('changed', 'email'), ('email', 'address'), ('address', 'account'), ('account', 'back'), ('back', 'original'), ('original', 'could'), ('could', 'get'), ('get', 'password'), ('password', 'reset'), ('reset', 'refund'), ('refund', 'robux'), ('robux', 'spent'), ('spent', 'though'), ('though', 'even'), ('even', 'though'), ('though', 'policy'), ('policy', 'says'), ('says', 'offer'), ('offer', 'one'), ('one', 'time'), ('time', 'account'), ('account', 'restore'), ('restore', 'Okay'), ('Okay', 'thank'), ('thank', 'Try'), ('Try', 'hitting'), ('hitting', 'tab'), ('tab', 'put'), ('put', 'away'), ('away', 'games'), ('games', 'using'), ('using', 'default'), ('default', 'leaderboard'), ('leaderboard', 'Click'), ('Click', 'menu'), ('menu', 'iconleaderboard'), ('iconleaderboard', 'parent'), ('parent', 'play'), ('play', 'roblox'), ('roblox', 'often'), ('often', 'isnt'), ('isnt', 'really'), ('really', 'way'), ('way', 'check'), ('check', 'much'), ('much', 'time'), ('time', 'computer'), ('computer', 'see'), ('see', 'much'), ('much', 'time'), ('time', 'spends'), ('spends', 'looking'), ('looking', 'browser'), ('browser', 'history'), ('history', 'setting'), ('setting', 'thing'), ('thing', 'tracks'), ('tracks', 'time'), ('time', 'phone'), ('phone', 'ipad'), ('ipad', 'set'), ('set', 'time'), ('time', 'limits'), ('limits', 'Roblox'), ('Roblox', 'like'), ('like', 'mom'), ('mom', 'give'), ('give', 'robux'), ('robux', 'got'), ('got', 'em'), ('em', 'Faced'), ('Faced', 'issue'), ('issue', 'using'), ('using', 'Microsoft'), ('Microsoft', 'parenting'), ('parenting', 'limit'), ('limit', 'time'), ('time', 'encouraging'), ('encouraging', 'activities'), ('activities', 'Microsoft'), ('Microsoft', 'parenting'), ('parenting', 'display'), ('display', 'amount'), ('amount', 'hours'), ('hours', 'spent'), ('spent', 'app'), ('app', 'Thanks'), ('Thanks', 'hoping'), ('hoping', 'avoid'), ('avoid', 'options'), ('options', 'another'), ('another', 'thing'), ('thing', 'sign'), ('sign', 'looks'), ('looks', 'like'), ('like', 'option'), ('option', 'settings'), ('settings', 'described'), ('described', 'https'), ('https', 'enhelprobloxcomhcenusarticles360031751471'), ('enhelprobloxcomhcenusarticles360031751471', 'help'), ('help', 'Yes'), ('Yes', 'Click'), ('Click', 'Roblox'), ('Roblox', 'logo'), ('logo', 'top'), ('top', 'left'), ('left', 'go'), ('go', 'homepage'), ('homepage', 'see'), ('see', 'section'), ('section', 'games'), ('games', 'called'), ('called', 'Recently'), ('Recently', 'Played'), ('Played', 'Continue'), ('Continue', 'Playing'), ('Playing', 'Click'), ('Click', 'header'), ('header', 'bring'), ('bring', 'page'), ('page', 'even'), ('even', 'recently'), ('recently', 'played'), ('played', 'games'), ('games', 'list'), ('list', 'nt'), ('nt', 'go'), ('go', 'forever'), ('forever', 'show'), ('show', 'lot'), ('lot', 'recent'), ('recent', 'games'), ('games', 'looking'), ('looking', 'mobile'), ('mobile', 'sight'), ('sight', 'made'), ('made', 'comment'), ('comment', 'basically'), ('basically', 'computer'), ('computer', 'Go'), ('Go', 'Roblox'), ('Roblox', 'homepage'), ('homepage', 'right'), ('right', 'friends'), ('friends', 'Continue'), ('Continue', 'Playing'), ('Playing', 'section'), ('section', 'Hit'), ('Hit', 'See'), ('See', 'continue'), ('continue', 'playing'), ('playing', 'section'), ('section', 'see'), ('see', 'recently'), ('recently', 'played'), ('played', 'games'), ('games', 'much'), ('much', 'Enough'), ('Enough', 'nt'), ('nt', 'spend'), ('spend', 'robux'), ('robux', 'would'), ('would', 'able'), ('able', 'afford'), ('afford', 'vacation'), ('vacation', 'Robux'), ('Robux', 'worthless'), ('worthless', 'tho'), ('tho', 'THATS'), ('THATS', 'POINT'), ('POINT', 'kid'), ('kid', 'thinks'), ('thinks', 'getting'), ('getting', 'gold'), ('gold', 'mine'), ('mine', 'even'), ('even', 'though'), ('though', 'piece'), ('piece', 'string'), ('string', 'know'), ('know', 'parents'), ('parents', 'disable'), ('disable', 'chat'), ('chat', 'Personally'), ('Personally', 'nt'), ('nt', 'disable'), ('disable', 'since'), ('since', 'think'), ('think', 'reading'), ('reading', 'typing'), ('typing', 'chat'), ('chat', 'messages'), ('messages', 'improves'), ('improves', 'social'), ('social', 'grammar'), ('grammar', 'spelling'), ('spelling', 'skills'), ('skills', 'monitoring'), ('monitoring', 'sometime'), ('sometime', 'otherwise'), ('otherwise', 'think'), ('think', 'chat'), ('chat', 'filters'), ('filters', 'pretty'), ('pretty', 'good'), ('good', 'would'), ('would', 'disable'), ('disable', 'personally'), ('personally', 'Alot'), ('Alot', 'robloxians'), ('robloxians', 'bypass'), ('bypass', 'filter'), ('filter', 'others'), ('others', 'rage'), ('rage', 'whatever'), ('whatever', 'want'), ('want', 'long'), ('long', 'child'), ('child', 'enjoys'), ('enjoys', 'roblox'), ('roblox', 'reason'), ('reason', 'would'), ('would', 'keep'), ('keep', 'heshe'), ('heshe', 'chat'), ('chat', 'friends'), ('friends', 'roblox'), ('roblox', 'got'), ('got', 'bad'), ('bad', 'recommend'), ('recommend', 'jenga'), ('jenga', 'Yeah'), ('Yeah', 'make'), ('make', 'sure'), ('sure', 'always'), ('always', 'making'), ('making', 'sure'), ('sure', 'child'), ('child', 'internet'), ('internet', 'none'), ('none', 'tbh'), ('tbh', 'seems'), ('seems', 'waaaayy'), ('waaaayy', 'young'), ('young', 'disable'), ('disable', 'chat'), ('chat', 'make'), ('make', 'chat'), ('chat', 'restrictive'), ('restrictive', 'join'), ('join', 'games'), ('games', 'chat'), ('chat', 'site'), ('site', 'restrict'), ('restrict', 'account'), ('account', 'play'), ('play', 'games'), ('games', 'roblox'), ('roblox', 'reviewed'), ('reviewed', 'turn'), ('turn', 'account'), ('account', 'restrictions'), ('restrictions', 'automatically'), ('automatically', 'ca'), ('ca', 'nt'), ('nt', 'turned'), ('turned', 'age'), ('age', 'put'), ('put', 'making'), ('making', 'account'), ('account', 'lower'), ('lower', '13'), ('13', 'Alright'), ('Alright', 'parent'), ('parent', 'yet'), ('yet', 'currently'), ('currently', 'college'), ('college', 'student'), ('student', 'clarify'), ('clarify', 'answer'), ('answer', 'probably'), ('probably', 'spend'), ('spend', '10'), ('10', 'worth'), ('worth', 'robux'), ('robux', 'every'), ('every', 'two'), ('two', 'three'), ('three', 'months'), ('months', 'Since'), ('Since', 'pretty'), ('pretty', 'much'), ('much', 'spend'), ('spend', 'clothing'), ('clothing', 'avatar'), ('avatar', 'customization'), ('customization', '800'), ('800', 'robux'), ('robux', 'plenty'), ('plenty', 'spend'), ('spend', '3'), ('3', 'months'), ('months', 'Week'), ('Week', 'none'), ('none', 'parent'), ('parent', 'playing'), ('playing', 'roblox'), ('roblox', 'since'), ('since', '2014'), ('2014', '6'), ('6', 'years'), ('years', 'happy'), ('happy', 'new'), ('new', 'member'), ('member', 'Roblox'), ('Roblox', 'Parent'), ('Parent', 'Community'), ('Community', '5'), ('5', 'year'), ('year', 'old'), ('old', 'started'), ('started', 'playing'), ('playing', 'Roblox'), ('Roblox', 'today'), ('today', 'sure'), ('sure', 'many'), ('many', 'questions'), ('questions', 'Welcome'), ('Welcome', 'community'), ('community', 'us'), ('us', 'parents'), ('parents', 'kids'), ('kids', 'playing'), ('playing', 'happy'), ('happy', 'help'), ('help', 'questions'), ('questions', 'community'), ('community', 'helpful'), ('helpful', 'yeah'), ('yeah', 'ik'), ('ik', 'im'), ('im', 'ur'), ('ur', 'talking'), ('talking', 'ab'), ('ab', 'got'), ('got', 'acc'), ('acc', 'purple'), ('purple', 'beast'), ('beast', 'mode'), ('mode', 'im'), ('im', 'willing'), ('willing', 'trade'), ('trade', 'negotiate'), ('negotiate', 'already'), ('already', 'added'), ('added', 'ur'), ('ur', 'cord'), ('cord', 'since'), ('since', 'linked'), ('linked', 'ur'), ('ur', 'roblox'), ('roblox', 'acc'), ('acc', 'lol'), ('lol', 'user'), ('user', 'uab'), ('uab', 'add'), ('add', 'back'), ('back', 'send'), ('send', 'proof'), ('proof', 'ownership'), ('ownership', 'n'), ('n', 'shit'), ('shit', 'whats'), ('whats', 'ur'), ('ur', 'kord'), ('kord', 'add'), ('add', 'discord'), ('discord', 'casino'), ('casino', '6666'), ('6666', '1111'), ('1111', 'https'), ('https', 'wwwredditcomrRobloxParentscommentsujg6jntrading_account_with_poisonous_beast_mode'), ('wwwredditcomrRobloxParentscommentsujg6jntrading_account_with_poisonous_beast_mode', 'utm_sourceshare'), ('utm_sourceshare', 'utm_mediumweb2x'), ('utm_mediumweb2x', 'context3'), ('context3', 'trade'), ('trade', 'accounts'), ('accounts', 'account'), ('account', 'robux'), ('robux', 'rare'), ('rare', 'username'), ('username', '3_37m'), ('3_37m', 'pay'), ('pay', 'bro'), ('bro', 'Depends'), ('Depends', 'games'), ('games', 'played'), ('played', 'First'), ('First', 'person'), ('person', 'shooters'), ('shooters', 'like'), ('like', 'arsenal'), ('arsenal', 'reccomend'), ('reccomend', 'like'), ('like', '12'), ('12', 'yew'), ('yew', 'ars'), ('ars', 'game'), ('game', 'ages'), ('ages', 'However'), ('However', 'realistically'), ('realistically', 'recommend'), ('recommend', '12'), ('12', 'opinion'), ('opinion', 'less'), ('less', '1011'), ('1011', 'seems'), ('seems', 'young'), ('young', 'Hey'), ('Hey', 'Z'), ('Z', 'joined'), ('joined', 'Sub'), ('Sub', 'alleviate'), ('alleviate', 'questions'), ('questions', 'guys'), ('guys', 'might'), ('might', 'Roblox'), ('Roblox', 'monetized'), ('monetized', 'ingame'), ('ingame', 'currency'), ('currency', 'effort'), ('effort', 'ropein'), ('ropein', 'hardcore'), ('hardcore', 'game'), ('game', 'content'), ('content', 'developers'), ('developers', 'game'), ('game', 'time'), ('time', 'see'), ('see', 'really'), ('really', 'well'), ('well', 'made'), ('made', 'game'), ('game', 'made'), ('made', 'team'), ('team', 'developers'), ('developers', 'purpose'), ('purpose', 'hobbies'), ('hobbies', 'getting'), ('getting', 'paid'), ('paid', 'Robux'), ('Robux', 'gained'), ('gained', 'content'), ('content', 'traded'), ('traded', 'cashThis'), ('cashThis', 'Robux'), ('Robux', 'expensive'), ('expensive', 'buy'), ('buy', 'first'), ('first', 'place'), ('place', 'might'), ('might', 'best'), ('best', 'monitor'), ('monitor', 'son'), ('son', 'really'), ('really', 'wants'), ('wants', 'robux'), ('robux', 'might'), ('might', 'go'), ('go', 'links'), ('links', 'websites'), ('websites', 'bypass'), ('bypass', 'Roblox'), ('Roblox', 'filter'), ('filter', 'phishing'), ('phishing', 'sites'), ('sites', 'best'), ('best', 'set'), ('set', 'email'), ('email', 'account'), ('account', 'pin'), ('pin', 'found'), ('found', 'settings'), ('settings', 'clicks'), ('clicks', 'one'), ('one', 'phishing'), ('phishing', 'links'), ('links', 'go'), ('go', 'Roblox'), ('Roblox', 'settings'), ('settings', 'security'), ('security', 'log'), ('log', 'sessions'), ('sessions', 'would'), ('would', 'also'), ('also', 'help'), ('help', 'teach'), ('teach', 'scams'), ('scams', 'Well'), ('Well', 'Roblox'), ('Roblox', 'Corp'), ('Corp', 'Needs'), ('Needs', 'make'), ('make', 'money'), ('money', 'somehow'), ('somehow', 'also'), ('also', '10000'), ('10000', 'robux'), ('robux', 'around'), ('around', '100'), ('100', 'USD'), ('USD', 'get'), ('get', 'hundred'), ('hundred', 'around'), ('around', '5'), ('5', 'USD'), ('USD', 'good'), ('good', 'sum'), ('sum', 'starters'), ('starters', 'Make'), ('Make', 'sure'), ('sure', 'nt'), ('nt', 'spend'), ('spend', '100'), ('100', 'dollars'), ('dollars', 'robluxes'), ('robluxes', 'worth'), ('worth', 'trust'), ('trust', 'go'), ('go', 'instant'), ('instant', 'learned'), ('learned', 'hard'), ('hard', 'way'), ('way', 'Well'), ('Well', 'son'), ('son', 'learn'), ('learn', 'Al'), ('Al', 'needs'), ('needs', 'hundred'), ('hundred', 'man'), ('man', 'spend'), ('spend', 'much'), ('much', 'time'), ('time', 'know'), ('know', 'lol'), ('lol', 'bobux'), ('bobux', 'understandable'), ('understandable', 'developers'), ('developers', 'paid'), ('paid', 'creating'), ('creating', 'games'), ('games', 'good'), ('good', 'games'), ('games', 'good'), ('good', 'following'), ('following', 'many'), ('many', 'things'), ('things', 'expensive'), ('expensive', 'greed'), ('greed', 'obviously'), ('obviously', 'taken'), ('taken', 'Developers'), ('Developers', 'paid'), ('paid', 'bad'), ('bad', 'games'), ('games', 'games'), ('games', 'work'), ('work', 'properly'), ('properly', 'buy'), ('buy', 'one'), ('one', 'online'), ('online', 'get'), ('get', 'redeemable'), ('redeemable', 'code'), ('code', 'via'), ('via', 'email'), ('email', 'checked'), ('checked', 'CVS'), ('CVS', 'target'), ('target', 'nt'), ('nt', 'one'), ('one', 'know'), ('know', 'GameStop'), ('GameStop', 'best'), ('best', 'buy'), ('buy', 'closed'), ('closed', 'Maybe'), ('Maybe', 'could'), ('could', 'buy'), ('buy', 'Google'), ('Google', 'Play'), ('Play', 'card'), ('card', 'mobile'), ('mobile', 'think'), ('think', 'locations'), ('locations', 'also'), ('also', 'use'), ('use', 'Robux'), ('Robux', 'Practically'), ('Practically', 'everywhere'), ('everywhere', 'Hmm'), ('Hmm', 'check'), ('check', 'local'), ('local', 'Walmart'), ('Walmart', 'Walmart'), ('Walmart', 'close'), ('close', 'location'), ('location', 'Well'), ('Well', 'oof'), ('oof', 'im'), ('im', 'ideas'), ('ideas', 'started'), ('started', '9'), ('9', 'Also'), ('Also', 'would'), ('would', 'like'), ('like', 'get'), ('get', 'roblox'), ('roblox', 'scripting'), ('scripting', 'definitely'), ('definitely', 'check'), ('check', 'alvinblox'), ('alvinblox', '10'), ('10', 'started'), ('started', 'messing'), ('messing', 'around'), ('around', 'Roblox'), ('Roblox', 'studio'), ('studio', 'Roblox'), ('Roblox', 'big'), ('big', 'sure'), ('sure', 'YouTube'), ('YouTube', 'videos'), ('videos', 'could'), ('could', 'help'), ('help', 'even'), ('even', 'younger'), ('younger', 'kids'), ('kids', 'son'), ('son', 'started'), ('started', '9'), ('9', 'think'), ('think', 'depends'), ('depends', 'age'), ('age', 'comfortable'), ('comfortable', 'son'), ('son', 'started'), ('started', 'playing'), ('playing', 'Roblox'), ('Roblox', '4'), ('4', 'years'), ('years', 'old'), ('old', 'phone'), ('phone', 'switched'), ('switched', 'PC'), ('PC', 'around'), ('around', '5'), ('5', 'year'), ('year', 'old'), ('old', 'originally'), ('originally', 'started'), ('started', 'playing'), ('playing', '2014'), ('2014', 'ipad'), ('ipad', 'took'), ('took', 'break'), ('break', 'around'), ('around', '9'), ('9', 'switched'), ('switched', 'laptop'), ('laptop', 'opinion'), ('opinion', 'start'), ('start', 'mobile'), ('mobile', 'Desktop'), ('Desktop', 'soon'), ('soon', 'child'), ('child', 'want'), ('want', 'able'), ('able', 'play'), ('play', 'desktop'), ('desktop', 'mobile'), ('mobile', 'limitations'), ('limitations', 'want'), ('want', 'used'), ('used', 'least'), ('least', 'little'), ('little', 'Personally'), ('Personally', 'friend'), ('friend', 'played'), ('played', 'phone'), ('phone', 'years'), ('years', 'quite'), ('quite', 'play'), ('play', 'ROBLOX'), ('ROBLOX', 'well'), ('well', 'PC'), ('PC', 'disable'), ('disable', 'chat'), ('chat', 'put'), ('put', 'age'), ('age', 'restrictions'), ('restrictions', 'fine'), ('fine', 'nt'), ('nt', 'possible'), ('possible', 'find'), ('find', 'weird'), ('weird', 'things'), ('things', 'Roblox'), ('Roblox', 'questionable'), ('questionable', 'kids'), ('kids', 'opinion'), ('opinion', 'popular'), ('popular', 'games'), ('games', 'violence'), ('violence', 'maybe'), ('maybe', 'bit'), ('bit', 'Around'), ('Around', '45'), ('45', 'think'), ('think', 'hard'), ('hard', 'question'), ('question', 'answer'), ('answer', 'Roblox'), ('Roblox', 'created'), ('created', 'kids'), ('kids', 'technically'), ('technically', '6'), ('6', 'year'), ('year', 'old'), ('old', 'play'), ('play', 'fine'), ('fine', 'roblox'), ('roblox', 'games'), ('games', 'created'), ('created', 'PG'), ('PG', 'possible'), ('possible', 'kids'), ('kids', 'exception'), ('exception', 'games'), ('games', 'like'), ('like', 'horror'), ('horror', 'games'), ('games', 'war'), ('war', 'games'), ('games', 'nt'), ('nt', 'stop'), ('stop', 'teenagers'), ('teenagers', 'adults'), ('adults', 'playing'), ('playing', 'game'), ('game', 'Granted'), ('Granted', '18'), ('18', 'play'), ('play', 'roblox'), ('roblox', 'playing'), ('playing', 'since'), ('since', '12'), ('12', 'warn'), ('warn', 'lot'), ('lot', 'older'), ('older', 'kids'), ('kids', 'sometimes'), ('sometimes', 'even'), ('even', 'adults'), ('adults', 'get'), ('get', 'little'), ('little', 'rough'), ('rough', 'ingame'), ('ingame', 'bypass'), ('bypass', 'chat'), ('chat', 'filters'), ('filters', 'curse'), ('curse', 'insult'), ('insult', 'users'), ('users', 'roblox'), ('roblox', 'seen'), ('seen', 'lot'), ('lot', 'inmature'), ('inmature', 'players'), ('players', 'think'), ('think', 'funny'), ('funny', 'insult'), ('insult', 'people'), ('people', 'joke'), ('joke', 'mental'), ('mental', 'illnesses'), ('illnesses', 'act'), ('act', 'explicit'), ('explicit', 'kids'), ('kids', 'game'), ('game', 'everyone'), ('everyone', 'acts'), ('acts', 'like'), ('like', 'every'), ('every', 'roblox'), ('roblox', 'game'), ('game', 'fair'), ('fair', 'share'), ('share', 'toxic'), ('toxic', 'players'), ('players', 'ruin'), ('ruin', 'fun'), ('fun', 'would'), ('would', 'say'), ('say', '11'), ('11', 'would'), ('would', 'absolute'), ('absolute', 'minimum'), ('minimum', 'age'), ('age', 'someone'), ('someone', 'play'), ('play', 'roblox'), ('roblox', 'Even'), ('Even', 'though'), ('though', 'roblox'), ('roblox', 'markets'), ('markets', 'kids'), ('kids', 'game'), ('game', 'made'), ('made', 'kids'), ('kids', 'game'), ('game', 'older'), ('older', 'toxic'), ('toxic', 'players'), ('players', 'ruin'), ('ruin', 'game'), ('game', 'PG13'), ('PG13', 'point'), ('point', '9'), ('9', 'helps'), ('helps', 'keep'), ('keep', 'son'), ('son', 'occupied'), ('occupied', 'otherwise'), ('otherwise', 'sure'), ('sure', 'would'), ('would', 'done'), ('done', 'day'), ('day', 'blessing'), ('blessing', 'many'), ('many', 'Like'), ('Like', '3'), ('3', 'time'), ('time', 'becomes'), ('becomes', 'problem'), ('problem', 'already'), ('already', 'mental'), ('mental', 'illness'), ('illness', 'violence'), ('violence', 'caused'), ('caused', 'video'), ('video', 'games'), ('games', 'thats'), ('thats', 'youre'), ('youre', 'wondering'), ('wondering', 'one'), ('one', 'really'), ('really', 'plays'), ('plays', 'Murder'), ('Murder', 'Mystery'), ('Mystery', '2'), ('2', 'gameplay'), ('gameplay', 'people'), ('people', 'serious'), ('serious', 'use'), ('use', 'trading'), ('trading', 'ingame'), ('ingame', 'items'), ('items', 'Murder'), ('Murder', 'Mystery'), ('Mystery', '2'), ('2', 'one'), ('one', 'favorite'), ('favorite', 'games'), ('games', 'roblox'), ('roblox', 'murder'), ('murder', 'eliminates'), ('eliminates', 'innocents'), ('innocents', 'game'), ('game', 'time'), ('time', 'runs'), ('runs', 'Innocents'), ('Innocents', 'survive'), ('survive', 'murder'), ('murder', 'Sheriff'), ('Sheriff', 'shoot'), ('shoot', 'murder'), ('murder', 'kill'), ('kill', 'everyone'), ('everyone', 'blood'), ('blood', 'gore'), ('gore', 'game'), ('game', '6'), ('6', 'yr'), ('yr', 'old'), ('old', 'cousin'), ('cousin', 'plays'), ('plays', 'time'), ('time', 'op'), ('op', 'nothing'), ('nothing', 'happened'), ('happened', 'However'), ('However', 'child'), ('child', 'wants'), ('wants', 'trade'), ('trade', 'weapons'), ('weapons', 'especially'), ('especially', 'high'), ('high', 'tier'), ('tier', 'weapons'), ('weapons', 'worth'), ('worth', 'lot'), ('lot', 'learn'), ('learn', 'values'), ('values', 'people'), ('people', 'scam'), ('scam', 'people'), ('people', 'know'), ('know', 'values'), ('values', 'playing'), ('playing', 'flicker'), ('flicker', 'something'), ('something', 'like'), ('like', 'would'), ('would', 'really'), ('really', 'recommend'), ('recommend', 'game'), ('game', 'anyone'), ('anyone', 'age'), ('age', '10'), ('10', 'Buy'), ('Buy', 'another'), ('another', 'computer'), ('computer', 'games'), ('games', 'PC'), ('PC', 'Xbox'), ('Xbox', 'Mobile'), ('Mobile', 'ration'), ('ration', 'time'), ('time', 'PC'), ('PC', 'time'), ('time', 'hot'), ('hot', 'competitive'), ('competitive', 'game'), ('game', 'harder'), ('harder', 'get'), ('get', 'let'), ('let', 'finish'), ('finish', 'round'), ('round', 'save'), ('save', 'progress'), ('progress', 'patient'), ('patient', 'playing'), ('playing', 'competive'), ('competive', 'timed'), ('timed', 'games'), ('games', 'let'), ('let', 'run'), ('run', 'clock'), ('clock', 'give'), ('give', '5'), ('5', 'minutes'), ('minutes', 'finish'), ('finish', 'save'), ('save', '1'), ('1', 'minute'), ('minute', 'final'), ('final', 'warning'), ('warning', 'nephew'), ('nephew', 'niece'), ('niece', 'take'), ('take', 'turns'), ('turns', 'Child'), ('Child', '1'), ('1', 'gets'), ('gets', 'computer'), ('computer', '2pm4pm'), ('2pm4pm', 'Child'), ('Child', '2'), ('2', 'get'), ('get', 'computer'), ('computer', '4pm6pm'), ('4pm6pm', 'etc')]\n"
     ]
    }
   ],
   "source": [
    "bi_grams_list = list(bi_grams)\n",
    "bi_grams_list = [tuple(filter(None, bg)) for bg in bi_grams_list]\n",
    "print(bi_grams_list)"
   ]
  },
  {
   "cell_type": "code",
   "execution_count": 125,
   "id": "2da0f1ef",
   "metadata": {},
   "outputs": [],
   "source": [
    "pattern = r'^\\s*(who|what|when|where|why|how)\\b.*\\?$'\n",
    "questions = df['comment'].str.extract('({})'.format(pattern), flags=re.IGNORECASE)[0].dropna()"
   ]
  },
  {
   "cell_type": "code",
   "execution_count": 126,
   "id": "71935c0c",
   "metadata": {},
   "outputs": [
    {
     "name": "stdout",
     "output_type": "stream",
     "text": [
      "97    How long did it take to retain access to the r...\n",
      "Name: 0, dtype: object\n"
     ]
    }
   ],
   "source": [
    "print(questions)"
   ]
  },
  {
   "cell_type": "code",
   "execution_count": 127,
   "id": "0bad3957",
   "metadata": {},
   "outputs": [
    {
     "name": "stdout",
     "output_type": "stream",
     "text": [
      "The most common bi-gram is: account restrictions with a frequency of 8\n"
     ]
    }
   ],
   "source": [
    "bi_grams_list1 = [' '.join(bi_gram) for bi_gram in bi_grams_list if '(' not in bi_gram and ')' not in bi_gram]\n",
    "\n",
    "freq_dist = nltk.FreqDist(bi_grams_list1)\n",
    "most_common = freq_dist.most_common(1)\n",
    "print('The most common bi-gram is:', most_common[0][0], 'with a frequency of', most_common[0][1])"
   ]
  },
  {
   "cell_type": "code",
   "execution_count": 128,
   "id": "f4597d7a",
   "metadata": {},
   "outputs": [
    {
     "name": "stdout",
     "output_type": "stream",
     "text": [
      "\n",
      "\n",
      "Words : \n",
      "                      term  rank\n",
      "5    account restrictions   6.0\n",
      "151     parental controls   3.0\n",
      "79              game game   3.0\n",
      "235       without account   3.0\n",
      "142                nt get   2.0\n",
      "49           curated list   2.0\n",
      "158          play without   2.0\n"
     ]
    }
   ],
   "source": [
    "sums = tfidf.sum(axis = 0)\n",
    "data1 = []\n",
    "for col, term in enumerate(feature_names):\n",
    "    data1.append( (term, sums[0, col] ))\n",
    "ranking = pd.DataFrame(data1, columns = ['term', 'rank'])\n",
    "words = (ranking.sort_values('rank', ascending = False))\n",
    "print (\"\\n\\nWords : \\n\", words.head(7))"
   ]
  },
  {
   "cell_type": "code",
   "execution_count": 129,
   "id": "1aedb994",
   "metadata": {},
   "outputs": [
    {
     "name": "stdout",
     "output_type": "stream",
     "text": [
      "0      I agree. I have been frustrated since download...\n",
      "3      I want to report this too what’s the game call...\n",
      "4      Report it, these games are from around 2014 an...\n",
      "11                   I dont know how he came to the game\n",
      "12     This was Just a troll to see how this SR would...\n",
      "                             ...                        \n",
      "161    It helps keep my son occupied otherwise not su...\n",
      "165    The only time it becomes a problem is if they ...\n",
      "166    No one really plays Murder Mystery 2 for the g...\n",
      "167    Murder Mystery 2 is one of my favorite games o...\n",
      "169    Both games are in PC, Xbox, or Mobile. You can...\n",
      "Name: comment, Length: 72, dtype: object\n"
     ]
    }
   ],
   "source": [
    "include_list = ['can','what','where','when','how','which','who','why']\n",
    "df_ques = df['comment'].str.lower().str.contains('|'.join(include_list), na=False)\n",
    "df_true = df.loc[df_ques]\n",
    "print(df_true['comment'])"
   ]
  },
  {
   "cell_type": "code",
   "execution_count": null,
   "id": "e78a732d",
   "metadata": {},
   "outputs": [],
   "source": []
  },
  {
   "cell_type": "code",
   "execution_count": 130,
   "id": "ad991e4b",
   "metadata": {},
   "outputs": [
    {
     "name": "stdout",
     "output_type": "stream",
     "text": [
      "4      Report it, these games are from around 2014 an...\n",
      "9                                                      ?\n",
      "13                                    clickbaited games?\n",
      "83                 Can i offer Candy Set and logchopper?\n",
      "94     I don’t really understand what happened, the v...\n",
      "95     It was like a clip before the game opened (aft...\n",
      "97     How long did it take to retain access to the r...\n",
      "106    do the settings described [here](https://en.he...\n",
      "139    Well your son has to learn.\\nAl, he needs is a...\n",
      "147              Hmm, have you check your local Walmart?\n",
      "Name: comment, dtype: object\n"
     ]
    }
   ],
   "source": [
    "df_ques = df['comment'].str.endswith('?')\n",
    "df_true = df.loc[df_ques]\n",
    "print(df_true['comment'])"
   ]
  },
  {
   "cell_type": "code",
   "execution_count": 131,
   "id": "04223d90",
   "metadata": {},
   "outputs": [
    {
     "ename": "ModuleNotFoundError",
     "evalue": "No module named 'wordcloud'",
     "output_type": "error",
     "traceback": [
      "\u001b[0;31m---------------------------------------------------------------------------\u001b[0m",
      "\u001b[0;31mModuleNotFoundError\u001b[0m                       Traceback (most recent call last)",
      "\u001b[0;32m/tmp/ipykernel_3820/820888554.py\u001b[0m in \u001b[0;36m<module>\u001b[0;34m\u001b[0m\n\u001b[1;32m      1\u001b[0m \u001b[0;31m# Import the wordcloud library\u001b[0m\u001b[0;34m\u001b[0m\u001b[0;34m\u001b[0m\u001b[0;34m\u001b[0m\u001b[0m\n\u001b[0;32m----> 2\u001b[0;31m \u001b[0;32mfrom\u001b[0m \u001b[0mwordcloud\u001b[0m \u001b[0;32mimport\u001b[0m \u001b[0mWordCloud\u001b[0m\u001b[0;34m\u001b[0m\u001b[0;34m\u001b[0m\u001b[0m\n\u001b[0m\u001b[1;32m      3\u001b[0m \u001b[0;31m# Join the different processed titles together.\u001b[0m\u001b[0;34m\u001b[0m\u001b[0;34m\u001b[0m\u001b[0;34m\u001b[0m\u001b[0m\n\u001b[1;32m      4\u001b[0m \u001b[0mlong_string\u001b[0m \u001b[0;34m=\u001b[0m \u001b[0;34m','\u001b[0m\u001b[0;34m.\u001b[0m\u001b[0mjoin\u001b[0m\u001b[0;34m(\u001b[0m\u001b[0mlist\u001b[0m\u001b[0;34m(\u001b[0m\u001b[0mpapers\u001b[0m\u001b[0;34m[\u001b[0m\u001b[0;34m'paper_text_processed'\u001b[0m\u001b[0;34m]\u001b[0m\u001b[0;34m.\u001b[0m\u001b[0mvalues\u001b[0m\u001b[0;34m)\u001b[0m\u001b[0;34m)\u001b[0m\u001b[0;34m\u001b[0m\u001b[0;34m\u001b[0m\u001b[0m\n\u001b[1;32m      5\u001b[0m \u001b[0;31m# Create a WordCloud object\u001b[0m\u001b[0;34m\u001b[0m\u001b[0;34m\u001b[0m\u001b[0;34m\u001b[0m\u001b[0m\n",
      "\u001b[0;31mModuleNotFoundError\u001b[0m: No module named 'wordcloud'"
     ]
    }
   ],
   "source": []
  },
  {
   "cell_type": "code",
   "execution_count": null,
   "id": "f7a642f5",
   "metadata": {},
   "outputs": [],
   "source": []
  }
 ],
 "metadata": {
  "kernelspec": {
   "display_name": "Python 3",
   "language": "python",
   "name": "python3"
  },
  "language_info": {
   "codemirror_mode": {
    "name": "ipython",
    "version": 3
   },
   "file_extension": ".py",
   "mimetype": "text/x-python",
   "name": "python",
   "nbconvert_exporter": "python",
   "pygments_lexer": "ipython3",
   "version": "3.11.1"
  },
  "vscode": {
   "interpreter": {
    "hash": "64e9eaefeff5fd546a1be1f2a06608a1ba7971384f7c4440909e1b442a6cf9a9"
   }
  }
 },
 "nbformat": 4,
 "nbformat_minor": 5
}
