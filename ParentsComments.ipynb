{
 "cells": [
  {
   "cell_type": "code",
   "execution_count": 10,
   "id": "9966110d",
   "metadata": {},
   "outputs": [
    {
     "ename": "ModuleNotFoundError",
     "evalue": "No module named 'pandas'",
     "output_type": "error",
     "traceback": [
      "\u001b[1;31m---------------------------------------------------------------------------\u001b[0m",
      "\u001b[1;31mModuleNotFoundError\u001b[0m                       Traceback (most recent call last)",
      "Cell \u001b[1;32mIn[10], line 3\u001b[0m\n\u001b[0;32m      1\u001b[0m \u001b[39mimport\u001b[39;00m \u001b[39mwebbrowser\u001b[39;00m\n\u001b[0;32m      2\u001b[0m \u001b[39mfrom\u001b[39;00m \u001b[39mIPython\u001b[39;00m\u001b[39m.\u001b[39;00m\u001b[39mcore\u001b[39;00m\u001b[39m.\u001b[39;00m\u001b[39mdisplay\u001b[39;00m \u001b[39mimport\u001b[39;00m HTML\n\u001b[1;32m----> 3\u001b[0m \u001b[39mimport\u001b[39;00m \u001b[39mpandas\u001b[39;00m \u001b[39mas\u001b[39;00m \u001b[39mpd\u001b[39;00m\n\u001b[0;32m      4\u001b[0m \u001b[39mimport\u001b[39;00m \u001b[39mnltk\u001b[39;00m\n\u001b[0;32m      5\u001b[0m \u001b[39mfrom\u001b[39;00m \u001b[39mnltk\u001b[39;00m \u001b[39mimport\u001b[39;00m ngrams\n",
      "\u001b[1;31mModuleNotFoundError\u001b[0m: No module named 'pandas'"
     ]
    }
   ],
   "source": [
    "import webbrowser\n",
    "from IPython.core.display import HTML\n",
    "import pandas as pd\n",
    "import nltk\n",
    "from nltk import ngrams\n",
    "from nltk.corpus import stopwords\n",
    "import re\n",
    "from sklearn.feature_extraction.text import CountVectorizer, TfidfVectorizer\n",
    "from collections import Counter\n",
    "#import pyLDAvis.gensim\n",
    "import gensim\n",
    "import pickle \n",
    "import pyLDAvis\n",
    "import pyLDAvis.gensim\n",
    "pyLDAvis.enable_notebook()\n",
    "import os\n",
    "import gensim.corpora as corpora\n",
    "from nltk.corpus import stopwords\n",
    "from gensim.utils import simple_preprocess\n"
   ]
  },
  {
   "cell_type": "code",
   "execution_count": 104,
   "id": "31443236",
   "metadata": {},
   "outputs": [],
   "source": [
    "df = pd.read_csv('https://raw.githubusercontent.com/JaredJose/Roblox-Scraper/main/data/robloxParentsComments.csv?token=GHSAT0AAAAAAB6ZNJNO6Z27ERGX3ROLZAHWZACH3KQ')"
   ]
  },
  {
   "cell_type": "code",
   "execution_count": 105,
   "id": "2db3ef21",
   "metadata": {},
   "outputs": [
    {
     "data": {
      "text/html": [
       "<div>\n",
       "<style scoped>\n",
       "    .dataframe tbody tr th:only-of-type {\n",
       "        vertical-align: middle;\n",
       "    }\n",
       "\n",
       "    .dataframe tbody tr th {\n",
       "        vertical-align: top;\n",
       "    }\n",
       "\n",
       "    .dataframe thead th {\n",
       "        text-align: right;\n",
       "    }\n",
       "</style>\n",
       "<table border=\"1\" class=\"dataframe\">\n",
       "  <thead>\n",
       "    <tr style=\"text-align: right;\">\n",
       "      <th></th>\n",
       "      <th>url</th>\n",
       "      <th>author</th>\n",
       "      <th>date</th>\n",
       "      <th>timestamp</th>\n",
       "      <th>score</th>\n",
       "      <th>comment</th>\n",
       "      <th>comment_id</th>\n",
       "      <th>parent_id</th>\n",
       "    </tr>\n",
       "  </thead>\n",
       "  <tbody>\n",
       "    <tr>\n",
       "      <th>0</th>\n",
       "      <td>https://www.reddit.com/r/RobloxParents/comment...</td>\n",
       "      <td>dianndianna</td>\n",
       "      <td>2021-05-06</td>\n",
       "      <td>1.620311e+09</td>\n",
       "      <td>4</td>\n",
       "      <td>I agree. I have been frustrated since download...</td>\n",
       "      <td>gx5jdbv</td>\n",
       "      <td>NaN</td>\n",
       "    </tr>\n",
       "    <tr>\n",
       "      <th>1</th>\n",
       "      <td>https://www.reddit.com/r/RobloxParents/comment...</td>\n",
       "      <td>cutenfuzzie</td>\n",
       "      <td>2021-05-06</td>\n",
       "      <td>1.620337e+09</td>\n",
       "      <td>3</td>\n",
       "      <td>I also agree. I am regretting ever letting my ...</td>\n",
       "      <td>gx79ppg</td>\n",
       "      <td>NaN</td>\n",
       "    </tr>\n",
       "    <tr>\n",
       "      <th>2</th>\n",
       "      <td>https://i.redd.it/wahei45uohz41.jpg</td>\n",
       "      <td>Deathly_banana</td>\n",
       "      <td>2020-06-11</td>\n",
       "      <td>1.591900e+09</td>\n",
       "      <td>3</td>\n",
       "      <td>Hehehe secy</td>\n",
       "      <td>ftq05wx</td>\n",
       "      <td>NaN</td>\n",
       "    </tr>\n",
       "    <tr>\n",
       "      <th>3</th>\n",
       "      <td>https://i.redd.it/wahei45uohz41.jpg</td>\n",
       "      <td>Afimiliarface</td>\n",
       "      <td>2020-07-01</td>\n",
       "      <td>1.593626e+09</td>\n",
       "      <td>2</td>\n",
       "      <td>I want to report this too what’s the game call...</td>\n",
       "      <td>fwlsxns</td>\n",
       "      <td>NaN</td>\n",
       "    </tr>\n",
       "    <tr>\n",
       "      <th>4</th>\n",
       "      <td>https://i.redd.it/wahei45uohz41.jpg</td>\n",
       "      <td>StupidSam1</td>\n",
       "      <td>2020-05-29</td>\n",
       "      <td>1.590754e+09</td>\n",
       "      <td>1</td>\n",
       "      <td>Report it, these games are from around 2014 an...</td>\n",
       "      <td>fs6xz8e</td>\n",
       "      <td>NaN</td>\n",
       "    </tr>\n",
       "  </tbody>\n",
       "</table>\n",
       "</div>"
      ],
      "text/plain": [
       "                                                 url          author  \\\n",
       "0  https://www.reddit.com/r/RobloxParents/comment...     dianndianna   \n",
       "1  https://www.reddit.com/r/RobloxParents/comment...     cutenfuzzie   \n",
       "2                https://i.redd.it/wahei45uohz41.jpg  Deathly_banana   \n",
       "3                https://i.redd.it/wahei45uohz41.jpg   Afimiliarface   \n",
       "4                https://i.redd.it/wahei45uohz41.jpg      StupidSam1   \n",
       "\n",
       "         date     timestamp  score  \\\n",
       "0  2021-05-06  1.620311e+09      4   \n",
       "1  2021-05-06  1.620337e+09      3   \n",
       "2  2020-06-11  1.591900e+09      3   \n",
       "3  2020-07-01  1.593626e+09      2   \n",
       "4  2020-05-29  1.590754e+09      1   \n",
       "\n",
       "                                             comment comment_id parent_id  \n",
       "0  I agree. I have been frustrated since download...    gx5jdbv       NaN  \n",
       "1  I also agree. I am regretting ever letting my ...    gx79ppg       NaN  \n",
       "2                                        Hehehe secy    ftq05wx       NaN  \n",
       "3  I want to report this too what’s the game call...    fwlsxns       NaN  \n",
       "4  Report it, these games are from around 2014 an...    fs6xz8e       NaN  "
      ]
     },
     "execution_count": 105,
     "metadata": {},
     "output_type": "execute_result"
    }
   ],
   "source": [
    "df.head()"
   ]
  },
  {
   "cell_type": "code",
   "execution_count": 106,
   "id": "a9e845c8",
   "metadata": {},
   "outputs": [
    {
     "data": {
      "text/plain": [
       "0      I agree. I have been frustrated since download...\n",
       "1      I also agree. I am regretting ever letting my ...\n",
       "2                                            Hehehe secy\n",
       "3      I want to report this too what’s the game call...\n",
       "4      Report it, these games are from around 2014 an...\n",
       "                             ...                        \n",
       "166    No one really plays Murder Mystery 2 for the g...\n",
       "167    Murder Mystery 2 is one of my favorite games o...\n",
       "168                                Buy another computer.\n",
       "169    Both games are in PC, Xbox, or Mobile. You can...\n",
       "170    Have them take turns. Child 1 gets computer 2p...\n",
       "Name: comment, Length: 171, dtype: object"
      ]
     },
     "execution_count": 106,
     "metadata": {},
     "output_type": "execute_result"
    }
   ],
   "source": [
    "df['comment']"
   ]
  },
  {
   "cell_type": "code",
   "execution_count": 107,
   "id": "07b5b754",
   "metadata": {},
   "outputs": [],
   "source": [
    "## Key Words"
   ]
  },
  {
   "cell_type": "code",
   "execution_count": 108,
   "id": "623969e4",
   "metadata": {},
   "outputs": [],
   "source": [
    "text = \" \".join(df['comment'].dropna().astype(str))\n",
    "tokens = nltk.word_tokenize(text)\n",
    "tokens = [re.sub(r'[^\\w\\s]', '', token) for token in tokens]\n",
    "stop_words = set(stopwords.words('english'))\n",
    "filtered_tokens = [token for token in tokens if token.lower() not in stop_words and token.strip() != '']\n",
    "\n",
    "\n",
    "bi_grams = ngrams(filtered_tokens, 2)"
   ]
  },
  {
   "cell_type": "code",
   "execution_count": 109,
   "id": "e70b7794",
   "metadata": {},
   "outputs": [],
   "source": [
    "bi_grams_list = list(bi_grams)\n",
    "bi_grams_list = [tuple(filter(None, bg)) for bg in bi_grams_list]\n",
    "#print(bi_grams_list)"
   ]
  },
  {
   "cell_type": "code",
   "execution_count": 110,
   "id": "5be9a57c",
   "metadata": {},
   "outputs": [
    {
     "name": "stdout",
     "output_type": "stream",
     "text": [
      "The most common bi-gram is: account restrictions with a frequency of 8\n"
     ]
    }
   ],
   "source": [
    "bi_grams_list1 = [' '.join(bi_gram) for bi_gram in bi_grams_list if '(' not in bi_gram and ')' not in bi_gram]\n",
    "\n",
    "freq_dist = nltk.FreqDist(bi_grams_list1)\n",
    "most_common = freq_dist.most_common(1)\n",
    "print('The most common bi-gram is:', most_common[0][0], 'with a frequency of', most_common[0][1])"
   ]
  },
  {
   "cell_type": "code",
   "execution_count": 111,
   "id": "0bad3957",
   "metadata": {
    "scrolled": false
   },
   "outputs": [
    {
     "name": "stdout",
     "output_type": "stream",
     "text": [
      "The most common bi-gram is: account restrictions with a frequency of 8\n"
     ]
    }
   ],
   "source": [
    "bi_grams_list1 = [' '.join(bi_gram) for bi_gram in bi_grams_list if '(' not in bi_gram and ')' not in bi_gram]\n",
    "\n",
    "if bi_grams_list1:\n",
    "    freq_dist = nltk.FreqDist(bi_grams_list1)\n",
    "    most_common = freq_dist.most_common(1)\n",
    "    print('The most common bi-gram is:', most_common[0][0], 'with a frequency of', most_common[0][1])\n",
    "else:\n",
    "    print('No bigrams found in the text')"
   ]
  },
  {
   "cell_type": "code",
   "execution_count": 112,
   "id": "7a1e2829",
   "metadata": {},
   "outputs": [
    {
     "name": "stdout",
     "output_type": "stream",
     "text": [
      "games: 38\n",
      "game: 33\n",
      "get: 30\n",
      "Roblox: 26\n",
      "Robux: 26\n",
      "would: 21\n",
      "play: 21\n",
      "roblox: 20\n",
      "account: 18\n",
      "like: 17\n"
     ]
    }
   ],
   "source": [
    "words = text.split()\n",
    "words = [word for word in words if word.lower() not in stop_words]\n",
    "word_counts = Counter(words)\n",
    "\n",
    "for word, count in word_counts.most_common(10):\n",
    "    print(f\"{word}: {count}\")"
   ]
  },
  {
   "cell_type": "code",
   "execution_count": 113,
   "id": "f4597d7a",
   "metadata": {},
   "outputs": [
    {
     "name": "stdout",
     "output_type": "stream",
     "text": [
      "\n",
      "\n",
      "Words : \n",
      "                                             term  rank\n",
      "229                                   beast mode   8.0\n",
      "75                          account restrictions   8.0\n",
      "296                                        ca nt   6.0\n",
      "1482                           parental controls   6.0\n",
      "960                https wwwrobloxcommymoneyaspx   5.0\n",
      "2395  wwwrobloxcommymoneyaspx mytransactions_tab   5.0\n",
      "283                                    buy robux   5.0\n"
     ]
    }
   ],
   "source": [
    "vectorizer = CountVectorizer(ngram_range = (2, 2))\n",
    "X1=vectorizer.fit_transform(bi_grams_list1)\n",
    "features = (vectorizer.get_feature_names_out())\n",
    "\n",
    "vectorizer = TfidfVectorizer(ngram_range = (2, 2))\n",
    "tfidf = vectorizer.fit_transform(bi_grams_list1)\n",
    "\n",
    "\n",
    "sums = tfidf.sum(axis = 0)\n",
    "data1 = []\n",
    "for col, term in enumerate(features):\n",
    "    data1.append( (term, sums[0, col] ))\n",
    "ranking = pd.DataFrame(data1, columns = ['term', 'rank'])\n",
    "words = (ranking.sort_values('rank', ascending = False))\n",
    "print (\"\\n\\nWords : \\n\", words.head(7))"
   ]
  },
  {
   "cell_type": "code",
   "execution_count": 114,
   "id": "ad991e4b",
   "metadata": {
    "scrolled": true
   },
   "outputs": [
    {
     "name": "stdout",
     "output_type": "stream",
     "text": [
      "4      Report it, these games are from around 2014 an...\n",
      "9                                                      ?\n",
      "13                                    clickbaited games?\n",
      "83                 Can i offer Candy Set and logchopper?\n",
      "94     I don’t really understand what happened, the v...\n",
      "95     It was like a clip before the game opened (aft...\n",
      "97     How long did it take to retain access to the r...\n",
      "106    do the settings described [here](https://en.he...\n",
      "139    Well your son has to learn.\\nAl, he needs is a...\n",
      "147              Hmm, have you check your local Walmart?\n",
      "Name: comment, dtype: object\n"
     ]
    }
   ],
   "source": [
    "df_ques = df['comment'].str.endswith('?')\n",
    "df_true = df.loc[df_ques]\n",
    "print(df_true['comment'])"
   ]
  },
  {
   "cell_type": "code",
   "execution_count": 115,
   "id": "e14bb0d7",
   "metadata": {},
   "outputs": [
    {
     "data": {
      "text/plain": [
       "0    i agree i have been frustrated since downloadi...\n",
       "1    i also agree i am regretting ever letting my c...\n",
       "2                                          hehehe secy\n",
       "3    i want to report this too what’s the game call...\n",
       "4    report it these games are from around 2014 and...\n",
       "Name: text_processed, dtype: object"
      ]
     },
     "execution_count": 115,
     "metadata": {},
     "output_type": "execute_result"
    }
   ],
   "source": [
    "df['text_processed'] = df['comment'].apply(lambda x: re.sub('[,.!?]', '', x) if isinstance(x, str) else x)\n",
    "df['text_processed'] = df['text_processed'].apply(lambda x: x.lower() if isinstance(x, str) else x)\n",
    "\n",
    "df['text_processed'].head()\n"
   ]
  },
  {
   "cell_type": "code",
   "execution_count": 116,
   "id": "492f1a8f",
   "metadata": {},
   "outputs": [
    {
     "name": "stdout",
     "output_type": "stream",
     "text": [
      "['agree', 'frustrated', 'since', 'downloading', 'roblox', 'son', 'almost', 'months', 'ago', 'would', 'like', 'able', 'block', 'games', 'block', 'content', 'countries', 'due', 'less', 'monitoring', 'even', 'make', 'curated', 'list', 'games', 'think', 'okay', 'games', 'shown', 'allowed']\n"
     ]
    }
   ],
   "source": [
    "stop_words = stopwords.words('english')\n",
    "stop_words.extend(['from', 'subject', 're', 'edu', 'use'])\n",
    "def sent_to_words(sentences):\n",
    "    for sentence in sentences:\n",
    "        # deacc=True removes punctuations\n",
    "        yield(gensim.utils.simple_preprocess(str(sentence), deacc=True))\n",
    "def remove_stopwords(texts):\n",
    "    return [[word for word in simple_preprocess(str(doc)) \n",
    "             if word not in stop_words] for doc in texts]\n",
    "data = df.comment.values.tolist()\n",
    "data_words = list(sent_to_words(data))\n",
    "# remove stop words\n",
    "data_words = remove_stopwords(data_words)\n",
    "print(data_words[:1][0][:30])"
   ]
  },
  {
   "cell_type": "code",
   "execution_count": 117,
   "id": "f7a642f5",
   "metadata": {},
   "outputs": [
    {
     "name": "stderr",
     "output_type": "stream",
     "text": [
      "/home/zhz094/.local/lib/python3.9/site-packages/pyLDAvis/_prepare.py:243: FutureWarning: In a future version of pandas all arguments of DataFrame.drop except for the argument 'labels' will be keyword-only.\n",
      "  default_term_info = default_term_info.sort_values(\n"
     ]
    },
    {
     "data": {
      "text/html": [
       "\n",
       "<link rel=\"stylesheet\" type=\"text/css\" href=\"https://cdn.jsdelivr.net/gh/bmabey/pyLDAvis@3.4.0/pyLDAvis/js/ldavis.v1.0.0.css\">\n",
       "\n",
       "\n",
       "<div id=\"ldavis_el1081397150218421286337812977\" style=\"background-color:white;\"></div>\n",
       "<script type=\"text/javascript\">\n",
       "\n",
       "var ldavis_el1081397150218421286337812977_data = {\"mdsDat\": {\"x\": [-0.06420410175173615, -0.012765557045228266, 0.015959867101454837, -0.09585776998119365, 0.11529360001257725, 0.06512171789818166, 0.02122700965801748, -0.04505536529596349, -0.02150372977648526, 0.0217843291803755], \"y\": [-0.057279392221087064, 0.040544901567324355, -0.004972150017569541, 0.06421454667532386, -0.00313153953511822, 0.10423692857942, -0.1054427206982361, -0.0005248295107510774, 0.007335565740650352, -0.04498131057995668], \"topics\": [1, 2, 3, 4, 5, 6, 7, 8, 9, 10], \"cluster\": [1, 1, 1, 1, 1, 1, 1, 1, 1, 1], \"Freq\": [22.530153774101088, 17.080542403449684, 14.32723936259451, 12.223109754047174, 10.66692121639278, 5.728535518483605, 4.924614258303868, 4.723472017634798, 4.459179154869395, 3.3362325401230963]}, \"tinfo\": {\"Term\": [\"robux\", \"beast\", \"mode\", \"chat\", \"time\", \"games\", \"playing\", \"child\", \"https\", \"also\", \"know\", \"im\", \"game\", \"www\", \"pm\", \"get\", \"kids\", \"help\", \"ur\", \"computer\", \"play\", \"account\", \"well\", \"roblox\", \"around\", \"sure\", \"much\", \"com\", \"community\", \"catalog\", \"email\", \"log\", \"authorize\", \"links\", \"gaming\", \"birthday\", \"phishing\", \"address\", \"months\", \"hard\", \"jolt\", \"clarify\", \"folder\", \"gobbled\", \"verify\", \"piece\", \"sites\", \"sessions\", \"thinks\", \"college\", \"string\", \"instructions\", \"customization\", \"within\", \"party\", \"themed\", \"sent\", \"please\", \"three\", \"websites\", \"joke\", \"spend\", \"answer\", \"account\", \"go\", \"parental\", \"new\", \"controls\", \"way\", \"settings\", \"list\", \"even\", \"would\", \"players\", \"restrictions\", \"two\", \"definitely\", \"though\", \"kids\", \"turn\", \"games\", \"game\", \"might\", \"see\", \"roblox\", \"play\", \"kid\", \"robux\", \"get\", \"also\", \"lot\", \"like\", \"make\", \"age\", \"click\", \"playing\", \"chat\", \"survival\", \"aspx\", \"poisionous\", \"questionable\", \"mom\", \"lure\", \"correct\", \"meta\", \"limiteds\", \"valk\", \"bit\", \"responsibly\", \"suggest\", \"local\", \"em\", \"oof\", \"f\\u00e6king\", \"icon\", \"hmm\", \"menu\", \"ideas\", \"everywhere\", \"practically\", \"karen\", \"awh\", \"bobux\", \"cursed\", \"lab\", \"homework\", \"super\", \"mytransactions\", \"premium\", \"robux\", \"money\", \"page\", \"buying\", \"com\", \"purchases\", \"worth\", \"roblox\", \"get\", \"https\", \"membership\", \"say\", \"www\", \"passes\", \"free\", \"click\", \"buy\", \"old\", \"account\", \"got\", \"games\", \"month\", \"game\", \"going\", \"kids\", \"year\", \"play\", \"like\", \"would\", \"kid\", \"also\", \"mode\", \"paid\", \"developers\", \"daughter\", \"switched\", \"desktop\", \"taken\", \"utm\", \"expensive\", \"report\", \"personally\", \"phone\", \"others\", \"lucky\", \"creating\", \"limitations\", \"rage\", \"actual\", \"jn\", \"millions\", \"comfortable\", \"robloxparents\", \"work\", \"enjoys\", \"across\", \"moderation\", \"hidden\", \"understandable\", \"comments\", \"imagne\", \"wanting\", \"bad\", \"minigames\", \"epic\", \"pc\", \"maybe\", \"games\", \"web\", \"playing\", \"want\", \"years\", \"roblox\", \"game\", \"getting\", \"child\", \"around\", \"well\", \"buy\", \"good\", \"mobile\", \"play\", \"would\", \"old\", \"also\", \"robux\", \"think\", \"disable\", \"https\", \"murder\", \"get\", \"started\", \"today\", \"sell\", \"eaten\", \"stomach\", \"continue\", \"section\", \"acc\", \"headless\", \"hit\", \"occupied\", \"selling\", \"korblox\", \"sight\", \"thousand\", \"member\", \"scary\", \"istg\", \"younger\", \"done\", \"blessing\", \"night\", \"studio\", \"comment\", \"messing\", \"rn\", \"crimes\", \"legit\", \"fetish\", \"give\", \"blocky\", \"im\", \"using\", \"remember\", \"people\", \"big\", \"stuff\", \"sure\", \"get\", \"items\", \"need\", \"recently\", \"scam\", \"go\", \"started\", \"homepage\", \"playing\", \"parent\", \"played\", \"roblox\", \"dollars\", \"games\", \"even\", \"many\", \"around\", \"see\", \"premium\", \"free\", \"robux\", \"kids\", \"game\", \"play\", \"like\", \"blizzard\", \"radioactive\", \"beast\", \"catalog\", \"mode\", \"poisonous\", \"primary\", \"shot\", \"instance\", \"factors\", \"unfortunate\", \"person\", \"idiot\", \"lead\", \"restrict\", \"buffet\", \"site\", \"means\", \"guy\", \"arent\", \"event\", \"correction\", \"restrictive\", \"taking\", \"incident\", \"acct\", \"ars\", \"atm\", \"occurred\", \"predators\", \"reccomend\", \"join\", \"anyone\", \"learn\", \"know\", \"chat\", \"www\", \"game\", \"much\", \"com\", \"like\", \"https\", \"make\", \"either\", \"limited\", \"roblox\", \"play\", \"murder\", \"could\", \"set\", \"games\", \"im\", \"people\", \"friends\", \"time\", \"video\", \"ur\", \"symbol\", \"transaction\", \"ownership\", \"linked\", \"uab\", \"becomes\", \"clips\", \"wondering\", \"user\", \"built\", \"ik\", \"ab\", \"gameplay\", \"shit\", \"caused\", \"avoid\", \"send\", \"media\", \"cord\", \"chance\", \"negotiate\", \"added\", \"select\", \"balance\", \"illness\", \"tells\", \"youre\", \"purple\", \"shes\", \"already\", \"history\", \"trade\", \"yes\", \"robux\", \"oh\", \"really\", \"acc\", \"click\", \"option\", \"roblox\", \"link\", \"im\", \"game\", \"like\", \"save\", \"buy\", \"got\", \"much\", \"time\", \"get\", \"beast\", \"options\", \"understand\", \"mode\", \"set\", \"anything\", \"games\", \"pm\", \"isnt\", \"setting\", \"turns\", \"browser\", \"limits\", \"tracks\", \"spends\", \"realistically\", \"internally\", \"vacinate\", \"cause\", \"bro\", \"esrb\", \"pegi\", \"sometime\", \"social\", \"messages\", \"spelling\", \"improves\", \"grammar\", \"skills\", \"inform\", \"labels\", \"rating\", \"org\", \"computer\", \"typing\", \"entertainment\", \"info\", \"time\", \"child\", \"etc\", \"know\", \"chat\", \"recommend\", \"check\", \"pay\", \"https\", \"maybe\", \"play\", \"www\", \"much\", \"disable\", \"game\", \"think\", \"roblox\", \"kids\", \"way\", \"many\", \"often\", \"nothing\", \"good\", \"get\", \"parent\", \"games\", \"parental\", \"en\", \"great\", \"finish\", \"us\", \"hc\", \"described\", \"crap\", \"advice\", \"via\", \"redeemable\", \"exclusive\", \"articles\", \"knee\", \"code\", \"post\", \"stuck\", \"deep\", \"close\", \"location\", \"idea\", \"clickbaited\", \"hot\", \"hear\", \"minute\", \"competive\", \"harder\", \"timed\", \"competitive\", \"warning\", \"ration\", \"save\", \"help\", \"community\", \"guess\", \"let\", \"games\", \"pc\", \"playing\", \"parents\", \"roblox\", \"avatar\", \"kids\", \"robux\", \"play\", \"get\", \"give\", \"good\", \"time\", \"game\", \"com\", \"settings\", \"one\", \"buy\", \"https\", \"since\", \"corp\", \"starters\", \"sum\", \"locations\", \"fedoras\", \"come\", \"google\", \"win\", \"developer\", \"commonsense\", \"hood\", \"hitting\", \"codes\", \"card\", \"default\", \"medieval\", \"chill\", \"apparently\", \"cannot\", \"worked\", \"downloaded\", \"silly\", \"wont\", \"weeks\", \"promo\", \"country\", \"watch\", \"try\", \"usd\", \"face\", \"community\", \"also\", \"fun\", \"every\", \"mobile\", \"roblox\", \"son\", \"around\", \"like\", \"robux\", \"free\", \"game\", \"kids\", \"restricted\", \"needs\", \"games\", \"play\", \"items\", \"put\", \"child\", \"get\", \"would\", \"kid\", \"avatar\", \"yes\", \"money\", \"buy\", \"microsoft\", \"faced\", \"heheh\", \"access\", \"encouraging\", \"activities\", \"confused\", \"retain\", \"display\", \"wrong\", \"discord\", \"casino\", \"parenting\", \"lack\", \"among\", \"indicate\", \"ignorant\", \"knowledgeable\", \"scared\", \"full\", \"subreddit\", \"elsewhere\", \"response\", \"app\", \"press\", \"internet\", \"actually\", \"yeah\", \"hours\", \"following\", \"things\", \"looking\", \"sure\", \"well\", \"restrictions\", \"fine\", \"tradeable\", \"limit\", \"chat\", \"game\", \"find\", \"add\", \"weird\", \"take\", \"account\", \"games\", \"make\", \"anything\", \"button\", \"put\", \"roblox\", \"time\", \"amount\", \"child\", \"want\", \"anyone\", \"kid\", \"always\"], \"Freq\": [42.0, 10.0, 10.0, 12.0, 10.0, 43.0, 14.0, 9.0, 13.0, 13.0, 8.0, 7.0, 39.0, 8.0, 2.0, 25.0, 14.0, 4.0, 3.0, 4.0, 22.0, 25.0, 7.0, 54.0, 8.0, 7.0, 9.0, 12.0, 3.0, 4.0, 4.8840773348849345, 2.040486592690404, 2.0404465157795277, 2.0403926144290114, 2.0404530788973365, 2.040410628092785, 2.040320559773917, 1.9405618672813405, 2.726828547507718, 1.7294446603116191, 1.0688611275641202, 1.0688574969032045, 1.0688536567810822, 1.0688505846833845, 1.0688453481532179, 1.0688373886273643, 1.068825449338584, 1.068824471852953, 1.068834805272482, 1.0688262173630085, 1.0688346656316776, 1.0688247511345619, 1.0688246114937574, 1.0688228659837018, 1.068821609216462, 1.0688172105311218, 1.0687989874061414, 1.0687952869248236, 1.0687922846475282, 1.0687876765009814, 2.0907345208400288, 5.294750886624249, 1.6239823391614243, 14.412973126005777, 5.75951570037397, 3.4529819560319326, 2.0403716683083446, 3.0411052591215064, 3.040895518633228, 2.966112561501544, 2.9675106452356625, 5.220540177509187, 7.868075649183207, 1.9394129027423546, 3.723452509446019, 1.9284022253117459, 1.4572811017844232, 3.623372503462411, 5.823110915535008, 1.7621604061813736, 12.464299105471724, 11.043123250803387, 3.3310157674858116, 3.8215487781616595, 10.951059744121444, 6.296040247839108, 4.013035699764702, 8.146182041066039, 5.6111607511667625, 4.147221575826329, 3.104307525058831, 3.464531367686096, 2.888166181585928, 2.47502852821135, 2.8253727839240232, 2.950945056604171, 2.8185943399945796, 1.8810700175860073, 3.381620061659561, 0.9856796017761925, 0.9856261402660632, 0.9856323862642764, 0.9856202118609796, 0.9856176711159438, 0.9856062377632824, 0.9856015797307167, 0.9855764898734877, 0.9855839003798422, 0.9855647389276969, 0.9855567990994599, 0.9855762781447347, 0.9855556345913185, 0.9855714083834161, 0.9855411311717388, 0.9855574342857188, 0.9854933863379403, 0.9854776125458427, 0.9854756011226893, 0.9854992088786474, 0.9853682546449247, 0.9852172920440448, 0.9851791808685071, 0.9851296363403081, 0.9852547680333236, 0.9852557208127121, 0.9850913134360174, 0.9852605905740307, 1.4273079869251915, 6.657720864692865, 19.959479835145547, 3.5728223472309577, 2.1330158002881756, 2.784977751806617, 4.900156251570628, 1.9978229686595086, 3.5949810316035915, 13.220359427909226, 7.448465085389366, 4.404276078721823, 2.120785712329373, 2.265016185779301, 3.0984510632118685, 1.8319788006471363, 2.697583533079834, 3.281185892493799, 3.4119936099193473, 2.698062251790338, 5.306429005037675, 1.6353338157514492, 6.265173639366971, 1.4525377968599054, 5.0774892451775955, 1.8847665898844117, 2.965442637127771, 1.9266708860318837, 3.3254928865301703, 2.6571380480404443, 2.631127594193466, 2.2497776439693022, 2.191157997959746, 1.887436489459581, 2.2146458967533422, 2.7156232270674967, 1.6007187517965427, 1.600714489418753, 1.6006786144056901, 1.600624624287021, 1.6005981620249101, 1.4175628685827228, 2.0968392802184543, 1.7420789127989422, 1.6006388322129865, 0.8384980667657007, 0.8384930051920755, 0.8384712493054408, 0.838467874923024, 0.8384668981281138, 0.8384657437341292, 0.8384700949114561, 0.8384663653308901, 0.8384652109369054, 0.8384652997364427, 0.8384578405753108, 0.8384581069739226, 0.8384587285706836, 0.838455709386416, 0.8384541109947449, 0.8384546437919685, 0.8384566861813261, 0.8384525126030737, 0.8384515358081636, 2.850944664336396, 1.6012394722831795, 1.6010492636743159, 1.8890162175400371, 2.3627986895607886, 10.420884994994484, 1.992233247698143, 4.44328873177163, 3.024418822799615, 1.8094264354653888, 10.505523741160058, 7.799685335105949, 1.3879134134796995, 2.805589767871072, 2.560101848656176, 2.329446826550222, 2.9493688282691037, 2.4503852251660625, 1.6006834095807034, 3.8292619537339965, 3.2247306878172783, 2.0872095031971654, 2.3115322302993557, 2.6753064611495514, 1.9080599887070138, 1.7463951031081966, 1.841118102326883, 1.6942465092433787, 1.744379176012762, 1.628950611086355, 1.584121541352283, 1.5840362375699428, 2.0104190874646393, 1.3663684095223199, 1.8895101427450915, 1.862651118077495, 2.3383413723625908, 0.8298014821856373, 0.8297917093722076, 0.8297931487788367, 0.829790572998553, 0.8297824668664833, 0.8297759516575302, 0.8297761789322611, 0.8297761031740175, 0.8297688303826279, 0.8297670879430241, 0.8297513302283468, 0.8297570120966199, 0.8297469362502156, 0.8297469362502156, 0.8297401180082878, 0.8297316330850001, 0.829734814931233, 0.8297412543819425, 0.829735875546644, 0.8297092844031259, 1.2760173099579095, 3.028900642142227, 0.7288212737636276, 3.846973308805569, 2.1581582687192, 1.85581681540213, 3.4560141045386, 1.453386297883002, 1.3484091602847235, 2.5829464075852484, 6.344598964204186, 2.3138684293367193, 2.5141501950181357, 1.4201938840469965, 1.28251342783366, 2.88858910212723, 2.218643347409405, 1.1113990405035894, 3.2647348424655616, 1.6895753498195523, 2.1635901347882784, 6.198263128654836, 1.2861575508692917, 5.139967738130509, 2.3233115428901145, 1.583965479370382, 1.8946224605424908, 2.0010879445953456, 2.1326980442621957, 1.8077338157454605, 2.8206303211853276, 1.7901883580346327, 1.8697660292873073, 1.7472734342426828, 1.609243126460211, 1.5246681046890485, 1.5132202312770489, 7.281525016693965, 2.869977024912134, 6.634005222260503, 2.259442993135593, 0.8273805787029362, 0.8273723806832136, 0.8273708600827812, 0.8273673560904804, 0.8273657032639234, 0.8273731079268987, 0.8273655049247366, 0.827353736799651, 0.8273503650334747, 0.8273528773298413, 0.8273452082146169, 0.8273389274737004, 0.8273418364484407, 0.8273280188184243, 0.8273252420698086, 0.8273235231301894, 0.82733079556704, 0.827332911185033, 0.8273219364166947, 0.8273328450719707, 0.8273275560269884, 0.827320812494636, 0.8273042181160039, 0.8273122839096019, 1.212302529303871, 1.5079399132189417, 1.9177626214836136, 1.1634022672413848, 3.12085890686512, 3.826083768769274, 2.9389900705550427, 7.21691034085836, 2.5279183543177943, 2.95807056478104, 3.206804830018952, 2.9757238102185557, 2.141292603988865, 1.2234059536613964, 1.5742973293762237, 4.80478795731341, 2.8666560335677302, 1.4766015283419018, 1.4540947907763528, 1.6018119991832898, 3.0812072010848572, 1.579416596014619, 1.6047849713678564, 1.3940338504444076, 1.5284483173640426, 1.592751439739251, 2.1064504172119993, 0.9986926508799739, 0.979829455479296, 0.5651766689657627, 0.5651712011670658, 0.5651709881359477, 0.5651720887967243, 0.5651699229803574, 0.5651706685892706, 0.565163993614238, 0.5651672245861953, 0.5651609756733987, 0.5651578157118142, 0.5651645972024059, 0.565154691255416, 0.5651597684970631, 0.5651598395074358, 0.5651495430033961, 0.5651529159960987, 0.5651468801144204, 0.5651501465915639, 0.5651437556580221, 0.5651374712400392, 0.5651405956964375, 0.5651419448935185, 0.5651385008904433, 0.5651344532992001, 0.5651298731301617, 0.5651181564186682, 0.5651320034413423, 1.1033639995219933, 0.990227575362283, 1.5721831432696034, 1.491053934495007, 4.364654261479311, 0.6698598763400209, 1.763776655879684, 1.0789482900497702, 1.4456128347841475, 1.1627660935550568, 2.1110300181673547, 0.7539818172715275, 1.0789568112944927, 1.7718075029683915, 1.0965475718269855, 0.6569731979462042, 0.8978097056208268, 0.7063694333950058, 0.7881341139947818, 0.799367670912436, 0.8788857253411284, 0.7747403505296045, 0.6025610738122563, 0.6380081026607198, 0.7048598238820446, 0.6612328971726026, 0.6374074969285298, 0.6783555573283401, 2.090056500232115, 0.5607805151344469, 0.5607758146661793, 0.5607780122877071, 0.5607709921078269, 0.5607618963965039, 0.5607605534055702, 0.5607380277849112, 0.5607474287214465, 0.5607429113883061, 0.560721911893708, 0.5607217898036232, 0.560629978059799, 0.8418207192684899, 0.8105626052889732, 0.4980511789322683, 0.48446438383721696, 0.4837961237576666, 0.4826058980427645, 0.4791224847862209, 0.47644416407184864, 0.47635598450804933, 0.4771053734489976, 0.4752138622865871, 0.7463937659411037, 0.4690059172185469, 1.5803234367540204, 0.45686103654836263, 0.46319397134079116, 0.46240914575270864, 2.09325306283425, 1.7443007983951853, 0.6159767099648565, 1.513976754472193, 1.729304839540534, 1.0188258865511166, 0.9488166848582372, 0.56063376285243, 1.4685734053494175, 0.9631793624426542, 1.7742039566127854, 1.1240270058031514, 1.0712188930328506, 0.8505873978127695, 1.413952132728673, 0.9571047702698162, 1.3394279786521612, 1.0063357045983912, 0.7420862446116698, 0.719319923350342, 0.651091954950712, 0.6629243155261436, 0.7016426830967603, 0.774522039549868, 0.6192868163459234, 0.7052454394112669, 0.6255042539180625, 0.9911556108929482, 0.9910609913414511, 0.7804891610002005, 0.9911532688248419, 0.5191926439561567, 0.5191741416181164, 0.5191804652020036, 0.5191802895468957, 0.5191703943091462, 0.5191710383778755, 0.5191680522410399, 0.5191612016918288, 0.5191672910689052, 0.5191657687246362, 0.5191679351376345, 0.5191522432813219, 0.5191525945915378, 0.519143636181031, 0.5191426408020858, 0.5191227917748843, 0.519029226154035, 0.464742927206039, 0.7259803363062484, 0.4545856413113895, 0.45474619008008094, 0.45402377917267217, 0.45348047792369783, 0.4447057733839392, 0.441360070542292, 0.43815521382139144, 0.7877835906691816, 1.4630955670105947, 0.9911306678676155, 0.753814761819766, 0.9171447949392011, 3.1108257311184846, 0.8689955048778711, 1.6689193226798087, 1.0045659415597867, 2.383715229847509, 1.0268181648451853, 1.2692617948051135, 1.6254579161401819, 1.3321197409880463, 1.3062671735061357, 0.7911020084173895, 0.796411359711117, 0.7780125410811233, 0.9303183425204858, 0.7409125428286037, 0.6562914557325845, 0.6705647799449164, 0.708563722488362, 0.7262073998091605, 0.5987976652370682, 0.5529496112027523, 0.5529470685272742, 0.5529330838121441, 0.5529342998743294, 0.5529364003453766, 0.5529340787721139, 0.5529289381456036, 0.5529303200344505, 0.5529246266524015, 0.5529210890169537, 0.5529268376745565, 0.552920480985861, 0.5529236316924319, 0.5529129082349804, 0.5529164458704283, 0.552915229808243, 0.5529157825637818, 0.5529108077639332, 0.5529101444572867, 0.5529022400530829, 0.5528951095066332, 0.5528961044666029, 0.5528849940802744, 0.5528869287246599, 0.5528872051024293, 0.5528851046313822, 0.5528665320452807, 1.0555897348432801, 1.0556132822292303, 1.055526057405218, 1.0555298161428814, 2.0611053454327286, 1.0555973628697146, 1.0821937483713968, 1.0555901770477112, 2.0963074713658387, 1.1113453016264263, 1.0647780796125328, 1.055635613552995, 1.0631602747017688, 0.7301745895113446, 0.8200497657805458, 0.7149740885739537, 0.5984096638725633, 0.5848921377239531, 0.6822580912274037, 0.6239837280053585, 0.5913334532923639, 0.5708751416705435, 0.5885869768470606, 0.6002799122378668, 0.5731455850458897, 0.5615363921192017, 0.5610271384413669, 0.559797146816578, 0.5585656074762806, 0.5532007280439988, 0.7979432145356978, 0.4179770355847193, 0.4179818328361936, 0.4179792274323757, 0.41796975699627564, 0.4179691366620333, 0.41796822683847784, 0.41796677939191235, 0.41794089077619784, 0.41794299991262185, 0.41791636689581657, 0.41791673909636196, 0.8334765389166864, 0.35022495674651843, 0.3493850655379796, 0.3490576944804783, 0.3460768437012835, 0.3363336673127016, 0.33481943142710163, 0.3312426255412719, 0.33018983562075516, 0.3301399607476695, 0.3286097409164247, 0.417954868974459, 0.4179268298667044, 0.4390119907645098, 0.7145151239706032, 0.37189095727325333, 0.41798108843510273, 0.4179571021777315, 0.7274297384954409, 0.6696073912303075, 0.826978579083585, 0.7745096336187833, 0.7641319380114997, 0.41798232910358746, 0.4179603279157918, 0.5039071409273314, 0.7727693892908836, 1.0777152812196298, 0.5409434111107089, 0.48519645408681406, 0.4858737350126224, 0.4772015036600502, 0.7754464210359787, 0.7391953285809638, 0.5616375133021309, 0.5157149550969509, 0.4848149071721467, 0.4703966024438292, 0.6192688803318498, 0.5147011635224705, 0.4510851012117785, 0.49097449535384907, 0.4849986915303498, 0.4447660044185574, 0.4526310568549711, 0.4305579929983998], \"Total\": [42.0, 10.0, 10.0, 12.0, 10.0, 43.0, 14.0, 9.0, 13.0, 13.0, 8.0, 7.0, 39.0, 8.0, 2.0, 25.0, 14.0, 4.0, 3.0, 4.0, 22.0, 25.0, 7.0, 54.0, 8.0, 7.0, 9.0, 12.0, 3.0, 4.0, 5.976366609659061, 2.594901248360167, 2.5948637800348653, 2.594807383585924, 2.5948874976694882, 2.5948475707320946, 2.594737915377348, 2.5869754167389845, 3.813459424148633, 2.5308608836649635, 1.6232709226449293, 1.6232680684297702, 1.6232644254494244, 1.6232607455298682, 1.6232560454472107, 1.6232528767733518, 1.6232355155606284, 1.6232341824635899, 1.6232501313009653, 1.623237575639903, 1.6232504979228843, 1.6232354859941607, 1.6232358430208873, 1.623234520886349, 1.623241429147594, 1.6232370416074362, 1.6232104857493779, 1.6232075769076657, 1.6232046262057804, 1.6231985093180954, 3.214143461108619, 8.380133322986506, 2.5061927858289534, 25.289800660901037, 10.304143541143551, 5.998219684578923, 3.3491496476647615, 5.263643356083397, 5.409949446495807, 5.364866581300815, 5.4700345897547376, 10.745783227829836, 17.63696498025533, 3.3119464335718365, 7.382821238198757, 3.3482567149552382, 2.391907734871221, 7.634450806407708, 14.992384741555549, 3.1286837709295505, 43.287412826715, 39.02081722645033, 7.446026721790874, 9.458933738209913, 54.22974357752369, 22.243046911808452, 10.862897796342276, 42.038952463933484, 25.302009662670244, 13.876965259885377, 7.334202372650763, 14.209156323927653, 8.657071088608111, 5.295134315844655, 10.067265247029058, 14.387790118173362, 12.563849329835364, 2.4436017512880297, 4.620766236023485, 1.547658172127085, 1.547610831175442, 1.5476220524313322, 1.5476073631895437, 1.5476037161333884, 1.547589026003729, 1.5475871265312398, 1.5475625498471688, 1.5475748258289062, 1.5475471419496982, 1.5475402940434022, 1.547583729504138, 1.547551950625233, 1.5475805227669683, 1.5475372378188768, 1.5475682909545962, 1.547518076916843, 1.5474988623764976, 1.5474960517498582, 1.5475451155990942, 1.5474470945614414, 1.5473833170143443, 1.5473494450354712, 1.5473152441145182, 1.547536716013096, 1.547546804248261, 1.547288798309076, 1.547568087703619, 2.2477754589228245, 12.335907297376872, 42.038952463933484, 6.6755405492378195, 3.9537258608242016, 5.598658257968598, 12.271632861409037, 3.8932784027219567, 8.579072995957693, 54.22974357752369, 25.302009662670244, 13.249310143344218, 4.767661318705087, 5.387355254704584, 8.809117089832803, 3.9732405618621542, 7.292780039351771, 10.067265247029058, 10.811621843314233, 7.962120376975671, 25.289800660901037, 3.61452961076041, 43.287412826715, 3.1744283672352345, 39.02081722645033, 5.524427907198758, 14.992384741555549, 6.3081439511771045, 22.243046911808452, 14.209156323927653, 17.63696498025533, 10.862897796342276, 13.876965259885377, 10.412569725453558, 2.89154205884025, 3.571236064774669, 2.1760889311088434, 2.1760862401857684, 2.176045280646632, 2.1760000807559163, 2.1759802337309115, 2.1189955053383227, 3.216974657480407, 2.732625438144921, 2.685804979037196, 1.4138558617905672, 1.4138509684266098, 1.4138293221779998, 1.4138259116435747, 1.4138264442465638, 1.4138245349025187, 1.4138325012724273, 1.4138276801320826, 1.4138260016756021, 1.4138275790720236, 1.4138166080498629, 1.4138176330341228, 1.413819578487874, 1.4138156137389615, 1.4138134503200084, 1.4138144631468483, 1.413821023863013, 1.413814176961584, 1.41381316242404, 5.1087533894909205, 3.0719684069360635, 3.0719908100865263, 3.9118923355808555, 5.4450890125311755, 43.287412826715, 4.694842273815077, 14.387790118173362, 8.600735580050989, 4.19532060769931, 54.22974357752369, 39.02081722645033, 3.080561114302593, 9.317873028659001, 8.114421100379472, 7.011925542367428, 10.811621843314233, 9.335565937255902, 4.398824371695977, 22.243046911808452, 17.63696498025533, 7.962120376975671, 13.876965259885377, 42.038952463933484, 10.072092451157527, 5.301614121741619, 13.249310143344218, 5.087781401034781, 25.302009662670244, 7.200595893352716, 2.160284719295062, 2.1602071080928598, 2.9740293284069534, 2.1974663434530664, 3.0440765161240355, 3.0516474571894574, 3.942088000999922, 1.4059513293228436, 1.4059387644409331, 1.4059472513585858, 1.4059431508769753, 1.4059325635917688, 1.4059238737704556, 1.4059260843473593, 1.4059279859713643, 1.4059261238798282, 1.4059245719442364, 1.4059035881002788, 1.4059147028783205, 1.4059052090859196, 1.4059053476403862, 1.4058947403524795, 1.405881024450633, 1.4058881858177164, 1.4058997247008276, 1.405895024962033, 1.405870465937992, 2.2176320246486094, 5.590567272483628, 1.4230842433162003, 7.850953196504085, 4.679186811744688, 3.9658185217233135, 8.980142816116837, 2.943792012079654, 2.717817647990783, 7.0001067023918155, 25.302009662670244, 6.269644785589633, 7.1340556560326815, 3.179100482647288, 2.8037761754337227, 10.304143541143551, 7.200595893352716, 2.296435531254886, 14.387790118173362, 4.871383564182466, 7.652997850120195, 54.22974357752369, 3.142243337430486, 43.287412826715, 10.745783227829836, 5.011957084467539, 8.114421100379472, 9.458933738209913, 12.335907297376872, 7.292780039351771, 42.038952463933484, 14.992384741555549, 39.02081722645033, 22.243046911808452, 14.209156323927653, 2.1385037508913456, 2.1348759248141516, 10.365993605476257, 4.094877810782313, 10.412569725453558, 3.762434580880118, 1.4037476311072807, 1.4037399712231917, 1.403738395218132, 1.4037348293471719, 1.403734073310873, 1.4037481350060748, 1.4037411249400553, 1.403722093855738, 1.4037218369836297, 1.4037288642024481, 1.4037179287093764, 1.4037075754946566, 1.4037186628439715, 1.403697253100951, 1.4036944606881434, 1.4036929546810157, 1.4037054282505472, 1.4037104103266222, 1.4036919806590755, 1.4037123748544913, 1.403706923022563, 1.4037026144550169, 1.4036751852245926, 1.4036926266620005, 2.120433864988336, 2.8713793818907423, 4.022476211979781, 2.1607671592486284, 8.301981674693218, 12.563849329835364, 8.809117089832803, 39.02081722645033, 9.189041451536228, 12.271632861409037, 14.209156323927653, 13.249310143344218, 8.657071088608111, 2.951527612025959, 5.152239283569157, 54.22974357752369, 22.243046911808452, 5.087781401034781, 5.39628760197976, 7.319989350695814, 43.287412826715, 7.850953196504085, 8.980142816116837, 7.486511435295082, 10.290494093427819, 2.1929794849160213, 3.3714309267507607, 1.7163594762781196, 1.7251102682440413, 1.1653832525761103, 1.1653774967154793, 1.1653778162580068, 1.165383872026454, 1.1653803744423796, 1.1653831182141667, 1.1653708689261555, 1.165378128108824, 1.1653681512533633, 1.1653653756424553, 1.1653803979770232, 1.165361911273342, 1.1653737990362394, 1.1653776402799862, 1.1653571490691745, 1.165364278644496, 1.1653543577353849, 1.165362238277978, 1.165351786828513, 1.1653455501796952, 1.1653531124718153, 1.1653586135221505, 1.1653541442839221, 1.1653523261756444, 1.165347198631716, 1.1653277862032545, 1.1653569583747798, 2.510319635958861, 2.229988197500935, 4.993008250762041, 5.192637976564249, 42.038952463933484, 1.5726139158116033, 9.662020540942226, 3.942088000999922, 10.067265247029058, 7.348290809680688, 54.22974357752369, 2.7177307621646474, 7.850953196504085, 39.02081722645033, 14.209156323927653, 2.093589660057711, 10.811621843314233, 3.61452961076041, 9.189041451536228, 10.290494093427819, 25.302009662670244, 10.365993605476257, 1.9797130879273788, 3.59683137350629, 10.412569725453558, 7.319989350695814, 6.017711765678881, 43.287412826715, 2.69070992230196, 1.1613873257526255, 1.1613826918375656, 1.1613901532167896, 1.161378213860493, 1.1613701289043996, 1.1613686429106422, 1.1613468312032291, 1.1613774676939606, 1.161381620889407, 1.1613561607643126, 1.1613571425266909, 1.1613337069627163, 1.8615330507676477, 1.8851194379061, 1.1924656709098471, 1.1991444037597512, 1.1994783402956442, 1.2000911152297793, 1.2018183943646525, 1.2031111236160534, 1.2031332698576664, 1.2318792339093414, 1.2294560555283438, 1.9412759634924635, 1.23663488992251, 4.190026990014385, 1.212764993074964, 1.2418651568735584, 1.2422793035425852, 10.290494093427819, 9.317873028659001, 1.9205993747906676, 8.301981674693218, 12.563849329835364, 4.880317216839753, 4.59503494653034, 1.66399283798689, 13.249310143344218, 5.4450890125311755, 22.243046911808452, 8.809117089832803, 9.189041451536228, 5.301614121741619, 39.02081722645033, 10.072092451157527, 54.22974357752369, 14.992384741555549, 5.409949446495807, 5.011957084467539, 2.8776725030986663, 3.52842499431587, 9.335565937255902, 25.302009662670244, 4.871383564182466, 43.287412826715, 5.998219684578923, 1.5955654501867396, 1.5955715295807573, 1.5827717736137819, 2.0982245851348362, 1.1235872058866287, 1.1235710934062073, 1.1235865444122377, 1.123589525826109, 1.123573487957867, 1.123576932164511, 1.1235726331304525, 1.1235599566751115, 1.1235731546071381, 1.123570147653549, 1.123582011527345, 1.1235613559272049, 1.123566291729051, 1.1235810837627906, 1.123580279169366, 1.123570006722998, 1.1235347526943003, 1.1197093096241373, 1.7541844806410638, 1.1181839734475882, 1.1191542704173671, 1.11819083905838, 1.1182672011788057, 1.1181398324494662, 1.1166277020491953, 1.1174309046219792, 2.093589660057711, 4.296173250842462, 3.355099620872256, 2.5195596790570796, 3.931631258231449, 43.287412826715, 3.9118923355808555, 14.387790118173362, 5.541135365082494, 54.22974357752369, 6.339778596268977, 14.992384741555549, 42.038952463933484, 22.243046911808452, 25.302009662670244, 5.590567272483628, 9.335565937255902, 10.290494093427819, 39.02081722645033, 12.271632861409037, 5.364866581300815, 6.520743381868548, 10.811621843314233, 13.249310143344218, 5.568363807624471, 1.154271138034148, 1.1542684641170964, 1.154255745451651, 1.154261134180445, 1.1542670892556481, 1.1542641342855804, 1.1542566177416478, 1.154263644247078, 1.1542528039767779, 1.1542499907897117, 1.1542625580436463, 1.1542522676941807, 1.1542610019688306, 1.1542424870013945, 1.1542501483814507, 1.1542503539128388, 1.1542521213017078, 1.1542490657950693, 1.154249085291066, 1.1542417598747705, 1.1542310291258473, 1.1542375080629999, 1.1542188035747858, 1.1542282393535612, 1.1542320574213716, 1.1542315790914826, 1.1542172532207626, 2.4675002708054428, 2.4763704567092164, 2.5338748618750047, 3.355099620872256, 13.876965259885377, 3.915821675720812, 4.303691010389765, 4.398824371695977, 54.22974357752369, 8.65185652425158, 8.114421100379472, 14.209156323927653, 42.038952463933484, 7.292780039351771, 39.02081722645033, 14.992384741555549, 2.6820862893967843, 2.6791356266881197, 43.287412826715, 22.243046911808452, 6.269644785589633, 3.2833128099030082, 9.317873028659001, 25.302009662670244, 17.63696498025533, 10.862897796342276, 6.339778596268977, 5.192637976564249, 6.6755405492378195, 10.811621843314233, 1.4115533835085448, 1.0315730656782933, 1.0315930849219666, 1.0315889993636598, 1.0315665611038425, 1.0315677439973485, 1.0315813615192122, 1.0315796682052483, 1.0315419331433453, 1.0315791145085342, 1.0315719215650807, 1.0315736608528168, 2.1841870496111064, 1.055420157479273, 1.0557367229124652, 1.055834895061071, 1.0568966677642606, 1.0603191190858738, 1.0608483779972095, 1.0621074618699984, 1.062461269700633, 1.0624958179029678, 1.0630261511516115, 1.534212160205795, 1.5895428463418129, 1.7621688457255786, 2.969901649404598, 1.556490932651197, 1.7937734328894441, 1.7937701580836733, 3.9081351152652317, 4.287992434934992, 7.0001067023918155, 7.011925542367428, 7.382821238198757, 1.9078035233781474, 1.927591883103413, 3.3860198515612536, 12.563849329835364, 39.02081722645033, 4.651071691403495, 3.2310534597188907, 3.2808018652930495, 3.0899563430404395, 25.289800660901037, 43.287412826715, 8.657071088608111, 6.017711765678881, 4.182419756940129, 3.2833128099030082, 54.22974357752369, 10.290494093427819, 2.5926727704043286, 9.317873028659001, 8.600735580050989, 4.022476211979781, 10.862897796342276, 3.373374272786508], \"Category\": [\"Default\", \"Default\", \"Default\", \"Default\", \"Default\", \"Default\", \"Default\", \"Default\", \"Default\", \"Default\", \"Default\", \"Default\", \"Default\", \"Default\", \"Default\", \"Default\", \"Default\", \"Default\", \"Default\", \"Default\", \"Default\", \"Default\", \"Default\", \"Default\", \"Default\", \"Default\", \"Default\", \"Default\", \"Default\", \"Default\", \"Topic1\", \"Topic1\", \"Topic1\", \"Topic1\", \"Topic1\", \"Topic1\", \"Topic1\", \"Topic1\", \"Topic1\", \"Topic1\", \"Topic1\", \"Topic1\", \"Topic1\", \"Topic1\", \"Topic1\", \"Topic1\", \"Topic1\", \"Topic1\", \"Topic1\", \"Topic1\", \"Topic1\", \"Topic1\", \"Topic1\", \"Topic1\", \"Topic1\", \"Topic1\", \"Topic1\", \"Topic1\", \"Topic1\", \"Topic1\", \"Topic1\", \"Topic1\", \"Topic1\", \"Topic1\", \"Topic1\", \"Topic1\", \"Topic1\", \"Topic1\", \"Topic1\", \"Topic1\", \"Topic1\", \"Topic1\", \"Topic1\", \"Topic1\", \"Topic1\", \"Topic1\", \"Topic1\", \"Topic1\", \"Topic1\", \"Topic1\", \"Topic1\", \"Topic1\", \"Topic1\", \"Topic1\", \"Topic1\", \"Topic1\", \"Topic1\", \"Topic1\", \"Topic1\", \"Topic1\", \"Topic1\", \"Topic1\", \"Topic1\", \"Topic1\", \"Topic1\", \"Topic1\", \"Topic1\", \"Topic2\", \"Topic2\", \"Topic2\", \"Topic2\", \"Topic2\", \"Topic2\", \"Topic2\", \"Topic2\", \"Topic2\", \"Topic2\", \"Topic2\", \"Topic2\", \"Topic2\", \"Topic2\", \"Topic2\", \"Topic2\", \"Topic2\", \"Topic2\", \"Topic2\", \"Topic2\", \"Topic2\", \"Topic2\", \"Topic2\", \"Topic2\", \"Topic2\", \"Topic2\", \"Topic2\", \"Topic2\", \"Topic2\", \"Topic2\", \"Topic2\", \"Topic2\", \"Topic2\", \"Topic2\", \"Topic2\", \"Topic2\", \"Topic2\", \"Topic2\", \"Topic2\", \"Topic2\", \"Topic2\", \"Topic2\", \"Topic2\", \"Topic2\", \"Topic2\", \"Topic2\", \"Topic2\", \"Topic2\", \"Topic2\", \"Topic2\", \"Topic2\", \"Topic2\", \"Topic2\", \"Topic2\", \"Topic2\", \"Topic2\", \"Topic2\", \"Topic2\", \"Topic2\", \"Topic2\", \"Topic2\", \"Topic2\", \"Topic2\", \"Topic2\", \"Topic3\", \"Topic3\", \"Topic3\", \"Topic3\", \"Topic3\", \"Topic3\", \"Topic3\", \"Topic3\", \"Topic3\", \"Topic3\", \"Topic3\", \"Topic3\", \"Topic3\", \"Topic3\", \"Topic3\", \"Topic3\", \"Topic3\", \"Topic3\", \"Topic3\", \"Topic3\", \"Topic3\", \"Topic3\", \"Topic3\", \"Topic3\", \"Topic3\", \"Topic3\", \"Topic3\", \"Topic3\", \"Topic3\", \"Topic3\", \"Topic3\", \"Topic3\", \"Topic3\", \"Topic3\", \"Topic3\", \"Topic3\", \"Topic3\", \"Topic3\", \"Topic3\", \"Topic3\", \"Topic3\", \"Topic3\", \"Topic3\", \"Topic3\", \"Topic3\", \"Topic3\", \"Topic3\", \"Topic3\", \"Topic3\", \"Topic3\", \"Topic3\", \"Topic3\", \"Topic3\", \"Topic3\", \"Topic3\", \"Topic3\", \"Topic3\", \"Topic3\", \"Topic3\", \"Topic3\", \"Topic4\", \"Topic4\", \"Topic4\", \"Topic4\", \"Topic4\", \"Topic4\", \"Topic4\", \"Topic4\", \"Topic4\", \"Topic4\", \"Topic4\", \"Topic4\", \"Topic4\", \"Topic4\", \"Topic4\", \"Topic4\", \"Topic4\", \"Topic4\", \"Topic4\", \"Topic4\", \"Topic4\", \"Topic4\", \"Topic4\", \"Topic4\", \"Topic4\", \"Topic4\", \"Topic4\", \"Topic4\", \"Topic4\", \"Topic4\", \"Topic4\", \"Topic4\", \"Topic4\", \"Topic4\", \"Topic4\", \"Topic4\", \"Topic4\", \"Topic4\", \"Topic4\", \"Topic4\", \"Topic4\", \"Topic4\", \"Topic4\", \"Topic4\", \"Topic4\", \"Topic4\", \"Topic4\", \"Topic4\", \"Topic4\", \"Topic4\", \"Topic4\", \"Topic4\", \"Topic4\", \"Topic4\", \"Topic4\", \"Topic4\", \"Topic4\", \"Topic4\", \"Topic4\", \"Topic4\", \"Topic4\", \"Topic4\", \"Topic5\", \"Topic5\", \"Topic5\", \"Topic5\", \"Topic5\", \"Topic5\", \"Topic5\", \"Topic5\", \"Topic5\", \"Topic5\", \"Topic5\", \"Topic5\", \"Topic5\", \"Topic5\", \"Topic5\", \"Topic5\", \"Topic5\", \"Topic5\", \"Topic5\", \"Topic5\", \"Topic5\", \"Topic5\", \"Topic5\", \"Topic5\", \"Topic5\", \"Topic5\", \"Topic5\", \"Topic5\", \"Topic5\", \"Topic5\", \"Topic5\", \"Topic5\", \"Topic5\", \"Topic5\", \"Topic5\", \"Topic5\", \"Topic5\", \"Topic5\", \"Topic5\", \"Topic5\", \"Topic5\", \"Topic5\", \"Topic5\", \"Topic5\", \"Topic5\", \"Topic5\", \"Topic5\", \"Topic5\", \"Topic5\", \"Topic5\", \"Topic5\", \"Topic5\", \"Topic5\", \"Topic5\", \"Topic5\", \"Topic6\", \"Topic6\", \"Topic6\", \"Topic6\", \"Topic6\", \"Topic6\", \"Topic6\", \"Topic6\", \"Topic6\", \"Topic6\", \"Topic6\", \"Topic6\", \"Topic6\", \"Topic6\", \"Topic6\", \"Topic6\", \"Topic6\", \"Topic6\", \"Topic6\", \"Topic6\", \"Topic6\", \"Topic6\", \"Topic6\", \"Topic6\", \"Topic6\", \"Topic6\", \"Topic6\", \"Topic6\", \"Topic6\", \"Topic6\", \"Topic6\", \"Topic6\", \"Topic6\", \"Topic6\", \"Topic6\", \"Topic6\", \"Topic6\", \"Topic6\", \"Topic6\", \"Topic6\", \"Topic6\", \"Topic6\", \"Topic6\", \"Topic6\", \"Topic6\", \"Topic6\", \"Topic6\", \"Topic6\", \"Topic6\", \"Topic6\", \"Topic6\", \"Topic6\", \"Topic6\", \"Topic6\", \"Topic6\", \"Topic6\", \"Topic6\", \"Topic6\", \"Topic6\", \"Topic7\", \"Topic7\", \"Topic7\", \"Topic7\", \"Topic7\", \"Topic7\", \"Topic7\", \"Topic7\", \"Topic7\", \"Topic7\", \"Topic7\", \"Topic7\", \"Topic7\", \"Topic7\", \"Topic7\", \"Topic7\", \"Topic7\", \"Topic7\", \"Topic7\", \"Topic7\", \"Topic7\", \"Topic7\", \"Topic7\", \"Topic7\", \"Topic7\", \"Topic7\", \"Topic7\", \"Topic7\", \"Topic7\", \"Topic7\", \"Topic7\", \"Topic7\", \"Topic7\", \"Topic7\", \"Topic7\", \"Topic7\", \"Topic7\", \"Topic7\", \"Topic7\", \"Topic7\", \"Topic7\", \"Topic7\", \"Topic7\", \"Topic7\", \"Topic7\", \"Topic7\", \"Topic7\", \"Topic7\", \"Topic7\", \"Topic7\", \"Topic7\", \"Topic7\", \"Topic7\", \"Topic7\", \"Topic7\", \"Topic7\", \"Topic7\", \"Topic8\", \"Topic8\", \"Topic8\", \"Topic8\", \"Topic8\", \"Topic8\", \"Topic8\", \"Topic8\", \"Topic8\", \"Topic8\", \"Topic8\", \"Topic8\", \"Topic8\", \"Topic8\", \"Topic8\", \"Topic8\", \"Topic8\", \"Topic8\", \"Topic8\", \"Topic8\", \"Topic8\", \"Topic8\", \"Topic8\", \"Topic8\", \"Topic8\", \"Topic8\", \"Topic8\", \"Topic8\", \"Topic8\", \"Topic8\", \"Topic8\", \"Topic8\", \"Topic8\", \"Topic8\", \"Topic8\", \"Topic8\", \"Topic8\", \"Topic8\", \"Topic8\", \"Topic8\", \"Topic8\", \"Topic8\", \"Topic8\", \"Topic8\", \"Topic8\", \"Topic8\", \"Topic8\", \"Topic8\", \"Topic8\", \"Topic8\", \"Topic8\", \"Topic8\", \"Topic8\", \"Topic8\", \"Topic8\", \"Topic9\", \"Topic9\", \"Topic9\", \"Topic9\", \"Topic9\", \"Topic9\", \"Topic9\", \"Topic9\", \"Topic9\", \"Topic9\", \"Topic9\", \"Topic9\", \"Topic9\", \"Topic9\", \"Topic9\", \"Topic9\", \"Topic9\", \"Topic9\", \"Topic9\", \"Topic9\", \"Topic9\", \"Topic9\", \"Topic9\", \"Topic9\", \"Topic9\", \"Topic9\", \"Topic9\", \"Topic9\", \"Topic9\", \"Topic9\", \"Topic9\", \"Topic9\", \"Topic9\", \"Topic9\", \"Topic9\", \"Topic9\", \"Topic9\", \"Topic9\", \"Topic9\", \"Topic9\", \"Topic9\", \"Topic9\", \"Topic9\", \"Topic9\", \"Topic9\", \"Topic9\", \"Topic9\", \"Topic9\", \"Topic9\", \"Topic9\", \"Topic9\", \"Topic9\", \"Topic9\", \"Topic9\", \"Topic9\", \"Topic9\", \"Topic9\", \"Topic10\", \"Topic10\", \"Topic10\", \"Topic10\", \"Topic10\", \"Topic10\", \"Topic10\", \"Topic10\", \"Topic10\", \"Topic10\", \"Topic10\", \"Topic10\", \"Topic10\", \"Topic10\", \"Topic10\", \"Topic10\", \"Topic10\", \"Topic10\", \"Topic10\", \"Topic10\", \"Topic10\", \"Topic10\", \"Topic10\", \"Topic10\", \"Topic10\", \"Topic10\", \"Topic10\", \"Topic10\", \"Topic10\", \"Topic10\", \"Topic10\", \"Topic10\", \"Topic10\", \"Topic10\", \"Topic10\", \"Topic10\", \"Topic10\", \"Topic10\", \"Topic10\", \"Topic10\", \"Topic10\", \"Topic10\", \"Topic10\", \"Topic10\", \"Topic10\", \"Topic10\", \"Topic10\", \"Topic10\", \"Topic10\", \"Topic10\", \"Topic10\", \"Topic10\", \"Topic10\", \"Topic10\", \"Topic10\", \"Topic10\", \"Topic10\", \"Topic10\"], \"logprob\": [30.0, 29.0, 28.0, 27.0, 26.0, 25.0, 24.0, 23.0, 22.0, 21.0, 20.0, 19.0, 18.0, 17.0, 16.0, 15.0, 14.0, 13.0, 12.0, 11.0, 10.0, 9.0, 8.0, 7.0, 6.0, 5.0, 4.0, 3.0, 2.0, 1.0, -4.8105, -5.6833, -5.6833, -5.6834, -5.6833, -5.6834, -5.6834, -5.7335, -5.3934, -5.8487, -6.3299, -6.3299, -6.3299, -6.3299, -6.3299, -6.3299, -6.33, -6.33, -6.3299, -6.33, -6.3299, -6.33, -6.33, -6.33, -6.33, -6.33, -6.33, -6.33, -6.33, -6.33, -5.659, -4.7298, -5.9116, -3.7284, -4.6457, -5.1573, -5.6834, -5.2843, -5.2844, -5.3093, -5.3088, -4.7439, -4.3337, -5.7341, -5.0819, -5.7398, -6.0199, -5.1091, -4.6347, -5.83, -3.8736, -3.9947, -5.1932, -5.0559, -4.0031, -4.5566, -5.007, -4.299, -4.6718, -4.9741, -5.2637, -5.1539, -5.3359, -5.4903, -5.3579, -5.3144, -5.3603, -5.4878, -4.9012, -6.134, -6.1341, -6.1341, -6.1341, -6.1341, -6.1341, -6.1341, -6.1341, -6.1341, -6.1341, -6.1342, -6.1341, -6.1342, -6.1341, -6.1342, -6.1342, -6.1342, -6.1342, -6.1342, -6.1342, -6.1343, -6.1345, -6.1345, -6.1346, -6.1345, -6.1345, -6.1346, -6.1345, -5.7638, -4.2238, -3.1259, -4.8462, -5.3621, -5.0954, -4.5303, -5.4275, -4.8401, -3.5378, -4.1116, -4.637, -5.3678, -5.302, -4.9887, -5.5142, -5.1272, -4.9314, -4.8923, -5.1271, -4.4507, -5.6278, -4.2846, -5.7463, -4.4948, -5.4858, -5.0326, -5.4638, -4.918, -5.1424, -5.1522, -5.3088, -5.3352, -5.4844, -5.1487, -4.9448, -5.4734, -5.4734, -5.4734, -5.4734, -5.4734, -5.5949, -5.2034, -5.3887, -5.4734, -6.12, -6.12, -6.12, -6.12, -6.12, -6.12, -6.12, -6.12, -6.12, -6.12, -6.12, -6.12, -6.12, -6.12, -6.12, -6.12, -6.12, -6.12, -6.12, -4.8962, -5.473, -5.4732, -5.3078, -5.084, -3.6, -5.2546, -4.4524, -4.8371, -5.3508, -3.5919, -3.8897, -5.616, -4.9122, -5.0038, -5.0982, -4.8622, -5.0476, -5.4734, -4.6012, -4.773, -5.208, -5.1059, -4.9598, -5.2977, -5.3863, -5.3335, -5.4166, -5.3874, -5.4559, -5.325, -5.325, -5.0866, -5.4728, -5.1487, -5.163, -4.9355, -5.9716, -5.9716, -5.9716, -5.9716, -5.9716, -5.9716, -5.9716, -5.9716, -5.9716, -5.9716, -5.9716, -5.9716, -5.9716, -5.9716, -5.9716, -5.9716, -5.9716, -5.9716, -5.9716, -5.9717, -5.5412, -4.6768, -6.1013, -4.4377, -5.0157, -5.1667, -4.5449, -5.4111, -5.4861, -4.8361, -3.9374, -4.9461, -4.8631, -5.4342, -5.5362, -4.7242, -4.9881, -5.6794, -4.6018, -5.2605, -5.0132, -3.9607, -5.5333, -4.1479, -4.942, -5.3251, -5.146, -5.0913, -5.0276, -5.1929, -4.748, -5.2027, -5.1592, -5.2269, -5.3092, -5.227, -5.2346, -3.6635, -4.5945, -3.7566, -4.8337, -5.8383, -5.8383, -5.8383, -5.8383, -5.8383, -5.8383, -5.8383, -5.8383, -5.8383, -5.8383, -5.8383, -5.8384, -5.8383, -5.8384, -5.8384, -5.8384, -5.8384, -5.8384, -5.8384, -5.8384, -5.8384, -5.8384, -5.8384, -5.8384, -5.4563, -5.2381, -4.9977, -5.4975, -4.5107, -4.307, -4.5707, -3.6724, -4.7214, -4.5643, -4.4835, -4.5583, -4.8874, -5.4472, -5.195, -4.0792, -4.5957, -5.2591, -5.2744, -5.1777, -4.5235, -5.1918, -5.1758, -5.3166, -5.2246, -4.5617, -4.2821, -5.0284, -5.0475, -5.5977, -5.5977, -5.5977, -5.5977, -5.5978, -5.5978, -5.5978, -5.5978, -5.5978, -5.5978, -5.5978, -5.5978, -5.5978, -5.5978, -5.5978, -5.5978, -5.5978, -5.5978, -5.5978, -5.5978, -5.5978, -5.5978, -5.5978, -5.5978, -5.5978, -5.5978, -5.5978, -4.9288, -5.0369, -4.5747, -4.6276, -3.5536, -5.4278, -4.4597, -4.9511, -4.6586, -4.8763, -4.2799, -5.3095, -4.9511, -4.4551, -4.935, -5.4472, -5.1349, -5.3747, -5.2652, -5.2511, -5.1562, -5.2824, -5.5337, -5.4765, -5.3769, -5.4408, -5.4775, -5.4152, -4.1387, -5.4543, -5.4543, -5.4543, -5.4544, -5.4544, -5.4544, -5.4544, -5.4544, -5.4544, -5.4544, -5.4544, -5.4546, -5.0481, -5.0859, -5.573, -5.6006, -5.602, -5.6045, -5.6117, -5.6173, -5.6175, -5.6159, -5.6199, -5.1684, -5.633, -4.4183, -5.6593, -5.6455, -5.6472, -4.1372, -4.3196, -5.3605, -4.4612, -4.3282, -4.8573, -4.9284, -5.4546, -4.4916, -4.9134, -4.3026, -4.759, -4.8071, -5.0377, -4.5295, -4.9198, -4.5837, -4.8696, -5.1742, -5.2054, -5.305, -5.287, -5.2302, -5.1314, -5.3551, -5.2251, -5.3451, -4.8431, -4.8432, -5.082, -4.8431, -5.4897, -5.4897, -5.4897, -5.4897, -5.4897, -5.4897, -5.4897, -5.4897, -5.4897, -5.4897, -5.4897, -5.4898, -5.4898, -5.4898, -5.4898, -5.4898, -5.49, -5.6005, -5.1544, -5.6226, -5.6222, -5.6238, -5.625, -5.6445, -5.6521, -5.6594, -5.0727, -4.4537, -4.8431, -5.1168, -4.9207, -3.6993, -4.9746, -4.322, -4.8297, -3.9655, -4.8077, -4.5958, -4.3484, -4.5474, -4.567, -5.0685, -5.0618, -5.0852, -4.9064, -5.1341, -5.2554, -5.2338, -5.1787, -5.1541, -5.347, -5.3691, -5.3691, -5.3691, -5.3691, -5.3691, -5.3691, -5.3692, -5.3692, -5.3692, -5.3692, -5.3692, -5.3692, -5.3692, -5.3692, -5.3692, -5.3692, -5.3692, -5.3692, -5.3692, -5.3692, -5.3692, -5.3692, -5.3692, -5.3692, -5.3692, -5.3692, -5.3693, -4.7225, -4.7225, -4.7226, -4.7226, -4.0534, -4.7225, -4.6976, -4.7225, -4.0365, -4.6711, -4.7139, -4.7225, -4.7154, -5.0911, -4.975, -5.1121, -5.2901, -5.313, -5.159, -5.2483, -5.302, -5.3372, -5.3067, -5.287, -5.3332, -5.3537, -5.3546, -5.3568, -5.359, -5.3687, -4.7122, -5.3588, -5.3588, -5.3588, -5.3589, -5.3589, -5.3589, -5.3589, -5.3589, -5.3589, -5.359, -5.359, -4.6687, -5.5357, -5.5381, -5.539, -5.5476, -5.5762, -5.5807, -5.5914, -5.5946, -5.5947, -5.5994, -5.3589, -5.359, -5.3097, -4.8227, -5.4757, -5.3588, -5.3589, -4.8047, -4.8876, -4.6765, -4.742, -4.7555, -5.3588, -5.3589, -5.1719, -4.7443, -4.4117, -5.1009, -5.2097, -5.2083, -5.2263, -4.7408, -4.7887, -5.0634, -5.1487, -5.2105, -5.2407, -4.9657, -5.1507, -5.2826, -5.1979, -5.2101, -5.2967, -5.2792, -5.3292], \"loglift\": [30.0, 29.0, 28.0, 27.0, 26.0, 25.0, 24.0, 23.0, 22.0, 21.0, 20.0, 19.0, 18.0, 17.0, 16.0, 15.0, 14.0, 13.0, 12.0, 11.0, 10.0, 9.0, 8.0, 7.0, 6.0, 5.0, 4.0, 3.0, 2.0, 1.0, 1.2885, 1.25, 1.25, 1.2499, 1.2499, 1.2499, 1.2499, 1.2028, 1.1549, 1.1096, 1.0725, 1.0725, 1.0725, 1.0725, 1.0725, 1.0725, 1.0725, 1.0725, 1.0725, 1.0725, 1.0725, 1.0725, 1.0725, 1.0725, 1.0724, 1.0724, 1.0724, 1.0724, 1.0724, 1.0724, 1.0603, 1.0312, 1.0564, 0.928, 0.9086, 0.9381, 0.9947, 0.9417, 0.9142, 0.8977, 0.8788, 0.7684, 0.6831, 0.9552, 0.8058, 0.9386, 0.9948, 0.745, 0.5446, 0.9162, 0.2453, 0.228, 0.6859, 0.584, -0.1095, 0.2282, 0.4945, -0.1507, -0.0158, 0.2825, 0.6306, 0.079, 0.3926, 0.7298, 0.2197, -0.0939, -0.0043, 1.5056, 1.455, 1.3161, 1.316, 1.316, 1.316, 1.316, 1.316, 1.316, 1.316, 1.316, 1.316, 1.316, 1.316, 1.316, 1.316, 1.316, 1.316, 1.316, 1.316, 1.316, 1.316, 1.3159, 1.3158, 1.3158, 1.3157, 1.3157, 1.3157, 1.3157, 1.3157, 1.3131, 1.1505, 1.0223, 1.1421, 1.1501, 1.0689, 0.8492, 1.1, 0.8974, 0.3558, 0.5444, 0.6659, 0.9572, 0.9008, 0.7223, 0.993, 0.7727, 0.6461, 0.6139, 0.6851, 0.2057, 0.9741, -0.1656, 0.9854, -0.272, 0.6919, 0.1467, 0.5812, -0.1332, 0.0906, -0.1354, 0.1927, -0.0786, 0.0594, 1.6763, 1.6691, 1.6359, 1.6359, 1.6359, 1.6359, 1.6359, 1.541, 1.515, 1.4928, 1.4254, 1.4205, 1.4205, 1.4205, 1.4205, 1.4205, 1.4205, 1.4205, 1.4205, 1.4205, 1.4205, 1.4205, 1.4205, 1.4205, 1.4205, 1.4205, 1.4205, 1.4205, 1.4205, 1.4205, 1.3597, 1.2915, 1.2913, 1.215, 1.1081, 0.519, 1.0858, 0.768, 0.8979, 1.102, 0.3017, 0.333, 1.1457, 0.7427, 0.7894, 0.841, 0.644, 0.6054, 0.9321, 0.1837, 0.2439, 0.6041, 0.1507, -0.8115, 0.2793, 0.8326, -0.0306, 0.8434, -0.7315, 0.4568, 1.7916, 1.7916, 1.7103, 1.6267, 1.625, 1.6082, 1.5796, 1.5746, 1.5746, 1.5746, 1.5746, 1.5745, 1.5745, 1.5745, 1.5745, 1.5745, 1.5745, 1.5745, 1.5745, 1.5745, 1.5745, 1.5745, 1.5745, 1.5745, 1.5745, 1.5745, 1.5745, 1.5491, 1.489, 1.4327, 1.3885, 1.328, 1.3425, 1.1469, 1.396, 1.4009, 1.1048, 0.7186, 1.105, 1.0589, 1.296, 1.3197, 0.8301, 0.9246, 1.3761, 0.6186, 1.0429, 0.8385, -0.0671, 1.2086, -0.029, 0.5703, 0.9499, 0.6472, 0.5486, 0.3467, 0.707, -0.5998, -0.0234, -0.9364, -0.4421, -0.0763, 1.8997, 1.8939, 1.8848, 1.8826, 1.7872, 1.7281, 1.7094, 1.7094, 1.7094, 1.7094, 1.7094, 1.7094, 1.7094, 1.7094, 1.7094, 1.7094, 1.7094, 1.7094, 1.7094, 1.7094, 1.7094, 1.7094, 1.7094, 1.7094, 1.7094, 1.7094, 1.7094, 1.7093, 1.7093, 1.7093, 1.6789, 1.594, 1.4973, 1.6189, 1.2596, 1.049, 1.1403, 0.5504, 0.9474, 0.8153, 0.7494, 0.7446, 0.8411, 1.3573, 1.0524, -0.1856, 0.1891, 1.0009, 0.9267, 0.7185, -0.4045, 0.6344, 0.516, 0.5571, 0.3311, 2.5399, 2.3894, 2.3182, 2.294, 2.136, 2.136, 2.136, 2.136, 2.136, 2.136, 2.136, 2.136, 2.136, 2.136, 2.136, 2.136, 2.136, 2.136, 2.136, 2.136, 2.136, 2.136, 2.136, 2.136, 2.136, 2.136, 2.136, 2.136, 2.136, 2.136, 2.136, 2.0377, 2.0479, 1.7041, 1.612, 0.5947, 2.0063, 1.159, 1.564, 0.919, 1.016, -0.3863, 1.5775, 0.8751, -0.2324, 0.298, 1.7007, 0.3713, 1.2271, 0.4036, 0.3046, -0.5003, 0.266, 1.6702, 1.1303, 0.1669, 0.4555, 0.6147, -1.2962, 2.7583, 2.2829, 2.2829, 2.2829, 2.2829, 2.2829, 2.2829, 2.2828, 2.2828, 2.2828, 2.2828, 2.2828, 2.2827, 2.2173, 2.1669, 2.1378, 2.1046, 2.1029, 2.1, 2.0913, 2.0846, 2.0844, 2.0624, 2.0604, 2.0551, 2.0414, 2.0358, 2.0346, 2.0247, 2.0227, 1.4184, 1.3353, 1.8737, 1.3092, 1.0278, 1.4444, 1.4334, 1.923, 0.8113, 1.2787, 0.4822, 0.9521, 0.8617, 1.1811, -0.3068, 0.6573, -0.6901, 0.3097, 1.0244, 1.0696, 1.5248, 1.339, 0.4228, -0.4755, 0.9484, -1.1061, 0.7503, 2.5765, 2.5764, 2.3456, 2.3026, 2.2806, 2.2806, 2.2806, 2.2806, 2.2806, 2.2806, 2.2806, 2.2806, 2.2806, 2.2806, 2.2806, 2.2806, 2.2806, 2.2805, 2.2805, 2.2805, 2.2804, 2.1733, 2.1704, 2.1526, 2.152, 2.1513, 2.15, 2.1306, 2.1244, 2.1164, 2.0752, 1.9755, 1.8332, 1.8459, 1.5971, 0.4197, 1.5482, 0.8984, 1.345, -0.0719, 1.2322, 0.5835, -0.2002, 0.2374, 0.0889, 1.0972, 0.5912, 0.4704, -0.6837, 0.2455, 0.9516, 0.778, 0.3275, 0.1488, 0.8227, 2.3742, 2.3742, 2.3742, 2.3742, 2.3742, 2.3742, 2.3742, 2.3742, 2.3742, 2.3742, 2.3742, 2.3742, 2.3742, 2.3742, 2.3742, 2.3742, 2.3742, 2.3742, 2.3742, 2.3742, 2.3742, 2.3742, 2.3742, 2.3742, 2.3742, 2.3742, 2.3741, 2.2611, 2.2575, 2.2345, 1.9538, 1.2032, 1.7993, 1.7297, 1.683, -0.1428, 1.058, 1.0793, 0.5105, -0.5671, 0.8088, -0.7523, 0.0672, 1.6101, 1.5884, -1.04, -0.4635, 0.7491, 1.3608, 0.3482, -0.631, -0.3164, 0.1478, 0.6854, 0.8828, 0.6294, 0.1375, 2.8299, 2.4969, 2.4969, 2.4969, 2.4969, 2.4969, 2.4969, 2.4969, 2.4969, 2.4968, 2.4968, 2.4968, 2.4369, 2.2972, 2.2945, 2.2935, 2.2839, 2.2521, 2.2471, 2.2352, 2.2317, 2.2315, 2.2263, 2.0999, 2.0644, 2.0106, 1.9756, 1.9687, 1.9437, 1.9436, 1.719, 1.5434, 1.2644, 1.1972, 1.1322, 1.8821, 1.8717, 1.4953, 0.6117, -0.1889, 1.2488, 1.5043, 1.4904, 1.5324, -0.0844, -0.6697, 0.6651, 0.9434, 1.2454, 1.4573, -1.0721, 0.4049, 1.6515, 0.457, 0.5249, 1.1982, 0.2223, 1.3417]}, \"token.table\": {\"Topic\": [6, 4, 6, 1, 2, 3, 4, 5, 10, 5, 3, 3, 3, 4, 10, 1, 6, 6, 1, 8, 1, 3, 6, 1, 2, 3, 4, 5, 8, 9, 2, 4, 5, 2, 1, 3, 5, 1, 2, 4, 6, 9, 10, 9, 9, 5, 1, 3, 4, 9, 5, 8, 2, 7, 5, 1, 1, 2, 4, 8, 9, 6, 2, 2, 3, 6, 2, 5, 6, 6, 3, 4, 1, 2, 4, 5, 4, 2, 7, 7, 5, 6, 1, 2, 5, 1, 2, 3, 4, 5, 6, 8, 9, 1, 2, 4, 9, 9, 5, 9, 7, 6, 6, 1, 2, 3, 5, 7, 10, 1, 2, 7, 1, 3, 4, 7, 9, 9, 1, 1, 2, 4, 5, 6, 8, 6, 8, 8, 9, 1, 1, 2, 3, 5, 8, 9, 3, 4, 3, 9, 4, 8, 9, 4, 5, 7, 9, 1, 4, 1, 7, 6, 9, 2, 5, 1, 4, 5, 6, 8, 9, 9, 8, 3, 4, 2, 1, 3, 8, 9, 1, 8, 3, 9, 3, 1, 2, 3, 5, 7, 1, 4, 4, 9, 4, 2, 5, 2, 1, 8, 8, 3, 2, 3, 7, 7, 1, 2, 3, 4, 5, 1, 9, 2, 8, 3, 2, 9, 5, 9, 4, 1, 3, 4, 6, 10, 1, 8, 1, 3, 1, 2, 4, 8, 9, 1, 2, 3, 4, 5, 1, 2, 8, 9, 2, 1, 2, 3, 4, 5, 6, 7, 8, 9, 10, 6, 1, 2, 3, 4, 5, 6, 7, 8, 9, 10, 1, 1, 2, 3, 4, 6, 7, 8, 9, 1, 3, 2, 4, 8, 1, 2, 4, 1, 1, 2, 4, 1, 2, 3, 4, 7, 8, 9, 9, 2, 3, 6, 8, 4, 8, 5, 1, 8, 4, 8, 1, 4, 8, 9, 3, 6, 7, 4, 9, 2, 1, 4, 2, 9, 3, 1, 2, 3, 5, 7, 8, 2, 8, 2, 5, 6, 6, 2, 4, 5, 6, 3, 5, 5, 1, 7, 7, 4, 2, 3, 4, 5, 6, 9, 3, 5, 1, 1, 2, 1, 2, 3, 4, 9, 1, 2, 4, 5, 7, 8, 9, 8, 1, 2, 3, 5, 7, 4, 2, 5, 5, 4, 1, 8, 1, 2, 3, 4, 5, 6, 9, 2, 3, 5, 10, 3, 2, 4, 5, 6, 2, 7, 2, 5, 6, 6, 1, 1, 2, 4, 2, 8, 9, 1, 2, 3, 4, 7, 10, 1, 2, 3, 4, 5, 3, 2, 1, 2, 5, 7, 9, 10, 1, 3, 4, 5, 7, 2, 3, 7, 9, 5, 6, 9, 4, 1, 2, 4, 2, 4, 2, 10, 1, 2, 3, 4, 3, 2, 3, 3, 4, 9, 1, 2, 5, 6, 3, 2, 2, 4, 7, 9, 1, 2, 1, 1, 2, 5, 6, 7, 9, 2, 3, 5, 6, 2, 1, 2, 4, 8, 9, 1, 5, 9, 6, 1, 4, 4, 1, 3, 5, 7, 4, 5, 1, 7, 6, 1, 2, 3, 4, 1, 3, 4, 5, 6, 8, 2, 1, 2, 4, 6, 6, 3, 6, 1, 2, 3, 1, 4, 7, 8, 1, 2, 7, 3, 10, 2, 3, 8, 9, 1, 1, 2, 4, 7, 9, 3, 8, 7, 1, 2, 3, 4, 5, 6, 5, 3, 1, 3, 7, 1, 1, 2, 3, 4, 5, 7, 8, 9, 1, 2, 3, 4, 6, 1, 2, 1, 2, 3, 4, 8, 9, 1, 7, 2, 2, 5, 8, 2, 5, 1, 2, 3, 4, 5, 5, 9, 2, 6, 1, 9, 2, 5, 3, 1, 7, 7, 1, 2, 3, 4, 5, 6, 7, 9, 5, 1, 4, 1, 2, 3, 7, 8, 1, 4, 3, 2, 5, 1, 9, 1, 2, 4, 10, 5, 4, 1, 2, 3, 4, 5, 6, 7, 8, 9, 10, 3, 1, 2, 3, 4, 5, 6, 8, 9, 6, 8, 1, 2, 3, 6, 4, 4, 1, 4, 1, 2, 3, 4, 5, 7, 6, 4, 4, 6, 1, 1, 1, 2, 5, 6, 7, 7, 1, 8, 6, 6, 5, 4, 9, 1, 3, 6, 7, 8, 5, 1, 1, 3, 4, 5, 9, 1, 2, 5, 8, 7, 1, 2, 3, 4, 9, 9, 4, 1, 8, 4, 4, 6, 2, 9, 2, 1, 2, 4, 5, 10, 2, 3, 6, 1, 5, 7, 3, 5, 6, 1, 1, 2, 3, 10, 1, 2, 3, 4, 6, 7, 9, 1, 1, 2, 4, 5, 4, 1, 1, 2, 3, 5, 6, 7, 8, 10, 4, 7, 2, 3, 6, 9, 2, 6, 2, 9, 1, 7, 1, 3, 6, 2, 3, 6, 3, 5, 3, 6, 8, 9, 9, 6, 2, 4, 9, 3, 7, 2, 1, 8, 6, 1, 2, 3, 4, 7, 3, 9, 1, 4, 7, 1, 2, 3, 1, 9, 3, 4, 2, 3, 5, 8, 9, 10, 9, 1, 6, 9, 3, 9, 1, 2, 3, 5, 6, 1, 2, 3, 4, 5, 6, 7, 9, 2, 3, 5, 7, 6, 1, 2, 3, 4, 3, 4, 8, 1, 2, 3, 4, 6, 9, 4, 6], \"Freq\": [0.8580999752534342, 0.5073453457895142, 0.2536726728947571, 0.5535828529342469, 0.19770816176223105, 0.03954163235244621, 0.03954163235244621, 0.03954163235244621, 0.03954163235244621, 0.7123966546947768, 0.7073038280241758, 0.7073013484441679, 0.3367114867929982, 0.3367114867929982, 0.3367114867929982, 0.309496581367924, 0.309496581367924, 0.8581145736951593, 0.7731035969878303, 0.8900047366183473, 0.37770524423061197, 0.18885262211530598, 0.3983556459008585, 0.28824746081644653, 0.14412373040822327, 0.14412373040822327, 0.07206186520411163, 0.07206186520411163, 0.07206186520411163, 0.14412373040822327, 0.29643909010249553, 0.29643909010249553, 0.29643909010249553, 0.3857023575883236, 0.7980232052812632, 0.2486030860845838, 0.4972061721691676, 0.1661761212465094, 0.3323522424930188, 0.1661761212465094, 0.1661761212465094, 0.1661761212465094, 0.1661761212465094, 0.6518003350109431, 0.8663641406641993, 0.7124043292033727, 0.24647476083124029, 0.3697121412468604, 0.24647476083124029, 0.12323738041562014, 0.7123994215592582, 0.8900281592085609, 0.6492429711358272, 0.21641432371194239, 0.7124016082197345, 0.7707533687849801, 0.15773421497534787, 0.31546842995069574, 0.15773421497534787, 0.15773421497534787, 0.15773421497534787, 0.85809094445964, 0.6462664288331302, 0.1957424686141776, 0.5872274058425329, 0.8581049544720188, 0.1929385716525446, 0.6752850007839061, 0.0964692858262723, 0.8580863559241879, 0.3396979120456088, 0.3396979120456088, 0.7707581834703809, 0.6461723099329842, 0.711285507399302, 0.935233337405363, 0.7026990880523764, 0.6462807135156675, 0.8610789422579845, 0.8610459435741766, 0.7123882863006928, 0.8580905852616268, 0.23909603964084253, 0.23909603964084253, 0.23909603964084253, 0.0924930611237006, 0.27747918337110183, 0.27747918337110183, 0.0924930611237006, 0.0924930611237006, 0.0924930611237006, 0.0924930611237006, 0.0924930611237006, 0.17861422396637536, 0.535842671899126, 0.17861422396637536, 0.8663641260307612, 0.8663690786481956, 0.7326225930601968, 0.24420753102006562, 0.861061566146968, 0.8580937728538234, 0.8581022854127065, 0.23878032291233406, 0.07959344097077801, 0.15918688194155603, 0.31837376388311206, 0.15918688194155603, 0.07959344097077801, 0.4352524024893821, 0.21762620124469104, 0.21762620124469104, 0.214641259206752, 0.321961888810128, 0.107320629603376, 0.214641259206752, 0.107320629603376, 0.8663618472472461, 0.6160411945805884, 0.29799552573478955, 0.29799552573478955, 0.09933184191159651, 0.09933184191159651, 0.09933184191159651, 0.890048124992968, 0.8580889312457213, 0.8900114236981218, 0.8900200864969477, 0.8663551816220884, 0.6160527670176598, 0.08148874817993694, 0.4074437408996847, 0.16297749635987388, 0.24446624453981083, 0.08148874817993694, 0.8663528306014112, 0.7073006146547351, 0.7112977432715286, 0.7073031049345121, 0.8663634463759646, 0.2980537429586132, 0.2980537429586132, 0.2980537429586132, 0.23866194713857128, 0.23866194713857128, 0.47732389427714256, 0.23866194713857128, 0.3285068541159014, 0.6570137082318028, 0.5699474293851584, 0.18998247646171948, 0.8581080882069936, 0.8663475738491662, 0.6461602473393193, 0.7124065107438303, 0.1853125840870908, 0.1853125840870908, 0.1853125840870908, 0.1853125840870908, 0.1853125840870908, 0.1853125840870908, 0.8663772661523599, 0.8900070982276782, 0.7072989534970905, 0.7112906598606148, 0.6461882226460451, 0.6160534245836834, 0.9190800851052002, 0.8900231409230911, 0.8663633280898875, 0.4180763268671145, 0.8900193373330829, 0.9190985214267607, 0.8663613348433492, 0.8400452800056745, 0.18862180027381786, 0.18862180027381786, 0.3772436005476357, 0.18862180027381786, 0.18862180027381786, 0.3182439717790069, 0.3182439717790069, 0.7112807042651351, 0.8663776789620241, 0.672488324475033, 0.33880760455213554, 0.33880760455213554, 0.6461818613559214, 0.8366287288867039, 0.16732574577734077, 0.6267370604464789, 0.7073048012945986, 0.32552180713451867, 0.6510436142690373, 0.537191644052533, 0.5206707932563985, 0.4652987961874022, 0.09305975923748044, 0.09305975923748044, 0.1861195184749609, 0.7124057464113399, 0.46471737751890074, 0.23235868875945037, 0.6461847153405117, 0.8900181176661811, 0.47192171832395563, 0.3946524806911833, 0.3946524806911833, 0.7123852590200851, 0.8663506127033993, 0.45093143897867954, 0.21500421114735443, 0.21500421114735443, 0.21500421114735443, 0.21500421114735443, 0.21500421114735443, 0.5241629904474127, 0.6318030285041043, 0.616042577119335, 0.557485024206403, 0.1371219198445599, 0.4113657595336797, 0.2742438396891198, 0.1371219198445599, 0.1371219198445599, 0.26714712416934544, 0.13357356208467272, 0.13357356208467272, 0.13357356208467272, 0.13357356208467272, 0.2553742439805876, 0.2553742439805876, 0.2553742439805876, 0.2553742439805876, 0.6461880047613042, 0.2819008104357084, 0.12813673201623108, 0.20501877122596973, 0.05125469280649243, 0.17939142482272352, 0.05125469280649243, 0.025627346403246216, 0.025627346403246216, 0.025627346403246216, 0.025627346403246216, 0.8580889139167726, 0.277216844721987, 0.1386084223609935, 0.2310140372683225, 0.11550701863416125, 0.06930421118049675, 0.02310140372683225, 0.02310140372683225, 0.06930421118049675, 0.02310140372683225, 0.02310140372683225, 0.7707463239913998, 0.2371353137554209, 0.2766578660479911, 0.0790451045851403, 0.2371353137554209, 0.03952255229257015, 0.03952255229257015, 0.03952255229257015, 0.03952255229257015, 0.32461618610880555, 0.32461618610880555, 0.17887272458412734, 0.5366181737523821, 0.17887272458412734, 0.582290024982913, 0.09704833749715217, 0.2911450124914565, 0.6160439736830929, 0.18101421844910356, 0.36202843689820713, 0.18101421844910356, 0.2142344677807375, 0.2142344677807375, 0.2142344677807375, 0.10711723389036874, 0.10711723389036874, 0.10711723389036874, 0.10711723389036874, 0.8663584723096867, 0.5533223449175861, 0.27666117245879307, 0.27666117245879307, 0.6267346724736019, 0.39689474645595224, 0.39689474645595224, 0.7123934634978588, 0.7902449371708575, 0.8900065742657639, 0.7112621746882488, 0.5700654697586606, 0.23276528706189958, 0.23276528706189958, 0.23276528706189958, 0.23276528706189958, 0.7073068938293492, 0.44843286664954685, 0.44843286664954685, 0.7112685312419327, 0.8663617373675805, 0.6461960056662626, 0.4354574671876595, 0.4354574671876595, 0.6462917595557017, 0.8663540136785645, 0.557484006432842, 0.07547562772559516, 0.3019025109023806, 0.1509512554511903, 0.22642688317678547, 0.07547562772559516, 0.07547562772559516, 0.6461750385071303, 0.8900201981330901, 0.6462052028302319, 0.7123820640666231, 0.8580979314772688, 0.8581082453818983, 0.1273730685906121, 0.5094922743624484, 0.2547461371812242, 0.1273730685906121, 0.7073065303030781, 0.7124070050827461, 0.7123834493709965, 0.616053560083147, 0.8610434176099515, 0.861039188069286, 0.7112757113399846, 0.15949866925450615, 0.15949866925450615, 0.3189973385090123, 0.15949866925450615, 0.15949866925450615, 0.15949866925450615, 0.7072973630893444, 0.6965293449599971, 0.6222497608461329, 0.6160401113885644, 0.6462522821620481, 0.3682258707567762, 0.1841129353783881, 0.09205646768919405, 0.09205646768919405, 0.09205646768919405, 0.4002031767080615, 0.20010158835403075, 0.13340105890268716, 0.06670052945134358, 0.06670052945134358, 0.06670052945134358, 0.06670052945134358, 0.8900177045878727, 0.12045316879562407, 0.12045316879562407, 0.12045316879562407, 0.3613595063868722, 0.24090633759124813, 0.7112716682834891, 0.646184010237908, 0.7123917222483862, 0.4627985924905179, 0.7113030853328322, 0.2543473521089631, 0.2543473521089631, 0.2111314656274222, 0.2111314656274222, 0.07037715520914073, 0.14075431041828146, 0.2111314656274222, 0.07037715520914073, 0.07037715520914073, 0.29533199562870605, 0.29533199562870605, 0.29533199562870605, 0.29533199562870605, 0.7073006596954349, 0.3881807287907098, 0.1940903643953549, 0.3881807287907098, 0.1940903643953549, 0.6461671739551097, 0.8610519378032986, 0.3679540350065837, 0.3679540350065837, 0.3679540350065837, 0.8580910501690807, 0.7707701206075946, 0.5484426013720166, 0.18281420045733887, 0.18281420045733887, 0.6461685923257997, 0.8900120610333907, 0.8663550823878564, 0.7707422397148596, 0.2332093666613851, 0.2332093666613851, 0.2332093666613851, 0.2332093666613851, 0.2332093666613851, 0.40904243536925006, 0.13634747845641668, 0.13634747845641668, 0.13634747845641668, 0.13634747845641668, 0.7072881246549204, 0.6461587246128427, 0.3465375262942818, 0.1155125087647606, 0.2310250175295212, 0.1155125087647606, 0.1155125087647606, 0.1155125087647606, 0.1995228576675329, 0.1995228576675329, 0.3990457153350658, 0.1995228576675329, 0.1995228576675329, 0.1836517268493918, 0.3673034536987836, 0.1836517268493918, 0.1836517268493918, 0.7123990904213843, 0.8581007830128096, 0.8663631738210524, 0.7112739841430028, 0.20974644236508047, 0.41949288473016094, 0.20974644236508047, 0.6462040291676193, 0.7112941200358428, 0.646166380865504, 0.708439377272724, 0.40289944047883536, 0.13429981349294512, 0.13429981349294512, 0.26859962698589024, 0.707299774967327, 0.32552418108927933, 0.6510483621785587, 0.4546669362088887, 0.22733346810444435, 0.22733346810444435, 0.09603777226629244, 0.19207554453258488, 0.6722644058640471, 0.09603777226629244, 0.7073058115091903, 0.6461525916027032, 0.5992024122236363, 0.1498006030559091, 0.1498006030559091, 0.1498006030559091, 0.3150173462162415, 0.3150173462162415, 0.786687274290262, 0.21765055806399033, 0.21765055806399033, 0.32647583709598554, 0.10882527903199517, 0.10882527903199517, 0.10882527903199517, 0.19654932497622923, 0.39309864995245847, 0.19654932497622923, 0.19654932497622923, 0.4448842948393157, 0.14017272197118094, 0.14017272197118094, 0.42051816591354285, 0.14017272197118094, 0.14017272197118094, 0.37325471321366993, 0.37325471321366993, 0.37325471321366993, 0.8581099812971366, 0.5971665080401904, 0.2985832540200952, 0.7112854373008531, 0.2834125712211409, 0.2834125712211409, 0.2834125712211409, 0.2834125712211409, 0.7112642377113981, 0.7124155292664782, 0.347503059824634, 0.347503059824634, 0.6358839826772832, 0.12559468491480402, 0.37678405474441207, 0.25118936982960804, 0.12559468491480402, 0.3067134961270154, 0.1533567480635077, 0.1533567480635077, 0.1533567480635077, 0.1533567480635077, 0.1533567480635077, 0.6461699312498895, 0.4082582028528021, 0.1360860676176007, 0.1360860676176007, 0.1360860676176007, 0.5051237000442979, 0.7072856767263089, 0.8580868120332721, 0.2529259830350347, 0.5058519660700694, 0.69167245687658, 0.205280488966757, 0.410560977933514, 0.205280488966757, 0.205280488966757, 0.5001484036526417, 0.16671613455088055, 0.16671613455088055, 0.4578362462949543, 0.4578362462949543, 0.18046843004441068, 0.18046843004441068, 0.18046843004441068, 0.18046843004441068, 0.6160513045339939, 0.2516837287927329, 0.5033674575854657, 0.2516837287927329, 0.600964125067874, 0.600964125067874, 0.5112615144872158, 0.2556307572436079, 0.5304703669655817, 0.1113568036140005, 0.1113568036140005, 0.1113568036140005, 0.3340704108420015, 0.222713607228001, 0.1113568036140005, 0.7123785065585662, 0.7318968681480644, 0.7707907562252366, 0.7446557049413758, 0.3723278524706879, 0.6160469599707513, 0.269747216907352, 0.134873608453676, 0.17983147793823465, 0.08991573896911732, 0.134873608453676, 0.08991573896911732, 0.04495786948455866, 0.04495786948455866, 0.2613354974310608, 0.1306677487155304, 0.1306677487155304, 0.2613354974310608, 0.1306677487155304, 0.6038745010265939, 0.30193725051329695, 0.2085101308373042, 0.06950337694576807, 0.27801350778307227, 0.2085101308373042, 0.13900675389153613, 0.06950337694576807, 0.6160641523772803, 0.7432982587320142, 0.6461375115059229, 0.26578535214453547, 0.5315707042890709, 0.8900106887975597, 0.6462256470767473, 0.712406677221076, 0.08106416300750263, 0.5674491410525184, 0.08106416300750263, 0.16212832601500526, 0.08106416300750263, 0.7123787622787985, 0.8663769071135177, 0.5137058779566637, 0.858127654587292, 0.6091408634497673, 0.30457043172488363, 0.6461572766588094, 0.9368225931790893, 0.7073003932479887, 0.5151251129699995, 0.5151251129699995, 0.8610464967824863, 0.3104940614944547, 0.10349802049815157, 0.10349802049815157, 0.10349802049815157, 0.10349802049815157, 0.20699604099630314, 0.10349802049815157, 0.10349802049815157, 0.47160159838585713, 0.3145543858894589, 0.3145543858894589, 0.20490471327344362, 0.20490471327344362, 0.20490471327344362, 0.20490471327344362, 0.8900147122756902, 0.2521547555750126, 0.5043095111500252, 0.621702131022206, 0.6461838692294287, 0.71239185261151, 0.37284408184529566, 0.37284408184529566, 0.5417983005336738, 0.13544957513341846, 0.13544957513341846, 0.13544957513341846, 0.7124001801762001, 0.711288282109023, 0.20284071570936046, 0.2397208458383351, 0.20284071570936046, 0.11064039038692389, 0.09220032532243658, 0.036880130128974634, 0.018440065064487317, 0.036880130128974634, 0.036880130128974634, 0.018440065064487317, 0.7072998255249466, 0.19029969899614999, 0.475749247490375, 0.07136238712355625, 0.07136238712355625, 0.023787462374518748, 0.09514984949807499, 0.047574924749037496, 0.023787462374518748, 0.4776485187514895, 0.4776485187514895, 0.185619836213091, 0.371239672426182, 0.371239672426182, 0.185619836213091, 0.35666185081457424, 0.7112749261962467, 0.32769184973974413, 0.6553836994794883, 0.42288064497605765, 0.10572016124401441, 0.10572016124401441, 0.21144032248802883, 0.10572016124401441, 0.10572016124401441, 0.8581090051571691, 0.925837153533719, 0.7112663121380385, 0.8581060328147014, 0.6160630483719035, 0.6160540548020591, 0.2732244412090417, 0.13661222060452086, 0.2732244412090417, 0.13661222060452086, 0.13661222060452086, 0.8610426236142522, 0.55919377575138, 0.18639792525045998, 0.8581061732317722, 0.8581025261992148, 0.7123826495648047, 0.7112760645554479, 0.8663728158324748, 0.3591719343591566, 0.1795859671795783, 0.1795859671795783, 0.1795859671795783, 0.1795859671795783, 0.7123938360746253, 0.6160535488620226, 0.34674638808339603, 0.115582129361132, 0.115582129361132, 0.115582129361132, 0.115582129361132, 0.5966492187284324, 0.11932984374568646, 0.11932984374568646, 0.11932984374568646, 0.8610692113086806, 0.1388773949838176, 0.1388773949838176, 0.2777547899676352, 0.2777547899676352, 0.1388773949838176, 0.8663495807839671, 0.4550695408734291, 0.6160478627787902, 0.8900270507922219, 0.7112908038544085, 0.367942271895716, 0.367942271895716, 0.646186728609959, 0.8663591270309926, 0.6461751233729975, 0.14285496529050296, 0.14285496529050296, 0.4285648958715089, 0.14285496529050296, 0.14285496529050296, 0.8184639739048288, 0.919081221629003, 0.5826285308066547, 0.3236291678529105, 0.3236291678529105, 0.3236291678529105, 0.9191176129484444, 0.7123976517117339, 0.8581095841475823, 0.6160529696942685, 0.2558765166777335, 0.2558765166777335, 0.2558765166777335, 0.2558765166777335, 0.2978527068280859, 0.19856847121872392, 0.19856847121872392, 0.09928423560936196, 0.09928423560936196, 0.09928423560936196, 0.09928423560936196, 0.616048001917328, 0.5239407655417389, 0.2619703827708694, 0.1309851913854347, 0.1309851913854347, 0.7112749461961985, 0.6160652722740736, 0.19435412739581964, 0.09717706369790982, 0.09717706369790982, 0.19435412739581964, 0.09717706369790982, 0.19435412739581964, 0.09717706369790982, 0.09717706369790982, 0.9258038915595507, 0.8610530395359932, 0.2002800615936051, 0.2002800615936051, 0.4005601231872102, 0.2002800615936051, 0.5187820143701816, 0.579673090125353, 0.405268445897102, 0.405268445897102, 0.639246452001056, 0.861037091825021, 0.5973257639018092, 0.2986628819509046, 0.8580908148835114, 0.27802248594856216, 0.27802248594856216, 0.27802248594856216, 0.7073063871296196, 0.7123856427032377, 0.29660996227609404, 0.5932199245521881, 0.47659340524586313, 0.47659340524586313, 0.4038168026478856, 0.85809593037233, 0.21371234794259875, 0.4274246958851975, 0.21371234794259875, 0.9191259961818781, 0.8610622940527385, 0.6461774356705363, 0.6160457574174614, 0.8900174405303333, 0.9120012356506785, 0.1162691249710611, 0.2325382499421222, 0.34880737491318325, 0.1162691249710611, 0.1162691249710611, 0.7073070378588494, 0.8663880194214476, 0.5545338324636645, 0.1848446108212215, 0.1848446108212215, 0.21299970087970385, 0.21299970087970385, 0.4259994017594077, 0.616067593864474, 0.8663797729988494, 0.3048035331175592, 0.3048035331175592, 0.14261417836766863, 0.28522835673533725, 0.14261417836766863, 0.14261417836766863, 0.14261417836766863, 0.14261417836766863, 0.8663531984084073, 0.6160539263630009, 0.8580869109657262, 0.8663868556835607, 0.70730531407418, 0.8663696244264243, 0.23312542053696997, 0.46625084107393994, 0.11656271026848498, 0.11656271026848498, 0.11656271026848498, 0.4535927813518959, 0.17009729300696097, 0.17009729300696097, 0.05669909766898699, 0.05669909766898699, 0.05669909766898699, 0.05669909766898699, 0.05669909766898699, 0.3405562634037982, 0.11351875446793272, 0.3405562634037982, 0.11351875446793272, 0.6424708162589057, 0.15852523463948523, 0.31705046927897046, 0.15852523463948523, 0.15852523463948523, 0.4767216112946344, 0.2383608056473172, 0.2383608056473172, 0.19258034249898892, 0.19258034249898892, 0.19258034249898892, 0.19258034249898892, 0.19258034249898892, 0.19258034249898892, 0.7112863275007681, 0.8581133598417215], \"Term\": [\"ab\", \"acc\", \"acc\", \"account\", \"account\", \"account\", \"account\", \"account\", \"account\", \"acct\", \"across\", \"actual\", \"actually\", \"actually\", \"actually\", \"add\", \"add\", \"added\", \"address\", \"advice\", \"age\", \"age\", \"already\", \"also\", \"also\", \"also\", \"also\", \"also\", \"also\", \"also\", \"always\", \"always\", \"always\", \"amount\", \"answer\", \"anyone\", \"anyone\", \"anything\", \"anything\", \"anything\", \"anything\", \"anything\", \"anything\", \"app\", \"apparently\", \"arent\", \"around\", \"around\", \"around\", \"around\", \"ars\", \"articles\", \"aspx\", \"aspx\", \"atm\", \"authorize\", \"avatar\", \"avatar\", \"avatar\", \"avatar\", \"avatar\", \"avoid\", \"awh\", \"bad\", \"bad\", \"balance\", \"beast\", \"beast\", \"beast\", \"becomes\", \"big\", \"big\", \"birthday\", \"bit\", \"blessing\", \"blizzard\", \"blocky\", \"bobux\", \"bro\", \"browser\", \"buffet\", \"built\", \"button\", \"button\", \"button\", \"buy\", \"buy\", \"buy\", \"buy\", \"buy\", \"buy\", \"buy\", \"buy\", \"buying\", \"buying\", \"buying\", \"cannot\", \"card\", \"catalog\", \"catalog\", \"cause\", \"caused\", \"chance\", \"chat\", \"chat\", \"chat\", \"chat\", \"chat\", \"chat\", \"check\", \"check\", \"check\", \"child\", \"child\", \"child\", \"child\", \"child\", \"chill\", \"clarify\", \"click\", \"click\", \"click\", \"click\", \"click\", \"clickbaited\", \"clips\", \"close\", \"code\", \"codes\", \"college\", \"com\", \"com\", \"com\", \"com\", \"com\", \"come\", \"comfortable\", \"comment\", \"comments\", \"commonsense\", \"community\", \"community\", \"community\", \"computer\", \"computer\", \"computer\", \"computer\", \"continue\", \"continue\", \"controls\", \"controls\", \"cord\", \"corp\", \"correct\", \"correction\", \"could\", \"could\", \"could\", \"could\", \"could\", \"could\", \"country\", \"crap\", \"creating\", \"crimes\", \"cursed\", \"customization\", \"daughter\", \"deep\", \"default\", \"definitely\", \"described\", \"desktop\", \"developer\", \"developers\", \"disable\", \"disable\", \"disable\", \"disable\", \"disable\", \"dollars\", \"dollars\", \"done\", \"downloaded\", \"eaten\", \"either\", \"either\", \"em\", \"email\", \"email\", \"en\", \"enjoys\", \"epic\", \"epic\", \"esrb\", \"etc\", \"even\", \"even\", \"even\", \"even\", \"event\", \"every\", \"every\", \"everywhere\", \"exclusive\", \"expensive\", \"face\", \"face\", \"factors\", \"fedoras\", \"fetish\", \"find\", \"find\", \"find\", \"find\", \"find\", \"fine\", \"finish\", \"folder\", \"following\", \"free\", \"free\", \"free\", \"free\", \"free\", \"friends\", \"friends\", \"friends\", \"friends\", \"friends\", \"fun\", \"fun\", \"fun\", \"fun\", \"f\\u00e6king\", \"game\", \"game\", \"game\", \"game\", \"game\", \"game\", \"game\", \"game\", \"game\", \"game\", \"gameplay\", \"games\", \"games\", \"games\", \"games\", \"games\", \"games\", \"games\", \"games\", \"games\", \"games\", \"gaming\", \"get\", \"get\", \"get\", \"get\", \"get\", \"get\", \"get\", \"get\", \"getting\", \"getting\", \"give\", \"give\", \"give\", \"go\", \"go\", \"go\", \"gobbled\", \"going\", \"going\", \"going\", \"good\", \"good\", \"good\", \"good\", \"good\", \"good\", \"good\", \"google\", \"got\", \"got\", \"got\", \"great\", \"guess\", \"guess\", \"guy\", \"hard\", \"hc\", \"headless\", \"hear\", \"help\", \"help\", \"help\", \"help\", \"hidden\", \"history\", \"history\", \"hit\", \"hitting\", \"hmm\", \"homepage\", \"homepage\", \"homework\", \"hood\", \"hours\", \"https\", \"https\", \"https\", \"https\", \"https\", \"https\", \"icon\", \"idea\", \"ideas\", \"idiot\", \"ik\", \"illness\", \"im\", \"im\", \"im\", \"im\", \"imagne\", \"incident\", \"instance\", \"instructions\", \"internally\", \"isnt\", \"istg\", \"items\", \"items\", \"items\", \"items\", \"items\", \"items\", \"jn\", \"join\", \"joke\", \"jolt\", \"karen\", \"kid\", \"kid\", \"kid\", \"kid\", \"kid\", \"kids\", \"kids\", \"kids\", \"kids\", \"kids\", \"kids\", \"kids\", \"knee\", \"know\", \"know\", \"know\", \"know\", \"know\", \"korblox\", \"lab\", \"lead\", \"learn\", \"legit\", \"let\", \"let\", \"like\", \"like\", \"like\", \"like\", \"like\", \"like\", \"like\", \"limit\", \"limit\", \"limit\", \"limit\", \"limitations\", \"limited\", \"limited\", \"limited\", \"limited\", \"limiteds\", \"limits\", \"link\", \"link\", \"link\", \"linked\", \"links\", \"list\", \"list\", \"list\", \"local\", \"location\", \"locations\", \"log\", \"looking\", \"looking\", \"looking\", \"looking\", \"looking\", \"lot\", \"lot\", \"lot\", \"lot\", \"lot\", \"lucky\", \"lure\", \"make\", \"make\", \"make\", \"make\", \"make\", \"make\", \"many\", \"many\", \"many\", \"many\", \"many\", \"maybe\", \"maybe\", \"maybe\", \"maybe\", \"means\", \"media\", \"medieval\", \"member\", \"membership\", \"membership\", \"membership\", \"menu\", \"messing\", \"meta\", \"microsoft\", \"might\", \"might\", \"might\", \"might\", \"millions\", \"minigames\", \"minigames\", \"mobile\", \"mobile\", \"mobile\", \"mode\", \"mode\", \"mode\", \"mode\", \"moderation\", \"mom\", \"money\", \"money\", \"money\", \"money\", \"month\", \"month\", \"months\", \"much\", \"much\", \"much\", \"much\", \"much\", \"much\", \"murder\", \"murder\", \"murder\", \"murder\", \"mytransactions\", \"need\", \"need\", \"need\", \"need\", \"need\", \"needs\", \"needs\", \"needs\", \"negotiate\", \"new\", \"new\", \"night\", \"nothing\", \"nothing\", \"nothing\", \"nothing\", \"occupied\", \"occurred\", \"often\", \"often\", \"oh\", \"old\", \"old\", \"old\", \"old\", \"one\", \"one\", \"one\", \"one\", \"one\", \"one\", \"oof\", \"option\", \"option\", \"option\", \"option\", \"options\", \"others\", \"ownership\", \"page\", \"page\", \"paid\", \"parent\", \"parent\", \"parent\", \"parent\", \"parental\", \"parental\", \"parental\", \"parenting\", \"parenting\", \"parents\", \"parents\", \"parents\", \"parents\", \"party\", \"passes\", \"passes\", \"passes\", \"pay\", \"pay\", \"pc\", \"pc\", \"pegi\", \"people\", \"people\", \"people\", \"people\", \"people\", \"people\", \"person\", \"personally\", \"phishing\", \"phone\", \"phone\", \"piece\", \"play\", \"play\", \"play\", \"play\", \"play\", \"play\", \"play\", \"play\", \"played\", \"played\", \"played\", \"played\", \"played\", \"players\", \"players\", \"playing\", \"playing\", \"playing\", \"playing\", \"playing\", \"playing\", \"please\", \"pm\", \"poisionous\", \"poisonous\", \"poisonous\", \"post\", \"practically\", \"predators\", \"premium\", \"premium\", \"premium\", \"premium\", \"premium\", \"primary\", \"promo\", \"purchases\", \"purple\", \"put\", \"put\", \"questionable\", \"radioactive\", \"rage\", \"rating\", \"rating\", \"realistically\", \"really\", \"really\", \"really\", \"really\", \"really\", \"really\", \"really\", \"really\", \"reccomend\", \"recently\", \"recently\", \"recommend\", \"recommend\", \"recommend\", \"recommend\", \"redeemable\", \"remember\", \"remember\", \"report\", \"responsibly\", \"restrict\", \"restricted\", \"restricted\", \"restrictions\", \"restrictions\", \"restrictions\", \"restrictions\", \"restrictive\", \"rn\", \"roblox\", \"roblox\", \"roblox\", \"roblox\", \"roblox\", \"roblox\", \"roblox\", \"roblox\", \"roblox\", \"roblox\", \"robloxparents\", \"robux\", \"robux\", \"robux\", \"robux\", \"robux\", \"robux\", \"robux\", \"robux\", \"save\", \"save\", \"say\", \"say\", \"say\", \"say\", \"scam\", \"scary\", \"section\", \"section\", \"see\", \"see\", \"see\", \"see\", \"see\", \"see\", \"select\", \"sell\", \"selling\", \"send\", \"sent\", \"sessions\", \"set\", \"set\", \"set\", \"set\", \"set\", \"setting\", \"settings\", \"settings\", \"shes\", \"shit\", \"shot\", \"sight\", \"silly\", \"since\", \"since\", \"since\", \"since\", \"since\", \"site\", \"sites\", \"son\", \"son\", \"son\", \"son\", \"son\", \"spend\", \"spend\", \"spend\", \"spend\", \"spends\", \"started\", \"started\", \"started\", \"started\", \"started\", \"starters\", \"stomach\", \"string\", \"stuck\", \"studio\", \"stuff\", \"stuff\", \"suggest\", \"sum\", \"super\", \"sure\", \"sure\", \"sure\", \"sure\", \"sure\", \"survival\", \"switched\", \"symbol\", \"take\", \"take\", \"take\", \"taken\", \"taking\", \"tells\", \"themed\", \"things\", \"things\", \"things\", \"things\", \"think\", \"think\", \"think\", \"think\", \"think\", \"think\", \"think\", \"thinks\", \"though\", \"though\", \"though\", \"though\", \"thousand\", \"three\", \"time\", \"time\", \"time\", \"time\", \"time\", \"time\", \"time\", \"time\", \"today\", \"tracks\", \"trade\", \"trade\", \"trade\", \"trade\", \"tradeable\", \"transaction\", \"try\", \"try\", \"turn\", \"turns\", \"two\", \"two\", \"uab\", \"understand\", \"understand\", \"understand\", \"understandable\", \"unfortunate\", \"ur\", \"ur\", \"us\", \"us\", \"usd\", \"user\", \"using\", \"using\", \"using\", \"utm\", \"vacinate\", \"valk\", \"verify\", \"via\", \"video\", \"want\", \"want\", \"want\", \"want\", \"want\", \"wanting\", \"watch\", \"way\", \"way\", \"way\", \"web\", \"web\", \"web\", \"websites\", \"weeks\", \"weird\", \"weird\", \"well\", \"well\", \"well\", \"well\", \"well\", \"well\", \"win\", \"within\", \"wondering\", \"wont\", \"work\", \"worked\", \"worth\", \"worth\", \"worth\", \"worth\", \"worth\", \"would\", \"would\", \"would\", \"would\", \"would\", \"would\", \"would\", \"would\", \"www\", \"www\", \"www\", \"www\", \"yeah\", \"year\", \"year\", \"year\", \"year\", \"years\", \"years\", \"years\", \"yes\", \"yes\", \"yes\", \"yes\", \"yes\", \"yes\", \"younger\", \"youre\"]}, \"R\": 30, \"lambda.step\": 0.01, \"plot.opts\": {\"xlab\": \"PC1\", \"ylab\": \"PC2\"}, \"topic.order\": [5, 6, 3, 10, 8, 2, 1, 4, 9, 7]};\n",
       "\n",
       "function LDAvis_load_lib(url, callback){\n",
       "  var s = document.createElement('script');\n",
       "  s.src = url;\n",
       "  s.async = true;\n",
       "  s.onreadystatechange = s.onload = callback;\n",
       "  s.onerror = function(){console.warn(\"failed to load library \" + url);};\n",
       "  document.getElementsByTagName(\"head\")[0].appendChild(s);\n",
       "}\n",
       "\n",
       "if(typeof(LDAvis) !== \"undefined\"){\n",
       "   // already loaded: just create the visualization\n",
       "   !function(LDAvis){\n",
       "       new LDAvis(\"#\" + \"ldavis_el1081397150218421286337812977\", ldavis_el1081397150218421286337812977_data);\n",
       "   }(LDAvis);\n",
       "}else if(typeof define === \"function\" && define.amd){\n",
       "   // require.js is available: use it to load d3/LDAvis\n",
       "   require.config({paths: {d3: \"https://d3js.org/d3.v5\"}});\n",
       "   require([\"d3\"], function(d3){\n",
       "      window.d3 = d3;\n",
       "      LDAvis_load_lib(\"https://cdn.jsdelivr.net/gh/bmabey/pyLDAvis@3.4.0/pyLDAvis/js/ldavis.v3.0.0.js\", function(){\n",
       "        new LDAvis(\"#\" + \"ldavis_el1081397150218421286337812977\", ldavis_el1081397150218421286337812977_data);\n",
       "      });\n",
       "    });\n",
       "}else{\n",
       "    // require.js not available: dynamically load d3 & LDAvis\n",
       "    LDAvis_load_lib(\"https://d3js.org/d3.v5.js\", function(){\n",
       "         LDAvis_load_lib(\"https://cdn.jsdelivr.net/gh/bmabey/pyLDAvis@3.4.0/pyLDAvis/js/ldavis.v3.0.0.js\", function(){\n",
       "                 new LDAvis(\"#\" + \"ldavis_el1081397150218421286337812977\", ldavis_el1081397150218421286337812977_data);\n",
       "            })\n",
       "         });\n",
       "}\n",
       "</script>"
      ],
      "text/plain": [
       "<IPython.core.display.HTML object>"
      ]
     },
     "execution_count": 117,
     "metadata": {},
     "output_type": "execute_result"
    }
   ],
   "source": [
    "\n",
    "id2word = corpora.Dictionary(data_words)\n",
    "texts = data_words\n",
    "corpus = [id2word.doc2bow(text) for text in texts]\n",
    "num_topics = 10\n",
    "lda_model = gensim.models.LdaMulticore(corpus=corpus,\n",
    "                                       id2word=id2word,\n",
    "                                       num_topics=num_topics)\n",
    "\n",
    "\n",
    "LDAvis_data_filepath = os.path.join('./results'+str(num_topics))\n",
    "# # this is a bit time consuming - make the if statement True\n",
    "# # if you want to execute visualization prep yourself\n",
    "if 1 == 1:\n",
    "    LDAvis_prepared = pyLDAvis.gensim.prepare(lda_model, corpus, id2word)\n",
    "    with open(LDAvis_data_filepath, 'wb') as f:\n",
    "        pickle.dump(LDAvis_prepared, f)\n",
    "# load the pre-prepared pyLDAvis data from disk\n",
    "with open(LDAvis_data_filepath, 'rb') as f:\n",
    "    LDAvis_prepared = pickle.load(f)\n",
    "#os.makedirs('./results')\n",
    "pyLDAvis.save_html(LDAvis_prepared, './results'+ str(num_topics) +'.html')\n",
    "LDAvis_prepared\n",
    "pyLDAvis.display(LDAvis_prepared)"
   ]
  },
  {
   "cell_type": "code",
   "execution_count": null,
   "id": "93f986e7",
   "metadata": {},
   "outputs": [],
   "source": []
  }
 ],
 "metadata": {
  "kernelspec": {
   "display_name": "Python 3",
   "language": "python",
   "name": "python3"
  },
  "language_info": {
   "codemirror_mode": {
    "name": "ipython",
    "version": 3
   },
   "file_extension": ".py",
   "mimetype": "text/x-python",
   "name": "python",
   "nbconvert_exporter": "python",
   "pygments_lexer": "ipython3",
   "version": "3.9.7"
  },
  "vscode": {
   "interpreter": {
    "hash": "7dd383dfc7b2ac766bc9c8b8466dc8801a1165b865a6c0292721744b17e7fa22"
   }
  }
 },
 "nbformat": 4,
 "nbformat_minor": 5
}
