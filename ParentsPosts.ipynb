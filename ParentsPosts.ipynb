{
 "cells": [
  {
   "cell_type": "code",
   "execution_count": 143,
   "id": "2981d0cc",
   "metadata": {},
   "outputs": [],
   "source": [
    "import pandas as pd\n",
    "import nltk\n",
    "from nltk import ngrams\n",
    "from nltk.corpus import stopwords\n",
    "import re\n",
    "from sklearn.feature_extraction.text import TfidfVectorizer"
   ]
  },
  {
   "cell_type": "code",
   "execution_count": 47,
   "id": "3fa314e1",
   "metadata": {},
   "outputs": [],
   "source": [
    "df = pd.read_csv('data/robloxParentsPosts.csv')"
   ]
  },
  {
   "cell_type": "code",
   "execution_count": 98,
   "id": "a018a9e1",
   "metadata": {},
   "outputs": [
    {
     "data": {
      "text/html": [
       "<div>\n",
       "<style scoped>\n",
       "    .dataframe tbody tr th:only-of-type {\n",
       "        vertical-align: middle;\n",
       "    }\n",
       "\n",
       "    .dataframe tbody tr th {\n",
       "        vertical-align: top;\n",
       "    }\n",
       "\n",
       "    .dataframe thead th {\n",
       "        text-align: right;\n",
       "    }\n",
       "</style>\n",
       "<table border=\"1\" class=\"dataframe\">\n",
       "  <thead>\n",
       "    <tr style=\"text-align: right;\">\n",
       "      <th></th>\n",
       "      <th>url</th>\n",
       "      <th>title</th>\n",
       "      <th>author</th>\n",
       "      <th>date</th>\n",
       "      <th>timestamp</th>\n",
       "      <th>text</th>\n",
       "      <th>subreddit</th>\n",
       "      <th>score</th>\n",
       "      <th>upvote ratio</th>\n",
       "    </tr>\n",
       "  </thead>\n",
       "  <tbody>\n",
       "    <tr>\n",
       "      <th>0</th>\n",
       "      <td>https://www.reddit.com/r/RobloxParents/comment...</td>\n",
       "      <td>Inadequate Parental Controls</td>\n",
       "      <td>Howcanthisbe123</td>\n",
       "      <td>2021-03-25</td>\n",
       "      <td>1.616697e+09</td>\n",
       "      <td>Despite combing the internet, there seems to b...</td>\n",
       "      <td>t5_2m7jy9</td>\n",
       "      <td>11</td>\n",
       "      <td>0.93</td>\n",
       "    </tr>\n",
       "    <tr>\n",
       "      <th>1</th>\n",
       "      <td>https://i.redd.it/wahei45uohz41.jpg</td>\n",
       "      <td>I Saw my kid playing this unholy Roblox game, ...</td>\n",
       "      <td>BilledSauce</td>\n",
       "      <td>2020-05-18</td>\n",
       "      <td>1.589793e+09</td>\n",
       "      <td>NaN</td>\n",
       "      <td>t5_2m7jy9</td>\n",
       "      <td>10</td>\n",
       "      <td>1.00</td>\n",
       "    </tr>\n",
       "    <tr>\n",
       "      <th>2</th>\n",
       "      <td>https://www.reddit.com/r/RobloxParents/comment...</td>\n",
       "      <td>Filter curated content</td>\n",
       "      <td>adobogado</td>\n",
       "      <td>2021-12-25</td>\n",
       "      <td>1.640459e+09</td>\n",
       "      <td>Is there anyway to filter to just see curated ...</td>\n",
       "      <td>t5_2m7jy9</td>\n",
       "      <td>7</td>\n",
       "      <td>1.00</td>\n",
       "    </tr>\n",
       "    <tr>\n",
       "      <th>3</th>\n",
       "      <td>https://www.reddit.com/r/RobloxParents/comment...</td>\n",
       "      <td>Account Restrictions</td>\n",
       "      <td>cutenfuzzie</td>\n",
       "      <td>2021-05-06</td>\n",
       "      <td>1.620337e+09</td>\n",
       "      <td>I changed the settings to be restricted, but I...</td>\n",
       "      <td>t5_2m7jy9</td>\n",
       "      <td>5</td>\n",
       "      <td>0.86</td>\n",
       "    </tr>\n",
       "    <tr>\n",
       "      <th>4</th>\n",
       "      <td>https://www.reddit.com/r/RobloxParents/comment...</td>\n",
       "      <td>my son(7) was able to evade the ROBLOX chat block</td>\n",
       "      <td>AnotherSpaceNut</td>\n",
       "      <td>2021-07-15</td>\n",
       "      <td>1.626377e+09</td>\n",
       "      <td>So bedtime arrives and my son needs to log off...</td>\n",
       "      <td>t5_2m7jy9</td>\n",
       "      <td>6</td>\n",
       "      <td>1.00</td>\n",
       "    </tr>\n",
       "  </tbody>\n",
       "</table>\n",
       "</div>"
      ],
      "text/plain": [
       "                                                 url  \\\n",
       "0  https://www.reddit.com/r/RobloxParents/comment...   \n",
       "1                https://i.redd.it/wahei45uohz41.jpg   \n",
       "2  https://www.reddit.com/r/RobloxParents/comment...   \n",
       "3  https://www.reddit.com/r/RobloxParents/comment...   \n",
       "4  https://www.reddit.com/r/RobloxParents/comment...   \n",
       "\n",
       "                                               title           author  \\\n",
       "0                       Inadequate Parental Controls  Howcanthisbe123   \n",
       "1  I Saw my kid playing this unholy Roblox game, ...      BilledSauce   \n",
       "2                             Filter curated content        adobogado   \n",
       "3                               Account Restrictions      cutenfuzzie   \n",
       "4  my son(7) was able to evade the ROBLOX chat block  AnotherSpaceNut   \n",
       "\n",
       "         date     timestamp  \\\n",
       "0  2021-03-25  1.616697e+09   \n",
       "1  2020-05-18  1.589793e+09   \n",
       "2  2021-12-25  1.640459e+09   \n",
       "3  2021-05-06  1.620337e+09   \n",
       "4  2021-07-15  1.626377e+09   \n",
       "\n",
       "                                                text  subreddit  score  \\\n",
       "0  Despite combing the internet, there seems to b...  t5_2m7jy9     11   \n",
       "1                                                NaN  t5_2m7jy9     10   \n",
       "2  Is there anyway to filter to just see curated ...  t5_2m7jy9      7   \n",
       "3  I changed the settings to be restricted, but I...  t5_2m7jy9      5   \n",
       "4  So bedtime arrives and my son needs to log off...  t5_2m7jy9      6   \n",
       "\n",
       "   upvote ratio  \n",
       "0          0.93  \n",
       "1          1.00  \n",
       "2          1.00  \n",
       "3          0.86  \n",
       "4          1.00  "
      ]
     },
     "execution_count": 98,
     "metadata": {},
     "output_type": "execute_result"
    }
   ],
   "source": [
    "df.head()"
   ]
  },
  {
   "cell_type": "code",
   "execution_count": 99,
   "id": "91c11d96",
   "metadata": {
    "scrolled": true
   },
   "outputs": [
    {
     "data": {
      "text/plain": [
       "0    Despite combing the internet, there seems to b...\n",
       "1                                                  NaN\n",
       "2    Is there anyway to filter to just see curated ...\n",
       "3    I changed the settings to be restricted, but I...\n",
       "4    So bedtime arrives and my son needs to log off...\n",
       "Name: text, dtype: object"
      ]
     },
     "execution_count": 99,
     "metadata": {},
     "output_type": "execute_result"
    }
   ],
   "source": [
    "df['text']"
   ]
  },
  {
   "cell_type": "code",
   "execution_count": 100,
   "id": "99d7a537",
   "metadata": {},
   "outputs": [
    {
     "data": {
      "text/plain": [
       "20.0"
      ]
     },
     "execution_count": 100,
     "metadata": {},
     "output_type": "execute_result"
    }
   ],
   "source": [
    "df['text'].str.count('game').sum()"
   ]
  },
  {
   "cell_type": "code",
   "execution_count": 136,
   "id": "27d75b0e",
   "metadata": {},
   "outputs": [],
   "source": [
    "text = \" \".join(df['text'].dropna().astype(str))\n",
    "tokens = nltk.word_tokenize(text)\n",
    "tokens = [re.sub(r'[^\\w\\s]', '', token) for token in tokens]\n",
    "stop_words = set(stopwords.words('english'))\n",
    "filtered_tokens = [token for token in tokens if token.lower() not in stop_words and token.strip() != '']\n",
    "\n",
    "\n",
    "bi_grams = ngrams(filtered_tokens, 2)"
   ]
  },
  {
   "cell_type": "code",
   "execution_count": 137,
   "id": "9196d8ca",
   "metadata": {},
   "outputs": [
    {
     "name": "stdout",
     "output_type": "stream",
     "text": [
      "[('Despite', 'combing'), ('combing', 'internet'), ('internet', 'seems'), ('seems', 'mechanism'), ('mechanism', 'either'), ('either', 'block'), ('block', 'games'), ('games', 'feel'), ('feel', 'inappropriate'), ('inappropriate', 'child'), ('child', 'given'), ('given', 'age'), ('age', 'go'), ('go', 'limited'), ('limited', 'curated'), ('curated', 'content'), ('content', 'child'), ('child', 'prohibited'), ('prohibited', 'chatting'), ('chatting', 'friends'), ('friends', 'game'), ('game', 'whatsoever'), ('whatsoever', 'seems'), ('seems', 'entirely'), ('entirely', 'unreasonable'), ('unreasonable', '13'), ('13', '13'), ('13', 'setting'), ('setting', 'little'), ('little', 'nothing'), ('nothing', 'allow'), ('allow', 'curated'), ('curated', 'content'), ('content', 'still'), ('still', 'shows'), ('shows', 'user'), ('user', 'generated'), ('generated', 'content'), ('content', 'simply'), ('simply', 'x'), ('x', 'play'), ('play', 'sign'), ('sign', 'child'), ('child', 'still'), ('still', 'see'), ('see', 'everything'), ('everything', 'play'), ('play', 'gets'), ('gets', 'frustrated'), ('frustrated', 'seek'), ('seek', 'curated'), ('curated', 'content'), ('content', 'talk'), ('talk', 'friends'), ('friends', 'nothing'), ('nothing', 'approach'), ('approach', 'safety'), ('safety', 'security'), ('security', 'children'), ('children', 'feels'), ('feels', 'like'), ('like', 'mere'), ('mere', 'lip'), ('lip', 'service'), ('service', 'parents'), ('parents', 'trying'), ('trying', 'monitor'), ('monitor', 'children'), ('children', 'internet'), ('internet', 'time'), ('time', '9'), ('9', '10'), ('10', 'year'), ('year', 'old'), ('old', 'wants'), ('wants', 'play'), ('play', 'roblox'), ('roblox', 'chat'), ('chat', 'friends'), ('friends', 'Prohibiting'), ('Prohibiting', 'defeats'), ('defeats', 'purpose'), ('purpose', 'entire'), ('entire', 'platform'), ('platform', 'really'), ('really', 'prohibits'), ('prohibits', 'child'), ('child', 'effectively'), ('effectively', 'playing'), ('playing', 'many'), ('many', 'games'), ('games', 'require'), ('require', 'level'), ('level', 'communication'), ('communication', 'Furthermore'), ('Furthermore', 'displaying'), ('displaying', 'child'), ('child', 'allowed'), ('allowed', 'play'), ('play', 'merely'), ('merely', 'insights'), ('insights', 'frustration'), ('frustration', 'opposed'), ('opposed', 'many'), ('many', 'internet'), ('internet', 'mechanisms'), ('mechanisms', 'parent'), ('parent', 'block'), ('block', 'app'), ('app', 'website'), ('website', 'game'), ('game', 'inappropriate'), ('inappropriate', 'longer'), ('longer', 'shows'), ('shows', 'Furthermore'), ('Furthermore', 'many'), ('many', 'games'), ('games', 'user'), ('user', 'generated'), ('generated', 'content'), ('content', 'age'), ('age', 'appropriate'), ('appropriate', 'younger'), ('younger', 'kids'), ('kids', 'popular'), ('popular', 'games'), ('games', 'curated'), ('curated', 'option'), ('option', 'includes'), ('includes', 'removing'), ('removing', 'ability'), ('ability', 'child'), ('child', 'play'), ('play', 'games'), ('games', 'popular'), ('popular', 'age'), ('age', 'appropriate'), ('appropriate', 'ie'), ('ie', 'islands'), ('islands', 'time'), ('time', 'Roblox'), ('Roblox', 'nothing'), ('nothing', 'monitor'), ('monitor', 'inappropriate'), ('inappropriate', 'games'), ('games', 'xenophobic'), ('xenophobic', 'sexual'), ('sexual', 'themes'), ('themes', 'deprives'), ('deprives', 'parent'), ('parent', 'ability'), ('ability', 'block'), ('block', 'games'), ('games', 'child'), ('child', 'entire'), ('entire', 'parental'), ('parental', 'safety'), ('safety', 'mechanism'), ('mechanism', 'wholly'), ('wholly', 'inadequate'), ('inadequate', 'Every'), ('Every', 'type'), ('type', 'platform'), ('platform', 'allows'), ('allows', 'customization'), ('customization', 'age'), ('age', 'rated'), ('rated', 'games'), ('games', 'customization'), ('customization', 'chat'), ('chat', 'mechanisms'), ('mechanisms', 'ability'), ('ability', 'parent'), ('parent', 'help'), ('help', 'child'), ('child', 'play'), ('play', 'safely'), ('safely', 'includes'), ('includes', 'internet'), ('internet', 'websites'), ('websites', 'blocked'), ('blocked', 'allowed'), ('allowed', 'Lastly'), ('Lastly', 'ability'), ('ability', 'monitor'), ('monitor', 'roblox'), ('roblox', 'chats'), ('chats', 'along'), ('along', 'inability'), ('inability', 'monitor'), ('monitor', 'ingame'), ('ingame', 'chats'), ('chats', 'without'), ('without', 'parent'), ('parent', 'watching'), ('watching', 'live'), ('live', 'entire'), ('entire', 'time'), ('time', 'serious'), ('serious', 'failure'), ('failure', 'platform'), ('platform', 'system'), ('system', 'sets'), ('sets', 'parents'), ('parents', 'failure'), ('failure', 'promotes'), ('promotes', 'frustration'), ('frustration', 'resentment'), ('resentment', 'children'), ('children', 'Roblox'), ('Roblox', 'claims'), ('claims', 'concerned'), ('concerned', 'safety'), ('safety', 'wellbeing'), ('wellbeing', 'players'), ('players', 'Yet'), ('Yet', 'take'), ('take', 'responsibility'), ('responsibility', 'monitoring'), ('monitoring', 'user'), ('user', 'generated'), ('generated', 'content'), ('content', 'provide'), ('provide', 'realistic'), ('realistic', 'mechanism'), ('mechanism', 'allows'), ('allows', 'parent'), ('parent', 'work'), ('work', 'child'), ('child', 'determine'), ('determine', 'appropriate'), ('appropriate', 'varies'), ('varies', 'greatly'), ('greatly', 'even'), ('even', 'ages'), ('ages', '9'), ('9', '12'), ('12', 'places'), ('places', 'responsibility'), ('responsibility', 'reporting'), ('reporting', 'inappropriate'), ('inappropriate', 'content'), ('content', 'behavior'), ('behavior', 'users'), ('users', 'record'), ('record', 'little'), ('little', 'nothing'), ('nothing', 'personally'), ('personally', 'reported'), ('reported', 'games'), ('games', 'witnessed'), ('witnessed', 'sexual'), ('sexual', 'content'), ('content', 'encouragement'), ('encouragement', 'inappropriate'), ('inappropriate', 'sexual'), ('sexual', 'behavior'), ('behavior', 'provided'), ('provided', 'screenshots'), ('screenshots', 'proof'), ('proof', 'received'), ('received', 'nothing'), ('nothing', 'canned'), ('canned', 'response'), ('response', 'saying'), ('saying', 'enable'), ('enable', 'curated'), ('curated', 'content'), ('content', 'refusing'), ('refusing', 'address'), ('address', 'inability'), ('inability', 'chat'), ('chat', 'implemented'), ('implemented', 'reported'), ('reported', 'games'), ('games', 'promote'), ('promote', 'violence'), ('violence', 'conjunction'), ('conjunction', 'xenophobic'), ('xenophobic', 'themes'), ('themes', 'provided'), ('provided', 'screenshots'), ('screenshots', 'support'), ('support', 'thereof'), ('thereof', 'received'), ('received', 'canned'), ('canned', 'response'), ('response', 'parental'), ('parental', 'controls'), ('controls', 'Never'), ('Never', 'mind'), ('mind', 'fact'), ('fact', 'child'), ('child', 'create'), ('create', 'new'), ('new', 'account'), ('account', 'nothing'), ('nothing', 'name'), ('name', 'birthdate'), ('birthdate', 'nothing'), ('nothing', 'block'), ('block', 'content'), ('content', 'aside'), ('aside', 'chats'), ('chats', 'point'), ('point', 'Roblox'), ('Roblox', 'take'), ('take', 'responsibility'), ('responsibility', 'content'), ('content', 'andor'), ('andor', 'lack'), ('lack', 'useful'), ('useful', 'safety'), ('safety', 'settings'), ('settings', 'would'), ('would', 'least'), ('least', 'allow'), ('allow', 'parent'), ('parent', 'reasonable'), ('reasonable', 'controls'), ('controls', 'child'), ('child', 'play'), ('play', 'platform'), ('platform', 'Roblox'), ('Roblox', 'going'), ('going', 'market'), ('market', 'kids'), ('kids', '6'), ('6', 'years'), ('years', 'age'), ('age', 'see'), ('see', 'toys'), ('toys', 'young'), ('young', 'adults'), ('adults', 'needs'), ('needs', 'current'), ('current', 'useless'), ('useless', 'black'), ('black', 'white'), ('white', 'nothing'), ('nothing', 'parental'), ('parental', 'controls'), ('controls', 'technology'), ('technology', 'exists'), ('exists', 'simply'), ('simply', 'refuse'), ('refuse', 'implement'), ('implement', 'andor'), ('andor', 'make'), ('make', 'available'), ('available', 'assume'), ('assume', 'concern'), ('concern', 'children'), ('children', 'propaganda'), ('propaganda', 'nothing'), ('nothing', 'public'), ('public', 'affairs'), ('affairs', 'CYA'), ('CYA', 'hoist'), ('hoist', 'responsibility'), ('responsibility', 'monitoring'), ('monitoring', 'behavior'), ('behavior', 'content'), ('content', 'platform'), ('platform', 'onto'), ('onto', 'young'), ('young', 'players'), ('players', 'maybe'), ('maybe', 'maybe'), ('maybe', 'would'), ('would', 'fly'), ('fly', 'ever'), ('ever', 'actually'), ('actually', 'anything'), ('anything', 'statements'), ('statements', 'concern'), ('concern', 'disingenuous'), ('disingenuous', 'best'), ('best', 'given'), ('given', 'lack'), ('lack', 'response'), ('response', 'said'), ('said', 'reports'), ('reports', 'actually'), ('actually', 'made'), ('made', 'unreasonable'), ('unreasonable', 'ranting'), ('ranting', 'parent'), ('parent', 'want'), ('want', 'monitor'), ('monitor', 'child'), ('child', 'activity'), ('activity', 'words'), ('words', 'concerned'), ('concerned', 'parent'), ('parent', 'watching'), ('watching', 'company'), ('company', 'market'), ('market', 'millions'), ('millions', 'young'), ('young', 'children'), ('children', 'desperate'), ('desperate', 'socialization'), ('socialization', 'especially'), ('especially', 'pandemic'), ('pandemic', 'making'), ('making', 'millions'), ('millions', 'parents'), ('parents', 'depriving'), ('depriving', 'users'), ('users', 'parents'), ('parents', 'simplistic'), ('simplistic', 'tools'), ('tools', 'needed'), ('needed', 'ensure'), ('ensure', 'safety'), ('safety', 'well'), ('well', 'kids'), ('kids', 'final'), ('final', 'note'), ('note', 'recommendations'), ('recommendations', 'parents'), ('parents', 'block'), ('block', 'game'), ('game', 'whole'), ('whole', 'set'), ('set', 'nothing'), ('nothing', 'restrictions'), ('restrictions', 'get'), ('get', 'response'), ('response', 'solution'), ('solution', 'ignoring'), ('ignoring', 'problem'), ('problem', 'passing'), ('passing', 'buck'), ('buck', 'anyway'), ('anyway', 'filter'), ('filter', 'see'), ('see', 'curated'), ('curated', 'age'), ('age', 'appropriate'), ('appropriate', 'games'), ('games', 'parental'), ('parental', 'controls'), ('controls', 'restricted'), ('restricted', 'account'), ('account', 'still'), ('still', 'see'), ('see', 'play'), ('play', 'bunch'), ('bunch', 'games'), ('games', 'way'), ('way', 'get'), ('get', 'curated'), ('curated', 'games'), ('games', 'changed'), ('changed', 'settings'), ('settings', 'restricted'), ('restricted', 'find'), ('find', 'two'), ('two', 'games'), ('games', 'allowed'), ('allowed', 'games'), ('games', 'search'), ('search', 'allowed'), ('allowed', 'bedtime'), ('bedtime', 'arrives'), ('arrives', 'son'), ('son', 'needs'), ('needs', 'log'), ('log', 'Roblox'), ('Roblox', 'go'), ('go', 'room'), ('room', 'tell'), ('tell', 'bedtimeI'), ('bedtimeI', 'find'), ('find', 'access'), ('access', 'chat'), ('chat', 'greeted'), ('greeted', 'words'), ('words', 'saying'), ('saying', 'goodnight'), ('goodnight', 'screen'), ('screen', 'Car'), ('Car', 'Destroying'), ('Destroying', 'Simulator'), ('Simulator', 'chat'), ('chat', 'box'), ('box', 'open'), ('open', 'discord'), ('discord', 'parody'), ('parody', 'name'), ('name', 'bloxcord'), ('bloxcord', 'cross'), ('cross', 'server'), ('server', 'chat'), ('chat', 'Despite'), ('Despite', 'account'), ('account', 'controls'), ('controls', 'Roblox'), ('Roblox', 'account'), ('account', 'level'), ('level', 'disallowing'), ('disallowing', 'chat'), ('chat', 'due'), ('due', 'fact'), ('fact', 'ASD'), ('ASD', 'tendency'), ('tendency', 'open'), ('open', 'information'), ('information', 'raises'), ('raises', 'kinds'), ('kinds', 'alarm'), ('alarm', 'bells'), ('bells', 'mind'), ('mind', 'children'), ('children', 'globally'), ('globally', 'may'), ('may', 'similar'), ('similar', 'position'), ('position', 'would'), ('would', 'advise'), ('advise', 'parent'), ('parent', 'situation'), ('situation', '1'), ('1', 'check'), ('check', 'little'), ('little', 'ones'), ('ones', 'played'), ('played', 'maybe'), ('maybe', 'check'), ('check', 'new'), ('new', 'friend'), ('friend', 'adds'), ('adds', 'joined'), ('joined', 'community'), ('community', 'post'), ('post', 'sorry'), ('sorry', 'community'), ('community', 'standards'), ('standards', 'scaremonger'), ('scaremonger', 'parents'), ('parents', 'badmouth'), ('badmouth', 'platform'), ('platform', 'even'), ('even', 'developers'), ('developers', 'game'), ('game', 'caused'), ('caused', 'great'), ('great', 'concern'), ('concern', 'https'), ('https', 'previewreddit2vr9uk9qifb71png'), ('previewreddit2vr9uk9qifb71png', 'width1652'), ('width1652', 'formatpng'), ('formatpng', 'autowebp'), ('autowebp', 'venabled'), ('venabled', 'se1ea40f705bc045d0bec462b3b1759f680c63264'), ('se1ea40f705bc045d0bec462b3b1759f680c63264', 'Thank'), ('Thank', 'taking'), ('taking', 'time'), ('time', 'day'), ('day', 'read'), ('read', 'hope'), ('hope', 'safe'), ('safe', 'well'), ('well', '3')]\n"
     ]
    }
   ],
   "source": [
    "bi_grams_list = list(bi_grams)\n",
    "bi_grams_list = [tuple(filter(None, bg)) for bg in bi_grams_list]\n",
    "print(bi_grams_list)"
   ]
  },
  {
   "cell_type": "code",
   "execution_count": 153,
   "id": "73b6be02",
   "metadata": {},
   "outputs": [],
   "source": [
    "pattern = r'^\\s*(who|what|when|where|why|how)\\b.*\\?$'\n",
    "questions = df['text'].str.extract('({})'.format(pattern), flags=re.IGNORECASE)[0].dropna()"
   ]
  },
  {
   "cell_type": "code",
   "execution_count": 154,
   "id": "c2589c09",
   "metadata": {},
   "outputs": [
    {
     "name": "stdout",
     "output_type": "stream",
     "text": [
      "Series([], Name: 0, dtype: object)\n"
     ]
    }
   ],
   "source": [
    "print(questions)"
   ]
  },
  {
   "cell_type": "code",
   "execution_count": 141,
   "id": "45df0cd4",
   "metadata": {},
   "outputs": [
    {
     "name": "stdout",
     "output_type": "stream",
     "text": [
      "The most common bi-gram is: curated content with a frequency of 4\n"
     ]
    }
   ],
   "source": [
    "bi_grams_list1 = [' '.join(bi_gram) for bi_gram in bi_grams_list if '(' not in bi_gram and ')' not in bi_gram]\n",
    "\n",
    "freq_dist = nltk.FreqDist(bi_grams_list1)\n",
    "most_common = freq_dist.most_common(1)\n",
    "print('The most common bi-gram is:', most_common[0][0], 'with a frequency of', most_common[0][1])"
   ]
  },
  {
   "cell_type": "code",
   "execution_count": null,
   "id": "4d67ac35",
   "metadata": {},
   "outputs": [],
   "source": []
  },
  {
   "cell_type": "code",
   "execution_count": 148,
   "id": "0eae217e",
   "metadata": {},
   "outputs": [
    {
     "name": "stdout",
     "output_type": "stream",
     "text": [
      "\n",
      "\n",
      "Words : \n",
      "                   term  rank\n",
      "135    curated content   4.0\n",
      "21     age appropriate   3.0\n",
      "94          child play   3.0\n",
      "335  parental controls   3.0\n",
      "213  generated content   3.0\n",
      "495     user generated   3.0\n",
      "266     little nothing   2.0\n"
     ]
    }
   ],
   "source": [
    "sums = tfidf.sum(axis = 0)\n",
    "data1 = []\n",
    "for col, term in enumerate(feature_names):\n",
    "    data1.append( (term, sums[0, col] ))\n",
    "ranking = pd.DataFrame(data1, columns = ['term', 'rank'])\n",
    "words = (ranking.sort_values('rank', ascending = False))\n",
    "print (\"\\n\\nWords : \\n\", words.head(7))"
   ]
  },
  {
   "cell_type": "code",
   "execution_count": 151,
   "id": "6710f174",
   "metadata": {},
   "outputs": [
    {
     "name": "stdout",
     "output_type": "stream",
     "text": [
      "              bigram  tfidf\n",
      "148  despite combing    1.0\n",
      "0            10 year    0.0\n",
      "357    play platform    0.0\n",
      "352  platform system    0.0\n",
      "353       play bunch    0.0\n",
      "354       play games    0.0\n",
      "355        play gets    0.0\n",
      "356      play merely    0.0\n",
      "358      play roblox    0.0\n",
      "350  platform really    0.0\n"
     ]
    }
   ],
   "source": [
    "feature_names = vectorizer.get_feature_names()\n",
    "scores = tfidf.toarray()[0]\n",
    "\n",
    "# Combine feature names and scores into a dataframe and sort by score\n",
    "df_tfidf = pd.DataFrame({'bigram': feature_names, 'tfidf': scores})\n",
    "df_tfidf = df_tfidf.sort_values(by='tfidf', ascending=False)\n",
    "print(df_tfidf.head(10))"
   ]
  },
  {
   "cell_type": "code",
   "execution_count": null,
   "id": "09571993",
   "metadata": {},
   "outputs": [],
   "source": []
  }
 ],
 "metadata": {
  "kernelspec": {
   "display_name": "Python 3",
   "language": "python",
   "name": "python3"
  },
  "language_info": {
   "codemirror_mode": {
    "name": "ipython",
    "version": 3
   },
   "file_extension": ".py",
   "mimetype": "text/x-python",
   "name": "python",
   "nbconvert_exporter": "python",
   "pygments_lexer": "ipython3",
   "version": "3.11.1"
  },
  "vscode": {
   "interpreter": {
    "hash": "64e9eaefeff5fd546a1be1f2a06608a1ba7971384f7c4440909e1b442a6cf9a9"
   }
  }
 },
 "nbformat": 4,
 "nbformat_minor": 5
}
